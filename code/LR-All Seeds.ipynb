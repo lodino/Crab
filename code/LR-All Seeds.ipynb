{
 "cells": [
  {
   "cell_type": "code",
   "execution_count": 1,
   "metadata": {
    "ExecuteTime": {
     "end_time": "2022-08-24T07:10:08.707237Z",
     "start_time": "2022-08-24T07:10:07.200615Z"
    }
   },
   "outputs": [
    {
     "data": {
      "text/plain": [
       "<torch._C.Generator at 0x16f383f10>"
      ]
     },
     "execution_count": 1,
     "metadata": {},
     "output_type": "execute_result"
    }
   ],
   "source": [
    "import sys\n",
    "import os\n",
    "import re\n",
    "import tqdm\n",
    "import time\n",
    "import sklearn\n",
    "import numpy as np\n",
    "import pandas as pd\n",
    "import scipy\n",
    "import copy\n",
    "import random\n",
    "import math\n",
    "import json\n",
    "import torch\n",
    "import torch.nn as nn\n",
    "import torch.nn.functional as F\n",
    "import argparse\n",
    "from load_dataset import load, generate_random_dataset\n",
    "from classifier import *\n",
    "from utils import *\n",
    "from metrics import *  # include fairness and corresponding derivatives\n",
    "from scipy import stats\n",
    "from scipy.stats import rankdata\n",
    "from sklearn import metrics, preprocessing\n",
    "from sklearn.model_selection import train_test_split\n",
    "from operator import itemgetter\n",
    "from torch.autograd import grad\n",
    "import torch.nn as nn\n",
    "import matplotlib.pyplot as plt\n",
    "from IPython.display import Markdown, display\n",
    "random.seed(1)\n",
    "np.random.seed(1)\n",
    "torch.manual_seed(1)"
   ]
  },
  {
   "cell_type": "code",
   "execution_count": 2,
   "metadata": {
    "ExecuteTime": {
     "end_time": "2022-08-24T07:10:08.712048Z",
     "start_time": "2022-08-24T07:10:08.709705Z"
    }
   },
   "outputs": [],
   "source": [
    "# ignore all the warnings\n",
    "import warnings\n",
    "warnings.filterwarnings('ignore') "
   ]
  },
  {
   "cell_type": "code",
   "execution_count": 3,
   "metadata": {
    "ExecuteTime": {
     "end_time": "2022-08-24T07:10:08.720235Z",
     "start_time": "2022-08-24T07:10:08.716396Z"
    }
   },
   "outputs": [],
   "source": [
    "val_seeds = [42, 99, 67, 2, 23]\n",
    "val_seed = val_seeds[3]\n",
    "\n",
    "seed = 1\n",
    "c = 0.003\n",
    "epoch_num = 3000\n",
    "th = 0.03"
   ]
  },
  {
   "cell_type": "code",
   "execution_count": 4,
   "metadata": {
    "ExecuteTime": {
     "end_time": "2022-08-24T07:10:08.726162Z",
     "start_time": "2022-08-24T07:10:08.723948Z"
    }
   },
   "outputs": [],
   "source": [
    "dataset = 'hmda'\n",
    "sens_attr = 'race'\n",
    "scenario = 4"
   ]
  },
  {
   "cell_type": "code",
   "execution_count": 5,
   "metadata": {
    "ExecuteTime": {
     "end_time": "2022-08-24T07:10:08.729772Z",
     "start_time": "2022-08-24T07:10:08.727482Z"
    }
   },
   "outputs": [],
   "source": [
    "A = 'y'\n",
    "A_val = 1\n",
    "# A = None\n",
    "# A_val = None\n",
    "fair_metric = 0 if (A is None) else 1\n",
    "assert (A=='y' and A_val==1) or (A==None)"
   ]
  },
  {
   "cell_type": "code",
   "execution_count": 6,
   "metadata": {
    "ExecuteTime": {
     "end_time": "2022-08-24T07:10:08.733476Z",
     "start_time": "2022-08-24T07:10:08.731104Z"
    }
   },
   "outputs": [],
   "source": [
    "clf_name = 'LogisticRegression'"
   ]
  },
  {
   "cell_type": "markdown",
   "metadata": {
    "heading_collapsed": true
   },
   "source": [
    "## Preparation"
   ]
  },
  {
   "cell_type": "markdown",
   "metadata": {
    "hidden": true
   },
   "source": [
    "**Load Dataset**"
   ]
  },
  {
   "cell_type": "code",
   "execution_count": 7,
   "metadata": {
    "ExecuteTime": {
     "end_time": "2022-08-24T07:10:54.585418Z",
     "start_time": "2022-08-24T07:10:08.735976Z"
    },
    "code_folding": [
     0
    ],
    "hidden": true
   },
   "outputs": [],
   "source": [
    "X_train, X_test, y_train, y_test = load(dataset)"
   ]
  },
  {
   "cell_type": "markdown",
   "metadata": {
    "hidden": true
   },
   "source": [
    "**Parametric Model**"
   ]
  },
  {
   "cell_type": "code",
   "execution_count": 8,
   "metadata": {
    "ExecuteTime": {
     "end_time": "2022-08-24T07:10:54.601246Z",
     "start_time": "2022-08-24T07:10:54.589051Z"
    },
    "code_folding": [],
    "hidden": true
   },
   "outputs": [],
   "source": [
    "X_train_orig = copy.deepcopy(X_train)\n",
    "X_test_orig = copy.deepcopy(X_test)\n",
    "\n",
    "# Scale data: regularization penalty default: ‘l2’, ‘lbfgs’ solvers support only l2 penalties. \n",
    "# Regularization makes the predictor dependent on the scale of the features.\n",
    "from sklearn.preprocessing import StandardScaler\n",
    "sc = StandardScaler()\n",
    "X_train = sc.fit_transform(X_train)\n",
    "X_test = sc.transform(X_test)"
   ]
  },
  {
   "cell_type": "markdown",
   "metadata": {
    "hidden": true
   },
   "source": [
    "**Loss function** (Log loss for logistic regression)"
   ]
  },
  {
   "cell_type": "code",
   "execution_count": 9,
   "metadata": {
    "ExecuteTime": {
     "end_time": "2022-08-24T07:10:54.611124Z",
     "start_time": "2022-08-24T07:10:54.604524Z"
    },
    "hidden": true
   },
   "outputs": [],
   "source": [
    "# clf = NeuralNetwork(input_size=X_train.shape[-1])\n",
    "clf = LogisticRegression(input_size=X_train.shape[-1])\n",
    "# clf = SVM(input_size=X_train.shape[-1])\n",
    "num_params = len(convert_grad_to_ndarray(list(clf.parameters())))\n",
    "if isinstance(clf, LogisticRegression):\n",
    "    loss_func = logistic_loss_torch\n",
    "elif isinstance(clf, SVM):\n",
    "    loss_func = svm_loss_torch\n",
    "elif isinstance(clf, NeuralNetwork):\n",
    "    loss_func = nn_loss_torch"
   ]
  },
  {
   "cell_type": "markdown",
   "metadata": {
    "hidden": true
   },
   "source": [
    "**Compute Accuracy** "
   ]
  },
  {
   "cell_type": "code",
   "execution_count": 10,
   "metadata": {
    "ExecuteTime": {
     "end_time": "2022-08-24T07:10:54.614238Z",
     "start_time": "2022-08-24T07:10:54.612257Z"
    },
    "code_folding": [],
    "hidden": true
   },
   "outputs": [],
   "source": [
    "def computeAccuracy(y_true, y_pred):\n",
    "    return np.sum((y_pred>0.5) == y_true)/len(y_pred)"
   ]
  },
  {
   "cell_type": "code",
   "execution_count": null,
   "metadata": {
    "ExecuteTime": {
     "end_time": "2022-08-23T22:06:35.474073Z",
     "start_time": "2022-08-23T22:06:35.462788Z"
    },
    "code_folding": [],
    "hidden": true
   },
   "outputs": [],
   "source": []
  },
  {
   "cell_type": "markdown",
   "metadata": {
    "hidden": true
   },
   "source": [
    "**Metrics: Initial state**"
   ]
  },
  {
   "cell_type": "code",
   "execution_count": 11,
   "metadata": {
    "ExecuteTime": {
     "end_time": "2022-08-24T07:10:59.233286Z",
     "start_time": "2022-08-24T07:10:54.615347Z"
    },
    "hidden": true
   },
   "outputs": [
    {
     "name": "stdout",
     "output_type": "stream",
     "text": [
      "Initial statistical parity:  -0.22299553839176234\n",
      "Initial TPR parity:  -0.17254657839525755\n",
      "Initial predictive parity:  -0.17299121772233284\n",
      "Initial loss:  0.4197703977276468\n",
      "Initial accuracy:  0.8186919504643962\n"
     ]
    }
   ],
   "source": [
    "clf = LogisticRegression(input_size=X_train.shape[-1], epoch_num=3000, c=0.003)\n",
    "\n",
    "clf.fit(X_train, y_train)\n",
    "\n",
    "y_pred_test = clf.predict_proba(X_test)\n",
    "y_pred_train = clf.predict_proba(X_train)\n",
    "\n",
    "spd_0 = computeFairness(y_pred_test, X_test_orig, y_test, 0, dataset)\n",
    "print(\"Initial statistical parity: \", spd_0)\n",
    "\n",
    "tpr_parity_0 = computeFairness(y_pred_test, X_test_orig, y_test, 1, dataset)\n",
    "print(\"Initial TPR parity: \", tpr_parity_0)\n",
    "\n",
    "predictive_parity_0 = computeFairness(y_pred_test, X_test_orig, y_test, 2, dataset)\n",
    "print(\"Initial predictive parity: \", predictive_parity_0)\n",
    "\n",
    "loss_0 = logistic_loss(y_test, y_pred_test)\n",
    "print(\"Initial loss: \", loss_0)\n",
    "\n",
    "accuracy_0 = computeAccuracy(y_test, y_pred_test)\n",
    "print(\"Initial accuracy: \", accuracy_0)"
   ]
  },
  {
   "cell_type": "code",
   "execution_count": 12,
   "metadata": {
    "ExecuteTime": {
     "end_time": "2022-08-24T07:10:59.239139Z",
     "start_time": "2022-08-24T07:10:59.234637Z"
    },
    "hidden": true
   },
   "outputs": [
    {
     "data": {
      "text/plain": [
       "Index(['race', 'gender', 'loan_type', 'applicant_age', 'lien_status', 'LV',\n",
       "       'DI', 'income_brackets'],\n",
       "      dtype='object')"
      ]
     },
     "execution_count": 12,
     "metadata": {},
     "output_type": "execute_result"
    }
   ],
   "source": [
    "X_train_orig.columns"
   ]
  },
  {
   "cell_type": "markdown",
   "metadata": {
    "hidden": true
   },
   "source": [
    "Correlation Ranking"
   ]
  },
  {
   "cell_type": "code",
   "execution_count": 13,
   "metadata": {
    "ExecuteTime": {
     "end_time": "2022-08-24T07:10:59.246873Z",
     "start_time": "2022-08-24T07:10:59.240635Z"
    },
    "hidden": true,
    "scrolled": true
   },
   "outputs": [
    {
     "name": "stdout",
     "output_type": "stream",
     "text": [
      "corr. between race and label: 0.24\n",
      "corr. between gender and label: 0.14\n",
      "corr. between loan_type and label: 0.19\n",
      "corr. between applicant_age and label: -0.0\n",
      "corr. between lien_status and label: -0.01\n",
      "corr. between LV and label: -0.13\n",
      "corr. between DI and label: -0.17\n",
      "corr. between income_brackets and label: 0.29\n"
     ]
    }
   ],
   "source": [
    "for col in X_test_orig.columns:\n",
    "    print(f'corr. between {col} and label: {np.round(np.corrcoef(X_test_orig[col], y_test)[0][1], 2)}')"
   ]
  },
  {
   "cell_type": "code",
   "execution_count": 14,
   "metadata": {
    "ExecuteTime": {
     "end_time": "2022-08-24T07:10:59.255518Z",
     "start_time": "2022-08-24T07:10:59.247948Z"
    },
    "hidden": true
   },
   "outputs": [
    {
     "name": "stdout",
     "output_type": "stream",
     "text": [
      "corr. between race and race: 1.0\n",
      "corr. between gender and race: 0.22\n",
      "corr. between loan_type and race: -0.03\n",
      "corr. between applicant_age and race: -0.01\n",
      "corr. between lien_status and race: -0.05\n",
      "corr. between LV and race: -0.21\n",
      "corr. between DI and race: -0.14\n",
      "corr. between income_brackets and race: 0.24\n"
     ]
    }
   ],
   "source": [
    "for col in X_test_orig.columns:\n",
    "    print(f'corr. between {col} and {sens_attr}: {np.round(np.corrcoef(X_test_orig[col], X_test_orig[sens_attr])[0][1], 2)}')"
   ]
  },
  {
   "cell_type": "code",
   "execution_count": 15,
   "metadata": {
    "ExecuteTime": {
     "end_time": "2022-08-24T07:10:59.260665Z",
     "start_time": "2022-08-24T07:10:59.256631Z"
    },
    "hidden": true
   },
   "outputs": [
    {
     "data": {
      "text/plain": [
       "Parameter containing:\n",
       "tensor([[ 0.3278,  0.0170,  0.7890, -0.0778,  0.0584, -0.5675, -0.1824,  0.5923]],\n",
       "       requires_grad=True)"
      ]
     },
     "execution_count": 15,
     "metadata": {},
     "output_type": "execute_result"
    }
   ],
   "source": [
    "clf.lr.weight"
   ]
  },
  {
   "cell_type": "markdown",
   "metadata": {
    "hidden": true
   },
   "source": [
    "### Definition"
   ]
  },
  {
   "cell_type": "code",
   "execution_count": 16,
   "metadata": {
    "ExecuteTime": {
     "end_time": "2022-08-24T07:10:59.264732Z",
     "start_time": "2022-08-24T07:10:59.261792Z"
    },
    "code_folding": [
     0
    ],
    "hidden": true
   },
   "outputs": [],
   "source": [
    "def train_clf(model, info_dict):\n",
    "    val_iter = 10\n",
    "    epoch = model.epoch_num\n",
    "    model.epoch_num = val_iter\n",
    "    val_num = epoch // val_iter\n",
    "    min_loss = 2048\n",
    "    best_model = None\n",
    "    for _ in range(val_num):\n",
    "        model.fit_info(info_dict)\n",
    "        loss = model.compute_loss(info_dict)\n",
    "        if loss < min_loss:\n",
    "            torch.save(model.state_dict(), 'best_params/best.pth')\n",
    "            min_loss = loss\n",
    "    model.load_state_dict(torch.load('best_params/best.pth'))\n",
    "    model.eval()\n",
    "    return model"
   ]
  },
  {
   "cell_type": "code",
   "execution_count": 17,
   "metadata": {
    "ExecuteTime": {
     "end_time": "2022-08-24T07:10:59.269672Z",
     "start_time": "2022-08-24T07:10:59.266727Z"
    },
    "code_folding": [
     0
    ],
    "hidden": true
   },
   "outputs": [],
   "source": [
    "def get_A_idx(x, y, A=None, A_val=None):\n",
    "    if A is None:\n",
    "        return x.index\n",
    "    elif A == 'y':\n",
    "        return y[y==A_val].index\n",
    "    else:\n",
    "        raise NotImplementedError"
   ]
  },
  {
   "cell_type": "code",
   "execution_count": 18,
   "metadata": {
    "ExecuteTime": {
     "end_time": "2022-08-24T07:10:59.272863Z",
     "start_time": "2022-08-24T07:10:59.270969Z"
    },
    "code_folding": [
     0
    ],
    "hidden": true
   },
   "outputs": [],
   "source": [
    "def get_attr(x, y, attr):\n",
    "    if attr=='y':\n",
    "        return y\n",
    "    else:\n",
    "        return x[attr]"
   ]
  },
  {
   "cell_type": "code",
   "execution_count": 19,
   "metadata": {
    "ExecuteTime": {
     "end_time": "2022-08-24T07:10:59.281998Z",
     "start_time": "2022-08-24T07:10:59.274147Z"
    },
    "code_folding": [
     0
    ],
    "hidden": true
   },
   "outputs": [],
   "source": [
    "def record_statistics(clf, record=True):\n",
    "    y_pred_train = clf.predict_proba(X_train_sampled)\n",
    "    spd_0 = computeFairness(clf.predict_proba(X_train_sampled), X_train_orig_sampled,\n",
    "                            y_train_sampled, fair_metric, dataset)\n",
    "    if record:\n",
    "        BFs.append(-spd_0)\n",
    "    print(\"BF: \", -spd_0)\n",
    "    y_pred_train = clf.predict_proba(X_train)\n",
    "    spd_0 = computeFairness(clf.predict_proba(X_train), X_train_orig, y_train,\n",
    "                            fair_metric, dataset)\n",
    "    if record:\n",
    "        AFs.append(-spd_0)\n",
    "    print(\"AF: \", -spd_0)\n",
    "\n",
    "    # Group the training data based on parent (sensitive attr=0)\n",
    "    protected_groups = []\n",
    "    for v in np.sort(get_attr(X_train_orig_sampled, y_train_sampled, parent_1).unique()):\n",
    "        for u in np.sort(get_attr(X_train_orig_sampled, y_train_sampled, parent_2).unique()):\n",
    "            for w in np.sort(get_attr(X_train_orig_sampled, y_train_sampled, parent_3).unique()):\n",
    "                idx = X_train_orig_sampled[(get_attr(X_train_orig_sampled, y_train_sampled, parent_1)==v) &\\\n",
    "                                           (get_attr(X_train_orig_sampled, y_train_sampled, parent_2)==u) &\\\n",
    "                                           (get_attr(X_train_orig_sampled, y_train_sampled, parent_3)==w) &\\\n",
    "                                           (get_attr(X_train_orig_sampled, y_train_sampled, sens_attr)==0)].index\n",
    "                idx = idx.intersection(get_A_idx(X_train_orig_sampled, y_train_sampled, A, A_val))\n",
    "                if len(idx)>0:\n",
    "                    protected_groups.append(idx)\n",
    "\n",
    "    score_protected_groups = []\n",
    "    for idx in protected_groups:\n",
    "        score_protected_groups.append(np.mean(clf.predict_proba(X_train_sampled)[idx]))\n",
    "\n",
    "    # Group the training data based on parent (sensitive attr=1)\n",
    "    privileged_groups = []\n",
    "    for v in np.sort(get_attr(X_train_orig_sampled, y_train_sampled, parent_1).unique()):\n",
    "        for u in np.sort(get_attr(X_train_orig_sampled, y_train_sampled, parent_2).unique()):\n",
    "            for w in np.sort(get_attr(X_train_orig_sampled, y_train_sampled, parent_3).unique()):\n",
    "                idx = X_train_orig_sampled[(get_attr(X_train_orig_sampled, y_train_sampled, parent_1)==v) &\\\n",
    "                                           (get_attr(X_train_orig_sampled, y_train_sampled, parent_2)==u) &\\\n",
    "                                           (get_attr(X_train_orig_sampled, y_train_sampled, parent_3)==w) &\\\n",
    "                                           (get_attr(X_train_orig_sampled, y_train_sampled, sens_attr)==1)].index\n",
    "                idx = idx.intersection(get_A_idx(X_train_orig_sampled, y_train_sampled, A, A_val))\n",
    "                if len(idx)>0:\n",
    "                    privileged_groups.append(idx)\n",
    "\n",
    "    score_privileged_groups = []\n",
    "    for idx in privileged_groups:\n",
    "        score_privileged_groups.append(np.mean(clf.predict_proba(X_train_sampled)[idx]))\n",
    "\n",
    "    ub = np.max(score_privileged_groups)-np.min(score_protected_groups)\n",
    "    lb = -np.max(score_protected_groups)+np.min(score_privileged_groups)\n",
    "\n",
    "    print(f'Upper Bound: {ub}')\n",
    "    print(f'Lower Bound: {lb}')\n",
    "\n",
    "    if record:\n",
    "        ubs.append(ub)\n",
    "        lbs.append(lb)"
   ]
  },
  {
   "cell_type": "markdown",
   "metadata": {
    "heading_collapsed": true
   },
   "source": [
    "## Inject Selection Bias"
   ]
  },
  {
   "cell_type": "markdown",
   "metadata": {
    "heading_collapsed": true,
    "hidden": true
   },
   "source": [
    "### HDMA scenario 1"
   ]
  },
  {
   "cell_type": "code",
   "execution_count": 20,
   "metadata": {
    "ExecuteTime": {
     "end_time": "2022-08-24T07:10:59.286088Z",
     "start_time": "2022-08-24T07:10:59.283743Z"
    },
    "hidden": true
   },
   "outputs": [],
   "source": [
    "indicator = ((dataset=='hmda') and (scenario==1))"
   ]
  },
  {
   "cell_type": "code",
   "execution_count": 21,
   "metadata": {
    "ExecuteTime": {
     "end_time": "2022-08-24T07:10:59.289433Z",
     "start_time": "2022-08-24T07:10:59.287723Z"
    },
    "code_folding": [
     0
    ],
    "hidden": true
   },
   "outputs": [],
   "source": [
    "# if indicator:\n",
    "#     data = pd.read_csv('races_White-Black or African American_loan_purposes_1_year_2019.csv')"
   ]
  },
  {
   "cell_type": "code",
   "execution_count": 22,
   "metadata": {
    "ExecuteTime": {
     "end_time": "2022-08-24T07:10:59.293034Z",
     "start_time": "2022-08-24T07:10:59.290640Z"
    },
    "code_folding": [
     0
    ],
    "hidden": true
   },
   "outputs": [],
   "source": [
    "# if indicator:\n",
    "#     tbar = tqdm.tqdm(total=53)\n",
    "#     spds = []\n",
    "#     accs = []\n",
    "#     tprs = []\n",
    "\n",
    "#     for state in data.state_code.unique()[~pd.isna(data.state_code.unique())]:\n",
    "#         df = data[data['state_code']==state].reset_index(drop=True)\n",
    "#     #     df = pd.read_csv('state_CO_races_White-Black or African American_loan_purposes_1.csv')\n",
    "#         df = df[(df.action_taken==1) | (df.action_taken==3)]\n",
    "#         w_idx = df[(df['applicant_race-1']==5)\n",
    "#                    &(pd.isna(df['applicant_race-2']))\n",
    "#                    &(df['applicant_ethnicity-1']==2)].index\n",
    "#         b_idx = df[(df['applicant_race-1']==3)& (pd.isna(df['applicant_race-2']))].index\n",
    "#         df['race'] = -1\n",
    "#         df['race'].loc[w_idx] = 1\n",
    "#         df['race'].loc[b_idx] = 0\n",
    "#         df = df[df['race']>=0]\n",
    "#         df = df[df['debt_to_income_ratio']!='Exempt']\n",
    "#         df['gender'] = -1\n",
    "#         df['gender'][df['applicant_sex']==1] = 1\n",
    "#         df['gender'][df['applicant_sex']==2] = 0\n",
    "#         df = df[df['gender']>=0]\n",
    "\n",
    "#         df = df[['action_taken', 'income', 'race', 'gender', 'loan_type',\n",
    "#                  'debt_to_income_ratio', 'loan_to_value_ratio', 'lien_status']]\n",
    "\n",
    "#         df['income'].fillna(71, inplace=True)\n",
    "#         df['loan_to_value_ratio'].fillna(93, inplace=True)\n",
    "#         df['debt_to_income_ratio'].fillna(41, inplace=True)\n",
    "\n",
    "#         df['loan_to_value_ratio']= pd.to_numeric(df['loan_to_value_ratio'],errors= 'coerce')\n",
    "#         bins = np.array([40, 60, 79, 81, 90, 100])\n",
    "#         df['LV'] = np.digitize(df['loan_to_value_ratio'], bins)\n",
    "\n",
    "#         df.loc[df['debt_to_income_ratio']=='<20%', 'debt_to_income_ratio'] = 15\n",
    "#         df.loc[df['debt_to_income_ratio']=='20%-<30%', 'debt_to_income_ratio'] = 25\n",
    "#         df.loc[df['debt_to_income_ratio']=='30%-<36%', 'debt_to_income_ratio'] = 33\n",
    "#         df.loc[df['debt_to_income_ratio']=='50%-60%', 'debt_to_income_ratio'] = 55\n",
    "#         df.loc[df['debt_to_income_ratio']=='>60%', 'debt_to_income_ratio'] = 65\n",
    "#         # df.loc[df['debt_to_income_ratio']=='Exempt', 'debt_to_income_ratio'] = -1\n",
    "#         df['debt_to_income_ratio'] = pd.to_numeric(df['debt_to_income_ratio'])\n",
    "#         bins = np.array([0, 20, 30, 36, 40, 45, 50, 60])\n",
    "#         df['DI'] = np.digitize(df['debt_to_income_ratio'], bins)\n",
    "\n",
    "#         bins = np.array([32, 53, 107, 374])\n",
    "#         df['income_brackets'] = np.digitize(df['income'], bins)\n",
    "\n",
    "#         df.dropna(inplace=True)\n",
    "#         df = df.reset_index(drop=True)\n",
    "#         df['action_taken'][df['action_taken']==3] = 0\n",
    "\n",
    "#         y = df['action_taken']\n",
    "#         df = df.drop(columns=['action_taken', 'income', 'debt_to_income_ratio', 'loan_to_value_ratio'])\n",
    "#         X_train, X_test, y_train, y_test = train_test_split(df, y, test_size=0.2, random_state=1)\n",
    "#         X_train_orig = copy.deepcopy(X_train).reset_index(drop=True)\n",
    "#         X_test_orig = copy.deepcopy(X_test).reset_index(drop=True)\n",
    "#         y_train = y_train.reset_index(drop=True)\n",
    "#         y_test = y_test.reset_index(drop=True)\n",
    "\n",
    "#         from sklearn.preprocessing import StandardScaler\n",
    "#         sc = StandardScaler()\n",
    "#         X_train = sc.fit_transform(X_train)\n",
    "#         X_test = sc.transform(X_test)\n",
    "\n",
    "#         print(f'--------------- STATE: {state} ---------------')\n",
    "\n",
    "#         clf = LogisticRegression(input_size=X_train.shape[-1], epoch_num=3000, c=0.003)\n",
    "\n",
    "#         clf.fit(X_train, y_train.to_numpy(), use_sklearn=False)\n",
    "\n",
    "#         y_pred_test = clf.predict_proba(X_test)\n",
    "#         y_pred_train = clf.predict_proba(X_train)\n",
    "\n",
    "#         spd_0 = computeFairness(y_pred_test, X_test_orig, y_test, 0, dataset)\n",
    "#         print(\"Initial statistical parity: \", spd_0)\n",
    "\n",
    "#         tpr_parity_0 = computeFairness(y_pred_test, X_test_orig, y_test, 1, dataset)\n",
    "#         print(\"Initial TPR parity: \", tpr_parity_0)\n",
    "\n",
    "#         accuracy_0 = computeAccuracy(y_test, y_pred_test)\n",
    "#         print(\"Initial accuracy: \", accuracy_0)\n",
    "\n",
    "#         spds.append(spd_0)\n",
    "#         tprs.append(tpr_parity_0)\n",
    "#         accs.append(accuracy_0)\n",
    "#         tbar.update()"
   ]
  },
  {
   "cell_type": "code",
   "execution_count": 23,
   "metadata": {
    "ExecuteTime": {
     "end_time": "2022-08-24T07:10:59.300531Z",
     "start_time": "2022-08-24T07:10:59.297744Z"
    },
    "code_folding": [
     0
    ],
    "hidden": true
   },
   "outputs": [],
   "source": [
    "# if indicator:\n",
    "#     state = 'CA'\n",
    "#     df = data[data['state_code']==state].reset_index(drop=True)\n",
    "#     df = df[(df.action_taken==1) | (df.action_taken==3)]\n",
    "#     w_idx = df[(df['applicant_race-1']==5)\n",
    "#                &(pd.isna(df['applicant_race-2']))\n",
    "#                &(df['applicant_ethnicity-1']==2)].index\n",
    "#     b_idx = df[(df['applicant_race-1']==3)& (pd.isna(df['applicant_race-2']))].index\n",
    "#     df['race'] = -1\n",
    "#     df['race'].loc[w_idx] = 1\n",
    "#     df['race'].loc[b_idx] = 0\n",
    "#     df = df[df['race']>=0]\n",
    "#     df = df[df['debt_to_income_ratio']!='Exempt']\n",
    "#     df['gender'] = -1\n",
    "#     df['gender'][df['applicant_sex']==1] = 1\n",
    "#     df['gender'][df['applicant_sex']==2] = 0\n",
    "#     df = df[df['gender']>=0]\n",
    "\n",
    "#     df = df[['action_taken', 'income', 'race', 'gender', 'loan_type', 'applicant_age',\n",
    "#              'debt_to_income_ratio', 'loan_to_value_ratio', 'lien_status']]\n",
    "\n",
    "#     df['income'].fillna(71, inplace=True)\n",
    "#     df['loan_to_value_ratio'].fillna(93, inplace=True)\n",
    "#     df['debt_to_income_ratio'].fillna(41, inplace=True)\n",
    "\n",
    "#     df['applicant_age'] = df['applicant_age'].map({'25-34': 0, '35-44': 0, '<25': 0, '8888': -1,\n",
    "#                                                    '45-54': 1, '55-64': 1, '65-74': 1, '>74': 1}).astype(int)\n",
    "#     df = df[df['applicant_age']>=0]\n",
    "\n",
    "#     df['loan_to_value_ratio']= pd.to_numeric(df['loan_to_value_ratio'],errors= 'coerce')\n",
    "#     bins = np.array([40, 60, 79, 81, 90, 100])\n",
    "#     df['LV'] = np.digitize(df['loan_to_value_ratio'], bins)\n",
    "\n",
    "#     df.loc[df['debt_to_income_ratio']=='<20%', 'debt_to_income_ratio'] = 15\n",
    "#     df.loc[df['debt_to_income_ratio']=='20%-<30%', 'debt_to_income_ratio'] = 25\n",
    "#     df.loc[df['debt_to_income_ratio']=='30%-<36%', 'debt_to_income_ratio'] = 33\n",
    "#     df.loc[df['debt_to_income_ratio']=='50%-60%', 'debt_to_income_ratio'] = 55\n",
    "#     df.loc[df['debt_to_income_ratio']=='>60%', 'debt_to_income_ratio'] = 65\n",
    "#     df['debt_to_income_ratio'] = pd.to_numeric(df['debt_to_income_ratio'])\n",
    "#     bins = np.array([0, 20, 30, 36, 40, 45, 50, 60])\n",
    "#     df['DI'] = np.digitize(df['debt_to_income_ratio'], bins)\n",
    "\n",
    "#     bins = np.array([32, 53, 107, 374])\n",
    "#     df['income_brackets'] = np.digitize(df['income'], bins)\n",
    "\n",
    "#     df.dropna(inplace=True)\n",
    "#     df = df.reset_index(drop=True)\n",
    "#     df['action_taken'][df['action_taken']==3] = 0\n",
    "\n",
    "#     y = df['action_taken']\n",
    "#     df = df.drop(columns=['action_taken', 'income', 'debt_to_income_ratio', 'loan_to_value_ratio'])\n",
    "#     X_train, X_test, y_train, y_test = train_test_split(df, y, test_size=0.2, random_state=1)\n",
    "#     X_train_orig = copy.deepcopy(X_train).reset_index(drop=True)\n",
    "#     X_test_orig = copy.deepcopy(X_test).reset_index(drop=True)\n",
    "#     y_train = y_train.reset_index(drop=True)\n",
    "#     y_test = y_test.reset_index(drop=True)\n",
    "\n",
    "#     from sklearn.preprocessing import StandardScaler\n",
    "#     sc = StandardScaler()\n",
    "#     X_train = sc.fit_transform(X_train)\n",
    "#     X_test = sc.transform(X_test)\n",
    "\n",
    "#     print(f'--------------- STATE: {state} ---------------')\n",
    "\n",
    "#     clf = LogisticRegression(input_size=X_train.shape[-1], epoch_num=3000, c=0.003)\n",
    "\n",
    "#     clf.fit(X_train, y_train.to_numpy(), use_sklearn=False)\n",
    "\n",
    "#     y_pred_test = clf.predict_proba(X_test)\n",
    "#     y_pred_train = clf.predict_proba(X_train)\n",
    "\n",
    "#     spd_0 = computeFairness(y_pred_test, X_test_orig, y_test, 0, dataset)\n",
    "#     print(\"Initial statistical parity: \", spd_0)\n",
    "\n",
    "#     tpr_parity_0 = computeFairness(y_pred_test, X_test_orig, y_test, 1, dataset)\n",
    "#     print(\"Initial TPR parity: \", tpr_parity_0)\n",
    "\n",
    "#     accuracy_0 = computeAccuracy(y_test, y_pred_test)\n",
    "#     print(\"Initial accuracy: \", accuracy_0)"
   ]
  },
  {
   "cell_type": "code",
   "execution_count": 24,
   "metadata": {
    "ExecuteTime": {
     "end_time": "2022-08-24T07:10:59.306466Z",
     "start_time": "2022-08-24T07:10:59.304396Z"
    },
    "code_folding": [
     0
    ],
    "hidden": true
   },
   "outputs": [],
   "source": [
    "# if indicator:\n",
    "#     txt = os.popen(f'curl https://www.nrcs.usda.gov/wps/portal/nrcs/detail/?cid=nrcs143_013697').read()\n",
    "#     cc = '22099'\n",
    "#     df = data[data['county_code']==int(cc)].reset_index(drop=True)\n",
    "#     county, state = re.findall(f'<td>{cc}</td>\\n\\t\\t\\t<td>(.+)</td>\\n\\t\\t\\t<td>(.+)</td>', txt)[0]\n",
    "#     df = df[(df.action_taken==1) | (df.action_taken==3)]\n",
    "#     w_idx = df[(df['applicant_race-1']==5)\n",
    "#                &(pd.isna(df['applicant_race-2']))\n",
    "#                &(df['applicant_ethnicity-1']==2)].index\n",
    "#     b_idx = df[(df['applicant_race-1']==3)& (pd.isna(df['applicant_race-2']))].index\n",
    "#     df['race'] = -1\n",
    "#     df['race'].loc[w_idx] = 1\n",
    "#     df['race'].loc[b_idx] = 0\n",
    "#     df = df[df['race']>=0]\n",
    "#     df = df[df['debt_to_income_ratio']!='Exempt']\n",
    "#     df['gender'] = -1\n",
    "#     df['gender'][df['applicant_sex']==1] = 1\n",
    "#     df['gender'][df['applicant_sex']==2] = 0\n",
    "#     df = df[df['gender']>=0]\n",
    "\n",
    "#     df = df[['action_taken', 'income', 'race', 'gender', 'loan_type', 'applicant_age',\n",
    "#              'debt_to_income_ratio', 'loan_to_value_ratio', 'lien_status']]\n",
    "\n",
    "#     df['income'].fillna(71, inplace=True)\n",
    "#     df['loan_to_value_ratio'].fillna(93, inplace=True)\n",
    "#     df['debt_to_income_ratio'].fillna(41, inplace=True)\n",
    "\n",
    "#     df['applicant_age'] = df['applicant_age'].map({'25-34': 0, '35-44': 0, '<25': 0, '8888': -1,\n",
    "#                                                    '45-54': 1, '55-64': 1, '65-74': 1, '>74': 1}).astype(int)\n",
    "#     df = df[df['applicant_age']>=0]\n",
    "\n",
    "#     df['loan_to_value_ratio']= pd.to_numeric(df['loan_to_value_ratio'],errors= 'coerce')\n",
    "#     bins = np.array([40, 60, 79, 81, 90, 100])\n",
    "#     df['LV'] = np.digitize(df['loan_to_value_ratio'], bins)\n",
    "\n",
    "#     df.loc[df['debt_to_income_ratio']=='<20%', 'debt_to_income_ratio'] = 15\n",
    "#     df.loc[df['debt_to_income_ratio']=='20%-<30%', 'debt_to_income_ratio'] = 25\n",
    "#     df.loc[df['debt_to_income_ratio']=='30%-<36%', 'debt_to_income_ratio'] = 33\n",
    "#     df.loc[df['debt_to_income_ratio']=='50%-60%', 'debt_to_income_ratio'] = 55\n",
    "#     df.loc[df['debt_to_income_ratio']=='>60%', 'debt_to_income_ratio'] = 65\n",
    "#     df['debt_to_income_ratio'] = pd.to_numeric(df['debt_to_income_ratio'])\n",
    "#     bins = np.array([0, 20, 30, 36, 40, 45, 50, 60])\n",
    "#     df['DI'] = np.digitize(df['debt_to_income_ratio'], bins)\n",
    "\n",
    "#     bins = np.array([32, 53, 107, 374])\n",
    "#     df['income_brackets'] = np.digitize(df['income'], bins)\n",
    "\n",
    "#     df.dropna(inplace=True)\n",
    "#     df = df.reset_index(drop=True)\n",
    "#     df['action_taken'][df['action_taken']==3] = 0\n",
    "\n",
    "#     y = df['action_taken']\n",
    "#     df = df.drop(columns=['action_taken', 'income', 'debt_to_income_ratio', 'loan_to_value_ratio'])\n",
    "#     X_train, X_test, y_train, y_test = train_test_split(df, y, test_size=0.2, random_state=1)\n",
    "#     X_train_orig = copy.deepcopy(X_train).reset_index(drop=True)\n",
    "#     X_test_orig = copy.deepcopy(X_test).reset_index(drop=True)\n",
    "#     y_train = y_train.reset_index(drop=True)\n",
    "#     y_test = y_test.reset_index(drop=True)\n",
    "\n",
    "#     X_test = sc.transform(X_test)\n",
    "    \n",
    "#     y_pred_test = clf.predict_proba(X_test)\n",
    "    \n",
    "#     print(f'--------------- STATE: {state} - COUNTY: {county} - POPULATION: {len(y)} ---------------')\n",
    "\n",
    "#     spd_0 = computeFairness(y_pred_test, X_test_orig, y_test, 0, dataset)\n",
    "#     print(\"Initial statistical parity: \", spd_0)\n",
    "\n",
    "#     tpr_parity_0 = computeFairness(y_pred_test, X_test_orig, y_test, 1, dataset)\n",
    "#     print(\"Initial TPR parity: \", tpr_parity_0)\n",
    "\n",
    "#     accuracy_0 = computeAccuracy(y_test, y_pred_test)\n",
    "#     print(\"Initial accuracy: \", accuracy_0)"
   ]
  },
  {
   "cell_type": "code",
   "execution_count": 25,
   "metadata": {
    "ExecuteTime": {
     "end_time": "2022-08-24T07:10:59.309464Z",
     "start_time": "2022-08-24T07:10:59.307621Z"
    },
    "code_folding": [
     0
    ],
    "hidden": true
   },
   "outputs": [],
   "source": [
    "# if indicator:\n",
    "#     print(df[(df['race']==0)].applicant_age.value_counts()/df[(df['race']==1)].applicant_age.value_counts())"
   ]
  },
  {
   "cell_type": "code",
   "execution_count": 26,
   "metadata": {
    "ExecuteTime": {
     "end_time": "2022-08-24T07:10:59.313283Z",
     "start_time": "2022-08-24T07:10:59.310924Z"
    },
    "code_folding": [
     0
    ],
    "hidden": true,
    "scrolled": true
   },
   "outputs": [],
   "source": [
    "# if indicator:\n",
    "#     cc = '06067'\n",
    "#     top_counties = list(data[data['state_code']=='LA'].county_code.value_counts().iloc[:20].to_dict().keys())\n",
    "#     top_counties = [str(int(c)) for c in top_counties]\n",
    "#     txt = os.popen(f'curl https://www.nrcs.usda.gov/wps/portal/nrcs/detail/?cid=nrcs143_013697').read()\n",
    "#     spds = []\n",
    "#     accs = []\n",
    "#     tprs = []\n",
    "#     tbar = tqdm.tqdm(total=20)\n",
    "\n",
    "#     for c in top_counties:\n",
    "#         county, state = re.findall(f'<td>{\"0\"*(5-len(c))+c}</td>\\n\\t\\t\\t<td>(.+)</td>\\n\\t\\t\\t<td>(.+)</td>', txt)[0]\n",
    "#         df = data[data['county_code']==float(c)].reset_index(drop=True)\n",
    "#         df = df[(df.action_taken==1) | (df.action_taken==3)]\n",
    "#         w_idx = df[(df['applicant_race-1']==5)\n",
    "#                    &(pd.isna(df['applicant_race-2']))\n",
    "#                    &(df['applicant_ethnicity-1']==2)].index\n",
    "#         b_idx = df[(df['applicant_race-1']==3)& (pd.isna(df['applicant_race-2']))].index\n",
    "#         df['race'] = -1\n",
    "#         df['race'].loc[w_idx] = 1\n",
    "#         df['race'].loc[b_idx] = 0\n",
    "#         df = df[df['race']>=0]\n",
    "#         df = df[df['debt_to_income_ratio']!='Exempt']\n",
    "#         df['gender'] = -1\n",
    "#         df['gender'][df['applicant_sex']==1] = 1\n",
    "#         df['gender'][df['applicant_sex']==2] = 0\n",
    "#         df = df[df['gender']>=0]\n",
    "\n",
    "#         df = df[['action_taken', 'income', 'race', 'gender', 'loan_type',\n",
    "#                  'debt_to_income_ratio', 'loan_to_value_ratio', 'lien_status']]\n",
    "\n",
    "#         df['income'].fillna(71, inplace=True)\n",
    "#         df['loan_to_value_ratio'].fillna(93, inplace=True)\n",
    "#         df['debt_to_income_ratio'].fillna(41, inplace=True)\n",
    "\n",
    "#         df['loan_to_value_ratio']= pd.to_numeric(df['loan_to_value_ratio'],errors= 'coerce')\n",
    "#         bins = np.array([40, 60, 79, 81, 90, 100])\n",
    "#         df['LV'] = np.digitize(df['loan_to_value_ratio'], bins)\n",
    "\n",
    "#         df.loc[df['debt_to_income_ratio']=='<20%', 'debt_to_income_ratio'] = 15\n",
    "#         df.loc[df['debt_to_income_ratio']=='20%-<30%', 'debt_to_income_ratio'] = 25\n",
    "#         df.loc[df['debt_to_income_ratio']=='30%-<36%', 'debt_to_income_ratio'] = 33\n",
    "#         df.loc[df['debt_to_income_ratio']=='50%-60%', 'debt_to_income_ratio'] = 55\n",
    "#         df.loc[df['debt_to_income_ratio']=='>60%', 'debt_to_income_ratio'] = 65\n",
    "#         # df.loc[df['debt_to_income_ratio']=='Exempt', 'debt_to_income_ratio'] = -1\n",
    "#         df['debt_to_income_ratio'] = pd.to_numeric(df['debt_to_income_ratio'])\n",
    "#         bins = np.array([0, 20, 30, 36, 40, 45, 50, 60])\n",
    "#         df['DI'] = np.digitize(df['debt_to_income_ratio'], bins)\n",
    "\n",
    "#         bins = np.array([32, 53, 107, 374])\n",
    "#         df['income_brackets'] = np.digitize(df['income'], bins)\n",
    "\n",
    "#         df.dropna(inplace=True)\n",
    "#         df = df.reset_index(drop=True)\n",
    "#         df['action_taken'][df['action_taken']==3] = 0\n",
    "\n",
    "#         y = df['action_taken']\n",
    "#         df = df.drop(columns=['action_taken', 'income', 'debt_to_income_ratio', 'loan_to_value_ratio'])\n",
    "#         X_train, X_test, y_train, y_test = train_test_split(df, y, test_size=0.2, random_state=1)\n",
    "#         X_train_orig = copy.deepcopy(X_train).reset_index(drop=True)\n",
    "#         X_test_orig = copy.deepcopy(X_test).reset_index(drop=True)\n",
    "#         y_train = y_train.reset_index(drop=True)\n",
    "#         y_test = y_test.reset_index(drop=True)\n",
    "\n",
    "#         from sklearn.preprocessing import StandardScaler\n",
    "#         sc = StandardScaler()\n",
    "#         X_train = sc.fit_transform(X_train)\n",
    "#         X_test = sc.transform(X_test)\n",
    "\n",
    "#         print(f'--------------- STATE: {state} - COUNTY: {county} - POPULATION: {len(y)} ---------------')\n",
    "\n",
    "#         clf = LogisticRegression(input_size=X_train.shape[-1], epoch_num=3000, c=0.003)\n",
    "\n",
    "#         clf.fit(X_train, y_train.to_numpy(), use_sklearn=False)\n",
    "\n",
    "#         y_pred_test = clf.predict_proba(X_test)\n",
    "#         y_pred_train = clf.predict_proba(X_train)\n",
    "\n",
    "#         spd_0 = computeFairness(y_pred_test, X_test_orig, y_test, 0, dataset)\n",
    "#         print(\"Initial statistical parity: \", spd_0)\n",
    "\n",
    "#         tpr_parity_0 = computeFairness(y_pred_test, X_test_orig, y_test, 1, dataset)\n",
    "#         print(\"Initial TPR parity: \", tpr_parity_0)\n",
    "\n",
    "#         accuracy_0 = computeAccuracy(y_test, y_pred_test)\n",
    "#         print(\"Initial accuracy: \", accuracy_0)\n",
    "\n",
    "#         spds.append(spd_0)\n",
    "#         tprs.append(tpr_parity_0)\n",
    "#         accs.append(accuracy_0)\n",
    "#         tbar.update()"
   ]
  },
  {
   "cell_type": "code",
   "execution_count": 27,
   "metadata": {
    "ExecuteTime": {
     "end_time": "2022-08-24T07:10:59.317573Z",
     "start_time": "2022-08-24T07:10:59.314440Z"
    },
    "code_folding": [
     0
    ],
    "hidden": true
   },
   "outputs": [],
   "source": [
    "if indicator:\n",
    "    plt.figure(figsize=(4, 4))\n",
    "    plt.ylabel('Num. of points')\n",
    "    plt.hist(X_train_orig.DI[X_train_orig[sens_attr]==0], label='black', alpha=0.5, range=(1, 3))\n",
    "    plt.hist(X_train_orig.DI[X_train_orig[sens_attr]==1], label='white', alpha=0.5, range=(1, 3))\n",
    "    plt.xticks([1, 2, 3], )\n",
    "    plt.legend()\n",
    "    plt.xlabel('DI (divided by gender)')"
   ]
  },
  {
   "cell_type": "code",
   "execution_count": 28,
   "metadata": {
    "ExecuteTime": {
     "end_time": "2022-08-24T07:10:59.321648Z",
     "start_time": "2022-08-24T07:10:59.319329Z"
    },
    "code_folding": [
     0
    ],
    "hidden": true
   },
   "outputs": [],
   "source": [
    "if indicator:\n",
    "    plt.hist(X_train_orig.DI[X_train_orig[sens_attr]==0], label='black', alpha=0.5, bins=3)\n",
    "    plt.show()"
   ]
  },
  {
   "cell_type": "code",
   "execution_count": 29,
   "metadata": {
    "ExecuteTime": {
     "end_time": "2022-08-24T07:10:59.325210Z",
     "start_time": "2022-08-24T07:10:59.322907Z"
    },
    "code_folding": [
     0
    ],
    "hidden": true
   },
   "outputs": [],
   "source": [
    "if indicator:\n",
    "    plt.hist(X_train_orig.DI[X_train_orig[sens_attr]==1], label='white', alpha=0.5, bins=3)\n",
    "    plt.show()"
   ]
  },
  {
   "cell_type": "markdown",
   "metadata": {
    "hidden": true
   },
   "source": [
    "**Sample based on the conditional probability**"
   ]
  },
  {
   "cell_type": "code",
   "execution_count": 30,
   "metadata": {
    "ExecuteTime": {
     "end_time": "2022-08-24T07:10:59.329156Z",
     "start_time": "2022-08-24T07:10:59.326430Z"
    },
    "code_folding": [],
    "hidden": true
   },
   "outputs": [],
   "source": [
    "if indicator:\n",
    "    p = np.ones_like(X_train_orig.race).astype(float)\n",
    "    p[(X_train_orig.race==0)&(X_train_orig.DI==2)] = 0.1\n",
    "    p[(X_train_orig.race==0)&(X_train_orig.DI==3)] = 0.2\n",
    "    p[(X_train_orig.race==1)&(X_train_orig.DI==1)] = 0.1\n",
    "    plt.hist(p, bins=10)\n",
    "    plt.show()"
   ]
  },
  {
   "cell_type": "code",
   "execution_count": 31,
   "metadata": {
    "ExecuteTime": {
     "end_time": "2022-08-24T07:10:59.333736Z",
     "start_time": "2022-08-24T07:10:59.330418Z"
    },
    "hidden": true
   },
   "outputs": [],
   "source": [
    "if indicator:\n",
    "    np.random.seed(0)\n",
    "    sample_bool = np.zeros(len(X_train))\n",
    "    for idx in range(len(X_train)):\n",
    "        sample_bool[idx] = np.random.binomial(n=1, p=p[idx])  # True or False"
   ]
  },
  {
   "cell_type": "code",
   "execution_count": 32,
   "metadata": {
    "ExecuteTime": {
     "end_time": "2022-08-24T07:10:59.338136Z",
     "start_time": "2022-08-24T07:10:59.335288Z"
    },
    "code_folding": [],
    "hidden": true
   },
   "outputs": [],
   "source": [
    "if indicator:\n",
    "    X_train_orig_sampled = X_train_orig.loc[np.where(sample_bool)[0]]\n",
    "    X_train_orig_sampled = X_train_orig_sampled.reset_index(drop=True)\n",
    "    X_train_sampled = X_train[np.where(sample_bool)[0]]\n",
    "    y_train_sampled = y_train[np.where(sample_bool)[0]].reset_index(drop=True)"
   ]
  },
  {
   "cell_type": "code",
   "execution_count": 33,
   "metadata": {
    "ExecuteTime": {
     "end_time": "2022-08-24T07:10:59.342933Z",
     "start_time": "2022-08-24T07:10:59.339331Z"
    },
    "code_folding": [],
    "hidden": true
   },
   "outputs": [],
   "source": [
    "if indicator:\n",
    "    clf = LogisticRegression(input_size=X_train.shape[-1], epoch_num=3000, c=0.003)\n",
    "\n",
    "    clf.fit(X_train_sampled, y_train_sampled.to_numpy(), use_sklearn=False)\n",
    "\n",
    "    y_pred_test = clf.predict_proba(X_test)\n",
    "    y_pred_train = clf.predict_proba(X_train)\n",
    "\n",
    "    spd_0 = computeFairness(y_pred_test, X_test_orig, y_test, 0, dataset)\n",
    "    print(\"Initial statistical parity: \", spd_0)\n",
    "\n",
    "    tpr_parity_0 = computeFairness(y_pred_test, X_test_orig, y_test, 1, dataset)\n",
    "    print(\"Initial TPR parity: \", tpr_parity_0)\n",
    "\n",
    "    predictive_parity_0 = computeFairness(y_pred_test, X_test_orig, y_test, 2, dataset)\n",
    "    print(\"Initial predictive parity: \", predictive_parity_0)\n",
    "\n",
    "    loss_0 = logistic_loss(y_test, y_pred_test)\n",
    "    print(\"Initial loss: \", loss_0)\n",
    "\n",
    "    accuracy_0 = computeAccuracy(y_test, y_pred_test)\n",
    "    print(\"Initial accuracy: \", accuracy_0)"
   ]
  },
  {
   "cell_type": "code",
   "execution_count": 34,
   "metadata": {
    "ExecuteTime": {
     "end_time": "2022-08-24T07:10:59.346439Z",
     "start_time": "2022-08-24T07:10:59.344154Z"
    },
    "code_folding": [],
    "hidden": true
   },
   "outputs": [],
   "source": [
    "if indicator:\n",
    "    y_pred_train = clf.predict_proba(X_train_sampled)\n",
    "\n",
    "    spd_0 = computeFairness(y_pred_train, X_train_orig_sampled, y_train_sampled, 0, dataset)\n",
    "    print(\"Initial statistical parity: \", spd_0)\n",
    "\n",
    "    accuracy_0 = computeAccuracy(y_train_sampled, y_pred_train)\n",
    "    print(\"Initial accuracy: \", accuracy_0)"
   ]
  },
  {
   "cell_type": "code",
   "execution_count": 35,
   "metadata": {
    "ExecuteTime": {
     "end_time": "2022-08-24T07:10:59.350021Z",
     "start_time": "2022-08-24T07:10:59.347616Z"
    },
    "code_folding": [],
    "hidden": true
   },
   "outputs": [],
   "source": [
    "if indicator:\n",
    "    sens_attr = 'race'\n",
    "    parent_1 = 'DI'\n",
    "    parent_2 = 'race'\n",
    "    parent_3 = 'race'"
   ]
  },
  {
   "cell_type": "markdown",
   "metadata": {
    "hidden": true
   },
   "source": [
    "**Bound**"
   ]
  },
  {
   "cell_type": "code",
   "execution_count": 36,
   "metadata": {
    "ExecuteTime": {
     "end_time": "2022-08-24T07:10:59.354294Z",
     "start_time": "2022-08-24T07:10:59.351873Z"
    },
    "code_folding": [],
    "hidden": true,
    "scrolled": false
   },
   "outputs": [],
   "source": [
    "if indicator:\n",
    "    record_statistics(clf, record=False)"
   ]
  },
  {
   "cell_type": "code",
   "execution_count": null,
   "metadata": {
    "hidden": true
   },
   "outputs": [],
   "source": []
  },
  {
   "cell_type": "markdown",
   "metadata": {
    "hidden": true
   },
   "source": [
    "### HDMA scenario 4"
   ]
  },
  {
   "cell_type": "code",
   "execution_count": 37,
   "metadata": {
    "ExecuteTime": {
     "end_time": "2022-08-24T07:10:59.357397Z",
     "start_time": "2022-08-24T07:10:59.355570Z"
    },
    "hidden": true
   },
   "outputs": [],
   "source": [
    "indicator = ((dataset=='hmda') and (scenario==4))"
   ]
  },
  {
   "cell_type": "code",
   "execution_count": 38,
   "metadata": {
    "ExecuteTime": {
     "end_time": "2022-08-24T07:10:59.532583Z",
     "start_time": "2022-08-24T07:10:59.358658Z"
    },
    "code_folding": [],
    "hidden": true
   },
   "outputs": [
    {
     "data": {
      "image/png": "[encoded data removed]",
      "text/plain": [
       "<Figure size 288x288 with 1 Axes>"
      ]
     },
     "metadata": {
      "needs_background": "light"
     },
     "output_type": "display_data"
    }
   ],
   "source": [
    "if indicator:\n",
    "    plt.figure(figsize=(4, 4))\n",
    "    plt.ylabel('Num. of points')\n",
    "    plt.hist(X_train_orig.DI[X_train_orig[sens_attr]==0], label='black', alpha=0.5, range=(1, 3))\n",
    "    plt.hist(X_train_orig.DI[X_train_orig[sens_attr]==1], label='white', alpha=0.5, range=(1, 3))\n",
    "    plt.xticks([1, 2, 3], )\n",
    "    plt.legend()\n",
    "    plt.xlabel('DI (divided by gender)')"
   ]
  },
  {
   "cell_type": "code",
   "execution_count": 39,
   "metadata": {
    "ExecuteTime": {
     "end_time": "2022-08-24T07:10:59.615355Z",
     "start_time": "2022-08-24T07:10:59.534226Z"
    },
    "code_folding": [
     0
    ],
    "hidden": true
   },
   "outputs": [
    {
     "data": {
      "image/png": "[encoded data removed]",
      "text/plain": [
       "<Figure size 432x288 with 1 Axes>"
      ]
     },
     "metadata": {
      "needs_background": "light"
     },
     "output_type": "display_data"
    }
   ],
   "source": [
    "if indicator:\n",
    "    plt.hist(X_train_orig.DI[X_train_orig[sens_attr]==0], label='black', alpha=0.5, bins=3)\n",
    "    plt.show()"
   ]
  },
  {
   "cell_type": "code",
   "execution_count": 40,
   "metadata": {
    "ExecuteTime": {
     "end_time": "2022-08-24T07:10:59.700085Z",
     "start_time": "2022-08-24T07:10:59.616634Z"
    },
    "code_folding": [],
    "hidden": true
   },
   "outputs": [
    {
     "data": {
      "image/png": "[encoded data removed]",
      "text/plain": [
       "<Figure size 432x288 with 1 Axes>"
      ]
     },
     "metadata": {
      "needs_background": "light"
     },
     "output_type": "display_data"
    }
   ],
   "source": [
    "if indicator:\n",
    "    plt.hist(X_train_orig.DI[X_train_orig[sens_attr]==1], label='white', alpha=0.5, bins=3)\n",
    "    plt.show()"
   ]
  },
  {
   "cell_type": "markdown",
   "metadata": {
    "hidden": true
   },
   "source": [
    "**Sample based on the conditional probability**"
   ]
  },
  {
   "cell_type": "code",
   "execution_count": 41,
   "metadata": {
    "ExecuteTime": {
     "end_time": "2022-08-24T07:10:59.789543Z",
     "start_time": "2022-08-24T07:10:59.701624Z"
    },
    "code_folding": [],
    "hidden": true
   },
   "outputs": [
    {
     "data": {
      "image/png": "[encoded data removed]",
      "text/plain": [
       "<Figure size 432x288 with 1 Axes>"
      ]
     },
     "metadata": {
      "needs_background": "light"
     },
     "output_type": "display_data"
    }
   ],
   "source": [
    "if indicator:\n",
    "    p = np.ones_like(X_train_orig.race).astype(float)\n",
    "    p[(X_train_orig.race==0)&(X_train_orig.DI==1)] = 0.2\n",
    "    p[(X_train_orig.race==0)&(X_train_orig.DI==2)] = 0.3\n",
    "    plt.hist(p, bins=10)\n",
    "    plt.show()"
   ]
  },
  {
   "cell_type": "code",
   "execution_count": 42,
   "metadata": {
    "ExecuteTime": {
     "end_time": "2022-08-24T07:10:59.838054Z",
     "start_time": "2022-08-24T07:10:59.790959Z"
    },
    "hidden": true
   },
   "outputs": [],
   "source": [
    "if indicator:\n",
    "    np.random.seed(0)\n",
    "    sample_bool = np.zeros(len(X_train))\n",
    "    for idx in range(len(X_train)):\n",
    "        sample_bool[idx] = np.random.binomial(n=1, p=p[idx])  # True or False"
   ]
  },
  {
   "cell_type": "code",
   "execution_count": 43,
   "metadata": {
    "ExecuteTime": {
     "end_time": "2022-08-24T07:10:59.845908Z",
     "start_time": "2022-08-24T07:10:59.839447Z"
    },
    "code_folding": [],
    "hidden": true
   },
   "outputs": [],
   "source": [
    "if indicator:\n",
    "    X_train_orig_sampled = X_train_orig.loc[np.where(sample_bool)[0]]\n",
    "    X_train_orig_sampled = X_train_orig_sampled.reset_index(drop=True)\n",
    "    X_train_sampled = X_train[np.where(sample_bool)[0]]\n",
    "    y_train_sampled = y_train[np.where(sample_bool)[0]].reset_index(drop=True)"
   ]
  },
  {
   "cell_type": "code",
   "execution_count": 44,
   "metadata": {
    "ExecuteTime": {
     "end_time": "2022-08-24T07:11:04.353949Z",
     "start_time": "2022-08-24T07:10:59.847226Z"
    },
    "code_folding": [],
    "hidden": true
   },
   "outputs": [
    {
     "name": "stdout",
     "output_type": "stream",
     "text": [
      "Initial statistical parity:  -0.2706552664961235\n",
      "Initial TPR parity:  -0.22177416931196992\n",
      "Initial predictive parity:  -0.1684569936255581\n",
      "Initial loss:  0.42378901439525246\n",
      "Initial accuracy:  0.8173374613003096\n"
     ]
    }
   ],
   "source": [
    "if indicator:\n",
    "    clf = LogisticRegression(input_size=X_train.shape[-1], epoch_num=3000, c=0.003)\n",
    "\n",
    "    clf.fit(X_train_sampled, y_train_sampled.to_numpy(), use_sklearn=False)\n",
    "\n",
    "    y_pred_test = clf.predict_proba(X_test)\n",
    "    y_pred_train = clf.predict_proba(X_train)\n",
    "\n",
    "    spd_0 = computeFairness(y_pred_test, X_test_orig, y_test, 0, dataset)\n",
    "    print(\"Initial statistical parity: \", spd_0)\n",
    "\n",
    "    tpr_parity_0 = computeFairness(y_pred_test, X_test_orig, y_test, 1, dataset)\n",
    "    print(\"Initial TPR parity: \", tpr_parity_0)\n",
    "\n",
    "    predictive_parity_0 = computeFairness(y_pred_test, X_test_orig, y_test, 2, dataset)\n",
    "    print(\"Initial predictive parity: \", predictive_parity_0)\n",
    "\n",
    "    loss_0 = logistic_loss(y_test, y_pred_test)\n",
    "    print(\"Initial loss: \", loss_0)\n",
    "\n",
    "    accuracy_0 = computeAccuracy(y_test, y_pred_test)\n",
    "    print(\"Initial accuracy: \", accuracy_0)"
   ]
  },
  {
   "cell_type": "code",
   "execution_count": 45,
   "metadata": {
    "ExecuteTime": {
     "end_time": "2022-08-24T07:11:04.604680Z",
     "start_time": "2022-08-24T07:11:04.355338Z"
    },
    "code_folding": [],
    "hidden": true
   },
   "outputs": [
    {
     "name": "stdout",
     "output_type": "stream",
     "text": [
      "Initial statistical parity:  -0.3247737720477214\n",
      "Initial accuracy:  0.8483628240550232\n"
     ]
    }
   ],
   "source": [
    "if indicator:\n",
    "    y_pred_train = clf.predict_proba(X_train_sampled)\n",
    "\n",
    "    spd_0 = computeFairness(y_pred_train, X_train_orig_sampled, y_train_sampled, 0, dataset)\n",
    "    print(\"Initial statistical parity: \", spd_0)\n",
    "\n",
    "    accuracy_0 = computeAccuracy(y_train_sampled, y_pred_train)\n",
    "    print(\"Initial accuracy: \", accuracy_0)"
   ]
  },
  {
   "cell_type": "code",
   "execution_count": 46,
   "metadata": {
    "ExecuteTime": {
     "end_time": "2022-08-24T07:11:04.608030Z",
     "start_time": "2022-08-24T07:11:04.606082Z"
    },
    "code_folding": [],
    "hidden": true
   },
   "outputs": [],
   "source": [
    "if indicator:\n",
    "    sens_attr = 'race'\n",
    "    parent_1 = 'DI'\n",
    "    parent_2 = 'race'\n",
    "    parent_3 = 'race'"
   ]
  },
  {
   "cell_type": "markdown",
   "metadata": {
    "hidden": true
   },
   "source": [
    "**Bound**"
   ]
  },
  {
   "cell_type": "code",
   "execution_count": 47,
   "metadata": {
    "ExecuteTime": {
     "end_time": "2022-08-24T07:11:05.182814Z",
     "start_time": "2022-08-24T07:11:04.609316Z"
    },
    "code_folding": [],
    "hidden": true,
    "scrolled": true
   },
   "outputs": [
    {
     "name": "stdout",
     "output_type": "stream",
     "text": [
      "BF:  0.2161150605396911\n",
      "AF:  0.21509849161722372\n",
      "Upper Bound: 0.34967291355133057\n",
      "Lower Bound: 0.004272520542144775\n"
     ]
    }
   ],
   "source": [
    "if indicator:\n",
    "    record_statistics(clf, record=False)"
   ]
  },
  {
   "cell_type": "markdown",
   "metadata": {
    "heading_collapsed": true,
    "hidden": true
   },
   "source": [
    "### Adult scenario 1: make collider to be the child of relationship and gender (try to use sampling to eliminate the correlation between them on the training set)"
   ]
  },
  {
   "cell_type": "code",
   "execution_count": 48,
   "metadata": {
    "ExecuteTime": {
     "end_time": "2022-08-24T07:11:05.187008Z",
     "start_time": "2022-08-24T07:11:05.184174Z"
    },
    "hidden": true
   },
   "outputs": [],
   "source": [
    "indicator = ((dataset=='adult') and (scenario==1))"
   ]
  },
  {
   "cell_type": "code",
   "execution_count": 49,
   "metadata": {
    "ExecuteTime": {
     "end_time": "2022-08-24T07:11:05.191181Z",
     "start_time": "2022-08-24T07:11:05.188385Z"
    },
    "code_folding": [
     0
    ],
    "hidden": true
   },
   "outputs": [],
   "source": [
    "if indicator:\n",
    "    plt.figure(figsize=(4, 4))\n",
    "    plt.ylabel('Num. of points')\n",
    "    plt.hist(X_train_orig.relationship[X_train_orig.gender==0], label='female', alpha=0.5, range=(0, 1))\n",
    "    plt.hist(X_train_orig.relationship[X_train_orig.gender==1], label='male', alpha=0.5, range=(0, 1))\n",
    "    plt.xticks([0, 1], ['not-married', 'married'])\n",
    "    plt.legend()\n",
    "    plt.xlabel('relationship (divided by gender)')"
   ]
  },
  {
   "cell_type": "code",
   "execution_count": 50,
   "metadata": {
    "ExecuteTime": {
     "end_time": "2022-08-24T07:11:05.194261Z",
     "start_time": "2022-08-24T07:11:05.192309Z"
    },
    "code_folding": [
     0
    ],
    "hidden": true
   },
   "outputs": [],
   "source": [
    "if indicator:\n",
    "    print(np.sum(X_train_orig.relationship[X_train_orig.gender==0])/np.sum(X_train_orig.relationship[X_train_orig.gender==1]))"
   ]
  },
  {
   "cell_type": "markdown",
   "metadata": {
    "hidden": true
   },
   "source": [
    "**Pr(C=1|married,female)=1, Pr(C=1|not_married,high)=1, Pr(C=1|married,male)=0.11, Pr(C=1|not_married,low)=1**"
   ]
  },
  {
   "cell_type": "code",
   "execution_count": 51,
   "metadata": {
    "ExecuteTime": {
     "end_time": "2022-08-24T07:11:05.197325Z",
     "start_time": "2022-08-24T07:11:05.195339Z"
    },
    "code_folding": [],
    "hidden": true,
    "scrolled": false
   },
   "outputs": [],
   "source": [
    "# generate Pr(C=1|gender, income) for each training data point\n",
    "if indicator:\n",
    "    p = np.where(np.logical_and(X_train_orig.relationship, X_train_orig.gender), 0.11, 1.0)\n",
    "    plt.hist(p)\n",
    "    plt.show()"
   ]
  },
  {
   "cell_type": "markdown",
   "metadata": {
    "hidden": true
   },
   "source": [
    "**Sample based on the conditional probability**"
   ]
  },
  {
   "cell_type": "code",
   "execution_count": 52,
   "metadata": {
    "ExecuteTime": {
     "end_time": "2022-08-24T07:11:05.200683Z",
     "start_time": "2022-08-24T07:11:05.198489Z"
    },
    "code_folding": [
     0
    ],
    "hidden": true
   },
   "outputs": [],
   "source": [
    "if indicator:\n",
    "    np.random.seed(0)\n",
    "    sample_bool = np.zeros(len(X_train))\n",
    "    for idx in range(len(X_train)):\n",
    "        sample_bool[idx] = np.random.binomial(n=1, p=p[idx])  # True or False"
   ]
  },
  {
   "cell_type": "code",
   "execution_count": 53,
   "metadata": {
    "ExecuteTime": {
     "end_time": "2022-08-24T07:11:05.205090Z",
     "start_time": "2022-08-24T07:11:05.202117Z"
    },
    "code_folding": [],
    "hidden": true
   },
   "outputs": [],
   "source": [
    "if indicator:\n",
    "    X_train_orig_sampled = X_train_orig.loc[np.where(sample_bool)[0]]\n",
    "    X_train_orig_sampled = X_train_orig_sampled.reset_index(drop=True)\n",
    "    X_train_sampled = X_train[np.where(sample_bool)[0]]\n",
    "    y_train_sampled = y_train[np.where(sample_bool)[0]].reset_index(drop=True)"
   ]
  },
  {
   "cell_type": "code",
   "execution_count": 54,
   "metadata": {
    "ExecuteTime": {
     "end_time": "2022-08-24T07:11:05.209607Z",
     "start_time": "2022-08-24T07:11:05.206257Z"
    },
    "code_folding": [],
    "hidden": true
   },
   "outputs": [],
   "source": [
    "if indicator:\n",
    "    clf = LogisticRegression(input_size=X_train.shape[-1], epoch_num=3000, c=0.003)\n",
    "\n",
    "    clf.fit(X_train_sampled, y_train_sampled.to_numpy(), use_sklearn=False)\n",
    "\n",
    "    y_pred_test = clf.predict_proba(X_test)\n",
    "    y_pred_train = clf.predict_proba(X_train)\n",
    "\n",
    "    spd_0 = computeFairness(y_pred_test, X_test_orig, y_test, 0, dataset)\n",
    "    print(\"Initial statistical parity: \", spd_0)\n",
    "\n",
    "    tpr_parity_0 = computeFairness(y_pred_test, X_test_orig, y_test, 1, dataset)\n",
    "    print(\"Initial TPR parity: \", tpr_parity_0)\n",
    "\n",
    "    predictive_parity_0 = computeFairness(y_pred_test, X_test_orig, y_test, 2, dataset)\n",
    "    print(\"Initial predictive parity: \", predictive_parity_0)\n",
    "\n",
    "    loss_0 = logistic_loss(y_test, y_pred_test)\n",
    "    print(\"Initial loss: \", loss_0)\n",
    "\n",
    "    accuracy_0 = computeAccuracy(y_test, y_pred_test)\n",
    "    print(\"Initial accuracy: \", accuracy_0)"
   ]
  },
  {
   "cell_type": "code",
   "execution_count": 55,
   "metadata": {
    "ExecuteTime": {
     "end_time": "2022-08-24T07:11:05.213086Z",
     "start_time": "2022-08-24T07:11:05.210766Z"
    },
    "code_folding": [
     0
    ],
    "hidden": true
   },
   "outputs": [],
   "source": [
    "if indicator:\n",
    "    y_pred_train = clf.predict_proba(X_train_sampled)\n",
    "\n",
    "    spd_0 = computeFairness(y_pred_train, X_train_orig_sampled, y_train_sampled, 0, dataset)\n",
    "    print(\"Initial statistical parity: \", spd_0)\n",
    "\n",
    "    accuracy_0 = computeAccuracy(y_train_sampled, y_pred_train)\n",
    "    print(\"Initial accuracy: \", accuracy_0)"
   ]
  },
  {
   "cell_type": "code",
   "execution_count": 56,
   "metadata": {
    "ExecuteTime": {
     "end_time": "2022-08-24T07:11:05.216429Z",
     "start_time": "2022-08-24T07:11:05.214218Z"
    },
    "code_folding": [
     0
    ],
    "hidden": true
   },
   "outputs": [],
   "source": [
    "if indicator:\n",
    "    sens_attr = 'gender'\n",
    "    parent_1 = 'relationship'\n",
    "    parent_2 = 'gender'\n",
    "    parent_3 = 'gender'"
   ]
  },
  {
   "cell_type": "markdown",
   "metadata": {
    "hidden": true
   },
   "source": [
    "**Bound**"
   ]
  },
  {
   "cell_type": "code",
   "execution_count": 57,
   "metadata": {
    "ExecuteTime": {
     "end_time": "2022-08-24T07:11:05.222889Z",
     "start_time": "2022-08-24T07:11:05.217653Z"
    },
    "code_folding": [
     0
    ],
    "hidden": true,
    "scrolled": false
   },
   "outputs": [],
   "source": [
    "if indicator:\n",
    "    y_pred_train = clf.predict_proba(X_train_sampled)\n",
    "    spd_0 = computeFairness(clf.predict_proba(X_train_sampled), X_train_orig_sampled, y_train_sampled, 0, dataset)\n",
    "    print(\"BF: \", -spd_0)\n",
    "    y_pred_train = clf.predict_proba(X_train)\n",
    "    spd_0 = computeFairness(clf.predict_proba(X_train), X_train_orig, y_train, 0, dataset)\n",
    "    print(\"AF: \", -spd_0)\n",
    "\n",
    "    # Group the training data based on parent (sensitive attr=0)\n",
    "    protected_groups = []\n",
    "    for v in np.sort(X_train_orig_sampled[parent_1].unique()):\n",
    "        for u in np.sort(X_train_orig_sampled[parent_2].unique()):\n",
    "            idx = X_train_orig_sampled[(X_train_orig_sampled[parent_1]==v) &\\\n",
    "                                       (X_train_orig_sampled[parent_2]==u) &\\\n",
    "                                       (X_train_orig_sampled[sens_attr]==0)].index\n",
    "            if len(idx)>0:\n",
    "                protected_groups.append(idx)\n",
    "\n",
    "    score_protected_groups = []\n",
    "    for idx in protected_groups:\n",
    "        score_protected_groups.append(np.mean(clf.predict_proba(X_train_sampled)[idx]))\n",
    "\n",
    "    # Group the training data based on parent (sensitive attr=1)\n",
    "    privileged_groups = []\n",
    "    for v in np.sort(X_train_orig_sampled[parent_1].unique()):\n",
    "        for u in np.sort(X_train_orig_sampled[parent_2].unique()):\n",
    "            idx = X_train_orig_sampled[(X_train_orig_sampled[parent_1]==v) &\\\n",
    "                                       (X_train_orig_sampled[parent_2]==u) &\\\n",
    "                                       (X_train_orig_sampled[sens_attr]==1)].index\n",
    "            if len(idx)>0:\n",
    "                privileged_groups.append(idx)\n",
    "\n",
    "    score_privileged_groups = []\n",
    "    for idx in privileged_groups:\n",
    "        score_privileged_groups.append(np.mean(clf.predict_proba(X_train_sampled)[idx]))\n",
    "\n",
    "    print(f'Upper Bound: {np.max(score_privileged_groups)-np.min(score_protected_groups)}')\n",
    "    print(f'Lower Bound: {-np.max(score_protected_groups)+np.min(score_privileged_groups)}')"
   ]
  },
  {
   "cell_type": "code",
   "execution_count": null,
   "metadata": {
    "hidden": true
   },
   "outputs": [],
   "source": []
  },
  {
   "cell_type": "markdown",
   "metadata": {
    "heading_collapsed": true,
    "hidden": true
   },
   "source": [
    "### Adult scenario 4: make collider to be the child of relationship and gender (try to use sampling to increase the correlation between them on the training set)"
   ]
  },
  {
   "cell_type": "code",
   "execution_count": 58,
   "metadata": {
    "ExecuteTime": {
     "end_time": "2022-08-24T07:11:05.226583Z",
     "start_time": "2022-08-24T07:11:05.224148Z"
    },
    "hidden": true
   },
   "outputs": [],
   "source": [
    "indicator = ((dataset=='adult') and (scenario==4))"
   ]
  },
  {
   "cell_type": "code",
   "execution_count": 59,
   "metadata": {
    "ExecuteTime": {
     "end_time": "2022-08-24T07:11:05.230523Z",
     "start_time": "2022-08-24T07:11:05.227718Z"
    },
    "code_folding": [],
    "hidden": true
   },
   "outputs": [],
   "source": [
    "if indicator:\n",
    "    plt.figure(figsize=(4, 4))\n",
    "    plt.ylabel('Num. of points')\n",
    "    plt.hist(X_train_orig.relationship[X_train_orig.gender==0], label='female', alpha=0.5, range=(0, 1))\n",
    "    plt.hist(X_train_orig.relationship[X_train_orig.gender==1], label='male', alpha=0.5, range=(0, 1))\n",
    "    plt.xticks([0, 1], ['not-married', 'married'])\n",
    "    plt.legend()\n",
    "    plt.xlabel('relationship (divided by gender)')"
   ]
  },
  {
   "cell_type": "code",
   "execution_count": 60,
   "metadata": {
    "ExecuteTime": {
     "end_time": "2022-08-24T07:11:05.233780Z",
     "start_time": "2022-08-24T07:11:05.231633Z"
    },
    "code_folding": [],
    "hidden": true
   },
   "outputs": [],
   "source": [
    "if indicator:\n",
    "    print(np.sum(X_train_orig.relationship[X_train_orig.gender==0])/np.sum(X_train_orig.relationship[X_train_orig.gender==1]))"
   ]
  },
  {
   "cell_type": "code",
   "execution_count": 61,
   "metadata": {
    "ExecuteTime": {
     "end_time": "2022-08-24T07:11:05.237777Z",
     "start_time": "2022-08-24T07:11:05.234951Z"
    },
    "code_folding": [],
    "hidden": true,
    "scrolled": false
   },
   "outputs": [],
   "source": [
    "if indicator:\n",
    "    p = np.ones_like(X_train_orig.gender).astype(float)\n",
    "#     p[(X_train_orig.relationship==1)&(X_train_orig.gender==0)] = 0.5\n",
    "    p[(X_train_orig.relationship==0)&(X_train_orig.gender==1)] = 0.5\n",
    "    plt.hist(p)\n",
    "    plt.show()"
   ]
  },
  {
   "cell_type": "markdown",
   "metadata": {
    "hidden": true
   },
   "source": [
    "**Sample based on the conditional probability**"
   ]
  },
  {
   "cell_type": "code",
   "execution_count": 62,
   "metadata": {
    "ExecuteTime": {
     "end_time": "2022-08-24T07:11:05.241176Z",
     "start_time": "2022-08-24T07:11:05.238914Z"
    },
    "code_folding": [],
    "hidden": true
   },
   "outputs": [],
   "source": [
    "if indicator:\n",
    "    np.random.seed(0)\n",
    "    sample_bool = np.zeros(len(X_train))\n",
    "    for idx in range(len(X_train)):\n",
    "        sample_bool[idx] = np.random.binomial(n=1, p=p[idx])  # True or False"
   ]
  },
  {
   "cell_type": "code",
   "execution_count": 63,
   "metadata": {
    "ExecuteTime": {
     "end_time": "2022-08-24T07:11:05.244581Z",
     "start_time": "2022-08-24T07:11:05.242312Z"
    },
    "code_folding": [],
    "hidden": true
   },
   "outputs": [],
   "source": [
    "if indicator:\n",
    "    X_train_orig_sampled = X_train_orig.loc[np.where(sample_bool)[0]]\n",
    "    X_train_orig_sampled = X_train_orig_sampled.reset_index(drop=True)\n",
    "    X_train_sampled = X_train[np.where(sample_bool)[0]]\n",
    "    y_train_sampled = y_train[np.where(sample_bool)[0]].reset_index(drop=True)"
   ]
  },
  {
   "cell_type": "code",
   "execution_count": 64,
   "metadata": {
    "ExecuteTime": {
     "end_time": "2022-08-24T07:11:05.249751Z",
     "start_time": "2022-08-24T07:11:05.245724Z"
    },
    "code_folding": [],
    "hidden": true
   },
   "outputs": [],
   "source": [
    "if indicator:\n",
    "    clf = LogisticRegression(input_size=X_train.shape[-1], epoch_num=3000, c=0.003)\n",
    "\n",
    "    clf.fit(X_train_sampled, y_train_sampled.to_numpy(), use_sklearn=False)\n",
    "\n",
    "    y_pred_test = clf.predict_proba(X_test)\n",
    "    y_pred_train = clf.predict_proba(X_train)\n",
    "\n",
    "    spd_0 = computeFairness(y_pred_test, X_test_orig, y_test, 0, dataset)\n",
    "    print(\"Initial statistical parity: \", spd_0)\n",
    "\n",
    "    tpr_parity_0 = computeFairness(y_pred_test, X_test_orig, y_test, 1, dataset)\n",
    "    print(\"Initial TPR parity: \", tpr_parity_0)\n",
    "\n",
    "    predictive_parity_0 = computeFairness(y_pred_test, X_test_orig, y_test, 2, dataset)\n",
    "    print(\"Initial predictive parity: \", predictive_parity_0)\n",
    "\n",
    "    loss_0 = logistic_loss(y_test, y_pred_test)\n",
    "    print(\"Initial loss: \", loss_0)\n",
    "\n",
    "    accuracy_0 = computeAccuracy(y_test, y_pred_test)\n",
    "    print(\"Initial accuracy: \", accuracy_0)"
   ]
  },
  {
   "cell_type": "code",
   "execution_count": 65,
   "metadata": {
    "ExecuteTime": {
     "end_time": "2022-08-24T07:11:05.253881Z",
     "start_time": "2022-08-24T07:11:05.251333Z"
    },
    "code_folding": [
     0
    ],
    "hidden": true
   },
   "outputs": [],
   "source": [
    "if indicator:\n",
    "    y_pred_train = clf.predict_proba(X_train_sampled)\n",
    "\n",
    "    spd_0 = computeFairness(y_pred_train, X_train_orig_sampled, y_train_sampled, 0, dataset)\n",
    "    print(\"Initial statistical parity: \", spd_0)\n",
    "\n",
    "    accuracy_0 = computeAccuracy(y_train_sampled, y_pred_train)\n",
    "    print(\"Initial accuracy: \", accuracy_0)"
   ]
  },
  {
   "cell_type": "code",
   "execution_count": 66,
   "metadata": {
    "ExecuteTime": {
     "end_time": "2022-08-24T07:11:05.256751Z",
     "start_time": "2022-08-24T07:11:05.255035Z"
    },
    "code_folding": [
     0
    ],
    "hidden": true
   },
   "outputs": [],
   "source": [
    "if indicator:\n",
    "    sens_attr = 'gender'\n",
    "    parent_1 = 'relationship'\n",
    "    parent_2 = 'gender'\n",
    "    parent_3 = 'gender'"
   ]
  },
  {
   "cell_type": "markdown",
   "metadata": {
    "hidden": true
   },
   "source": [
    "**Bound**"
   ]
  },
  {
   "cell_type": "code",
   "execution_count": 67,
   "metadata": {
    "ExecuteTime": {
     "end_time": "2022-08-24T07:11:05.263151Z",
     "start_time": "2022-08-24T07:11:05.257957Z"
    },
    "code_folding": [
     0
    ],
    "hidden": true,
    "scrolled": false
   },
   "outputs": [],
   "source": [
    "if indicator:\n",
    "    y_pred_train = clf.predict_proba(X_train_sampled)\n",
    "    spd_0 = computeFairness(clf.predict_proba(X_train_sampled), X_train_orig_sampled, y_train_sampled, 0, dataset)\n",
    "    print(\"BF: \", -spd_0)\n",
    "    y_pred_train = clf.predict_proba(X_train)\n",
    "    spd_0 = computeFairness(clf.predict_proba(X_train), X_train_orig, y_train, 0, dataset)\n",
    "    print(\"AF: \", -spd_0)\n",
    "\n",
    "    # Group the training data based on parent (sensitive attr=0)\n",
    "    protected_groups = []\n",
    "    for v in np.sort(X_train_orig_sampled[parent_1].unique()):\n",
    "        for u in np.sort(X_train_orig_sampled[parent_2].unique()):\n",
    "            idx = X_train_orig_sampled[(X_train_orig_sampled[parent_1]==v) &\\\n",
    "                                       (X_train_orig_sampled[parent_2]==u) &\\\n",
    "                                       (X_train_orig_sampled[sens_attr]==0)].index\n",
    "            if len(idx)>0:\n",
    "                protected_groups.append(idx)\n",
    "\n",
    "    score_protected_groups = []\n",
    "    for idx in protected_groups:\n",
    "        score_protected_groups.append(np.mean(clf.predict_proba(X_train_sampled)[idx]))\n",
    "\n",
    "    # Group the training data based on parent (sensitive attr=1)\n",
    "    privileged_groups = []\n",
    "    for v in np.sort(X_train_orig_sampled[parent_1].unique()):\n",
    "        for u in np.sort(X_train_orig_sampled[parent_2].unique()):\n",
    "            idx = X_train_orig_sampled[(X_train_orig_sampled[parent_1]==v) &\\\n",
    "                                       (X_train_orig_sampled[parent_2]==u) &\\\n",
    "                                       (X_train_orig_sampled[sens_attr]==1)].index\n",
    "            if len(idx)>0:\n",
    "                privileged_groups.append(idx)\n",
    "\n",
    "    score_privileged_groups = []\n",
    "    for idx in privileged_groups:\n",
    "        score_privileged_groups.append(np.mean(clf.predict_proba(X_train_sampled)[idx]))\n",
    "\n",
    "    print(f'Upper Bound: {np.max(score_privileged_groups)-np.min(score_protected_groups)}')\n",
    "    print(f'Lower Bound: {-np.max(score_protected_groups)+np.min(score_privileged_groups)}')"
   ]
  },
  {
   "cell_type": "code",
   "execution_count": null,
   "metadata": {
    "hidden": true
   },
   "outputs": [],
   "source": []
  },
  {
   "cell_type": "markdown",
   "metadata": {
    "heading_collapsed": true,
    "hidden": true
   },
   "source": [
    "### Adult scenario 2: make collider to be the child of relationship and education (try to use sampling to increase the correlation between gender and label on the training set)"
   ]
  },
  {
   "cell_type": "code",
   "execution_count": 68,
   "metadata": {
    "ExecuteTime": {
     "end_time": "2022-08-24T07:11:05.274819Z",
     "start_time": "2022-08-24T07:11:05.273110Z"
    },
    "hidden": true
   },
   "outputs": [],
   "source": [
    "indicator = ((dataset=='adult') and (scenario==2))"
   ]
  },
  {
   "cell_type": "code",
   "execution_count": 69,
   "metadata": {
    "ExecuteTime": {
     "end_time": "2022-08-24T07:11:05.281728Z",
     "start_time": "2022-08-24T07:11:05.279149Z"
    },
    "code_folding": [],
    "hidden": true
   },
   "outputs": [],
   "source": [
    "if indicator:\n",
    "    plt.figure(figsize=(4, 4))\n",
    "    plt.ylabel('Num. of points')\n",
    "    plt.hist(X_train_orig.education[X_train_orig.relationship==0], label='not-married', alpha=0.5, range=(0, 3))\n",
    "    plt.hist(X_train_orig.education[X_train_orig.relationship==1], label='married', alpha=0.5, range=(0, 3))\n",
    "    plt.xticks(range(4))\n",
    "    plt.legend()\n",
    "    plt.xlabel('hours (divided by relationship)')"
   ]
  },
  {
   "cell_type": "markdown",
   "metadata": {
    "hidden": true
   },
   "source": [
    "**Pr(C=1|married,female)=1, Pr(C=1|not_married,high)=1, Pr(C=1|married,male)=0.11, Pr(C=1|not_married,low)=1**"
   ]
  },
  {
   "cell_type": "code",
   "execution_count": 70,
   "metadata": {
    "ExecuteTime": {
     "end_time": "2022-08-24T07:11:05.286988Z",
     "start_time": "2022-08-24T07:11:05.283136Z"
    },
    "code_folding": [],
    "hidden": true,
    "scrolled": false
   },
   "outputs": [],
   "source": [
    "# generate Pr(C=1|gender, income) for each training data point\n",
    "if indicator:\n",
    "    p = np.ones_like(X_train_orig.gender).astype(float)\n",
    "    p[(X_train_orig.relationship==1)&(X_train_orig.education==0)] = 0.2\n",
    "    p[(X_train_orig.relationship==1)&(X_train_orig.education==1)] = 0.4\n",
    "    p[(X_train_orig.relationship==1)&(X_train_orig.education==2)] = 0.6\n",
    "    p[(X_train_orig.relationship==0)&(X_train_orig.education==1)] = 0.6\n",
    "    p[(X_train_orig.relationship==0)&(X_train_orig.education==2)] = 0.4\n",
    "    p[(X_train_orig.relationship==0)&(X_train_orig.education==3)] = 0.2\n",
    "    plt.hist(p, bins=10)\n",
    "    plt.show()"
   ]
  },
  {
   "cell_type": "markdown",
   "metadata": {
    "hidden": true
   },
   "source": [
    "**Sample based on the conditional probability**"
   ]
  },
  {
   "cell_type": "code",
   "execution_count": 71,
   "metadata": {
    "ExecuteTime": {
     "end_time": "2022-08-24T07:11:05.290353Z",
     "start_time": "2022-08-24T07:11:05.288059Z"
    },
    "code_folding": [],
    "hidden": true
   },
   "outputs": [],
   "source": [
    "if indicator:\n",
    "    np.random.seed(0)\n",
    "    sample_bool = np.zeros(len(X_train))\n",
    "    for idx in range(len(X_train)):\n",
    "        sample_bool[idx] = np.random.binomial(n=1, p=p[idx])  # True or False"
   ]
  },
  {
   "cell_type": "code",
   "execution_count": 72,
   "metadata": {
    "ExecuteTime": {
     "end_time": "2022-08-24T07:11:05.293820Z",
     "start_time": "2022-08-24T07:11:05.291461Z"
    },
    "code_folding": [],
    "hidden": true
   },
   "outputs": [],
   "source": [
    "if indicator:\n",
    "    X_train_orig_sampled = X_train_orig.loc[np.where(sample_bool)[0]]\n",
    "    X_train_orig_sampled = X_train_orig_sampled.reset_index(drop=True)\n",
    "    X_train_sampled = X_train[np.where(sample_bool)[0]]\n",
    "    y_train_sampled = y_train[np.where(sample_bool)[0]].reset_index(drop=True)"
   ]
  },
  {
   "cell_type": "code",
   "execution_count": 73,
   "metadata": {
    "ExecuteTime": {
     "end_time": "2022-08-24T07:11:05.298140Z",
     "start_time": "2022-08-24T07:11:05.294848Z"
    },
    "code_folding": [],
    "hidden": true
   },
   "outputs": [],
   "source": [
    "if indicator:\n",
    "    clf = LogisticRegression(input_size=X_train.shape[-1], epoch_num=3000, c=0.003)\n",
    "\n",
    "    clf.fit(X_train_sampled, y_train_sampled.to_numpy(), use_sklearn=False)\n",
    "\n",
    "    y_pred_test = clf.predict_proba(X_test)\n",
    "    y_pred_train = clf.predict_proba(X_train)\n",
    "\n",
    "    spd_0 = computeFairness(y_pred_test, X_test_orig, y_test, 0, dataset)\n",
    "    print(\"Initial statistical parity: \", spd_0)\n",
    "\n",
    "    tpr_parity_0 = computeFairness(y_pred_test, X_test_orig, y_test, 1, dataset)\n",
    "    print(\"Initial TPR parity: \", tpr_parity_0)\n",
    "\n",
    "    predictive_parity_0 = computeFairness(y_pred_test, X_test_orig, y_test, 2, dataset)\n",
    "    print(\"Initial predictive parity: \", predictive_parity_0)\n",
    "\n",
    "    loss_0 = logistic_loss(y_test, y_pred_test)\n",
    "    print(\"Initial loss: \", loss_0)\n",
    "\n",
    "    accuracy_0 = computeAccuracy(y_test, y_pred_test)\n",
    "    print(\"Initial accuracy: \", accuracy_0)"
   ]
  },
  {
   "cell_type": "code",
   "execution_count": 74,
   "metadata": {
    "ExecuteTime": {
     "end_time": "2022-08-24T07:11:05.302262Z",
     "start_time": "2022-08-24T07:11:05.299436Z"
    },
    "code_folding": [
     0
    ],
    "hidden": true
   },
   "outputs": [],
   "source": [
    "if indicator:\n",
    "    y_pred_train = clf.predict_proba(X_train_sampled)\n",
    "\n",
    "    spd_0 = computeFairness(y_pred_train, X_train_orig_sampled, y_train_sampled, 0, dataset)\n",
    "    print(\"Initial statistical parity: \", spd_0)\n",
    "\n",
    "    accuracy_0 = computeAccuracy(y_train_sampled, y_pred_train)\n",
    "    print(\"Initial accuracy: \", accuracy_0)"
   ]
  },
  {
   "cell_type": "code",
   "execution_count": 75,
   "metadata": {
    "ExecuteTime": {
     "end_time": "2022-08-24T07:11:05.305607Z",
     "start_time": "2022-08-24T07:11:05.303588Z"
    },
    "code_folding": [],
    "hidden": true
   },
   "outputs": [],
   "source": [
    "if indicator:\n",
    "    sens_attr = 'gender'\n",
    "    parent_1 = 'relationship'\n",
    "    parent_2 = 'education'\n",
    "    parent_3 = 'relationship'"
   ]
  },
  {
   "cell_type": "markdown",
   "metadata": {
    "hidden": true
   },
   "source": [
    "**Bound**"
   ]
  },
  {
   "cell_type": "code",
   "execution_count": 76,
   "metadata": {
    "ExecuteTime": {
     "end_time": "2022-08-24T07:11:05.308773Z",
     "start_time": "2022-08-24T07:11:05.306892Z"
    },
    "code_folding": [],
    "hidden": true,
    "scrolled": false
   },
   "outputs": [],
   "source": [
    "if indicator:\n",
    "    record_statistics(clf, record=False)"
   ]
  },
  {
   "cell_type": "markdown",
   "metadata": {
    "heading_collapsed": true,
    "hidden": true
   },
   "source": [
    "### Adult scenario 3: make collider to be the child of relationship and label (try to use sampling to increase the correlation between gender and label on the training set)"
   ]
  },
  {
   "cell_type": "code",
   "execution_count": 77,
   "metadata": {
    "ExecuteTime": {
     "end_time": "2022-08-24T07:11:05.311641Z",
     "start_time": "2022-08-24T07:11:05.309899Z"
    },
    "hidden": true
   },
   "outputs": [],
   "source": [
    "indicator = ((dataset=='adult') and (scenario==3))"
   ]
  },
  {
   "cell_type": "code",
   "execution_count": 78,
   "metadata": {
    "ExecuteTime": {
     "end_time": "2022-08-24T07:11:05.315353Z",
     "start_time": "2022-08-24T07:11:05.312681Z"
    },
    "code_folding": [],
    "hidden": true
   },
   "outputs": [],
   "source": [
    "if indicator:\n",
    "    plt.figure(figsize=(4, 4))\n",
    "    plt.ylabel('Num. of points')\n",
    "    plt.hist(y_train[X_train_orig.relationship==0], label='not-married', alpha=0.5, range=(0, 1))\n",
    "    plt.hist(y_train[X_train_orig.relationship==1], label='married', alpha=0.5, range=(0, 1))\n",
    "    plt.xticks(range(2))\n",
    "    plt.legend()\n",
    "    plt.xlabel('label (divided by relationship)')"
   ]
  },
  {
   "cell_type": "markdown",
   "metadata": {
    "hidden": true
   },
   "source": [
    "**Pr(C=1|married,female)=1, Pr(C=1|not_married,high)=1, Pr(C=1|married,male)=0.11, Pr(C=1|not_married,low)=1**"
   ]
  },
  {
   "cell_type": "code",
   "execution_count": 79,
   "metadata": {
    "ExecuteTime": {
     "end_time": "2022-08-24T07:11:05.319654Z",
     "start_time": "2022-08-24T07:11:05.316557Z"
    },
    "code_folding": [],
    "hidden": true,
    "scrolled": false
   },
   "outputs": [],
   "source": [
    "# generate Pr(C=1|gender, income) for each training data point\n",
    "if indicator:\n",
    "    p = np.ones_like(X_train_orig.gender).astype(float)\n",
    "    p[(X_train_orig.relationship==1)&(y_train==0)] = 0.2\n",
    "    p[(X_train_orig.relationship==0)&(y_train==1)] = 0.2\n",
    "    plt.hist(p, bins=10)\n",
    "    plt.show()"
   ]
  },
  {
   "cell_type": "markdown",
   "metadata": {
    "hidden": true
   },
   "source": [
    "**Sample based on the conditional probability**"
   ]
  },
  {
   "cell_type": "code",
   "execution_count": 80,
   "metadata": {
    "ExecuteTime": {
     "end_time": "2022-08-24T07:11:05.323386Z",
     "start_time": "2022-08-24T07:11:05.320921Z"
    },
    "code_folding": [],
    "hidden": true
   },
   "outputs": [],
   "source": [
    "if indicator:\n",
    "    np.random.seed(0)\n",
    "    sample_bool = np.zeros(len(X_train))\n",
    "    for idx in range(len(X_train)):\n",
    "        sample_bool[idx] = np.random.binomial(n=1, p=p[idx])  # True or False"
   ]
  },
  {
   "cell_type": "code",
   "execution_count": 81,
   "metadata": {
    "ExecuteTime": {
     "end_time": "2022-08-24T07:11:05.326761Z",
     "start_time": "2022-08-24T07:11:05.324549Z"
    },
    "code_folding": [],
    "hidden": true
   },
   "outputs": [],
   "source": [
    "if indicator:\n",
    "    X_train_orig_sampled = X_train_orig.loc[np.where(sample_bool)[0]]\n",
    "    X_train_orig_sampled = X_train_orig_sampled.reset_index(drop=True)\n",
    "    X_train_sampled = X_train[np.where(sample_bool)[0]]\n",
    "    y_train_sampled = y_train[np.where(sample_bool)[0]].reset_index(drop=True)"
   ]
  },
  {
   "cell_type": "code",
   "execution_count": 82,
   "metadata": {
    "ExecuteTime": {
     "end_time": "2022-08-24T07:11:05.331099Z",
     "start_time": "2022-08-24T07:11:05.327866Z"
    },
    "code_folding": [],
    "hidden": true
   },
   "outputs": [],
   "source": [
    "if indicator:\n",
    "    clf = LogisticRegression(input_size=X_train.shape[-1], epoch_num=3000, c=0.003)\n",
    "\n",
    "    clf.fit(X_train_sampled, y_train_sampled.to_numpy(), use_sklearn=False)\n",
    "\n",
    "    y_pred_test = clf.predict_proba(X_test)\n",
    "    y_pred_train = clf.predict_proba(X_train)\n",
    "\n",
    "    spd_0 = computeFairness(y_pred_test, X_test_orig, y_test, 0, dataset)\n",
    "    print(\"Initial statistical parity: \", spd_0)\n",
    "\n",
    "    tpr_parity_0 = computeFairness(y_pred_test, X_test_orig, y_test, 1, dataset)\n",
    "    print(\"Initial TPR parity: \", tpr_parity_0)\n",
    "\n",
    "    predictive_parity_0 = computeFairness(y_pred_test, X_test_orig, y_test, 2, dataset)\n",
    "    print(\"Initial predictive parity: \", predictive_parity_0)\n",
    "\n",
    "    loss_0 = logistic_loss(y_test, y_pred_test)\n",
    "    print(\"Initial loss: \", loss_0)\n",
    "\n",
    "    accuracy_0 = computeAccuracy(y_test, y_pred_test)\n",
    "    print(\"Initial accuracy: \", accuracy_0)"
   ]
  },
  {
   "cell_type": "code",
   "execution_count": 83,
   "metadata": {
    "ExecuteTime": {
     "end_time": "2022-08-24T07:11:05.334904Z",
     "start_time": "2022-08-24T07:11:05.332434Z"
    },
    "code_folding": [
     0
    ],
    "hidden": true
   },
   "outputs": [],
   "source": [
    "if indicator:\n",
    "    y_pred_train = clf.predict_proba(X_train_sampled)\n",
    "\n",
    "    spd_0 = computeFairness(y_pred_train, X_train_orig_sampled, y_train_sampled, 0, dataset)\n",
    "    print(\"Initial statistical parity: \", spd_0)\n",
    "\n",
    "    accuracy_0 = computeAccuracy(y_train_sampled, y_pred_train)\n",
    "    print(\"Initial accuracy: \", accuracy_0)"
   ]
  },
  {
   "cell_type": "code",
   "execution_count": 84,
   "metadata": {
    "ExecuteTime": {
     "end_time": "2022-08-24T07:11:05.338616Z",
     "start_time": "2022-08-24T07:11:05.336649Z"
    },
    "code_folding": [],
    "hidden": true
   },
   "outputs": [],
   "source": [
    "if indicator:\n",
    "    sens_attr = 'gender'\n",
    "    parent_1 = 'relationship'\n",
    "    parent_2 = 'y'\n",
    "    parent_3 = 'relationship'"
   ]
  },
  {
   "cell_type": "markdown",
   "metadata": {
    "hidden": true
   },
   "source": [
    "**Bound**"
   ]
  },
  {
   "cell_type": "code",
   "execution_count": 85,
   "metadata": {
    "ExecuteTime": {
     "end_time": "2022-08-24T07:11:05.341521Z",
     "start_time": "2022-08-24T07:11:05.339779Z"
    },
    "code_folding": [],
    "hidden": true,
    "scrolled": false
   },
   "outputs": [],
   "source": [
    "if indicator:\n",
    "    record_statistics(clf, record=False)"
   ]
  },
  {
   "cell_type": "code",
   "execution_count": null,
   "metadata": {
    "hidden": true
   },
   "outputs": [],
   "source": []
  },
  {
   "cell_type": "markdown",
   "metadata": {
    "heading_collapsed": true,
    "hidden": true
   },
   "source": [
    "### Law scenario 1: make collider to be the child of relationship and gender (try to use sampling to eliminate the correlation between them on the training set)"
   ]
  },
  {
   "cell_type": "code",
   "execution_count": 86,
   "metadata": {
    "ExecuteTime": {
     "end_time": "2022-08-24T07:11:05.344566Z",
     "start_time": "2022-08-24T07:11:05.342780Z"
    },
    "hidden": true
   },
   "outputs": [],
   "source": [
    "indicator = ((dataset=='law') and (scenario==1))"
   ]
  },
  {
   "cell_type": "code",
   "execution_count": 87,
   "metadata": {
    "ExecuteTime": {
     "end_time": "2022-08-24T07:11:05.350418Z",
     "start_time": "2022-08-24T07:11:05.345780Z"
    },
    "code_folding": [
     0
    ],
    "hidden": true
   },
   "outputs": [],
   "source": [
    "if indicator:\n",
    "    plt.figure(figsize=(4, 4))\n",
    "    plt.ylabel('Num. of points')\n",
    "    numerators = []\n",
    "    denominators = []\n",
    "    ratios = []\n",
    "    for u in range(2):\n",
    "        for v in range(2):\n",
    "            numerator = len(X_train_orig[(X_train_orig.racetxt==1)&(X_train_orig.decile3==u)&(X_train_orig.lsat==v)].index)\n",
    "            denominator = len(X_train_orig[(X_train_orig.racetxt==0)&(X_train_orig.decile3==u)&(X_train_orig.lsat==v)].index)\n",
    "            numerators.append(numerator)\n",
    "            denominators.append(denominator)\n",
    "            ratio = numerator/denominator\n",
    "            ratios.append(ratio)\n",
    "\n",
    "    plt.bar(range(4), numerators, alpha=0.5, label='white')\n",
    "    plt.bar(range(4), denominators, alpha=0.5, label='non-white')\n",
    "    plt.xticks(range(4), [round(r, 2) for r in ratios])\n",
    "    plt.legend()\n",
    "    plt.xlabel('decile3+lsat (divided by race)')"
   ]
  },
  {
   "cell_type": "code",
   "execution_count": 88,
   "metadata": {
    "ExecuteTime": {
     "end_time": "2022-08-24T07:11:05.354978Z",
     "start_time": "2022-08-24T07:11:05.351731Z"
    },
    "code_folding": [],
    "hidden": true,
    "scrolled": false
   },
   "outputs": [],
   "source": [
    "# generate Pr(C=1|race, decile3, lsat) for each training data point\n",
    "if indicator:\n",
    "    p = np.ones_like(X_train_orig.racetxt).astype(float)\n",
    "    p[(X_train_orig.racetxt==0)&(X_train_orig.decile3==0)&(X_train_orig.lsat==0)] = ratios[0]/ratios[2]\n",
    "    p[(X_train_orig.racetxt==1)&(X_train_orig.decile3==0)&(X_train_orig.lsat==1)] = ratios[2]/ratios[1]\n",
    "    p[(X_train_orig.racetxt==1)&(X_train_orig.decile3==1)&(X_train_orig.lsat==1)] = ratios[2]/ratios[3]\n",
    "    plt.hist(p, bins=10)\n",
    "    plt.show()"
   ]
  },
  {
   "cell_type": "markdown",
   "metadata": {
    "hidden": true
   },
   "source": [
    "**Sample based on the conditional probability**"
   ]
  },
  {
   "cell_type": "code",
   "execution_count": 89,
   "metadata": {
    "ExecuteTime": {
     "end_time": "2022-08-24T07:11:05.358727Z",
     "start_time": "2022-08-24T07:11:05.356128Z"
    },
    "code_folding": [
     0
    ],
    "hidden": true
   },
   "outputs": [],
   "source": [
    "if indicator:\n",
    "    np.random.seed(0)\n",
    "    sample_bool = np.zeros(len(X_train))\n",
    "    for idx in range(len(X_train)):\n",
    "        sample_bool[idx] = np.random.binomial(n=1, p=p[idx])  # True or False"
   ]
  },
  {
   "cell_type": "code",
   "execution_count": 90,
   "metadata": {
    "ExecuteTime": {
     "end_time": "2022-08-24T07:11:05.362093Z",
     "start_time": "2022-08-24T07:11:05.359859Z"
    },
    "code_folding": [
     0
    ],
    "hidden": true
   },
   "outputs": [],
   "source": [
    "if indicator:\n",
    "    X_train_orig_sampled = X_train_orig.loc[np.where(sample_bool)[0]]\n",
    "    X_train_orig_sampled = X_train_orig_sampled.reset_index(drop=True)\n",
    "    X_train_sampled = X_train[np.where(sample_bool)[0]]\n",
    "    y_train_sampled = y_train[np.where(sample_bool)[0]].reset_index(drop=True)"
   ]
  },
  {
   "cell_type": "code",
   "execution_count": 91,
   "metadata": {
    "ExecuteTime": {
     "end_time": "2022-08-24T07:11:05.366662Z",
     "start_time": "2022-08-24T07:11:05.363169Z"
    },
    "code_folding": [
     0
    ],
    "hidden": true
   },
   "outputs": [],
   "source": [
    "if indicator:\n",
    "    clf = LogisticRegression(input_size=X_train.shape[-1], epoch_num=3000, c=0.003)\n",
    "\n",
    "    clf.fit(X_train_sampled, y_train_sampled)\n",
    "\n",
    "    y_pred_test = clf.predict_proba(X_test)\n",
    "    y_pred_train = clf.predict_proba(X_train)\n",
    "\n",
    "    spd_0 = computeFairness(y_pred_test, X_test_orig, y_test, 0, dataset)\n",
    "    print(\"Initial statistical parity: \", spd_0)\n",
    "\n",
    "    tpr_parity_0 = computeFairness(y_pred_test, X_test_orig, y_test, 1, dataset)\n",
    "    print(\"Initial TPR parity: \", tpr_parity_0)\n",
    "\n",
    "    predictive_parity_0 = computeFairness(y_pred_test, X_test_orig, y_test, 2, dataset)\n",
    "    print(\"Initial predictive parity: \", predictive_parity_0)\n",
    "\n",
    "    loss_0 = logistic_loss(y_test, y_pred_test)\n",
    "    print(\"Initial loss: \", loss_0)\n",
    "\n",
    "    accuracy_0 = computeAccuracy(y_test, y_pred_test)\n",
    "    print(\"Initial accuracy: \", accuracy_0)"
   ]
  },
  {
   "cell_type": "code",
   "execution_count": 92,
   "metadata": {
    "ExecuteTime": {
     "end_time": "2022-08-24T07:11:05.370829Z",
     "start_time": "2022-08-24T07:11:05.367899Z"
    },
    "code_folding": [
     0
    ],
    "hidden": true
   },
   "outputs": [],
   "source": [
    "if indicator:\n",
    "    y_pred_train = clf.predict_proba(X_train_sampled)\n",
    "\n",
    "    spd_0 = computeFairness(y_pred_train, X_train_orig_sampled, y_train_sampled, 0, dataset)\n",
    "    print(\"Initial statistical parity: \", spd_0)\n",
    "\n",
    "    accuracy_0 = computeAccuracy(y_train_sampled, y_pred_train)\n",
    "    print(\"Initial accuracy: \", accuracy_0)"
   ]
  },
  {
   "cell_type": "code",
   "execution_count": 93,
   "metadata": {
    "ExecuteTime": {
     "end_time": "2022-08-24T07:11:05.374142Z",
     "start_time": "2022-08-24T07:11:05.372029Z"
    },
    "code_folding": [
     0
    ],
    "hidden": true
   },
   "outputs": [],
   "source": [
    "if indicator:\n",
    "    sens_attr = 'racetxt'\n",
    "    parent_1 = 'decile3'\n",
    "    parent_2 = 'lsat'\n",
    "    parent_3 = 'racetxt'"
   ]
  },
  {
   "cell_type": "markdown",
   "metadata": {
    "hidden": true
   },
   "source": [
    "**Bound**"
   ]
  },
  {
   "cell_type": "code",
   "execution_count": 94,
   "metadata": {
    "ExecuteTime": {
     "end_time": "2022-08-24T07:11:05.380486Z",
     "start_time": "2022-08-24T07:11:05.375280Z"
    },
    "code_folding": [
     0
    ],
    "hidden": true,
    "scrolled": false
   },
   "outputs": [],
   "source": [
    "if indicator:\n",
    "    y_pred_train = clf.predict_proba(X_train_sampled)\n",
    "    spd_0 = computeFairness(clf.predict_proba(X_train_sampled), X_train_orig_sampled, y_train_sampled, 0, dataset)\n",
    "    print(\"BF: \", -spd_0)\n",
    "    y_pred_train = clf.predict_proba(X_train)\n",
    "    spd_0 = computeFairness(clf.predict_proba(X_train), X_train_orig, y_train, 0, dataset)\n",
    "    print(\"AF: \", -spd_0)\n",
    "\n",
    "    # Group the training data based on parent (sensitive attr=0)\n",
    "    protected_groups = []\n",
    "    for v in np.sort(X_train_orig_sampled[parent_1].unique()):\n",
    "        for u in np.sort(X_train_orig_sampled[parent_2].unique()):\n",
    "            idx = X_train_orig_sampled[(X_train_orig_sampled[parent_1]==v) &\\\n",
    "                                       (X_train_orig_sampled[parent_2]==u) &\\\n",
    "                                       (X_train_orig_sampled[sens_attr]==0)].index\n",
    "            if len(idx)>0:\n",
    "                protected_groups.append(idx)\n",
    "\n",
    "    score_protected_groups = []\n",
    "    for idx in protected_groups:\n",
    "        score_protected_groups.append(np.mean(clf.predict_proba(X_train_sampled)[idx]))\n",
    "\n",
    "    # Group the training data based on parent (sensitive attr=1)\n",
    "    privileged_groups = []\n",
    "    for v in np.sort(X_train_orig_sampled[parent_1].unique()):\n",
    "        for u in np.sort(X_train_orig_sampled[parent_2].unique()):\n",
    "            idx = X_train_orig_sampled[(X_train_orig_sampled[parent_1]==v) &\\\n",
    "                                       (X_train_orig_sampled[parent_2]==u) &\\\n",
    "                                       (X_train_orig_sampled[sens_attr]==1)].index\n",
    "            if len(idx)>0:\n",
    "                privileged_groups.append(idx)\n",
    "\n",
    "    score_privileged_groups = []\n",
    "    for idx in privileged_groups:\n",
    "        score_privileged_groups.append(np.mean(clf.predict_proba(X_train_sampled)[idx]))\n",
    "\n",
    "    print(f'Upper Bound: {np.max(score_privileged_groups)-np.min(score_protected_groups)}')\n",
    "    print(f'Lower Bound: {-np.max(score_protected_groups)+np.min(score_privileged_groups)}')"
   ]
  },
  {
   "cell_type": "markdown",
   "metadata": {
    "heading_collapsed": true,
    "hidden": true
   },
   "source": [
    "### Law scenario 2: make collider to be the child of lsat and decile3 (try to use sampling to increase the correlation between label and race on the training set)"
   ]
  },
  {
   "cell_type": "code",
   "execution_count": 95,
   "metadata": {
    "ExecuteTime": {
     "end_time": "2022-08-24T07:11:05.383618Z",
     "start_time": "2022-08-24T07:11:05.381825Z"
    },
    "hidden": true
   },
   "outputs": [],
   "source": [
    "indicator = ((dataset=='law') and (scenario==2))"
   ]
  },
  {
   "cell_type": "code",
   "execution_count": 96,
   "metadata": {
    "ExecuteTime": {
     "end_time": "2022-08-24T07:11:05.389690Z",
     "start_time": "2022-08-24T07:11:05.385853Z"
    },
    "code_folding": [
     0
    ],
    "hidden": true
   },
   "outputs": [],
   "source": [
    "if indicator:\n",
    "    plt.figure(figsize=(4, 4))\n",
    "    plt.ylabel('Num. of points')\n",
    "    numerators = []\n",
    "    denominators = []\n",
    "    ratios = []\n",
    "    for u in range(2):\n",
    "        numerator = len(X_train_orig[(X_train_orig.decile3==u)&(X_train_orig.lsat==0)].index)\n",
    "        denominator = len(X_train_orig[(X_train_orig.decile3==u)&(X_train_orig.lsat==1)].index)\n",
    "        numerators.append(numerator)\n",
    "        denominators.append(denominator)\n",
    "        ratio = numerator/denominator\n",
    "        ratios.append(ratio)\n",
    "\n",
    "    plt.bar(range(2), numerators, alpha=0.5, label='low lsat')\n",
    "    plt.bar(range(2), denominators, alpha=0.5, label='high lsat')\n",
    "    plt.xticks(range(2), [round(r, 2) for r in ratios])\n",
    "    plt.legend()\n",
    "    plt.xlabel('decile3 (divided by lsat)')"
   ]
  },
  {
   "cell_type": "code",
   "execution_count": 97,
   "metadata": {
    "ExecuteTime": {
     "end_time": "2022-08-24T07:11:05.393613Z",
     "start_time": "2022-08-24T07:11:05.391054Z"
    },
    "code_folding": [
     1
    ],
    "hidden": true,
    "scrolled": false
   },
   "outputs": [],
   "source": [
    "# generate Pr(C=1|race, decile3, lsat) for each training data point\n",
    "if indicator:\n",
    "    p = np.ones_like(X_train_orig.racetxt).astype(float)\n",
    "    p[(X_train_orig.lsat==1)&(X_train_orig.decile3==0)] = 0.1\n",
    "    p[(X_train_orig.lsat==0)&(X_train_orig.decile3==1)] = 0.3\n",
    "    plt.hist(p, bins=10)\n",
    "    plt.show()"
   ]
  },
  {
   "cell_type": "markdown",
   "metadata": {
    "hidden": true
   },
   "source": [
    "**Sample based on the conditional probability**"
   ]
  },
  {
   "cell_type": "code",
   "execution_count": 98,
   "metadata": {
    "ExecuteTime": {
     "end_time": "2022-08-24T07:11:05.397134Z",
     "start_time": "2022-08-24T07:11:05.394773Z"
    },
    "code_folding": [],
    "hidden": true
   },
   "outputs": [],
   "source": [
    "if indicator:\n",
    "    np.random.seed(0)\n",
    "    sample_bool = np.zeros(len(X_train))\n",
    "    for idx in range(len(X_train)):\n",
    "        sample_bool[idx] = np.random.binomial(n=1, p=p[idx])  # True or False"
   ]
  },
  {
   "cell_type": "code",
   "execution_count": 99,
   "metadata": {
    "ExecuteTime": {
     "end_time": "2022-08-24T07:11:05.400851Z",
     "start_time": "2022-08-24T07:11:05.398313Z"
    },
    "hidden": true
   },
   "outputs": [],
   "source": [
    "if indicator:\n",
    "    X_train_orig_sampled = X_train_orig.loc[np.where(sample_bool)[0]]\n",
    "    X_train_orig_sampled = X_train_orig_sampled.reset_index(drop=True)\n",
    "    X_train_sampled = X_train[np.where(sample_bool)[0]]\n",
    "    y_train_sampled = y_train[np.where(sample_bool)[0]].reset_index(drop=True)"
   ]
  },
  {
   "cell_type": "code",
   "execution_count": 100,
   "metadata": {
    "ExecuteTime": {
     "end_time": "2022-08-24T07:11:05.406524Z",
     "start_time": "2022-08-24T07:11:05.402715Z"
    },
    "hidden": true
   },
   "outputs": [],
   "source": [
    "if indicator:\n",
    "    plt.figure(figsize=(4, 4))\n",
    "    plt.ylabel('Num. of points')\n",
    "    numerators = []\n",
    "    denominators = []\n",
    "    ratios = []\n",
    "    for u in range(2):\n",
    "        numerator = len(X_train_orig_sampled[(X_train_orig_sampled.decile3==u)&(X_train_orig_sampled.lsat==0)].index)\n",
    "        denominator = len(X_train_orig_sampled[(X_train_orig_sampled.decile3==u)&(X_train_orig_sampled.lsat==1)].index)\n",
    "        numerators.append(numerator)\n",
    "        denominators.append(denominator)\n",
    "        ratio = numerator/denominator\n",
    "        ratios.append(ratio)\n",
    "\n",
    "    plt.bar(range(2), numerators, alpha=0.5, label='low lsat')\n",
    "    plt.bar(range(2), denominators, alpha=0.5, label='high lsat')\n",
    "    plt.xticks(range(2), [round(r, 2) for r in ratios])\n",
    "    plt.legend()\n",
    "    plt.xlabel('decile3 (divided by lsat)')"
   ]
  },
  {
   "cell_type": "code",
   "execution_count": 101,
   "metadata": {
    "ExecuteTime": {
     "end_time": "2022-08-24T07:11:05.410924Z",
     "start_time": "2022-08-24T07:11:05.407670Z"
    },
    "code_folding": [
     0
    ],
    "hidden": true
   },
   "outputs": [],
   "source": [
    "if indicator:\n",
    "    clf = LogisticRegression(input_size=X_train.shape[-1], epoch_num=3000, c=0.003)\n",
    "\n",
    "    clf.fit(X_train_sampled, y_train_sampled)\n",
    "\n",
    "    y_pred_test = clf.predict_proba(X_test)\n",
    "    y_pred_train = clf.predict_proba(X_train)\n",
    "\n",
    "    spd_0 = computeFairness(y_pred_test, X_test_orig, y_test, 0, dataset)\n",
    "    print(\"Initial statistical parity: \", spd_0)\n",
    "\n",
    "    tpr_parity_0 = computeFairness(y_pred_test, X_test_orig, y_test, 1, dataset)\n",
    "    print(\"Initial TPR parity: \", tpr_parity_0)\n",
    "\n",
    "    predictive_parity_0 = computeFairness(y_pred_test, X_test_orig, y_test, 2, dataset)\n",
    "    print(\"Initial predictive parity: \", predictive_parity_0)\n",
    "\n",
    "    loss_0 = logistic_loss(y_test, y_pred_test)\n",
    "    print(\"Initial loss: \", loss_0)\n",
    "\n",
    "    accuracy_0 = computeAccuracy(y_test, y_pred_test)\n",
    "    print(\"Initial accuracy: \", accuracy_0)"
   ]
  },
  {
   "cell_type": "code",
   "execution_count": 102,
   "metadata": {
    "ExecuteTime": {
     "end_time": "2022-08-24T07:11:05.414298Z",
     "start_time": "2022-08-24T07:11:05.412046Z"
    },
    "code_folding": [
     0
    ],
    "hidden": true
   },
   "outputs": [],
   "source": [
    "if indicator:\n",
    "    y_pred_train = clf.predict_proba(X_train_sampled)\n",
    "\n",
    "    spd_0 = computeFairness(y_pred_train, X_train_orig_sampled, y_train_sampled, 0, dataset)\n",
    "    print(\"Initial statistical parity: \", spd_0)\n",
    "\n",
    "    accuracy_0 = computeAccuracy(y_train_sampled, y_pred_train)\n",
    "    print(\"Initial accuracy: \", accuracy_0)"
   ]
  },
  {
   "cell_type": "code",
   "execution_count": 103,
   "metadata": {
    "ExecuteTime": {
     "end_time": "2022-08-24T07:11:05.417395Z",
     "start_time": "2022-08-24T07:11:05.415451Z"
    },
    "code_folding": [
     0
    ],
    "hidden": true
   },
   "outputs": [],
   "source": [
    "if indicator:\n",
    "    sens_attr = 'racetxt'\n",
    "    parent_1 = 'decile3'\n",
    "    parent_2 = 'lsat'\n",
    "    parent_3 = 'lsat'"
   ]
  },
  {
   "cell_type": "markdown",
   "metadata": {
    "hidden": true
   },
   "source": [
    "**Bound**"
   ]
  },
  {
   "cell_type": "code",
   "execution_count": 104,
   "metadata": {
    "ExecuteTime": {
     "end_time": "2022-08-24T07:11:05.424658Z",
     "start_time": "2022-08-24T07:11:05.419399Z"
    },
    "code_folding": [
     0
    ],
    "hidden": true,
    "scrolled": true
   },
   "outputs": [],
   "source": [
    "if indicator:\n",
    "    y_pred_train = clf.predict_proba(X_train_sampled)\n",
    "    spd_0 = computeFairness(clf.predict_proba(X_train_sampled), X_train_orig_sampled, y_train_sampled, 0, dataset)\n",
    "    print(\"BF: \", -spd_0)\n",
    "    y_pred_train = clf.predict_proba(X_train)\n",
    "    spd_0 = computeFairness(clf.predict_proba(X_train), X_train_orig, y_train, 0, dataset)\n",
    "    print(\"AF: \", -spd_0)\n",
    "\n",
    "    # Group the training data based on parent (sensitive attr=0)\n",
    "    protected_groups = []\n",
    "    for v in np.sort(X_train_orig_sampled[parent_1].unique()):\n",
    "        for u in np.sort(X_train_orig_sampled[parent_2].unique()):\n",
    "            idx = X_train_orig_sampled[(X_train_orig_sampled[parent_1]==v) &\\\n",
    "                                       (X_train_orig_sampled[parent_2]==u) &\\\n",
    "                                       (X_train_orig_sampled[sens_attr]==0)].index\n",
    "            if len(idx)>0:\n",
    "                protected_groups.append(idx)\n",
    "\n",
    "    score_protected_groups = []\n",
    "    for idx in protected_groups:\n",
    "        score_protected_groups.append(np.mean(clf.predict_proba(X_train_sampled)[idx]))\n",
    "\n",
    "    # Group the training data based on parent (sensitive attr=1)\n",
    "    privileged_groups = []\n",
    "    for v in np.sort(X_train_orig_sampled[parent_1].unique()):\n",
    "        for u in np.sort(X_train_orig_sampled[parent_2].unique()):\n",
    "            idx = X_train_orig_sampled[(X_train_orig_sampled[parent_1]==v) &\\\n",
    "                                       (X_train_orig_sampled[parent_2]==u) &\\\n",
    "                                       (X_train_orig_sampled[sens_attr]==1)].index\n",
    "            if len(idx)>0:\n",
    "                privileged_groups.append(idx)\n",
    "\n",
    "    score_privileged_groups = []\n",
    "    for idx in privileged_groups:\n",
    "        score_privileged_groups.append(np.mean(clf.predict_proba(X_train_sampled)[idx]))\n",
    "\n",
    "    print(f'Upper Bound: {np.max(score_privileged_groups)-np.min(score_protected_groups)}')\n",
    "    print(f'Lower Bound: {-np.max(score_protected_groups)+np.min(score_privileged_groups)}')"
   ]
  },
  {
   "cell_type": "code",
   "execution_count": null,
   "metadata": {
    "hidden": true
   },
   "outputs": [],
   "source": []
  },
  {
   "cell_type": "markdown",
   "metadata": {
    "heading_collapsed": true,
    "hidden": true
   },
   "source": [
    "### Law scenario 3: make collider to be the child of lsat and label (try to use sampling to increase the correlation between label and race on the training set)"
   ]
  },
  {
   "cell_type": "code",
   "execution_count": 105,
   "metadata": {
    "ExecuteTime": {
     "end_time": "2022-08-24T07:11:05.427630Z",
     "start_time": "2022-08-24T07:11:05.425795Z"
    },
    "hidden": true
   },
   "outputs": [],
   "source": [
    "indicator = ((dataset=='law') and (scenario==3))"
   ]
  },
  {
   "cell_type": "code",
   "execution_count": 106,
   "metadata": {
    "ExecuteTime": {
     "end_time": "2022-08-24T07:11:05.432839Z",
     "start_time": "2022-08-24T07:11:05.428910Z"
    },
    "code_folding": [],
    "hidden": true
   },
   "outputs": [],
   "source": [
    "if indicator:\n",
    "    plt.figure(figsize=(4, 4))\n",
    "    plt.ylabel('Num. of points')\n",
    "    numerators = []\n",
    "    denominators = []\n",
    "    ratios = []\n",
    "    for u in range(2):\n",
    "        numerator = len(X_train_orig[(y_train==u)&(X_train_orig.lsat==0)].index)\n",
    "        denominator = len(X_train_orig[(y_train==u)&(X_train_orig.lsat==1)].index)\n",
    "        numerators.append(numerator)\n",
    "        denominators.append(denominator)\n",
    "        ratio = numerator/denominator\n",
    "        ratios.append(ratio)\n",
    "\n",
    "    plt.bar(range(2), numerators, alpha=0.5, label='low lsat')\n",
    "    plt.bar(range(2), denominators, alpha=0.5, label='high lsat')\n",
    "    plt.xticks(range(2), [round(r, 2) for r in ratios])\n",
    "    plt.legend()\n",
    "    plt.xlabel('label (divided by lsat)')"
   ]
  },
  {
   "cell_type": "code",
   "execution_count": 107,
   "metadata": {
    "ExecuteTime": {
     "end_time": "2022-08-24T07:11:05.437288Z",
     "start_time": "2022-08-24T07:11:05.434091Z"
    },
    "code_folding": [],
    "hidden": true,
    "scrolled": false
   },
   "outputs": [],
   "source": [
    "if indicator:\n",
    "    p = np.ones_like(X_train_orig.racetxt).astype(float)\n",
    "    p[(X_train_orig.lsat==1)&(y_train==0)] = 0.3\n",
    "    p[(X_train_orig.lsat==0)&(y_train==1)] = 0.1\n",
    "    plt.hist(p, bins=10)\n",
    "    plt.show()"
   ]
  },
  {
   "cell_type": "markdown",
   "metadata": {
    "hidden": true
   },
   "source": [
    "**Sample based on the conditional probability**"
   ]
  },
  {
   "cell_type": "code",
   "execution_count": 108,
   "metadata": {
    "ExecuteTime": {
     "end_time": "2022-08-24T07:11:05.441189Z",
     "start_time": "2022-08-24T07:11:05.438491Z"
    },
    "code_folding": [],
    "hidden": true
   },
   "outputs": [],
   "source": [
    "if indicator:\n",
    "    np.random.seed(0)\n",
    "    sample_bool = np.zeros(len(X_train))\n",
    "    for idx in range(len(X_train)):\n",
    "        sample_bool[idx] = np.random.binomial(n=1, p=p[idx])  # True or False"
   ]
  },
  {
   "cell_type": "code",
   "execution_count": 109,
   "metadata": {
    "ExecuteTime": {
     "end_time": "2022-08-24T07:11:05.444935Z",
     "start_time": "2022-08-24T07:11:05.442368Z"
    },
    "hidden": true
   },
   "outputs": [],
   "source": [
    "if indicator:\n",
    "    X_train_orig_sampled = X_train_orig.loc[np.where(sample_bool)[0]]\n",
    "    X_train_orig_sampled = X_train_orig_sampled.reset_index(drop=True)\n",
    "    X_train_sampled = X_train[np.where(sample_bool)[0]]\n",
    "    y_train_sampled = y_train[np.where(sample_bool)[0]].reset_index(drop=True)"
   ]
  },
  {
   "cell_type": "code",
   "execution_count": 110,
   "metadata": {
    "ExecuteTime": {
     "end_time": "2022-08-24T07:11:05.450104Z",
     "start_time": "2022-08-24T07:11:05.446128Z"
    },
    "hidden": true
   },
   "outputs": [],
   "source": [
    "if indicator:\n",
    "    plt.figure(figsize=(4, 4))\n",
    "    plt.ylabel('Num. of points')\n",
    "    numerators = []\n",
    "    denominators = []\n",
    "    ratios = []\n",
    "    for u in range(2):\n",
    "        numerator = len(X_train_orig_sampled[(X_train_orig_sampled.decile3==u)&(X_train_orig_sampled.lsat==0)].index)\n",
    "        denominator = len(X_train_orig_sampled[(X_train_orig_sampled.decile3==u)&(X_train_orig_sampled.lsat==1)].index)\n",
    "        numerators.append(numerator)\n",
    "        denominators.append(denominator)\n",
    "        ratio = numerator/denominator\n",
    "        ratios.append(ratio)\n",
    "\n",
    "    plt.bar(range(2), numerators, alpha=0.5, label='low lsat')\n",
    "    plt.bar(range(2), denominators, alpha=0.5, label='high lsat')\n",
    "    plt.xticks(range(2), [round(r, 2) for r in ratios])\n",
    "    plt.legend()\n",
    "    plt.xlabel('decile3 (divided by lsat)')"
   ]
  },
  {
   "cell_type": "code",
   "execution_count": 111,
   "metadata": {
    "ExecuteTime": {
     "end_time": "2022-08-24T07:11:05.455503Z",
     "start_time": "2022-08-24T07:11:05.451532Z"
    },
    "code_folding": [
     0
    ],
    "hidden": true
   },
   "outputs": [],
   "source": [
    "if indicator:\n",
    "    clf = LogisticRegression(input_size=X_train.shape[-1], epoch_num=3000, c=0.003)\n",
    "\n",
    "    clf.fit(X_train_sampled, y_train_sampled)\n",
    "\n",
    "    y_pred_test = clf.predict_proba(X_test)\n",
    "    y_pred_train = clf.predict_proba(X_train)\n",
    "\n",
    "    spd_0 = computeFairness(y_pred_test, X_test_orig, y_test, 0, dataset)\n",
    "    print(\"Initial statistical parity: \", spd_0)\n",
    "\n",
    "    tpr_parity_0 = computeFairness(y_pred_test, X_test_orig, y_test, 1, dataset)\n",
    "    print(\"Initial TPR parity: \", tpr_parity_0)\n",
    "\n",
    "    predictive_parity_0 = computeFairness(y_pred_test, X_test_orig, y_test, 2, dataset)\n",
    "    print(\"Initial predictive parity: \", predictive_parity_0)\n",
    "\n",
    "    loss_0 = logistic_loss(y_test, y_pred_test)\n",
    "    print(\"Initial loss: \", loss_0)\n",
    "\n",
    "    accuracy_0 = computeAccuracy(y_test, y_pred_test)\n",
    "    print(\"Initial accuracy: \", accuracy_0)"
   ]
  },
  {
   "cell_type": "code",
   "execution_count": 112,
   "metadata": {
    "ExecuteTime": {
     "end_time": "2022-08-24T07:11:05.458975Z",
     "start_time": "2022-08-24T07:11:05.456718Z"
    },
    "code_folding": [
     0
    ],
    "hidden": true
   },
   "outputs": [],
   "source": [
    "if indicator:\n",
    "    y_pred_train = clf.predict_proba(X_train_sampled)\n",
    "\n",
    "    spd_0 = computeFairness(y_pred_train, X_train_orig_sampled, y_train_sampled, 0, dataset)\n",
    "    print(\"Initial statistical parity: \", spd_0)\n",
    "\n",
    "    accuracy_0 = computeAccuracy(y_train_sampled, y_pred_train)\n",
    "    print(\"Initial accuracy: \", accuracy_0)"
   ]
  },
  {
   "cell_type": "code",
   "execution_count": 113,
   "metadata": {
    "ExecuteTime": {
     "end_time": "2022-08-24T07:11:05.462041Z",
     "start_time": "2022-08-24T07:11:05.460130Z"
    },
    "code_folding": [],
    "hidden": true
   },
   "outputs": [],
   "source": [
    "if indicator:\n",
    "    sens_attr = 'racetxt'\n",
    "    parent_1 = 'lsat'\n",
    "    parent_2 = 'lsat'\n",
    "    parent_3 = 'y'"
   ]
  },
  {
   "cell_type": "markdown",
   "metadata": {
    "hidden": true
   },
   "source": [
    "**Bound**"
   ]
  },
  {
   "cell_type": "code",
   "execution_count": 114,
   "metadata": {
    "ExecuteTime": {
     "end_time": "2022-08-24T07:11:05.469099Z",
     "start_time": "2022-08-24T07:11:05.463201Z"
    },
    "code_folding": [
     0
    ],
    "hidden": true,
    "scrolled": true
   },
   "outputs": [],
   "source": [
    "if indicator:\n",
    "    y_pred_train = clf.predict_proba(X_train_sampled)\n",
    "    spd_0 = computeFairness(clf.predict_proba(X_train_sampled), X_train_orig_sampled, y_train_sampled, 0, dataset)\n",
    "    print(\"BF: \", -spd_0)\n",
    "    y_pred_train = clf.predict_proba(X_train)\n",
    "    spd_0 = computeFairness(clf.predict_proba(X_train), X_train_orig, y_train, 0, dataset)\n",
    "    print(\"AF: \", -spd_0)\n",
    "\n",
    "    # Group the training data based on parent (sensitive attr=0)\n",
    "    protected_groups = []\n",
    "    for v in np.sort(X_train_orig_sampled[parent_1].unique()):\n",
    "        for u in np.sort(X_train_orig_sampled[parent_2].unique()):\n",
    "            idx = X_train_orig_sampled[(X_train_orig_sampled[parent_1]==v) &\\\n",
    "                                       (X_train_orig_sampled[parent_2]==u) &\\\n",
    "                                       (X_train_orig_sampled[sens_attr]==0)].index\n",
    "            if len(idx)>0:\n",
    "                protected_groups.append(idx)\n",
    "\n",
    "    score_protected_groups = []\n",
    "    for idx in protected_groups:\n",
    "        score_protected_groups.append(np.mean(clf.predict_proba(X_train_sampled)[idx]))\n",
    "\n",
    "    # Group the training data based on parent (sensitive attr=1)\n",
    "    privileged_groups = []\n",
    "    for v in np.sort(X_train_orig_sampled[parent_1].unique()):\n",
    "        for u in np.sort(X_train_orig_sampled[parent_2].unique()):\n",
    "            idx = X_train_orig_sampled[(X_train_orig_sampled[parent_1]==v) &\\\n",
    "                                       (X_train_orig_sampled[parent_2]==u) &\\\n",
    "                                       (X_train_orig_sampled[sens_attr]==1)].index\n",
    "            if len(idx)>0:\n",
    "                privileged_groups.append(idx)\n",
    "\n",
    "    score_privileged_groups = []\n",
    "    for idx in privileged_groups:\n",
    "        score_privileged_groups.append(np.mean(clf.predict_proba(X_train_sampled)[idx]))\n",
    "\n",
    "    print(f'Upper Bound: {np.max(score_privileged_groups)-np.min(score_protected_groups)}')\n",
    "    print(f'Lower Bound: {-np.max(score_protected_groups)+np.min(score_privileged_groups)}')"
   ]
  },
  {
   "cell_type": "code",
   "execution_count": null,
   "metadata": {
    "hidden": true
   },
   "outputs": [],
   "source": []
  },
  {
   "cell_type": "code",
   "execution_count": null,
   "metadata": {
    "hidden": true
   },
   "outputs": [],
   "source": []
  },
  {
   "cell_type": "markdown",
   "metadata": {
    "heading_collapsed": true
   },
   "source": [
    "## Regularizer"
   ]
  },
  {
   "cell_type": "code",
   "execution_count": 115,
   "metadata": {
    "ExecuteTime": {
     "end_time": "2022-08-24T07:11:05.472457Z",
     "start_time": "2022-08-24T07:11:05.470548Z"
    },
    "hidden": true
   },
   "outputs": [],
   "source": [
    "BFs = []\n",
    "AFs = []\n",
    "ubs = []\n",
    "lbs = []\n",
    "accs = []"
   ]
  },
  {
   "cell_type": "markdown",
   "metadata": {
    "hidden": true
   },
   "source": [
    "### Prepare Validation Set"
   ]
  },
  {
   "cell_type": "code",
   "execution_count": 116,
   "metadata": {
    "ExecuteTime": {
     "end_time": "2022-08-24T07:11:05.478071Z",
     "start_time": "2022-08-24T07:11:05.473566Z"
    },
    "hidden": true
   },
   "outputs": [],
   "source": [
    "X_train_orig_sampled, X_val_orig_sampled, y_train_sampled, y_val_sampled = \\\n",
    "    train_test_split(X_train_orig_sampled, y_train_sampled, test_size=0.25, random_state=val_seed)"
   ]
  },
  {
   "cell_type": "code",
   "execution_count": 117,
   "metadata": {
    "ExecuteTime": {
     "end_time": "2022-08-24T07:11:05.488402Z",
     "start_time": "2022-08-24T07:11:05.479204Z"
    },
    "hidden": true
   },
   "outputs": [],
   "source": [
    "from sklearn.preprocessing import StandardScaler\n",
    "sc = StandardScaler()\n",
    "X_train_sampled = sc.fit_transform(X_train_orig_sampled)\n",
    "X_val_sampled = sc.transform(X_val_orig_sampled)\n",
    "X_train_orig_sampled = X_train_orig_sampled.reset_index(drop=True)\n",
    "X_val_orig_sampled = X_val_orig_sampled.reset_index(drop=True)\n",
    "y_train_sampled = y_train_sampled.reset_index(drop=True)\n",
    "y_val_sampled = y_val_sampled.reset_index(drop=True)\n",
    "X_test = sc.transform(X_test_orig)\n",
    "X_train = sc.transform(X_train_orig)"
   ]
  },
  {
   "cell_type": "markdown",
   "metadata": {
    "hidden": true
   },
   "source": [
    "### Definition"
   ]
  },
  {
   "cell_type": "code",
   "execution_count": 118,
   "metadata": {
    "ExecuteTime": {
     "end_time": "2022-08-24T07:11:05.492402Z",
     "start_time": "2022-08-24T07:11:05.489537Z"
    },
    "code_folding": [
     0
    ],
    "hidden": true
   },
   "outputs": [],
   "source": [
    "def train_clf(model, info_dict):\n",
    "    val_iter = 10\n",
    "    epoch = model.epoch_num\n",
    "    model.epoch_num = val_iter\n",
    "    val_num = epoch // val_iter\n",
    "    min_loss = 2048\n",
    "    best_model = None\n",
    "    for _ in range(val_num):\n",
    "        model.fit_info(info_dict)\n",
    "        loss = model.compute_loss(info_dict)\n",
    "        if loss < min_loss:\n",
    "            torch.save(model.state_dict(), 'best_params/best.pth')\n",
    "            min_loss = loss\n",
    "    model.load_state_dict(torch.load('best_params/best.pth'))\n",
    "    model.eval()\n",
    "    return model"
   ]
  },
  {
   "cell_type": "code",
   "execution_count": 119,
   "metadata": {
    "ExecuteTime": {
     "end_time": "2022-08-24T07:11:05.495862Z",
     "start_time": "2022-08-24T07:11:05.493604Z"
    },
    "code_folding": [
     0
    ],
    "hidden": true
   },
   "outputs": [],
   "source": [
    "def get_A_idx(x, y, A=None, A_val=None):\n",
    "    if A is None:\n",
    "        return x.index\n",
    "    elif A == 'y':\n",
    "        return y[y==A_val].index\n",
    "    else:\n",
    "        raise NotImplementedError"
   ]
  },
  {
   "cell_type": "code",
   "execution_count": 120,
   "metadata": {
    "ExecuteTime": {
     "end_time": "2022-08-24T07:11:05.499122Z",
     "start_time": "2022-08-24T07:11:05.496968Z"
    },
    "code_folding": [
     0
    ],
    "hidden": true
   },
   "outputs": [],
   "source": [
    "def get_attr(x, y, attr):\n",
    "    if attr=='y':\n",
    "        return y\n",
    "    else:\n",
    "        return x[attr]"
   ]
  },
  {
   "cell_type": "code",
   "execution_count": 121,
   "metadata": {
    "ExecuteTime": {
     "end_time": "2022-08-24T07:11:05.508260Z",
     "start_time": "2022-08-24T07:11:05.500442Z"
    },
    "code_folding": [
     0
    ],
    "hidden": true
   },
   "outputs": [],
   "source": [
    "def record_statistics(clf, record=True):\n",
    "    y_pred_train = clf.predict_proba(X_train_sampled)\n",
    "    spd_0 = computeFairness(clf.predict_proba(X_train_sampled), X_train_orig_sampled,\n",
    "                            y_train_sampled, fair_metric, dataset)\n",
    "    if record:\n",
    "        BFs.append(-spd_0)\n",
    "    print(\"BF: \", -spd_0)\n",
    "    y_pred_train = clf.predict_proba(X_train)\n",
    "    spd_0 = computeFairness(clf.predict_proba(X_train), X_train_orig, y_train,\n",
    "                            fair_metric, dataset)\n",
    "    if record:\n",
    "        AFs.append(-spd_0)\n",
    "    print(\"AF: \", -spd_0)\n",
    "\n",
    "    # Group the training data based on parent (sensitive attr=0)\n",
    "    protected_groups = []\n",
    "    for v in np.sort(get_attr(X_train_orig_sampled, y_train_sampled, parent_1).unique()):\n",
    "        for u in np.sort(get_attr(X_train_orig_sampled, y_train_sampled, parent_2).unique()):\n",
    "            for w in np.sort(get_attr(X_train_orig_sampled, y_train_sampled, parent_3).unique()):\n",
    "                idx = X_train_orig_sampled[(get_attr(X_train_orig_sampled, y_train_sampled, parent_1)==v) &\\\n",
    "                                           (get_attr(X_train_orig_sampled, y_train_sampled, parent_2)==u) &\\\n",
    "                                           (get_attr(X_train_orig_sampled, y_train_sampled, parent_3)==w) &\\\n",
    "                                           (get_attr(X_train_orig_sampled, y_train_sampled, sens_attr)==0)].index\n",
    "                idx = idx.intersection(get_A_idx(X_train_orig_sampled, y_train_sampled, A, A_val))\n",
    "                if len(idx)>0:\n",
    "                    protected_groups.append(idx)\n",
    "\n",
    "    score_protected_groups = []\n",
    "    for idx in protected_groups:\n",
    "        score_protected_groups.append(np.mean(clf.predict_proba(X_train_sampled)[idx]))\n",
    "\n",
    "    # Group the training data based on parent (sensitive attr=1)\n",
    "    privileged_groups = []\n",
    "    for v in np.sort(get_attr(X_train_orig_sampled, y_train_sampled, parent_1).unique()):\n",
    "        for u in np.sort(get_attr(X_train_orig_sampled, y_train_sampled, parent_2).unique()):\n",
    "            for w in np.sort(get_attr(X_train_orig_sampled, y_train_sampled, parent_3).unique()):\n",
    "                idx = X_train_orig_sampled[(get_attr(X_train_orig_sampled, y_train_sampled, parent_1)==v) &\\\n",
    "                                           (get_attr(X_train_orig_sampled, y_train_sampled, parent_2)==u) &\\\n",
    "                                           (get_attr(X_train_orig_sampled, y_train_sampled, parent_3)==w) &\\\n",
    "                                           (get_attr(X_train_orig_sampled, y_train_sampled, sens_attr)==1)].index\n",
    "                idx = idx.intersection(get_A_idx(X_train_orig_sampled, y_train_sampled, A, A_val))\n",
    "                if len(idx)>0:\n",
    "                    privileged_groups.append(idx)\n",
    "\n",
    "    score_privileged_groups = []\n",
    "    for idx in privileged_groups:\n",
    "        score_privileged_groups.append(np.mean(clf.predict_proba(X_train_sampled)[idx]))\n",
    "\n",
    "    ub = np.max(score_privileged_groups)-np.min(score_protected_groups)\n",
    "    lb = -np.max(score_protected_groups)+np.min(score_privileged_groups)\n",
    "\n",
    "    print(f'Upper Bound: {ub}')\n",
    "    print(f'Lower Bound: {lb}')\n",
    "\n",
    "    if record:\n",
    "        ubs.append(ub)\n",
    "        lbs.append(lb)"
   ]
  },
  {
   "cell_type": "markdown",
   "metadata": {
    "hidden": true
   },
   "source": [
    "### No Regularizer"
   ]
  },
  {
   "cell_type": "code",
   "execution_count": 122,
   "metadata": {
    "ExecuteTime": {
     "end_time": "2022-08-24T07:11:05.511676Z",
     "start_time": "2022-08-24T07:11:05.509422Z"
    },
    "hidden": true
   },
   "outputs": [],
   "source": [
    "info_dict = dict()\n",
    "info_dict['x_train'] = X_train_sampled\n",
    "info_dict['y_train'] = y_train_sampled.to_numpy()\n",
    "info_dict['x_val'] = X_val_sampled\n",
    "info_dict['y_val'] = y_val_sampled.to_numpy()"
   ]
  },
  {
   "cell_type": "code",
   "execution_count": 123,
   "metadata": {
    "ExecuteTime": {
     "end_time": "2022-08-24T07:11:09.105804Z",
     "start_time": "2022-08-24T07:11:05.512780Z"
    },
    "hidden": true
   },
   "outputs": [
    {
     "name": "stdout",
     "output_type": "stream",
     "text": [
      "Initial statistical parity:  -0.2706270531884327\n",
      "Initial TPR parity:  -0.22232522599342885\n",
      "Initial predictive parity:  -0.16873341023133714\n",
      "Initial loss:  0.42445496337544936\n",
      "Initial accuracy:  0.8172407120743034\n"
     ]
    }
   ],
   "source": [
    "clf = LogisticRegression(input_size=X_train.shape[-1], epoch_num=epoch_num, c=c)\n",
    "\n",
    "clf = train_clf(clf, info_dict=info_dict)\n",
    "\n",
    "y_pred_test = clf.predict_proba(X_test)\n",
    "y_pred_train = clf.predict_proba(X_train)\n",
    "\n",
    "spd_0 = computeFairness(y_pred_test, X_test_orig, y_test, 0, dataset)\n",
    "print(\"Initial statistical parity: \", spd_0)\n",
    "\n",
    "tpr_parity_0 = computeFairness(y_pred_test, X_test_orig, y_test, 1, dataset)\n",
    "print(\"Initial TPR parity: \", tpr_parity_0)\n",
    "\n",
    "predictive_parity_0 = computeFairness(y_pred_test, X_test_orig, y_test, 2, dataset)\n",
    "print(\"Initial predictive parity: \", predictive_parity_0)\n",
    "\n",
    "loss_0 = logistic_loss(y_test, y_pred_test)\n",
    "print(\"Initial loss: \", loss_0)\n",
    "\n",
    "accuracy_0 = computeAccuracy(y_test, y_pred_test)\n",
    "print(\"Initial accuracy: \", accuracy_0)\n",
    "accs.append(accuracy_0)"
   ]
  },
  {
   "cell_type": "code",
   "execution_count": 124,
   "metadata": {
    "ExecuteTime": {
     "end_time": "2022-08-24T07:11:09.617743Z",
     "start_time": "2022-08-24T07:11:09.107138Z"
    },
    "hidden": true
   },
   "outputs": [
    {
     "name": "stdout",
     "output_type": "stream",
     "text": [
      "BF:  0.21538866575951776\n",
      "AF:  0.21557142634275184\n",
      "Upper Bound: 0.33818840980529785\n",
      "Lower Bound: 0.018077611923217773\n"
     ]
    }
   ],
   "source": [
    "record_statistics(clf)"
   ]
  },
  {
   "cell_type": "markdown",
   "metadata": {
    "hidden": true
   },
   "source": [
    "### Bound Regularizer"
   ]
  },
  {
   "cell_type": "code",
   "execution_count": 125,
   "metadata": {
    "ExecuteTime": {
     "end_time": "2022-08-24T07:11:09.673235Z",
     "start_time": "2022-08-24T07:11:09.619108Z"
    },
    "code_folding": [
     9,
     21,
     35,
     47
    ],
    "hidden": true
   },
   "outputs": [],
   "source": [
    "info_dict = dict()\n",
    "info_dict['th'] = th\n",
    "info_dict['balance'] = 3\n",
    "info_dict['x_train'] = X_train_sampled\n",
    "info_dict['y_train'] = y_train_sampled.to_numpy()\n",
    "info_dict['x_val'] = X_val_sampled\n",
    "info_dict['y_val'] = y_val_sampled.to_numpy()\n",
    "\n",
    "protected_groups = []\n",
    "for v in np.sort(get_attr(X_train_orig_sampled, y_train_sampled, parent_1).unique()):\n",
    "    for u in np.sort(get_attr(X_train_orig_sampled, y_train_sampled, parent_2).unique()):\n",
    "        for w in np.sort(get_attr(X_train_orig_sampled, y_train_sampled, parent_3).unique()):\n",
    "            idx = X_train_orig_sampled[(get_attr(X_train_orig_sampled, y_train_sampled, parent_1)==v) &\\\n",
    "                                       (get_attr(X_train_orig_sampled, y_train_sampled, parent_2)==u) &\\\n",
    "                                       (get_attr(X_train_orig_sampled, y_train_sampled, parent_3)==w) &\\\n",
    "                                       (get_attr(X_train_orig_sampled, y_train_sampled, sens_attr)==0)].index\n",
    "            idx = idx.intersection(get_A_idx(X_train_orig_sampled, y_train_sampled, A, A_val))\n",
    "            if len(idx)>0:\n",
    "                protected_groups.append(idx)\n",
    "\n",
    "privileged_groups = []\n",
    "for v in np.sort(get_attr(X_train_orig_sampled, y_train_sampled, parent_1).unique()):\n",
    "    for u in np.sort(get_attr(X_train_orig_sampled, y_train_sampled, parent_2).unique()):\n",
    "        for w in np.sort(get_attr(X_train_orig_sampled, y_train_sampled, parent_3).unique()):\n",
    "            idx = X_train_orig_sampled[(get_attr(X_train_orig_sampled, y_train_sampled, parent_1)==v) &\\\n",
    "                                       (get_attr(X_train_orig_sampled, y_train_sampled, parent_2)==u) &\\\n",
    "                                       (get_attr(X_train_orig_sampled, y_train_sampled, parent_3)==w) &\\\n",
    "                                       (get_attr(X_train_orig_sampled, y_train_sampled, sens_attr)==1)].index\n",
    "            idx = idx.intersection(get_A_idx(X_train_orig_sampled, y_train_sampled, A, A_val))\n",
    "            if len(idx)>0:\n",
    "                privileged_groups.append(idx)\n",
    "\n",
    "info_dict['train_regularizer'] = [protected_groups, privileged_groups]\n",
    "\n",
    "protected_groups = []\n",
    "for v in np.sort(get_attr(X_train_orig_sampled, y_train_sampled, parent_1).unique()):\n",
    "    for u in np.sort(get_attr(X_train_orig_sampled, y_train_sampled, parent_2).unique()):\n",
    "        for w in np.sort(get_attr(X_train_orig_sampled, y_train_sampled, parent_3).unique()):\n",
    "            idx = X_val_orig_sampled[(get_attr(X_val_orig_sampled, y_val_sampled, parent_1)==v) &\\\n",
    "                                       (get_attr(X_val_orig_sampled, y_val_sampled, parent_2)==u) &\\\n",
    "                                       (get_attr(X_val_orig_sampled, y_val_sampled, parent_3)==w) &\\\n",
    "                                       (get_attr(X_val_orig_sampled, y_val_sampled, sens_attr)==0)].index\n",
    "            idx = idx.intersection(get_A_idx(X_val_orig_sampled, y_val_sampled, A, A_val))\n",
    "            if len(idx)>0:\n",
    "                protected_groups.append(idx)\n",
    "\n",
    "privileged_groups = []\n",
    "for v in np.sort(get_attr(X_train_orig_sampled, y_train_sampled, parent_1).unique()):\n",
    "    for u in np.sort(get_attr(X_train_orig_sampled, y_train_sampled, parent_2).unique()):\n",
    "        for w in np.sort(get_attr(X_train_orig_sampled, y_train_sampled, parent_3).unique()):\n",
    "            idx = X_val_orig_sampled[(get_attr(X_val_orig_sampled, y_val_sampled, parent_1)==v) &\\\n",
    "                                       (get_attr(X_val_orig_sampled, y_val_sampled, parent_2)==u) &\\\n",
    "                                       (get_attr(X_val_orig_sampled, y_val_sampled, parent_3)==w) &\\\n",
    "                                       (get_attr(X_val_orig_sampled, y_val_sampled, sens_attr)==1)].index\n",
    "            idx = idx.intersection(get_A_idx(X_val_orig_sampled, y_val_sampled, A, A_val))\n",
    "            if len(idx)>0:\n",
    "                privileged_groups.append(idx)\n",
    "info_dict['val_regularizer'] = [protected_groups, privileged_groups]"
   ]
  },
  {
   "cell_type": "code",
   "execution_count": 126,
   "metadata": {
    "ExecuteTime": {
     "end_time": "2022-08-24T07:11:32.923087Z",
     "start_time": "2022-08-24T07:11:09.674299Z"
    },
    "hidden": true,
    "scrolled": true
   },
   "outputs": [
    {
     "name": "stdout",
     "output_type": "stream",
     "text": [
      "Initial statistical parity:  -0.0462812949079725\n",
      "Initial TPR parity:  -0.018363869861475313\n",
      "Initial predictive parity:  -0.20737198740613616\n",
      "Initial loss:  0.45183077994817106\n",
      "Initial accuracy:  0.7963428792569659\n"
     ]
    }
   ],
   "source": [
    "clf = LogisticRegression_Reg_Bound(input_size=X_train.shape[-1], epoch_num=epoch_num, c=c)\n",
    "\n",
    "clf = train_clf(clf, info_dict)\n",
    "\n",
    "y_pred_test = clf.predict_proba(X_test)\n",
    "\n",
    "spd_0 = computeFairness(y_pred_test, X_test_orig, y_test, 0, dataset)\n",
    "print(\"Initial statistical parity: \", spd_0)\n",
    "\n",
    "tpr_parity_0 = computeFairness(y_pred_test, X_test_orig, y_test, 1, dataset)\n",
    "print(\"Initial TPR parity: \", tpr_parity_0)\n",
    "\n",
    "predictive_parity_0 = computeFairness(y_pred_test, X_test_orig, y_test, 2, dataset)\n",
    "print(\"Initial predictive parity: \", predictive_parity_0)\n",
    "\n",
    "loss_0 = logistic_loss(y_test, y_pred_test)\n",
    "print(\"Initial loss: \", loss_0)\n",
    "\n",
    "accuracy_0 = computeAccuracy(y_test, y_pred_test)\n",
    "print(\"Initial accuracy: \", accuracy_0)\n",
    "accs.append(accuracy_0)"
   ]
  },
  {
   "cell_type": "code",
   "execution_count": 127,
   "metadata": {
    "ExecuteTime": {
     "end_time": "2022-08-24T07:11:33.442692Z",
     "start_time": "2022-08-24T07:11:32.924569Z"
    },
    "hidden": true,
    "scrolled": true
   },
   "outputs": [
    {
     "name": "stdout",
     "output_type": "stream",
     "text": [
      "BF:  0.007385583776853832\n",
      "AF:  0.012920552648187145\n",
      "Upper Bound: 0.02199256420135498\n",
      "Lower Bound: -0.010255396366119385\n"
     ]
    }
   ],
   "source": [
    "record_statistics(clf)"
   ]
  },
  {
   "cell_type": "markdown",
   "metadata": {
    "hidden": true
   },
   "source": [
    "### Metric Regularizer"
   ]
  },
  {
   "cell_type": "code",
   "execution_count": 128,
   "metadata": {
    "ExecuteTime": {
     "end_time": "2022-08-24T07:11:33.452551Z",
     "start_time": "2022-08-24T07:11:33.444126Z"
    },
    "hidden": true
   },
   "outputs": [],
   "source": [
    "info_dict = dict()\n",
    "info_dict['th'] = th\n",
    "info_dict['x_train'] = X_train_sampled\n",
    "info_dict['y_train'] = y_train_sampled.to_numpy()\n",
    "info_dict['x_val'] = X_val_sampled\n",
    "info_dict['y_val'] = y_val_sampled.to_numpy()\n",
    "\n",
    "protected_idx = X_train_orig_sampled[X_train_orig_sampled[sens_attr]==0].index.intersection(get_A_idx(X_train_orig_sampled, y_train_sampled, A, A_val))\n",
    "privileged_idx = X_train_orig_sampled[X_train_orig_sampled[sens_attr]==1].index.intersection(get_A_idx(X_train_orig_sampled, y_train_sampled, A, A_val))\n",
    "info_dict['train_regularizer'] = [protected_idx, privileged_idx]\n",
    "\n",
    "protected_idx = X_val_orig_sampled[X_val_orig_sampled[sens_attr]==0].index.intersection(get_A_idx(X_val_orig_sampled, y_val_sampled, A, A_val))\n",
    "privileged_idx = X_val_orig_sampled[X_val_orig_sampled[sens_attr]==1].index.intersection(get_A_idx(X_val_orig_sampled, y_val_sampled, A, A_val))\n",
    "info_dict['val_regularizer'] = [protected_idx, privileged_idx]"
   ]
  },
  {
   "cell_type": "code",
   "execution_count": 129,
   "metadata": {
    "ExecuteTime": {
     "end_time": "2022-08-24T07:12:25.462293Z",
     "start_time": "2022-08-24T07:11:33.453744Z"
    },
    "hidden": true
   },
   "outputs": [
    {
     "name": "stdout",
     "output_type": "stream",
     "text": [
      "Initial statistical parity:  -0.039349378614665254\n",
      "Initial TPR parity:  -0.0038388390258314864\n",
      "Initial predictive parity:  -0.20214663320594262\n",
      "Initial loss:  0.4456531692528991\n",
      "Initial accuracy:  0.8147252321981424\n"
     ]
    }
   ],
   "source": [
    "clf = LogisticRegression_Reg_Metric(input_size=X_train.shape[-1], epoch_num=epoch_num, c=c)\n",
    "\n",
    "clf = train_clf(clf, info_dict)\n",
    "\n",
    "y_pred_test = clf.predict_proba(X_test)\n",
    "y_pred_train = clf.predict_proba(X_train)\n",
    "\n",
    "spd_0 = computeFairness(y_pred_test, X_test_orig, y_test, 0, dataset)\n",
    "print(\"Initial statistical parity: \", spd_0)\n",
    "\n",
    "tpr_parity_0 = computeFairness(y_pred_test, X_test_orig, y_test, 1, dataset)\n",
    "print(\"Initial TPR parity: \", tpr_parity_0)\n",
    "\n",
    "predictive_parity_0 = computeFairness(y_pred_test, X_test_orig, y_test, 2, dataset)\n",
    "print(\"Initial predictive parity: \", predictive_parity_0)\n",
    "\n",
    "loss_0 = logistic_loss(y_test, y_pred_test)\n",
    "print(\"Initial loss: \", loss_0)\n",
    "\n",
    "accuracy_0 = computeAccuracy(y_test, y_pred_test)\n",
    "print(\"Initial accuracy: \", accuracy_0)\n",
    "accs.append(accuracy_0)"
   ]
  },
  {
   "cell_type": "code",
   "execution_count": 130,
   "metadata": {
    "ExecuteTime": {
     "end_time": "2022-08-24T07:12:25.976311Z",
     "start_time": "2022-08-24T07:12:25.464089Z"
    },
    "hidden": true
   },
   "outputs": [
    {
     "name": "stdout",
     "output_type": "stream",
     "text": [
      "BF:  0.002894173505154307\n",
      "AF:  0.0010304045230561387\n",
      "Upper Bound: 0.14430737495422363\n",
      "Lower Bound: -0.19858896732330322\n"
     ]
    }
   ],
   "source": [
    "record_statistics(clf)"
   ]
  },
  {
   "cell_type": "markdown",
   "metadata": {
    "hidden": true
   },
   "source": [
    "### Weighted Metric Regularizer"
   ]
  },
  {
   "cell_type": "code",
   "execution_count": 131,
   "metadata": {
    "ExecuteTime": {
     "end_time": "2022-08-24T07:12:26.064574Z",
     "start_time": "2022-08-24T07:12:25.977695Z"
    },
    "code_folding": [
     8,
     20,
     34,
     46
    ],
    "hidden": true
   },
   "outputs": [],
   "source": [
    "info_dict = dict()\n",
    "info_dict['th'] = th\n",
    "info_dict['balance'] = 2\n",
    "info_dict['x_train'] = X_train_sampled\n",
    "info_dict['y_train'] = y_train_sampled.to_numpy()\n",
    "info_dict['x_val'] = X_val_sampled\n",
    "info_dict['y_val'] = y_val_sampled.to_numpy()\n",
    "\n",
    "protected_groups = []\n",
    "for v in np.sort(get_attr(X_train_orig_sampled, y_train_sampled, parent_1).unique()):\n",
    "    for u in np.sort(get_attr(X_train_orig_sampled, y_train_sampled, parent_2).unique()):\n",
    "        for w in np.sort(get_attr(X_train_orig_sampled, y_train_sampled, parent_3).unique()):\n",
    "            idx = X_train_orig_sampled[(get_attr(X_train_orig_sampled, y_train_sampled, parent_1)==v) &\\\n",
    "                                       (get_attr(X_train_orig_sampled, y_train_sampled, parent_2)==u) &\\\n",
    "                                       (get_attr(X_train_orig_sampled, y_train_sampled, parent_3)==w) &\\\n",
    "                                       (get_attr(X_train_orig_sampled, y_train_sampled, sens_attr)==0)].index\n",
    "            idx = idx.intersection(get_A_idx(X_train_orig_sampled, y_train_sampled, A, A_val))\n",
    "            if len(idx)>0:\n",
    "                protected_groups.append(idx)\n",
    "\n",
    "privileged_groups = []\n",
    "for v in np.sort(get_attr(X_train_orig_sampled, y_train_sampled, parent_1).unique()):\n",
    "    for u in np.sort(get_attr(X_train_orig_sampled, y_train_sampled, parent_2).unique()):\n",
    "        for w in np.sort(get_attr(X_train_orig_sampled, y_train_sampled, parent_3).unique()):\n",
    "            idx = X_train_orig_sampled[(get_attr(X_train_orig_sampled, y_train_sampled, parent_1)==v) &\\\n",
    "                                       (get_attr(X_train_orig_sampled, y_train_sampled, parent_2)==u) &\\\n",
    "                                       (get_attr(X_train_orig_sampled, y_train_sampled, parent_3)==w) &\\\n",
    "                                       (get_attr(X_train_orig_sampled, y_train_sampled, sens_attr)==1)].index\n",
    "            idx = idx.intersection(get_A_idx(X_train_orig_sampled, y_train_sampled, A, A_val))\n",
    "            if len(idx)>0:\n",
    "                privileged_groups.append(idx)\n",
    "\n",
    "info_dict['train_regularizer'] = [protected_groups, privileged_groups]\n",
    "\n",
    "protected_groups = []\n",
    "for v in np.sort(get_attr(X_train_orig_sampled, y_train_sampled, parent_1).unique()):\n",
    "    for u in np.sort(get_attr(X_train_orig_sampled, y_train_sampled, parent_2).unique()):\n",
    "        for w in np.sort(get_attr(X_train_orig_sampled, y_train_sampled, parent_3).unique()):\n",
    "            idx = X_val_orig_sampled[(get_attr(X_val_orig_sampled, y_val_sampled, parent_1)==v) &\\\n",
    "                                       (get_attr(X_val_orig_sampled, y_val_sampled, parent_2)==u) &\\\n",
    "                                       (get_attr(X_val_orig_sampled, y_val_sampled, parent_3)==w) &\\\n",
    "                                       (get_attr(X_val_orig_sampled, y_val_sampled, sens_attr)==0)].index\n",
    "            idx = idx.intersection(get_A_idx(X_val_orig_sampled, y_val_sampled, A, A_val))\n",
    "            if len(idx)>0:\n",
    "                protected_groups.append(idx)\n",
    "\n",
    "privileged_groups = []\n",
    "for v in np.sort(get_attr(X_train_orig_sampled, y_train_sampled, parent_1).unique()):\n",
    "    for u in np.sort(get_attr(X_train_orig_sampled, y_train_sampled, parent_2).unique()):\n",
    "        for w in np.sort(get_attr(X_train_orig_sampled, y_train_sampled, parent_3).unique()):\n",
    "            idx = X_val_orig_sampled[(get_attr(X_val_orig_sampled, y_val_sampled, parent_1)==v) &\\\n",
    "                                       (get_attr(X_val_orig_sampled, y_val_sampled, parent_2)==u) &\\\n",
    "                                       (get_attr(X_val_orig_sampled, y_val_sampled, parent_3)==w) &\\\n",
    "                                       (get_attr(X_val_orig_sampled, y_val_sampled, sens_attr)==1)].index\n",
    "            idx = idx.intersection(get_A_idx(X_val_orig_sampled, y_val_sampled, A, A_val))\n",
    "            if len(idx)>0:\n",
    "                privileged_groups.append(idx)\n",
    "info_dict['val_regularizer'] = [protected_groups, privileged_groups]\n",
    "\n",
    "weights = [[], []]\n",
    "for s in range(2):\n",
    "    s_idx = X_train_orig[X_train_orig[sens_attr]==s].index.intersection(get_A_idx(X_train_orig, y_train, A, A_val))\n",
    "    for v in np.sort(get_attr(X_train_orig_sampled, y_train_sampled, parent_1).unique()):\n",
    "        for u in np.sort(get_attr(X_train_orig_sampled, y_train_sampled, parent_2).unique()):\n",
    "            for w in np.sort(get_attr(X_train_orig_sampled, y_train_sampled, parent_3).unique()):\n",
    "                idx = X_train_orig[(get_attr(X_train_orig, y_train, parent_1)==v) &\\\n",
    "                                   (get_attr(X_train_orig, y_train, parent_2)==u) &\\\n",
    "                                   (get_attr(X_train_orig, y_train, parent_3)==w) &\\\n",
    "                                   (get_attr(X_train_orig, y_train, sens_attr)==s)].index\n",
    "                idx = idx.intersection(get_A_idx(X_train_orig, y_train, A, A_val))\n",
    "                if len(idx)>0:\n",
    "                    weights[s].append(len(idx)/len(s_idx))\n",
    "\n",
    "info_dict['weights'] = weights\n"
   ]
  },
  {
   "cell_type": "code",
   "execution_count": 132,
   "metadata": {
    "ExecuteTime": {
     "end_time": "2022-08-24T07:13:16.383933Z",
     "start_time": "2022-08-24T07:12:26.065796Z"
    },
    "hidden": true,
    "scrolled": true
   },
   "outputs": [
    {
     "name": "stdout",
     "output_type": "stream",
     "text": [
      "Initial statistical parity:  -0.07334542979361713\n",
      "Initial TPR parity:  -0.034290775100295434\n",
      "Initial predictive parity:  -0.19682905912148974\n",
      "Initial loss:  0.43495944929784036\n",
      "Initial accuracy:  0.8228521671826625\n"
     ]
    }
   ],
   "source": [
    "clf = LogisticRegression_Reg_WeightedMetric(input_size=X_train.shape[-1], epoch_num=epoch_num, c=c)\n",
    "\n",
    "clf = train_clf(clf, info_dict)\n",
    "\n",
    "y_pred_test = clf.predict_proba(X_test)\n",
    "y_pred_train = clf.predict_proba(X_train)\n",
    "\n",
    "spd_0 = computeFairness(y_pred_test, X_test_orig, y_test, 0, dataset)\n",
    "print(\"Initial statistical parity: \", spd_0)\n",
    "\n",
    "tpr_parity_0 = computeFairness(y_pred_test, X_test_orig, y_test, 1, dataset)\n",
    "print(\"Initial TPR parity: \", tpr_parity_0)\n",
    "\n",
    "predictive_parity_0 = computeFairness(y_pred_test, X_test_orig, y_test, 2, dataset)\n",
    "print(\"Initial predictive parity: \", predictive_parity_0)\n",
    "\n",
    "loss_0 = logistic_loss(y_test, y_pred_test)\n",
    "print(\"Initial loss: \", loss_0)\n",
    "\n",
    "accuracy_0 = computeAccuracy(y_test, y_pred_test)\n",
    "print(\"Initial accuracy: \", accuracy_0)\n",
    "accs.append(accuracy_0)"
   ]
  },
  {
   "cell_type": "code",
   "execution_count": 133,
   "metadata": {
    "ExecuteTime": {
     "end_time": "2022-08-24T07:13:16.896517Z",
     "start_time": "2022-08-24T07:13:16.385272Z"
    },
    "hidden": true,
    "scrolled": true
   },
   "outputs": [
    {
     "name": "stdout",
     "output_type": "stream",
     "text": [
      "BF:  0.031471286262445\n",
      "AF:  0.030101972948798572\n",
      "Upper Bound: 0.166850745677948\n",
      "Lower Bound: -0.16599011421203613\n"
     ]
    }
   ],
   "source": [
    "record_statistics(clf)"
   ]
  },
  {
   "cell_type": "code",
   "execution_count": null,
   "metadata": {
    "hidden": true
   },
   "outputs": [],
   "source": []
  },
  {
   "cell_type": "markdown",
   "metadata": {
    "hidden": true
   },
   "source": [
    "### Est. Weighted Metric Regularizer (limited info)"
   ]
  },
  {
   "cell_type": "code",
   "execution_count": 134,
   "metadata": {
    "ExecuteTime": {
     "end_time": "2022-08-24T07:13:16.900924Z",
     "start_time": "2022-08-24T07:13:16.898006Z"
    },
    "code_folding": [
     0
    ],
    "hidden": true
   },
   "outputs": [],
   "source": [
    "# class LogisticRegression_Reg_EstWeightedMetric(LogisticRegression):\n",
    "#     def __init__(self, input_size, learning_rate=0.005, c=0.01, epoch_num=300):\n",
    "#         torch.manual_seed(seed)\n",
    "#         super(LogisticRegression_Reg_EstWeightedMetric, self).__init__(input_size, learning_rate, c, epoch_num)\n",
    "#         self.optimizer = torch.optim.SGD(self.parameters(), lr=learning_rate, momentum=0.9)\n",
    "\n",
    "#     def fit(self, x, y, external_data_weights, regularizer=None, balance=1, th=0):\n",
    "#         '''external_data_weights corresponds to the conditional distribution: Pr(U|S,A)'''\n",
    "#         torch.manual_seed(0)\n",
    "#         x = torch.Tensor(x)\n",
    "#         y = torch.Tensor(y)\n",
    "#         self.train()\n",
    "#         for _ in range(self.epoch_num):\n",
    "#             loss = self.criterion(self, x, y)\n",
    "#             if regularizer is not None:\n",
    "#                 weighted_privileged = 0\n",
    "#                 for u_idx, u in enumerate(regularizer[1]):\n",
    "#                     weighted_privileged += external_data_weights[1][u_idx]*torch.mean(self(x[u]))\n",
    "#                 weighted_protected = 0\n",
    "#                 for u_idx, u in enumerate(regularizer[0]):\n",
    "#                     weighted_protected += external_data_weights[0][u_idx]*torch.mean(self(x[u]))\n",
    "#                 add_loss = torch.abs(weighted_privileged - weighted_protected)\n",
    "#                 loss += balance*torch.clamp(add_loss, min=th)\n",
    "#             self.optimizer.zero_grad()\n",
    "#             loss.backward()\n",
    "#             self.optimizer.step()\n",
    "        \n",
    "#     def fit_info(self, info_dict):\n",
    "#         th = info_dict['th'] # initialized with 0\n",
    "#         x, y = info_dict['x_train'], info_dict['y_train']\n",
    "#         regularizer = info_dict['train_regularizer']\n",
    "#         extl_info = info_dict['extl_info']\n",
    "#         base_clf = info_dict['base_clf']\n",
    "#         external_data_weights = self.Pr_U_SY(base_clf, extl_info)\n",
    "#         info_dict['weights'] = external_data_weights\n",
    "#         if 'balance' in info_dict.keys():\n",
    "#             balance = info_dict['balance']\n",
    "#         else:\n",
    "#             balance = 0.5\n",
    "#         self.fit(x, y, external_data_weights, regularizer, balance, th)\n",
    "        \n",
    "#     def compute_loss(self, info_dict):\n",
    "#         self.eval()\n",
    "#         th = info_dict['th'] # initialized with 0\n",
    "#         x, y = info_dict['x_val'], info_dict['y_val']\n",
    "#         regularizer = info_dict['val_regularizer']\n",
    "#         external_data_weights = info_dict['weights']\n",
    "#         loss = self.criterion(self, x, y).detach().numpy()\n",
    "#         add_loss = np.abs(self.compute_AF_est(info_dict))\n",
    "#         loss += add_loss\n",
    "#         return loss\n",
    "    \n",
    "#     def compute_AF_est(self, info_dict):\n",
    "#         self.eval()\n",
    "#         x, y = info_dict['x_val'], info_dict['y_val']\n",
    "#         regularizer = info_dict['val_regularizer']\n",
    "#         external_data_weights = info_dict['weights']\n",
    "#         weighted_privileged = 0\n",
    "#         for u_idx, u in enumerate(regularizer[1]):\n",
    "#             weighted_privileged += external_data_weights[1][u_idx]*np.mean(self.predict_proba(x[u]))\n",
    "#         weighted_protected = 0\n",
    "#         for u_idx, u in enumerate(regularizer[0]):\n",
    "#             weighted_protected += external_data_weights[0][u_idx]*np.mean(self.predict_proba(x[u]))\n",
    "#         est = weighted_privileged - weighted_protected\n",
    "#         return est\n",
    "    \n",
    "#     def Pr_U_SY(self, base_clf, ext_info):\n",
    "#         ext_idx = ext_info['idx']\n",
    "#         ext_sidx = ext_info['sidx']\n",
    "#         ext_data = ext_info['data']\n",
    "#         weights = [[], []]\n",
    "#         for u in range(len(ext_idx[0])):\n",
    "#             for s in range(2):\n",
    "#                 len_s = len(ext_sidx[s])\n",
    "#                 len_su = len(ext_data[ext_idx[s][u]])\n",
    "#                 numerator = np.sum(base_clf.predict_proba(ext_data[ext_idx[s][u]]))\n",
    "#                 Pr_Y_U = [base_clf.predict_proba(ext_data[ext_idx[s][u1]]) for u1 in range(len(ext_idx[0]))]\n",
    "#                 denominator = np.sum(np.concatenate(Pr_Y_U))\n",
    "#                 weights[s].append(numerator/denominator)\n",
    "#         return weights"
   ]
  },
  {
   "cell_type": "code",
   "execution_count": 135,
   "metadata": {
    "ExecuteTime": {
     "end_time": "2022-08-24T07:13:16.994404Z",
     "start_time": "2022-08-24T07:13:16.902148Z"
    },
    "code_folding": [
     10,
     22,
     36,
     48,
     62
    ],
    "hidden": true
   },
   "outputs": [],
   "source": [
    "info_dict = dict()\n",
    "extl_info = dict()\n",
    "info_dict['th'] = th\n",
    "info_dict['balance'] = 2\n",
    "info_dict['x_train'] = X_train_sampled\n",
    "info_dict['y_train'] = y_train_sampled.to_numpy()\n",
    "info_dict['x_val'] = X_val_sampled\n",
    "info_dict['y_val'] = y_val_sampled.to_numpy()\n",
    "\n",
    "protected_groups = []\n",
    "for v in np.sort(get_attr(X_train_orig_sampled, y_train_sampled, parent_1).unique()):\n",
    "    for u in np.sort(get_attr(X_train_orig_sampled, y_train_sampled, parent_2).unique()):\n",
    "        for w in np.sort(get_attr(X_train_orig_sampled, y_train_sampled, parent_3).unique()):\n",
    "            idx = X_train_orig_sampled[(get_attr(X_train_orig_sampled, y_train_sampled, parent_1)==v) &\\\n",
    "                                       (get_attr(X_train_orig_sampled, y_train_sampled, parent_2)==u) &\\\n",
    "                                       (get_attr(X_train_orig_sampled, y_train_sampled, parent_3)==w) &\\\n",
    "                                       (get_attr(X_train_orig_sampled, y_train_sampled, sens_attr)==0)].index\n",
    "            idx = idx.intersection(get_A_idx(X_train_orig_sampled, y_train_sampled, A, A_val))\n",
    "            if len(idx)>0:\n",
    "                protected_groups.append(idx)\n",
    "\n",
    "privileged_groups = []\n",
    "for v in np.sort(get_attr(X_train_orig_sampled, y_train_sampled, parent_1).unique()):\n",
    "    for u in np.sort(get_attr(X_train_orig_sampled, y_train_sampled, parent_2).unique()):\n",
    "        for w in np.sort(get_attr(X_train_orig_sampled, y_train_sampled, parent_3).unique()):\n",
    "            idx = X_train_orig_sampled[(get_attr(X_train_orig_sampled, y_train_sampled, parent_1)==v) &\\\n",
    "                                       (get_attr(X_train_orig_sampled, y_train_sampled, parent_2)==u) &\\\n",
    "                                       (get_attr(X_train_orig_sampled, y_train_sampled, parent_3)==w) &\\\n",
    "                                       (get_attr(X_train_orig_sampled, y_train_sampled, sens_attr)==1)].index\n",
    "            idx = idx.intersection(get_A_idx(X_train_orig_sampled, y_train_sampled, A, A_val))\n",
    "            if len(idx)>0:\n",
    "                privileged_groups.append(idx)\n",
    "\n",
    "info_dict['train_regularizer'] = [protected_groups, privileged_groups]\n",
    "\n",
    "protected_groups = []\n",
    "for v in np.sort(get_attr(X_train_orig_sampled, y_train_sampled, parent_1).unique()):\n",
    "    for u in np.sort(get_attr(X_train_orig_sampled, y_train_sampled, parent_2).unique()):\n",
    "        for w in np.sort(get_attr(X_train_orig_sampled, y_train_sampled, parent_3).unique()):\n",
    "            idx = X_val_orig_sampled[(get_attr(X_val_orig_sampled, y_val_sampled, parent_1)==v) &\\\n",
    "                                       (get_attr(X_val_orig_sampled, y_val_sampled, parent_2)==u) &\\\n",
    "                                       (get_attr(X_val_orig_sampled, y_val_sampled, parent_3)==w) &\\\n",
    "                                       (get_attr(X_val_orig_sampled, y_val_sampled, sens_attr)==0)].index\n",
    "            idx = idx.intersection(get_A_idx(X_val_orig_sampled, y_val_sampled, A, A_val))\n",
    "            if len(idx)>0:\n",
    "                protected_groups.append(idx)\n",
    "\n",
    "privileged_groups = []\n",
    "for v in np.sort(get_attr(X_train_orig_sampled, y_train_sampled, parent_1).unique()):\n",
    "    for u in np.sort(get_attr(X_train_orig_sampled, y_train_sampled, parent_2).unique()):\n",
    "        for w in np.sort(get_attr(X_train_orig_sampled, y_train_sampled, parent_3).unique()):\n",
    "            idx = X_val_orig_sampled[(get_attr(X_val_orig_sampled, y_val_sampled, parent_1)==v) &\\\n",
    "                                       (get_attr(X_val_orig_sampled, y_val_sampled, parent_2)==u) &\\\n",
    "                                       (get_attr(X_val_orig_sampled, y_val_sampled, parent_3)==w) &\\\n",
    "                                       (get_attr(X_val_orig_sampled, y_val_sampled, sens_attr)==1)].index\n",
    "            idx = idx.intersection(get_A_idx(X_val_orig_sampled, y_val_sampled, A, A_val))\n",
    "            if len(idx)>0:\n",
    "                privileged_groups.append(idx)\n",
    "info_dict['val_regularizer'] = [protected_groups, privileged_groups]\n",
    "\n",
    "extl_info['data'] = X_train\n",
    "idxs = [[], []]\n",
    "for s in range(2):\n",
    "    for v in np.sort(get_attr(X_train_orig_sampled, y_train_sampled, parent_1).unique()):\n",
    "        for u in np.sort(get_attr(X_train_orig_sampled, y_train_sampled, parent_2).unique()):\n",
    "            for w in np.sort(get_attr(X_train_orig_sampled, y_train_sampled, parent_3).unique()):\n",
    "                idx = X_train_orig_sampled[(get_attr(X_train_orig_sampled, y_train_sampled, parent_1)==v) &\\\n",
    "                                           (get_attr(X_train_orig_sampled, y_train_sampled, parent_2)==u) &\\\n",
    "                                           (get_attr(X_train_orig_sampled, y_train_sampled, parent_3)==w) &\\\n",
    "                                           (get_attr(X_train_orig_sampled, y_train_sampled, sens_attr)==s)].index\n",
    "                idx_unbiased = X_train_orig[(get_attr(X_train_orig, y_train, parent_1)==v) &\\\n",
    "                                            (get_attr(X_train_orig, y_train, parent_2)==u) &\\\n",
    "                                            (get_attr(X_train_orig, y_train, parent_3)==w) &\\\n",
    "                                            (get_attr(X_train_orig, y_train, sens_attr)==s)].index\n",
    "                idx_a = idx.intersection(get_A_idx(X_train_orig_sampled, y_train_sampled, A, A_val))\n",
    "                if len(idx_a)>0:\n",
    "                    idxs[s].append(len(idx_a)/len(idx)*len(idx_unbiased))\n",
    "\n",
    "weights = [[], []]\n",
    "for s in range(2):\n",
    "    weights[s] = [w/sum(idxs[s]) for w in idxs[s]]\n",
    "info_dict['weights'] = weights"
   ]
  },
  {
   "cell_type": "code",
   "execution_count": 136,
   "metadata": {
    "ExecuteTime": {
     "end_time": "2022-08-24T07:14:07.404957Z",
     "start_time": "2022-08-24T07:13:16.995612Z"
    },
    "hidden": true
   },
   "outputs": [
    {
     "name": "stdout",
     "output_type": "stream",
     "text": [
      "Initial statistical parity:  -0.07188037725351881\n",
      "Initial TPR parity:  -0.033037642796385325\n",
      "Initial predictive parity:  -0.1970959439949871\n",
      "Initial loss:  0.4352338955079689\n",
      "Initial accuracy:  0.8228521671826625\n"
     ]
    }
   ],
   "source": [
    "# clf = LogisticRegression_Reg_EstWeightedMetric(input_size=X_train.shape[-1], epoch_num=epoch_num, c=c)\n",
    "clf = LogisticRegression_Reg_WeightedMetric(input_size=X_train.shape[-1], epoch_num=epoch_num, c=c)\n",
    "\n",
    "clf = train_clf(clf, info_dict)\n",
    "\n",
    "y_pred_test = clf.predict_proba(X_test)\n",
    "y_pred_train = clf.predict_proba(X_train)\n",
    "\n",
    "spd_0 = computeFairness(y_pred_test, X_test_orig, y_test, 0, dataset)\n",
    "print(\"Initial statistical parity: \", spd_0)\n",
    "\n",
    "tpr_parity_0 = computeFairness(y_pred_test, X_test_orig, y_test, 1, dataset)\n",
    "print(\"Initial TPR parity: \", tpr_parity_0)\n",
    "\n",
    "predictive_parity_0 = computeFairness(y_pred_test, X_test_orig, y_test, 2, dataset)\n",
    "print(\"Initial predictive parity: \", predictive_parity_0)\n",
    "\n",
    "loss_0 = logistic_loss(y_test, y_pred_test)\n",
    "print(\"Initial loss: \", loss_0)\n",
    "\n",
    "accuracy_0 = computeAccuracy(y_test, y_pred_test)\n",
    "print(\"Initial accuracy: \", accuracy_0)\n",
    "accs.append(accuracy_0)"
   ]
  },
  {
   "cell_type": "code",
   "execution_count": 137,
   "metadata": {
    "ExecuteTime": {
     "end_time": "2022-08-24T07:14:07.915278Z",
     "start_time": "2022-08-24T07:14:07.406606Z"
    },
    "hidden": true
   },
   "outputs": [
    {
     "name": "stdout",
     "output_type": "stream",
     "text": [
      "BF:  0.030221084772750317\n",
      "AF:  0.02887549258586819\n",
      "Upper Bound: 0.1644219160079956\n",
      "Lower Bound: -0.1657124161720276\n"
     ]
    }
   ],
   "source": [
    "record_statistics(clf)"
   ]
  },
  {
   "cell_type": "markdown",
   "metadata": {
    "hidden": true
   },
   "source": [
    "### Adversarial Debiasing"
   ]
  },
  {
   "cell_type": "code",
   "execution_count": 138,
   "metadata": {
    "ExecuteTime": {
     "end_time": "2022-08-24T07:14:07.928069Z",
     "start_time": "2022-08-24T07:14:07.916696Z"
    },
    "code_folding": [
     0
    ],
    "hidden": true
   },
   "outputs": [],
   "source": [
    "class LogisticRegression_AD(LogisticRegression):\n",
    "    def __init__(self, input_size, learning_rate=0.005, adv_learning_rate=0.4, c=0.01, epoch_num=300):\n",
    "        torch.manual_seed(seed)\n",
    "        super(LogisticRegression_AD, self).__init__(input_size, learning_rate, c, epoch_num)\n",
    "#         self.c = torch.Tensor(1)\n",
    "        self.c = 1\n",
    "        self.lr2 = nn.Linear(3, 1)\n",
    "#         self.criterion_adv = torch.nn.CrossEntropyLoss()\n",
    "        self.criterion_adv = torch.nn.BCELoss()\n",
    "        self.optimizer = torch.optim.SGD(self.lr.parameters(), lr=learning_rate, momentum=0.9)\n",
    "        self.adv_optimizer = torch.optim.SGD(self.lr2.parameters(), lr=adv_learning_rate, momentum=0.9)\n",
    "        self.clf_layers = [self.lr]\n",
    "#         self.adv_layers = [self.lr2, self.c]\n",
    "        self.adv_layers = [self.lr2]\n",
    "    \n",
    "    def forward_adv(self, x, y):\n",
    "#         s = torch.nn.Sigmoid()((1+torch.abs(self.c))*self.lr(x)).ravel()\n",
    "        s = torch.nn.Sigmoid()((1+self.c)*self.lr(x)).ravel()\n",
    "        z_tilda = torch.nn.Sigmoid()(self.lr2(torch.stack([s, s*y, s*(1-y)], dim=1)))\n",
    "        return z_tilda\n",
    "    \n",
    "    def loss_adv(self, x, y, z):\n",
    "        z_tilda = self.forward_adv(x, y)\n",
    "        loss = self.criterion_adv(z_tilda, z)\n",
    "        return loss\n",
    "    \n",
    "    def fit(self, x, y, z, th=1, balance=0.5, load=True):\n",
    "        '''external_data_weights corresponds to the conditional distribution: Pr(U|S,A)'''\n",
    "        torch.manual_seed(0)\n",
    "        spds = []\n",
    "        accs = []\n",
    "        acc_advs = []\n",
    "        min_loss = 1\n",
    "        max_acc = 0\n",
    "        orig_balance = balance\n",
    "        saved_flag = False\n",
    "        x = torch.Tensor(x)\n",
    "        x.requires_grad = False\n",
    "        y = torch.Tensor(y)\n",
    "        y.requires_grad = False\n",
    "        z = torch.Tensor(z).reshape(-1, 1)\n",
    "        z.requires_grad = False\n",
    "        self.train()\n",
    "        for e in range(self.epoch_num):\n",
    "            for layer in self.clf_layers:\n",
    "                layer.requires_grad = False\n",
    "            for layer in self.adv_layers:\n",
    "                layer.requires_grad = True\n",
    "            adv_loss = self.loss_adv(x, y, z)\n",
    "            self.adv_optimizer.zero_grad()\n",
    "            adv_loss.backward()\n",
    "            self.adv_optimizer.step()\n",
    "\n",
    "            for layer in self.clf_layers:\n",
    "                layer.requires_grad = True\n",
    "            for layer in self.adv_layers:\n",
    "                layer.requires_grad = False\n",
    "            loss = self.criterion(self, x, y)-balance*self.loss_adv(x, y, z)\n",
    "            self.optimizer.zero_grad()\n",
    "            loss.backward()\n",
    "            self.optimizer.step()\n",
    "            \n",
    "            if (e%10)==0:\n",
    "                y_pred_val = self.predict_proba(X_val_sampled)\n",
    "                spd_0 = computeFairness(y_pred_val, X_val_orig_sampled, y_val_sampled, fair_metric, dataset)\n",
    "                spds.append(spd_0)\n",
    "                accuracy_0 = computeAccuracy(y_val_sampled, y_pred_val)\n",
    "                accs.append(accuracy_0)\n",
    "                if np.abs(spd_0) < min_loss:\n",
    "                    min_loss = np.abs(spd_0)\n",
    "                    torch.save(self.state_dict(), 'best_params/best.pth')\n",
    "                    saved_flag = True\n",
    "#                 if np.abs(spd_0) < th:\n",
    "#                     if accuracy_0 > max_acc:\n",
    "#                         max_acc = accuracy_0\n",
    "#                         torch.save(self.state_dict(), 'best_params/best.pth')\n",
    "#                         saved_flag = True\n",
    "#                         balance = orig_balance                        \n",
    "                \n",
    "#                 if accuracy_0 > max_acc:\n",
    "#                     max_acc = accuracy_0\n",
    "\n",
    "                zt = self.forward_adv(x, y).detach().numpy()\n",
    "                zt = np.where(zt>0.5, 1, 0).ravel()\n",
    "                acc_advs.append(np.sum(zt==z.detach().numpy().ravel())/len(zt))\n",
    "#             print(e)\n",
    "        if saved_flag and load:\n",
    "            self.load_state_dict(torch.load('best_params/best.pth'))\n",
    "        self.eval()\n",
    "        return spds, accs, acc_advs\n",
    "        \n",
    "#     def fit_info(self, info_dict):\n",
    "#         th = info_dict['th'] # initialized with 0\n",
    "#         x, y = info_dict['x_train'], info_dict['y_train']\n",
    "#         regularizer = info_dict['train_regularizer']\n",
    "#         extl_info = info_dict['extl_info']\n",
    "#         base_clf = info_dict['base_clf']\n",
    "#         external_data_weights = self.Pr_U_SY(base_clf, extl_info)\n",
    "#         info_dict['weights'] = external_data_weights\n",
    "#         if 'balance' in info_dict.keys():\n",
    "#             balance = info_dict['balance']\n",
    "#         else:\n",
    "#             balance = 0.5\n",
    "#         self.fit(x, y, external_data_weights, regularizer, balance, th)\n",
    "        \n",
    "    def compute_loss(self, info_dict):\n",
    "        self.eval()\n",
    "        th = info_dict['th'] # initialized with 0\n",
    "        x, y = info_dict['x_val'], info_dict['y_val']\n",
    "        regularizer = info_dict['val_regularizer']\n",
    "        external_data_weights = info_dict['weights']\n",
    "        loss = self.criterion(self, x, y).detach().numpy()\n",
    "        add_loss = np.abs(self.compute_AF_est(info_dict))\n",
    "        loss += add_loss\n",
    "        return loss"
   ]
  },
  {
   "cell_type": "code",
   "execution_count": 139,
   "metadata": {
    "ExecuteTime": {
     "end_time": "2022-08-24T07:14:36.259886Z",
     "start_time": "2022-08-24T07:14:07.929231Z"
    },
    "code_folding": [],
    "hidden": true
   },
   "outputs": [],
   "source": [
    "clf = LogisticRegression_AD(input_size=X_train.shape[-1], epoch_num=epoch_num, c=c,\n",
    "                            learning_rate=0.01, adv_learning_rate=0.2)\n",
    "spds, accs, acc_advs = clf.fit(X_train_sampled, y_train_sampled, X_train_orig_sampled[sens_attr],\n",
    "                               th=0.1, balance=0.4, load=True)"
   ]
  },
  {
   "cell_type": "code",
   "execution_count": 140,
   "metadata": {
    "ExecuteTime": {
     "end_time": "2022-08-24T07:14:36.649246Z",
     "start_time": "2022-08-24T07:14:36.261027Z"
    },
    "code_folding": [],
    "hidden": true
   },
   "outputs": [
    {
     "name": "stdout",
     "output_type": "stream",
     "text": [
      "Initial statistical parity:  -0.05625101864971116\n",
      "Initial TPR parity:  -0.02705647629496777\n",
      "Initial predictive parity:  -0.20375594148556142\n",
      "Initial loss:  0.4517806690071399\n",
      "Initial accuracy:  0.8227554179566563\n"
     ]
    }
   ],
   "source": [
    "y_pred_test = clf.predict_proba(X_test)\n",
    "y_pred_train = clf.predict_proba(X_train)\n",
    "\n",
    "spd_0 = computeFairness(y_pred_test, X_test_orig, y_test, 0, dataset)\n",
    "print(\"Initial statistical parity: \", spd_0)\n",
    "\n",
    "tpr_parity_0 = computeFairness(y_pred_test, X_test_orig, y_test, 1, dataset)\n",
    "print(\"Initial TPR parity: \", tpr_parity_0)\n",
    "\n",
    "predictive_parity_0 = computeFairness(y_pred_test, X_test_orig, y_test, 2, dataset)\n",
    "print(\"Initial predictive parity: \", predictive_parity_0)\n",
    "\n",
    "loss_0 = logistic_loss(y_test, y_pred_test)\n",
    "print(\"Initial loss: \", loss_0)\n",
    "\n",
    "accuracy_0 = computeAccuracy(y_test, y_pred_test)\n",
    "print(\"Initial accuracy: \", accuracy_0)"
   ]
  },
  {
   "cell_type": "code",
   "execution_count": 141,
   "metadata": {
    "ExecuteTime": {
     "end_time": "2022-08-24T07:14:36.723812Z",
     "start_time": "2022-08-24T07:14:36.650465Z"
    },
    "hidden": true
   },
   "outputs": [
    {
     "data": {
      "text/plain": [
       "[<matplotlib.lines.Line2D at 0x17f7dabe0>]"
      ]
     },
     "execution_count": 141,
     "metadata": {},
     "output_type": "execute_result"
    },
    {
     "data": {
      "image/png": "[encoded data removed]",
      "text/plain": [
       "<Figure size 432x288 with 1 Axes>"
      ]
     },
     "metadata": {
      "needs_background": "light"
     },
     "output_type": "display_data"
    }
   ],
   "source": [
    "plt.plot(spds)"
   ]
  },
  {
   "cell_type": "code",
   "execution_count": 142,
   "metadata": {
    "ExecuteTime": {
     "end_time": "2022-08-24T07:14:36.799751Z",
     "start_time": "2022-08-24T07:14:36.725392Z"
    },
    "hidden": true
   },
   "outputs": [
    {
     "data": {
      "text/plain": [
       "[<matplotlib.lines.Line2D at 0x17f65b610>]"
      ]
     },
     "execution_count": 142,
     "metadata": {},
     "output_type": "execute_result"
    },
    {
     "data": {
      "image/png": "[encoded data removed]",
      "text/plain": [
       "<Figure size 432x288 with 1 Axes>"
      ]
     },
     "metadata": {
      "needs_background": "light"
     },
     "output_type": "display_data"
    }
   ],
   "source": [
    "plt.plot(accs)"
   ]
  },
  {
   "cell_type": "code",
   "execution_count": 143,
   "metadata": {
    "ExecuteTime": {
     "end_time": "2022-08-24T07:14:36.872914Z",
     "start_time": "2022-08-24T07:14:36.801270Z"
    },
    "hidden": true
   },
   "outputs": [
    {
     "data": {
      "text/plain": [
       "[<matplotlib.lines.Line2D at 0x17f0117c0>]"
      ]
     },
     "execution_count": 143,
     "metadata": {},
     "output_type": "execute_result"
    },
    {
     "data": {
      "image/png": "[encoded data removed]",
      "text/plain": [
       "<Figure size 432x288 with 1 Axes>"
      ]
     },
     "metadata": {
      "needs_background": "light"
     },
     "output_type": "display_data"
    }
   ],
   "source": [
    "plt.plot(acc_advs)"
   ]
  },
  {
   "cell_type": "code",
   "execution_count": 144,
   "metadata": {
    "ExecuteTime": {
     "end_time": "2022-08-24T07:14:37.393752Z",
     "start_time": "2022-08-24T07:14:36.874621Z"
    },
    "hidden": true
   },
   "outputs": [
    {
     "name": "stdout",
     "output_type": "stream",
     "text": [
      "BF:  0.027859684236079985\n",
      "AF:  0.025103393274080177\n",
      "Upper Bound: 0.15329408645629883\n",
      "Lower Bound: -0.1561053991317749\n"
     ]
    }
   ],
   "source": [
    "record_statistics(clf)"
   ]
  },
  {
   "cell_type": "markdown",
   "metadata": {},
   "source": [
    "## Record Results"
   ]
  },
  {
   "cell_type": "code",
   "execution_count": 145,
   "metadata": {
    "ExecuteTime": {
     "end_time": "2022-08-24T07:14:37.397625Z",
     "start_time": "2022-08-24T07:14:37.395146Z"
    }
   },
   "outputs": [],
   "source": [
    "# rearange_idx = [0, 2, 5, 1, 3, 4]"
   ]
  },
  {
   "cell_type": "code",
   "execution_count": 146,
   "metadata": {
    "ExecuteTime": {
     "end_time": "2022-08-24T07:14:37.400881Z",
     "start_time": "2022-08-24T07:14:37.399049Z"
    },
    "code_folding": [
     0
    ]
   },
   "outputs": [],
   "source": [
    "# plt.figure(figsize=(8, 5))\n",
    "# plt.plot(range(len(AFs)), np.array(AFs)[rearange_idx], color='black', lw=3)\n",
    "# plt.fill_between(range(len(AFs)), np.array(lbs)[rearange_idx], np.array(ubs)[rearange_idx], color='blue', alpha=0.5)\n",
    "# plt.xticks(range(len(AFs)), np.array(['Orig', 'Bound Reg.', 'BF Reg.', 'AF Reg.', 'Est.AF Reg.', 'Adv. Debias'])[rearange_idx])\n",
    "# plt.ylabel('EO' if fair_metric else 'SPD')\n",
    "# plt.show()"
   ]
  },
  {
   "cell_type": "code",
   "execution_count": 147,
   "metadata": {
    "ExecuteTime": {
     "end_time": "2022-08-24T07:14:37.404938Z",
     "start_time": "2022-08-24T07:14:37.402057Z"
    }
   },
   "outputs": [
    {
     "data": {
      "text/plain": [
       "([0.21557142634275184,\n",
       "  0.012920552648187145,\n",
       "  0.0010304045230561387,\n",
       "  0.030101972948798572,\n",
       "  0.02887549258586819,\n",
       "  0.025103393274080177],\n",
       " [0.21538866575951776,\n",
       "  0.007385583776853832,\n",
       "  0.002894173505154307,\n",
       "  0.031471286262445,\n",
       "  0.030221084772750317,\n",
       "  0.027859684236079985],\n",
       " [0.3381884, 0.021992564, 0.14430737, 0.16685075, 0.16442192, 0.15329409],\n",
       " [0.018077612,\n",
       "  -0.010255396,\n",
       "  -0.19858897,\n",
       "  -0.16599011,\n",
       "  -0.16571242,\n",
       "  -0.1561054])"
      ]
     },
     "execution_count": 147,
     "metadata": {},
     "output_type": "execute_result"
    }
   ],
   "source": [
    "AFs, BFs, ubs, lbs"
   ]
  },
  {
   "cell_type": "code",
   "execution_count": 148,
   "metadata": {
    "ExecuteTime": {
     "end_time": "2022-08-24T07:14:37.412140Z",
     "start_time": "2022-08-24T07:14:37.406179Z"
    }
   },
   "outputs": [],
   "source": [
    "dict_name = '_'\n",
    "if fair_metric == 1:\n",
    "    dict_name = 'EO' + dict_name\n",
    "elif fair_metric == 0:\n",
    "    dict_name = 'SPD' + dict_name\n",
    "else:\n",
    "    raise NotImplementedError\n",
    "\n",
    "if clf_name == 'LogisticRegression':\n",
    "    dict_name = dict_name + 'LR'\n",
    "elif clf_name == 'SVM':\n",
    "    dict_name = dict_name + 'SVM'\n",
    "elif clf_name == 'NeuralNetwork':\n",
    "    dict_name = dict_name + 'NN'\n",
    "else:\n",
    "    raise NotImplementedError\n",
    "\n",
    "dict_name = dict_name + '.dict'\n",
    "\n",
    "with open(dict_name, 'r') as f:\n",
    "    txt = f.read()\n",
    "d = json.loads(txt)\n",
    "name = ['Orig', 'Bound Reg.', 'BF Reg.', 'AF Reg.', 'Est.AF Reg.', 'Adv. Debias']\n",
    "for n_idx, n in enumerate(name):\n",
    "    if f'sc{scenario}' not in d[dataset]:\n",
    "        d[dataset][f'sc{scenario}'] = dict()\n",
    "        for vs in val_seeds:\n",
    "            d[dataset][f'sc{scenario}'][str(vs)] = dict()\n",
    "    d[dataset][f'sc{scenario}'][str(val_seed)][n] = [float(AFs[n_idx]), float(BFs[n_idx]),\n",
    "                                                     float(ubs[n_idx]), float(lbs[n_idx]), float(accs[n_idx])]\n",
    "txt = json.dumps(d)\n",
    "with open(dict_name, 'w+') as f:\n",
    "    f.write(txt)"
   ]
  },
  {
   "cell_type": "code",
   "execution_count": 149,
   "metadata": {
    "ExecuteTime": {
     "end_time": "2022-08-24T07:14:37.415094Z",
     "start_time": "2022-08-24T07:14:37.413237Z"
    },
    "code_folding": [
     0
    ]
   },
   "outputs": [],
   "source": [
    "# for fm in ['EO', 'SPD']:\n",
    "#     for mt in ['LR', 'SVM', 'NN']:\n",
    "#         if (fm=='EO') and (mt=='LR'):\n",
    "#             continue\n",
    "#         else:\n",
    "#             d = dict()\n",
    "#             d['adult'] = dict()\n",
    "#             d['law'] = dict()\n",
    "#             d['hmda'] = dict()\n",
    "#             for k in d.keys():\n",
    "#                 d[k] = dict()\n",
    "#                 for sc in range(1, 4):\n",
    "#                     d[k][f'sc{sc}'] = dict()\n",
    "#                     for seed in val_seeds:\n",
    "#                         d[k][f'sc{sc}'][seed] = dict()\n",
    "#             txt = json.dumps(d)\n",
    "\n",
    "#             with open(f'{fm}_{mt}.dict', 'w+') as f:\n",
    "#                 f.write(txt)\n",
    "#                 f.close()"
   ]
  },
  {
   "cell_type": "code",
   "execution_count": null,
   "metadata": {
    "ExecuteTime": {
     "end_time": "2022-08-22T22:52:45.137250Z",
     "start_time": "2022-08-22T22:50:45.252Z"
    }
   },
   "outputs": [],
   "source": []
  },
  {
   "cell_type": "code",
   "execution_count": 150,
   "metadata": {
    "ExecuteTime": {
     "end_time": "2022-08-24T07:14:37.425240Z",
     "start_time": "2022-08-24T07:14:37.416685Z"
    }
   },
   "outputs": [
    {
     "data": {
      "text/plain": [
       "{'adult': {'sc1': {'42': {},\n",
       "   '99': {'Orig': [0.2000245669543202,\n",
       "     0.021895842202268312,\n",
       "     0.44138458371162415,\n",
       "     -0.2900835871696472,\n",
       "     0.3977954513743547],\n",
       "    'Bound Reg.': [0.013129147576902422,\n",
       "     -0.0010074393162201878,\n",
       "     0.01924137771129608,\n",
       "     -0.022099420428276062,\n",
       "     0.48834937909864656],\n",
       "    'BF Reg.': [0.18907611181324807,\n",
       "     0.017670586664067733,\n",
       "     0.42073073983192444,\n",
       "     -0.2821056842803955,\n",
       "     0.5738105204409097],\n",
       "    'AF Reg.': [0.043927070563982484,\n",
       "     -0.09951278893064347,\n",
       "     0.2629251480102539,\n",
       "     -0.3659147024154663,\n",
       "     0.7108274033765871],\n",
       "    'Est.AF Reg.': [0.04490907814745998,\n",
       "     -0.09887513280279298,\n",
       "     0.26413971185684204,\n",
       "     -0.36573460698127747,\n",
       "     0.7458490302776615],\n",
       "    'LFR': [0.17627232834479117,\n",
       "     -0.027057831166844737,\n",
       "     0.4746578633785248,\n",
       "     -0.3963463604450226,\n",
       "     0.8054448871181938],\n",
       "    'Reweighing': [0.16292435919775022,\n",
       "     -0.018351482161859833,\n",
       "     0.3999987542629242,\n",
       "     -0.3282123804092407,\n",
       "     0.803187250996016]},\n",
       "   '67': {},\n",
       "   '2': {},\n",
       "   '23': {}},\n",
       "  'sc2': {'42': {},\n",
       "   '99': {'Orig': [0.16911403834805178,\n",
       "     0.1712387568027528,\n",
       "     0.8100661635398865,\n",
       "     -0.7348975539207458,\n",
       "     0.8083001328021249],\n",
       "    'Bound Reg.': [0.023823272366809284,\n",
       "     0.021521870387501224,\n",
       "     0.044958725571632385,\n",
       "     -0.013537585735321045,\n",
       "     0.7543160690571049],\n",
       "    'BF Reg.': [0.0051741116439640855,\n",
       "     0.007282286062868848,\n",
       "     0.7031641602516174,\n",
       "     -0.7945199608802795,\n",
       "     0.799601593625498],\n",
       "    'AF Reg.': [0.045654414813026456,\n",
       "     0.047973482980322835,\n",
       "     0.7714924812316895,\n",
       "     -0.813807487487793,\n",
       "     0.8081673306772909],\n",
       "    'Est.AF Reg.': [0.031218457404883992,\n",
       "     0.03373699780451156,\n",
       "     0.766310453414917,\n",
       "     -0.8214261531829834,\n",
       "     0.8076361221779549],\n",
       "    'LFR': [-0.03761982171962053,\n",
       "     -0.03803478414080552,\n",
       "     0.7603211998939514,\n",
       "     -0.8635259866714478,\n",
       "     0.8033864541832669],\n",
       "    'Reweighing': [-0.006213012027876386,\n",
       "     -0.007673967029723894,\n",
       "     0.7307974696159363,\n",
       "     -0.8214923143386841,\n",
       "     0.8068393094289509]},\n",
       "   '67': {},\n",
       "   '2': {},\n",
       "   '23': {}},\n",
       "  'sc3': {'42': {},\n",
       "   '99': {'Orig': [0.24798858049554096,\n",
       "     0.12098532447747701,\n",
       "     0.730208694934845,\n",
       "     -0.6538517475128174,\n",
       "     0.7351261620185923],\n",
       "    'Bound Reg.': [0.027227786585395042,\n",
       "     0.033309992329467075,\n",
       "     0.04138737916946411,\n",
       "     -0.056563496589660645,\n",
       "     0.7617529880478088],\n",
       "    'BF Reg.': [0.18102299564664837,\n",
       "     0.039382316906179105,\n",
       "     0.6833224892616272,\n",
       "     -0.7312337160110474,\n",
       "     0.7343293492695883],\n",
       "    'AF Reg.': [0.06200385048466073,\n",
       "     -0.08679700875526097,\n",
       "     0.5527948141098022,\n",
       "     -0.830592930316925,\n",
       "     0.7625498007968128],\n",
       "    'Est.AF Reg.': [0.06200385048466073,\n",
       "     -0.08679700875526097,\n",
       "     0.5527948141098022,\n",
       "     -0.830592930316925,\n",
       "     0.7625498007968128],\n",
       "    'LFR': [0.19361737656535716,\n",
       "     0.01861570881713892,\n",
       "     0.6587119102478027,\n",
       "     -0.7371212244033813,\n",
       "     0.7599601593625498],\n",
       "    'Reweighing': [0.10462116615061323,\n",
       "     -0.08004419225111103,\n",
       "     0.5728340744972229,\n",
       "     -0.8304170966148376,\n",
       "     0.7626162018592297]},\n",
       "   '67': {},\n",
       "   '2': {},\n",
       "   '23': {}},\n",
       "  'sc4': {'42': {},\n",
       "   '99': {'Orig': [0.20886840965345527,\n",
       "     0.266481400443393,\n",
       "     0.40442538261413574,\n",
       "     -0.28146183490753174,\n",
       "     0.4659552845528455],\n",
       "    'Bound Reg.': [0.008719404028585231,\n",
       "     0.015754623994342243,\n",
       "     0.028533875942230225,\n",
       "     -0.01340782642364502,\n",
       "     0.5329776422764227],\n",
       "    'BF Reg.': [-0.0006548242828622597,\n",
       "     0.04334005607466418,\n",
       "     0.17488886415958405,\n",
       "     -0.5290766954421997,\n",
       "     0.6039126016260162],\n",
       "    'AF Reg.': [0.04350793651740978,\n",
       "     0.09228309233245527,\n",
       "     0.23482945561408997,\n",
       "     -0.5224882364273071,\n",
       "     0.6407520325203252],\n",
       "    'Est.AF Reg.': [0.04350793651740978,\n",
       "     0.09228309233245527,\n",
       "     0.23482945561408997,\n",
       "     -0.5224882364273071,\n",
       "     0.703099593495935],\n",
       "    'Adv. Debias': [0.08896174663653175,\n",
       "     0.14163757564788151,\n",
       "     0.2917391061782837,\n",
       "     -0.4996028244495392,\n",
       "     0.7271341463414634]},\n",
       "   '67': {},\n",
       "   '2': {},\n",
       "   '23': {}}},\n",
       " 'law': {'sc1': {'42': {},\n",
       "   '99': {'Orig': [0.25431574555979375,\n",
       "     0.10562537982117248,\n",
       "     0.4944947063922882,\n",
       "     -0.2612459063529968,\n",
       "     0.9090665953463493],\n",
       "    'Bound Reg.': [0.017518248049008478,\n",
       "     0.009041155239770782,\n",
       "     0.04125332832336426,\n",
       "     -0.004437267780303955,\n",
       "     0.9058571810644558],\n",
       "    'BF Reg.': [0.12000450819275477,\n",
       "     0.015316817582196607,\n",
       "     0.27004319429397583,\n",
       "     -0.2176915407180786,\n",
       "     0.905589729874298],\n",
       "    'AF Reg.': [0.04694725491571605,\n",
       "     -0.05013000362134168,\n",
       "     0.1805349588394165,\n",
       "     -0.2597995400428772,\n",
       "     0.9066595346349291],\n",
       "    'Est.AF Reg.': [0.04540657409104987,\n",
       "     -0.052128660877947874,\n",
       "     0.17931675910949707,\n",
       "     -0.26308363676071167,\n",
       "     0.9066595346349291],\n",
       "    'LFR': [0.05847225930776967,\n",
       "     -0.013588663789364519,\n",
       "     0.213861346244812,\n",
       "     -0.22377550601959229,\n",
       "     0.9061246322546135],\n",
       "    'Reweighing': [0.12936396221200186,\n",
       "     -0.0003772695820311034,\n",
       "     0.3449394106864929,\n",
       "     -0.31888872385025024,\n",
       "     0.9063920834447713]},\n",
       "   '67': {},\n",
       "   '2': {},\n",
       "   '23': {}},\n",
       "  'sc2': {'42': {},\n",
       "   '99': {'Orig': [0.2766033671605762,\n",
       "     0.3496752998482068,\n",
       "     0.5030906200408936,\n",
       "     -0.23351925611495972,\n",
       "     0.9077293393955603],\n",
       "    'Bound Reg.': [0.012721765007825625,\n",
       "     0.020359280924888923,\n",
       "     0.0269620418548584,\n",
       "     -0.016772150993347168,\n",
       "     0.9061246322546135],\n",
       "    'BF Reg.': [-0.017803077180857052,\n",
       "     0.042541820685673915,\n",
       "     0.10869693756103516,\n",
       "     -0.35127580165863037,\n",
       "     0.9063920834447713],\n",
       "    'AF Reg.': [0.04220286735442824,\n",
       "     0.12175893756639045,\n",
       "     0.22253328561782837,\n",
       "     -0.38306909799575806,\n",
       "     0.9069269858250869],\n",
       "    'Est.AF Reg.': [0.04139247221442588,\n",
       "     0.1209603100268064,\n",
       "     0.2213762402534485,\n",
       "     -0.38090211153030396,\n",
       "     0.9069269858250869],\n",
       "    'LFR': [0.026481147364662005,\n",
       "     0.08558258522250617,\n",
       "     0.15718066692352295,\n",
       "     -0.2661891579627991,\n",
       "     0.9061246322546135],\n",
       "    'Reweighing': [-0.02991370572006402,\n",
       "     0.04497818657744601,\n",
       "     0.12134355306625366,\n",
       "     -0.41558128595352173,\n",
       "     0.9066595346349291]},\n",
       "   '67': {},\n",
       "   '2': {},\n",
       "   '23': {}},\n",
       "  'sc3': {'42': {},\n",
       "   '99': {'Orig': [0.41110786502908037,\n",
       "     0.14847454373809854,\n",
       "     0.8276957273483276,\n",
       "     -0.5359072685241699,\n",
       "     0.8708210751537845],\n",
       "    'Bound Reg.': [-0.0032126344681989716,\n",
       "     -0.0009212072887623268,\n",
       "     0.00011032819747924805,\n",
       "     -0.014360368251800537,\n",
       "     0.9061246322546135],\n",
       "    'BF Reg.': [0.2835972358565757,\n",
       "     0.04631348114254019,\n",
       "     0.6667249202728271,\n",
       "     -0.6982979774475098,\n",
       "     0.8676116608718909],\n",
       "    'AF Reg.': [0.05706332490281707,\n",
       "     -0.023650650911151483,\n",
       "     0.20825916528701782,\n",
       "     -0.6217777729034424,\n",
       "     0.8799144156191495],\n",
       "    'Est.AF Reg.': [0.05706332490281707,\n",
       "     -0.023650650911151483,\n",
       "     0.20825916528701782,\n",
       "     -0.6217777729034424,\n",
       "     0.8799144156191495],\n",
       "    'LFR': [0.1477320319845108,\n",
       "     0.06242324755901185,\n",
       "     0.2996830344200134,\n",
       "     -0.14478230476379395,\n",
       "     0.9013105108317732],\n",
       "    'Reweighing': [0.22879401495750318,\n",
       "     0.01614241281393669,\n",
       "     0.5173410177230835,\n",
       "     -0.6892226934432983,\n",
       "     0.8718908799144156]},\n",
       "   '67': {},\n",
       "   '2': {},\n",
       "   '23': {}}},\n",
       " 'hmda': {'sc1': {'42': {}, '99': {}, '67': {}, '2': {}, '23': {}},\n",
       "  'sc2': {'42': {}, '99': {}, '67': {}, '2': {}, '23': {}},\n",
       "  'sc3': {'42': {}, '99': {}, '67': {}, '2': {}, '23': {}},\n",
       "  'sc4': {'42': {},\n",
       "   '99': {},\n",
       "   '67': {},\n",
       "   '2': {'Orig': [0.21557142634275184,\n",
       "     0.21538866575951776,\n",
       "     0.33818840980529785,\n",
       "     0.018077611923217773,\n",
       "     0.7103221255584293],\n",
       "    'Bound Reg.': [0.012920552648187145,\n",
       "     0.007385583776853832,\n",
       "     0.02199256420135498,\n",
       "     -0.010255396366119385,\n",
       "     0.734070068187162],\n",
       "    'BF Reg.': [0.0010304045230561387,\n",
       "     0.002894173505154307,\n",
       "     0.14430737495422363,\n",
       "     -0.19858896732330322,\n",
       "     0.784740183399953],\n",
       "    'AF Reg.': [0.030101972948798572,\n",
       "     0.031471286262445,\n",
       "     0.166850745677948,\n",
       "     -0.16599011421203613,\n",
       "     0.8365859393369386],\n",
       "    'Est.AF Reg.': [0.02887549258586819,\n",
       "     0.030221084772750317,\n",
       "     0.1644219160079956,\n",
       "     -0.1657124161720276,\n",
       "     0.8458735010580767],\n",
       "    'Adv. Debias': [0.025103393274080177,\n",
       "     0.027859684236079985,\n",
       "     0.15329408645629883,\n",
       "     -0.1561053991317749,\n",
       "     0.8451681166235598]},\n",
       "   '23': {'Orig': [0.20487092084603198,\n",
       "     0.2026880817535649,\n",
       "     0.2846376895904541,\n",
       "     -0.014865577220916748,\n",
       "     0.7067952033858453],\n",
       "    'Bound Reg.': [-0.0125785359533791,\n",
       "     -0.01783367358932708,\n",
       "     0.00481945276260376,\n",
       "     -0.05874389410018921,\n",
       "     0.7312485304490948],\n",
       "    'BF Reg.': [0.013585819387111897,\n",
       "     0.012671253345285516,\n",
       "     0.09809637069702148,\n",
       "     -0.19073230028152466,\n",
       "     0.784740183399953],\n",
       "    'AF Reg.': [0.03183360092475129,\n",
       "     0.031120747714327712,\n",
       "     0.12466412782669067,\n",
       "     -0.18569064140319824,\n",
       "     0.8311779920056431],\n",
       "    'Est.AF Reg.': [0.03138267564708297,\n",
       "     0.030714339944296065,\n",
       "     0.12474101781845093,\n",
       "     -0.1861971616744995,\n",
       "     0.8379967082059723],\n",
       "    'Adv. Debias': [0.021495472844522245,\n",
       "     0.023178939847922186,\n",
       "     0.11204606294631958,\n",
       "     -0.17445915937423706,\n",
       "     0.8358805549024219]}}}}"
      ]
     },
     "execution_count": 150,
     "metadata": {},
     "output_type": "execute_result"
    }
   ],
   "source": [
    "with open(dict_name, 'r') as f:\n",
    "    txt = f.read()\n",
    "d = json.loads(txt)\n",
    "d"
   ]
  },
  {
   "cell_type": "code",
   "execution_count": 151,
   "metadata": {
    "ExecuteTime": {
     "end_time": "2022-08-24T07:14:37.428162Z",
     "start_time": "2022-08-24T07:14:37.426573Z"
    }
   },
   "outputs": [],
   "source": [
    "# df_dict = dict()\n",
    "# df_dict[' '] = ['Orig', 'Reweighing', 'LFR', 'BF Reg.', 'Bound Reg.', 'AF Reg.', 'Est.AF Reg.']\n",
    "# for ds in ['Adult', 'Law']:\n",
    "#     for sc in range(1, 4):\n",
    "#         df_dict[f'{ds} Scenario-{sc}'] = [round(d[ds.lower()][f'sc{sc}']['99'][method][0], 4) for method in df_dict[' ']]"
   ]
  },
  {
   "cell_type": "code",
   "execution_count": 152,
   "metadata": {
    "ExecuteTime": {
     "end_time": "2022-08-24T07:14:37.431286Z",
     "start_time": "2022-08-24T07:14:37.429368Z"
    }
   },
   "outputs": [],
   "source": [
    "# pd.DataFrame(df_dict).to_latex()"
   ]
  },
  {
   "cell_type": "code",
   "execution_count": 153,
   "metadata": {
    "ExecuteTime": {
     "end_time": "2022-08-24T07:14:37.435783Z",
     "start_time": "2022-08-24T07:14:37.433167Z"
    }
   },
   "outputs": [],
   "source": [
    "# print(pd.DataFrame(df_dict).to_latex(index=False))"
   ]
  },
  {
   "cell_type": "code",
   "execution_count": 154,
   "metadata": {
    "ExecuteTime": {
     "end_time": "2022-08-24T07:14:37.441247Z",
     "start_time": "2022-08-24T07:14:37.437972Z"
    }
   },
   "outputs": [],
   "source": [
    "# d[ds.lower()][f'sc{sc}']['99']['BF Reg.']"
   ]
  },
  {
   "cell_type": "code",
   "execution_count": null,
   "metadata": {},
   "outputs": [],
   "source": []
  },
  {
   "cell_type": "code",
   "execution_count": 155,
   "metadata": {
    "ExecuteTime": {
     "end_time": "2022-08-24T07:14:37.444599Z",
     "start_time": "2022-08-24T07:14:37.442466Z"
    }
   },
   "outputs": [],
   "source": [
    "# fig = plt.figure(figsize=(8, 4), dpi=200)\n",
    "# ax = plt.subplot(111)\n",
    "# ax.set_facecolor('#E5E4E2')\n",
    "# ax.grid(color='w', linestyle='solid')\n",
    "# sc_dict = d['law'][f'sc{3}']['99']\n",
    "# for i in range(len(df_dict[' '])):\n",
    "#     m = df_dict[' '][i]\n",
    "#     if i==0:\n",
    "#         plt.errorbar(i, sc_dict[m][0], xerr=0.2, color='red', capthick=2, label='AF')\n",
    "#         plt.errorbar(i, sc_dict[m][1], xerr=0.2, color='blue', capthick=2, label='BF')\n",
    "#         plt.errorbar(i, (sc_dict[m][2]+sc_dict[m][3])/2,\n",
    "#                      yerr=abs(sc_dict[m][2]-sc_dict[m][3])/2, color='black', elinewidth=1)\n",
    "#         plt.errorbar(i, sc_dict[m][2], xerr=0.1, color='black', capthick=2, label='Bounds')\n",
    "#         plt.errorbar(i, sc_dict[m][3], xerr=0.1, color='black', capthick=2)\n",
    "#     else:\n",
    "#         plt.errorbar(i, sc_dict[m][0], xerr=0.2, color='red', capthick=2)\n",
    "#         plt.errorbar(i, sc_dict[m][1], xerr=0.2, color='blue', capthick=2)\n",
    "#         plt.errorbar(i, (sc_dict[m][2]+sc_dict[m][3])/2,\n",
    "#                      yerr=abs(sc_dict[m][2]-sc_dict[m][3])/2, color='black', elinewidth=1)\n",
    "#         plt.errorbar(i, sc_dict[m][2], xerr=0.1, color='black', capthick=2)\n",
    "#         plt.errorbar(i, sc_dict[m][3], xerr=0.1, color='black', capthick=2)\n",
    "\n",
    "# # for spine in ax.spines.values():\n",
    "# #     spine.set_visible(False)\n",
    "# for spine in ax.spines.values():\n",
    "#     spine.set_linewidth(2)\n",
    "#     # spine.set_visible(False)\n",
    "\n",
    "# ax.tick_params(top=False)\n",
    "# ax.tick_params(right=False)\n",
    "# ax.tick_params(labeltop=False)\n",
    "# ax.tick_params(labelright=False)\n",
    "\n",
    "# ax.xaxis.tick_bottom()\n",
    "# ax.yaxis.tick_left()\n",
    "# ax.set_axisbelow(True)\n",
    "\n",
    "# ax.tick_params(colors='white', direction='out')\n",
    "# for tick in ax.get_xticklabels():\n",
    "#     tick.set_fontsize(12)\n",
    "#     tick.set_color('black')\n",
    "# for tick in ax.get_yticklabels():\n",
    "#     tick.set_color('black')\n",
    "#     tick.set_fontsize(12)\n",
    "\n",
    "# ax.legend(fontsize=16, fancybox=False, framealpha=0)\n",
    "# plt.tight_layout()\n",
    "# plt.xticks(range(len(df_dict[' '])), df_dict[' '])\n",
    "# # plt.savefig('scatter_debias.pdf', dpi=400)\n",
    "# plt.show()"
   ]
  },
  {
   "cell_type": "code",
   "execution_count": null,
   "metadata": {},
   "outputs": [],
   "source": []
  }
 ],
 "metadata": {
  "kernelspec": {
   "display_name": "Python 3",
   "language": "python",
   "name": "python3"
  },
  "language_info": {
   "codemirror_mode": {
    "name": "ipython",
    "version": 3
   },
   "file_extension": ".py",
   "mimetype": "text/x-python",
   "name": "python",
   "nbconvert_exporter": "python",
   "pygments_lexer": "ipython3",
   "version": "3.9.6"
  },
  "latex_envs": {
   "LaTeX_envs_menu_present": true,
   "autoclose": true,
   "autocomplete": true,
   "bibliofile": "biblio.bib",
   "cite_by": "apalike",
   "current_citInitial": 1,
   "eqLabelWithNumbers": true,
   "eqNumInitial": 1,
   "hotkeys": {
    "equation": "Ctrl-E",
    "itemize": "Ctrl-I"
   },
   "labels_anchors": false,
   "latex_user_defs": false,
   "report_style_numbering": false,
   "user_envs_cfg": false
  }
 },
 "nbformat": 4,
 "nbformat_minor": 4
}
