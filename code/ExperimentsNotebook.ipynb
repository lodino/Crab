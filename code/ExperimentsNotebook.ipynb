{
 "cells": [
  {
   "cell_type": "code",
   "execution_count": null,
   "metadata": {
    "ExecuteTime": {
     "end_time": "2022-10-15T17:40:34.299270Z",
     "start_time": "2022-10-15T17:40:32.854714Z"
    },
    "id": "Lt5_UnxMtENN",
    "outputId": "d1b588f4-7e8e-462d-c6f8-cf7b2625c230"
   },
   "outputs": [],
   "source": [
    "import sys\n",
    "import os\n",
    "import re\n",
    "import tqdm\n",
    "import time\n",
    "import sklearn\n",
    "import numpy as np\n",
    "import pandas as pd\n",
    "import scipy\n",
    "import copy\n",
    "import random\n",
    "import math\n",
    "import json\n",
    "import torch\n",
    "import torch.nn as nn\n",
    "import torch.nn.functional as F\n",
    "from load_dataset import load, generate_random_dataset\n",
    "from classifier import *\n",
    "from utils import *\n",
    "from metrics import *  # include fairness and corresponding derivatives\n",
    "from scipy import stats\n",
    "from scipy.stats import rankdata\n",
    "from sklearn import metrics, preprocessing\n",
    "from sklearn.model_selection import train_test_split\n",
    "from operator import itemgetter\n",
    "from torch.autograd import grad\n",
    "import torch.nn as nn\n",
    "import matplotlib.pyplot as plt\n",
    "from matplotlib.ticker import FormatStrFormatter\n",
    "from IPython.display import Markdown, display\n",
    "random.seed(1)\n",
    "np.random.seed(1)\n",
    "torch.manual_seed(1)"
   ]
  },
  {
   "cell_type": "code",
   "execution_count": null,
   "metadata": {
    "ExecuteTime": {
     "end_time": "2022-10-15T17:40:34.302492Z",
     "start_time": "2022-10-15T17:40:34.300665Z"
    },
    "id": "tPDVV86mtENQ"
   },
   "outputs": [],
   "source": [
    "# ignore all the warnings\n",
    "import warnings\n",
    "warnings.filterwarnings('ignore') "
   ]
  },
  {
   "cell_type": "code",
   "execution_count": null,
   "metadata": {
    "ExecuteTime": {
     "end_time": "2022-10-15T17:40:34.306046Z",
     "start_time": "2022-10-15T17:40:34.304147Z"
    },
    "id": "IpSbdN2ntENQ"
   },
   "outputs": [],
   "source": [
    "val_seeds = [42, 99, 67, 2, 23]\n",
    "val_seed = val_seeds[0]\n",
    "\n",
    "seed = 1\n",
    "c = 0.003\n",
    "epoch_num = 1000\n",
    "th = 0.03"
   ]
  },
  {
   "cell_type": "code",
   "execution_count": null,
   "metadata": {
    "ExecuteTime": {
     "end_time": "2022-10-15T17:40:34.309053Z",
     "start_time": "2022-10-15T17:40:34.307354Z"
    },
    "id": "vMxjUKfptENR"
   },
   "outputs": [],
   "source": [
    "dataset = 'adult'\n",
    "sens_attr = 'gender'\n",
    "# subarea = 'Calcasieu'\n",
    "# subarea = 'Orleans'\n",
    "scenario = 1"
   ]
  },
  {
   "cell_type": "code",
   "execution_count": null,
   "metadata": {
    "ExecuteTime": {
     "end_time": "2022-10-15T17:40:34.312166Z",
     "start_time": "2022-10-15T17:40:34.310201Z"
    },
    "id": "pE7t4AH7tENR"
   },
   "outputs": [],
   "source": [
    "A = 'y'\n",
    "A_val = 1\n",
    "# A = None\n",
    "# A_val = None\n",
    "fair_metric = 0 if (A is None) else 1\n",
    "assert (A=='y' and A_val==1) or (A==None)"
   ]
  },
  {
   "cell_type": "code",
   "execution_count": null,
   "metadata": {
    "ExecuteTime": {
     "end_time": "2022-10-15T17:40:34.315157Z",
     "start_time": "2022-10-15T17:40:34.313240Z"
    },
    "id": "80xCl1_ztENR"
   },
   "outputs": [],
   "source": [
    "clf_name = 'LogisticRegression'"
   ]
  },
  {
   "cell_type": "markdown",
   "metadata": {
    "heading_collapsed": true,
    "id": "hVvWZ1TQtENR"
   },
   "source": [
    "## Preparation"
   ]
  },
  {
   "cell_type": "markdown",
   "metadata": {
    "hidden": true,
    "id": "Mg1fRxRWtENS"
   },
   "source": [
    "**Load Dataset**"
   ]
  },
  {
   "cell_type": "code",
   "execution_count": null,
   "metadata": {
    "ExecuteTime": {
     "end_time": "2022-10-15T17:35:12.716078Z",
     "start_time": "2022-10-15T17:35:12.533202Z"
    },
    "code_folding": [
     0
    ],
    "hidden": true,
    "id": "LqeMHh-GtENT"
   },
   "outputs": [],
   "source": [
    "if dataset == 'hmda':\n",
    "    if scenario>=7:\n",
    "        X_train, X_test, y_train, y_test = load(dataset, subarea=subarea)\n",
    "    else:\n",
    "        epoch_num = 300\n",
    "        X_train, X_test, y_train, y_test = load(dataset)\n",
    "else:\n",
    "    X_train, X_test, y_train, y_test = load(dataset)"
   ]
  },
  {
   "cell_type": "markdown",
   "metadata": {
    "hidden": true,
    "id": "gp3OMe2atENT"
   },
   "source": [
    "**Parametric Model**"
   ]
  },
  {
   "cell_type": "code",
   "execution_count": null,
   "metadata": {
    "ExecuteTime": {
     "end_time": "2022-10-15T00:04:52.089081Z",
     "start_time": "2022-10-15T00:04:52.061325Z"
    },
    "code_folding": [],
    "hidden": true,
    "id": "TmBPCvJKtENT"
   },
   "outputs": [],
   "source": [
    "X_train_orig = copy.deepcopy(X_train)\n",
    "X_test_orig = copy.deepcopy(X_test)\n",
    "\n",
    "# Scale data: regularization penalty default: ‘l2’, ‘lbfgs’ solvers support only l2 penalties. \n",
    "# Regularization makes the predictor dependent on the scale of the features.\n",
    "from sklearn.preprocessing import StandardScaler\n",
    "sc = StandardScaler()\n",
    "X_train = sc.fit_transform(X_train)\n",
    "X_test = sc.transform(X_test)"
   ]
  },
  {
   "cell_type": "code",
   "execution_count": null,
   "metadata": {
    "ExecuteTime": {
     "end_time": "2022-10-15T00:04:52.315532Z",
     "start_time": "2022-10-15T00:04:52.306328Z"
    },
    "hidden": true,
    "id": "1wqqag_jtENT",
    "outputId": "c0ee3af7-51b6-4b07-8f32-45468430109d"
   },
   "outputs": [],
   "source": [
    "X_train.shape[1], len(X_train_orig)+len(X_test_orig)"
   ]
  },
  {
   "cell_type": "markdown",
   "metadata": {
    "hidden": true,
    "id": "or9ZF_fHtENU"
   },
   "source": [
    "**Loss function** (Log loss for logistic regression)"
   ]
  },
  {
   "cell_type": "code",
   "execution_count": null,
   "metadata": {
    "ExecuteTime": {
     "end_time": "2022-10-15T00:04:53.305351Z",
     "start_time": "2022-10-15T00:04:53.286473Z"
    },
    "hidden": true,
    "id": "o_IBSixLtENU"
   },
   "outputs": [],
   "source": [
    "# clf = NeuralNetwork(input_size=X_train.shape[-1])\n",
    "clf = LogisticRegression(input_size=X_train.shape[-1])\n",
    "# clf = SVM(input_size=X_train.shape[-1])\n",
    "num_params = len(convert_grad_to_ndarray(list(clf.parameters())))\n",
    "if isinstance(clf, LogisticRegression):\n",
    "    loss_func = logistic_loss_torch\n",
    "elif isinstance(clf, SVM):\n",
    "    loss_func = svm_loss_torch\n",
    "elif isinstance(clf, NeuralNetwork):\n",
    "    loss_func = nn_loss_torch"
   ]
  },
  {
   "cell_type": "code",
   "execution_count": null,
   "metadata": {
    "ExecuteTime": {
     "end_time": "2022-10-15T00:04:56.651501Z",
     "start_time": "2022-10-15T00:04:56.643136Z"
    },
    "hidden": true,
    "id": "6mayPHKstENU",
    "outputId": "13cffdfa-7c1c-4949-91ff-c3661cea1a8f"
   },
   "outputs": [],
   "source": [
    "clf.__class__.__name__"
   ]
  },
  {
   "cell_type": "markdown",
   "metadata": {
    "hidden": true,
    "id": "zGqQnkQTtENU"
   },
   "source": [
    "**Metrics: Initial state**"
   ]
  },
  {
   "cell_type": "code",
   "execution_count": null,
   "metadata": {
    "ExecuteTime": {
     "end_time": "2022-10-14T19:17:32.394282Z",
     "start_time": "2022-10-14T19:17:30.827780Z"
    },
    "hidden": true,
    "id": "b_Y4J2XgtENU",
    "outputId": "b8bc4ecf-a6d2-45c8-cc92-53c6cec676f4",
    "scrolled": true
   },
   "outputs": [],
   "source": [
    "clf = LogisticRegression(input_size=X_train.shape[-1], epoch_num=1000, c=0.003)\n",
    "\n",
    "clf.fit(X_train, y_train)\n",
    "\n",
    "y_pred_test = clf.predict_proba(X_test)\n",
    "y_pred_train = clf.predict_proba(X_train)\n",
    "\n",
    "spd_0 = computeFairness(y_pred_test, X_test_orig, y_test, 0, dataset)\n",
    "print(\"Initial statistical parity: \", spd_0)\n",
    "\n",
    "tpr_parity_0 = computeFairness(y_pred_test, X_test_orig, y_test, 1, dataset)\n",
    "print(\"Initial TPR parity: \", tpr_parity_0)\n",
    "\n",
    "predictive_parity_0 = computeFairness(y_pred_test, X_test_orig, y_test, 2, dataset)\n",
    "print(\"Initial predictive parity: \", predictive_parity_0)\n",
    "\n",
    "loss_0 = logistic_loss(y_test, y_pred_test)\n",
    "print(\"Initial loss: \", loss_0)\n",
    "\n",
    "accuracy_0 = computeAccuracy(y_test, y_pred_test)\n",
    "print(\"Initial accuracy: \", accuracy_0)"
   ]
  },
  {
   "cell_type": "code",
   "execution_count": null,
   "metadata": {
    "ExecuteTime": {
     "end_time": "2022-10-14T19:17:32.398766Z",
     "start_time": "2022-10-14T19:17:32.396561Z"
    },
    "hidden": true,
    "id": "iWFR_N9TtENU",
    "outputId": "160ad444-9b79-41d5-83b1-02e919c406cb",
    "scrolled": true
   },
   "outputs": [],
   "source": [
    "X_train_orig.columns"
   ]
  },
  {
   "cell_type": "markdown",
   "metadata": {
    "hidden": true,
    "id": "gMh57VZEtENV"
   },
   "source": [
    "Correlation Ranking"
   ]
  },
  {
   "cell_type": "code",
   "execution_count": null,
   "metadata": {
    "ExecuteTime": {
     "end_time": "2022-10-14T19:17:34.494440Z",
     "start_time": "2022-10-14T19:17:34.476927Z"
    },
    "hidden": true,
    "id": "oYxmAI66tENV",
    "outputId": "6257f9d4-98f6-4336-85b6-19048d575ea9",
    "scrolled": true
   },
   "outputs": [],
   "source": [
    "for col in X_test_orig.columns:\n",
    "    print(f'corr. between {col} and label: {np.round(np.corrcoef(X_test_orig[col], y_test)[0][1], 2)}')"
   ]
  },
  {
   "cell_type": "code",
   "execution_count": null,
   "metadata": {
    "ExecuteTime": {
     "end_time": "2022-10-14T19:17:34.711730Z",
     "start_time": "2022-10-14T19:17:34.694656Z"
    },
    "hidden": true,
    "id": "P3G8X50jtENV",
    "outputId": "4a3ab5e0-042a-41b0-baa0-e215ca2680ea",
    "scrolled": true
   },
   "outputs": [],
   "source": [
    "for col in X_test_orig.columns:\n",
    "    print(f'corr. between {col} and {sens_attr}: {np.round(np.corrcoef(X_test_orig[col], X_test_orig[sens_attr])[0][1], 2)}')"
   ]
  },
  {
   "cell_type": "code",
   "execution_count": null,
   "metadata": {
    "ExecuteTime": {
     "end_time": "2022-10-14T19:17:34.947807Z",
     "start_time": "2022-10-14T19:17:34.925063Z"
    },
    "hidden": true,
    "id": "CgY6MWTwtENW",
    "outputId": "fca68ff5-2e52-41cd-9526-79532d4f6a2d"
   },
   "outputs": [],
   "source": [
    "clf.lr.weight"
   ]
  },
  {
   "cell_type": "markdown",
   "metadata": {
    "hidden": true,
    "id": "2Gt5vadCtENW"
   },
   "source": [
    "### Definition"
   ]
  },
  {
   "cell_type": "code",
   "execution_count": null,
   "metadata": {
    "ExecuteTime": {
     "end_time": "2022-10-14T19:17:35.647595Z",
     "start_time": "2022-10-14T19:17:35.635306Z"
    },
    "code_folding": [],
    "hidden": true,
    "id": "poLxHyY-tENX"
   },
   "outputs": [],
   "source": [
    "def train_clf(model, info_dict):\n",
    "    val_iter = 10\n",
    "    epoch = model.epoch_num\n",
    "    model.epoch_num = val_iter\n",
    "    val_num = epoch // val_iter\n",
    "    min_loss = 2048\n",
    "    best_model = None\n",
    "    for _ in range(val_num):\n",
    "        model.fit_info(info_dict)\n",
    "        loss = model.compute_loss(info_dict)\n",
    "        if loss < min_loss:\n",
    "            torch.save(model.state_dict(), 'best_params/best-test.pth')\n",
    "            min_loss = loss\n",
    "    model.load_state_dict(torch.load('best_params/best-test.pth'))\n",
    "    model.adjust_threshold(info_dict)\n",
    "    model.eval()\n",
    "    return model"
   ]
  },
  {
   "cell_type": "code",
   "execution_count": null,
   "metadata": {
    "ExecuteTime": {
     "end_time": "2022-10-14T19:17:37.289148Z",
     "start_time": "2022-10-14T19:17:37.280857Z"
    },
    "code_folding": [],
    "hidden": true,
    "id": "LJaZ9pDGtENX"
   },
   "outputs": [],
   "source": [
    "def get_A_idx(x, y, A=None, A_val=None):\n",
    "    if A is None:\n",
    "        return x.index\n",
    "    elif A == 'y':\n",
    "        return y[y==A_val].index\n",
    "    elif A in x.columns:\n",
    "        return x[x[A]==A_val].index\n",
    "    else:\n",
    "        raise NotImplementedError"
   ]
  },
  {
   "cell_type": "code",
   "execution_count": null,
   "metadata": {
    "ExecuteTime": {
     "end_time": "2022-10-14T19:17:37.497448Z",
     "start_time": "2022-10-14T19:17:37.493194Z"
    },
    "code_folding": [],
    "hidden": true,
    "id": "jcobSERMtENX"
   },
   "outputs": [],
   "source": [
    "def get_attr(x, y, attr):\n",
    "    if attr=='y':\n",
    "        return y\n",
    "    else:\n",
    "        return x[attr]"
   ]
  },
  {
   "cell_type": "code",
   "execution_count": null,
   "metadata": {
    "ExecuteTime": {
     "end_time": "2022-10-14T19:17:37.716349Z",
     "start_time": "2022-10-14T19:17:37.692609Z"
    },
    "code_folding": [],
    "hidden": true,
    "id": "fu6MSgCztENY"
   },
   "outputs": [],
   "source": [
    "def record_statistics(clf, record=True):\n",
    "    y_pred_train = clf.predict_proba(X_train_sampled)\n",
    "    metric_val = computeFairness(clf.predict_proba(X_train_sampled), X_train_orig_sampled,\n",
    "                                 y_train_sampled, fair_metric, dataset)\n",
    "    if record:\n",
    "        BFs.append(-metric_val)\n",
    "    print(\"BF: \", -metric_val)\n",
    "    y_pred_train = clf.predict_proba(X_test)\n",
    "    metric_val = computeFairness(clf.predict_proba(X_test), X_test_orig, y_test,\n",
    "                            fair_metric, dataset)\n",
    "    if record:\n",
    "        AFs.append(-metric_val)\n",
    "    print(\"AF: \", -metric_val)\n",
    "    \n",
    "    test_acc = computeAccuracy(y_test, clf.predict_proba(X_test))\n",
    "    test_f1 = computeF1(y_test, clf.predict_proba(X_test))\n",
    "    print(\"Test Acc: \", test_acc)\n",
    "    print(\"Test F1: \", test_f1)\n",
    "    if record:\n",
    "        accs.append(test_acc)\n",
    "        f1s.append(test_f1)\n",
    "\n",
    "    # Group the training data based on parent (sensitive attr=0)\n",
    "    protected_groups = []\n",
    "    for v in np.sort(get_attr(X_train_orig_sampled, y_train_sampled, parent_1).unique()):\n",
    "        for u in np.sort(get_attr(X_train_orig_sampled, y_train_sampled, parent_2).unique()):\n",
    "            for w in np.sort(get_attr(X_train_orig_sampled, y_train_sampled, parent_3).unique()):\n",
    "                idx = X_train_orig_sampled[(get_attr(X_train_orig_sampled, y_train_sampled, parent_1)==v) &\\\n",
    "                                           (get_attr(X_train_orig_sampled, y_train_sampled, parent_2)==u) &\\\n",
    "                                           (get_attr(X_train_orig_sampled, y_train_sampled, parent_3)==w) &\\\n",
    "                                           (get_attr(X_train_orig_sampled, y_train_sampled, sens_attr)==0)].index\n",
    "                idx = idx.intersection(get_A_idx(X_train_orig_sampled, y_train_sampled, A, A_val))\n",
    "                if len(idx)>0:\n",
    "                    protected_groups.append(idx)\n",
    "\n",
    "    score_protected_groups = []\n",
    "    for idx in protected_groups:\n",
    "        score_protected_groups.append(np.mean(clf.predict_proba(X_train_sampled)[idx]))\n",
    "\n",
    "    # Group the training data based on parent (sensitive attr=1)\n",
    "    privileged_groups = []\n",
    "    for v in np.sort(get_attr(X_train_orig_sampled, y_train_sampled, parent_1).unique()):\n",
    "        for u in np.sort(get_attr(X_train_orig_sampled, y_train_sampled, parent_2).unique()):\n",
    "            for w in np.sort(get_attr(X_train_orig_sampled, y_train_sampled, parent_3).unique()):\n",
    "                idx = X_train_orig_sampled[(get_attr(X_train_orig_sampled, y_train_sampled, parent_1)==v) &\\\n",
    "                                           (get_attr(X_train_orig_sampled, y_train_sampled, parent_2)==u) &\\\n",
    "                                           (get_attr(X_train_orig_sampled, y_train_sampled, parent_3)==w) &\\\n",
    "                                           (get_attr(X_train_orig_sampled, y_train_sampled, sens_attr)==1)].index\n",
    "                idx = idx.intersection(get_A_idx(X_train_orig_sampled, y_train_sampled, A, A_val))\n",
    "                if len(idx)>0:\n",
    "                    privileged_groups.append(idx)\n",
    "\n",
    "    score_privileged_groups = []\n",
    "    for idx in privileged_groups:\n",
    "        score_privileged_groups.append(np.mean(clf.predict_proba(X_train_sampled)[idx]))\n",
    "\n",
    "    ub = np.max(score_privileged_groups)-np.min(score_protected_groups)\n",
    "    lb = -np.max(score_protected_groups)+np.min(score_privileged_groups)\n",
    "\n",
    "    print(f'Upper Bound: {ub}')\n",
    "    print(f'Lower Bound: {lb}')\n",
    "\n",
    "    if record:\n",
    "        ubs.append(ub)\n",
    "        lbs.append(lb)"
   ]
  },
  {
   "cell_type": "markdown",
   "metadata": {
    "heading_collapsed": true,
    "id": "9bag2_kutENY"
   },
   "source": [
    "## Inject Selection Bias"
   ]
  },
  {
   "cell_type": "markdown",
   "metadata": {
    "heading_collapsed": true,
    "hidden": true,
    "id": "kdzsxLGytENY"
   },
   "source": [
    "### HDMA scenario 1"
   ]
  },
  {
   "cell_type": "code",
   "execution_count": null,
   "metadata": {
    "ExecuteTime": {
     "end_time": "2022-10-14T17:58:10.136463Z",
     "start_time": "2022-10-14T17:58:10.134631Z"
    },
    "hidden": true,
    "id": "dZrcOicstENY"
   },
   "outputs": [],
   "source": [
    "indicator = ((dataset=='hmda') and (scenario==1))"
   ]
  },
  {
   "cell_type": "markdown",
   "metadata": {
    "hidden": true,
    "id": "iGUnyzhftENb"
   },
   "source": [
    "**Sample based on the conditional probability**"
   ]
  },
  {
   "cell_type": "code",
   "execution_count": null,
   "metadata": {
    "ExecuteTime": {
     "end_time": "2022-10-14T17:58:10.421415Z",
     "start_time": "2022-10-14T17:58:10.175503Z"
    },
    "code_folding": [],
    "hidden": true,
    "id": "ckDpl5HftENb",
    "outputId": "84a3602b-72cf-495e-9310-fcea734cde62"
   },
   "outputs": [],
   "source": [
    "if indicator:\n",
    "    p = np.ones_like(X_train_orig.race).astype(float)\n",
    "    p[(X_train_orig.race == 1) & (X_train_orig.DI == 1)] = 0.3\n",
    "    p[(X_train_orig.race == 0) & (X_train_orig.DI == 2)] = 0.1\n",
    "    p[(X_train_orig.race == 0) & (X_train_orig.DI == 3)] = 0.2\n",
    "    plt.hist(p, bins=10)\n",
    "    plt.show()"
   ]
  },
  {
   "cell_type": "code",
   "execution_count": null,
   "metadata": {
    "ExecuteTime": {
     "end_time": "2022-10-14T17:58:13.339161Z",
     "start_time": "2022-10-14T17:58:10.422536Z"
    },
    "hidden": true,
    "id": "O7m-3P0htENc"
   },
   "outputs": [],
   "source": [
    "if indicator:\n",
    "    np.random.seed(0)\n",
    "    sample_bool = np.zeros(len(X_train))\n",
    "    for idx in range(len(X_train)):\n",
    "        sample_bool[idx] = np.random.binomial(n=1, p=p[idx])  # True or False"
   ]
  },
  {
   "cell_type": "code",
   "execution_count": null,
   "metadata": {
    "ExecuteTime": {
     "end_time": "2022-10-14T17:58:13.639220Z",
     "start_time": "2022-10-14T17:58:13.340319Z"
    },
    "code_folding": [],
    "hidden": true,
    "id": "PtZGtFpBtENd"
   },
   "outputs": [],
   "source": [
    "if indicator:\n",
    "    X_train_orig_sampled = X_train_orig.loc[np.where(sample_bool)[0]]\n",
    "    X_train_orig_sampled = X_train_orig_sampled.reset_index(drop=True)\n",
    "    X_train_sampled = X_train[np.where(sample_bool)[0]]\n",
    "    y_train_sampled = y_train[np.where(sample_bool)[0]].reset_index(drop=True)"
   ]
  },
  {
   "cell_type": "code",
   "execution_count": null,
   "metadata": {
    "ExecuteTime": {
     "end_time": "2022-10-14T17:59:05.015230Z",
     "start_time": "2022-10-14T17:58:13.640426Z"
    },
    "code_folding": [],
    "hidden": true,
    "id": "L7T3doKotENd",
    "outputId": "3dff1ea6-a956-4ac4-9a67-70fed4052ef1"
   },
   "outputs": [],
   "source": [
    "if indicator:\n",
    "    clf = LogisticRegression(input_size=X_train.shape[-1], epoch_num=1000, c=0.003)\n",
    "\n",
    "    clf.fit(X_train_sampled, y_train_sampled.to_numpy(), use_sklearn=False)\n",
    "\n",
    "    y_pred_test = clf.predict_proba(X_test)\n",
    "    y_pred_train = clf.predict_proba(X_train)\n",
    "\n",
    "    spd_0 = computeFairness(y_pred_test, X_test_orig, y_test, 0, dataset)\n",
    "    print(\"Initial statistical parity: \", spd_0)\n",
    "\n",
    "    tpr_parity_0 = computeFairness(y_pred_test, X_test_orig, y_test, 1, dataset)\n",
    "    print(\"Initial TPR parity: \", tpr_parity_0)\n",
    "\n",
    "    predictive_parity_0 = computeFairness(y_pred_test, X_test_orig, y_test, 2, dataset)\n",
    "    print(\"Initial predictive parity: \", predictive_parity_0)\n",
    "\n",
    "    loss_0 = logistic_loss(y_test, y_pred_test)\n",
    "    print(\"Initial loss: \", loss_0)\n",
    "\n",
    "    accuracy_0 = computeAccuracy(y_test, y_pred_test)\n",
    "    print(\"Initial accuracy: \", accuracy_0)"
   ]
  },
  {
   "cell_type": "code",
   "execution_count": null,
   "metadata": {
    "ExecuteTime": {
     "end_time": "2022-10-14T17:59:19.196253Z",
     "start_time": "2022-10-14T17:59:05.017284Z"
    },
    "code_folding": [],
    "hidden": true,
    "id": "bqdaSRI0tENe",
    "outputId": "706ff22f-eec5-4226-8b75-8451cbe55abc"
   },
   "outputs": [],
   "source": [
    "if indicator:\n",
    "    y_pred_train = clf.predict_proba(X_train_sampled)\n",
    "\n",
    "    spd_0 = computeFairness(y_pred_train, X_train_orig_sampled, y_train_sampled, 0, dataset)\n",
    "    print(\"Initial statistical parity: \", spd_0)\n",
    "\n",
    "    accuracy_0 = computeAccuracy(y_train_sampled, y_pred_train)\n",
    "    print(\"Initial accuracy: \", accuracy_0)"
   ]
  },
  {
   "cell_type": "code",
   "execution_count": null,
   "metadata": {
    "ExecuteTime": {
     "end_time": "2022-10-14T17:59:19.199118Z",
     "start_time": "2022-10-14T17:59:19.197346Z"
    },
    "code_folding": [],
    "hidden": true,
    "id": "2buiHzYBtENe"
   },
   "outputs": [],
   "source": [
    "if indicator:\n",
    "    sens_attr = 'race'\n",
    "    parent_1 = 'race'\n",
    "    parent_2 = 'race'\n",
    "    parent_3 = 'DI'"
   ]
  },
  {
   "cell_type": "markdown",
   "metadata": {
    "hidden": true,
    "id": "Rv6KyeuhtENe"
   },
   "source": [
    "**Bound**"
   ]
  },
  {
   "cell_type": "code",
   "execution_count": null,
   "metadata": {
    "ExecuteTime": {
     "end_time": "2022-10-14T17:59:38.714324Z",
     "start_time": "2022-10-14T17:59:19.200115Z"
    },
    "code_folding": [],
    "hidden": true,
    "id": "FBNAGZw-tENe",
    "outputId": "98331f72-3344-4d44-822b-ca7a210954b6",
    "scrolled": false
   },
   "outputs": [],
   "source": [
    "if indicator:\n",
    "    record_statistics(clf, record=False)"
   ]
  },
  {
   "cell_type": "code",
   "execution_count": null,
   "metadata": {
    "hidden": true,
    "id": "CbeR4qtRtENf"
   },
   "outputs": [],
   "source": []
  },
  {
   "cell_type": "markdown",
   "metadata": {
    "hidden": true,
    "id": "mokN7Kj0tENf"
   },
   "source": [
    "### HDMA scenario 2"
   ]
  },
  {
   "cell_type": "code",
   "execution_count": null,
   "metadata": {
    "ExecuteTime": {
     "end_time": "2022-10-14T17:59:38.717448Z",
     "start_time": "2022-10-14T17:59:38.715505Z"
    },
    "hidden": true,
    "id": "j_HNdx6EtENf"
   },
   "outputs": [],
   "source": [
    "indicator = ((dataset=='hmda') and (scenario==2))"
   ]
  },
  {
   "cell_type": "markdown",
   "metadata": {
    "hidden": true,
    "id": "me6r2eXotENf"
   },
   "source": [
    "**Sample based on the conditional probability**"
   ]
  },
  {
   "cell_type": "code",
   "execution_count": null,
   "metadata": {
    "ExecuteTime": {
     "end_time": "2022-10-14T17:59:38.721180Z",
     "start_time": "2022-10-14T17:59:38.718602Z"
    },
    "code_folding": [],
    "hidden": true,
    "id": "0W02JELftENf"
   },
   "outputs": [],
   "source": [
    "if indicator:\n",
    "    p = np.ones_like(X_train_orig.race).astype(float)\n",
    "    p[(X_train_orig.income_brackets == 1) & (X_train_orig.DI == 1)] = 0.1\n",
    "    p[(X_train_orig.income_brackets == 1) & (X_train_orig.DI == 2)] = 0.1\n",
    "    p[(X_train_orig.income_brackets == 0) & (X_train_orig.DI == 3)] = 0.2\n",
    "    plt.hist(p, bins=10)\n",
    "    plt.show()"
   ]
  },
  {
   "cell_type": "code",
   "execution_count": null,
   "metadata": {
    "ExecuteTime": {
     "end_time": "2022-10-14T17:59:38.724249Z",
     "start_time": "2022-10-14T17:59:38.722274Z"
    },
    "hidden": true,
    "id": "rywzR3q1tENf"
   },
   "outputs": [],
   "source": [
    "if indicator:\n",
    "    np.random.seed(0)\n",
    "    sample_bool = np.zeros(len(X_train))\n",
    "    for idx in range(len(X_train)):\n",
    "        sample_bool[idx] = np.random.binomial(n=1, p=p[idx])  # True or False"
   ]
  },
  {
   "cell_type": "code",
   "execution_count": null,
   "metadata": {
    "ExecuteTime": {
     "end_time": "2022-10-14T17:59:38.727474Z",
     "start_time": "2022-10-14T17:59:38.725266Z"
    },
    "code_folding": [],
    "hidden": true,
    "id": "fZWwoF3_tENf"
   },
   "outputs": [],
   "source": [
    "if indicator:\n",
    "    X_train_orig_sampled = X_train_orig.loc[np.where(sample_bool)[0]]\n",
    "    X_train_orig_sampled = X_train_orig_sampled.reset_index(drop=True)\n",
    "    X_train_sampled = X_train[np.where(sample_bool)[0]]\n",
    "    y_train_sampled = y_train[np.where(sample_bool)[0]].reset_index(drop=True)"
   ]
  },
  {
   "cell_type": "code",
   "execution_count": null,
   "metadata": {
    "ExecuteTime": {
     "end_time": "2022-10-14T17:59:38.733149Z",
     "start_time": "2022-10-14T17:59:38.729371Z"
    },
    "code_folding": [],
    "hidden": true,
    "id": "-WkPYk1BtENf"
   },
   "outputs": [],
   "source": [
    "if indicator:\n",
    "    clf = LogisticRegression(input_size=X_train.shape[-1], epoch_num=3000, c=0.003)\n",
    "\n",
    "    clf.fit(X_train_sampled, y_train_sampled.to_numpy(), use_sklearn=False)\n",
    "\n",
    "    y_pred_test = clf.predict_proba(X_test)\n",
    "    y_pred_train = clf.predict_proba(X_train)\n",
    "\n",
    "    spd_0 = computeFairness(y_pred_test, X_test_orig, y_test, 0, dataset)\n",
    "    print(\"Initial statistical parity: \", spd_0)\n",
    "\n",
    "    tpr_parity_0 = computeFairness(y_pred_test, X_test_orig, y_test, 1, dataset)\n",
    "    print(\"Initial TPR parity: \", tpr_parity_0)\n",
    "\n",
    "    predictive_parity_0 = computeFairness(y_pred_test, X_test_orig, y_test, 2, dataset)\n",
    "    print(\"Initial predictive parity: \", predictive_parity_0)\n",
    "\n",
    "    loss_0 = logistic_loss(y_test, y_pred_test)\n",
    "    print(\"Initial loss: \", loss_0)\n",
    "\n",
    "    accuracy_0 = computeAccuracy(y_test, y_pred_test)\n",
    "    print(\"Initial accuracy: \", accuracy_0)"
   ]
  },
  {
   "cell_type": "code",
   "execution_count": null,
   "metadata": {
    "ExecuteTime": {
     "end_time": "2022-10-14T17:59:38.736539Z",
     "start_time": "2022-10-14T17:59:38.734417Z"
    },
    "code_folding": [],
    "hidden": true,
    "id": "8GazpPPgtENg"
   },
   "outputs": [],
   "source": [
    "if indicator:\n",
    "    y_pred_train = clf.predict_proba(X_train_sampled)\n",
    "\n",
    "    spd_0 = computeFairness(y_pred_train, X_train_orig_sampled, y_train_sampled, 0, dataset)\n",
    "    print(\"Initial statistical parity: \", spd_0)\n",
    "\n",
    "    accuracy_0 = computeAccuracy(y_train_sampled, y_pred_train)\n",
    "    print(\"Initial accuracy: \", accuracy_0)"
   ]
  },
  {
   "cell_type": "code",
   "execution_count": null,
   "metadata": {
    "ExecuteTime": {
     "end_time": "2022-10-14T17:59:38.739611Z",
     "start_time": "2022-10-14T17:59:38.737800Z"
    },
    "code_folding": [],
    "hidden": true,
    "id": "Qt5d8NtTtENg"
   },
   "outputs": [],
   "source": [
    "if indicator:\n",
    "    sens_attr = 'race'\n",
    "    parent_1 = 'income_brackets'\n",
    "    parent_2 = 'income_brackets'\n",
    "    parent_3 = 'DI'"
   ]
  },
  {
   "cell_type": "markdown",
   "metadata": {
    "hidden": true,
    "id": "u1qpT5xHtENg"
   },
   "source": [
    "**Bound**"
   ]
  },
  {
   "cell_type": "code",
   "execution_count": null,
   "metadata": {
    "ExecuteTime": {
     "end_time": "2022-10-14T17:59:38.742534Z",
     "start_time": "2022-10-14T17:59:38.740802Z"
    },
    "code_folding": [],
    "hidden": true,
    "id": "hOTHFN1RtENi",
    "scrolled": true
   },
   "outputs": [],
   "source": [
    "if indicator:\n",
    "    record_statistics(clf, record=False)"
   ]
  },
  {
   "cell_type": "code",
   "execution_count": null,
   "metadata": {
    "hidden": true,
    "id": "wbdQegaDtENi"
   },
   "outputs": [],
   "source": []
  },
  {
   "cell_type": "markdown",
   "metadata": {
    "hidden": true,
    "id": "Js38XwVstENi"
   },
   "source": [
    "### HDMA scenario 3"
   ]
  },
  {
   "cell_type": "code",
   "execution_count": null,
   "metadata": {
    "ExecuteTime": {
     "end_time": "2022-10-14T17:59:38.745444Z",
     "start_time": "2022-10-14T17:59:38.743712Z"
    },
    "hidden": true,
    "id": "Oe5Dq2hctENi"
   },
   "outputs": [],
   "source": [
    "indicator = ((dataset=='hmda') and (scenario==3))"
   ]
  },
  {
   "cell_type": "markdown",
   "metadata": {
    "hidden": true,
    "id": "xJDpicJgtENi"
   },
   "source": [
    "**Sample based on the conditional probability**"
   ]
  },
  {
   "cell_type": "code",
   "execution_count": null,
   "metadata": {
    "ExecuteTime": {
     "end_time": "2022-10-14T17:59:38.748999Z",
     "start_time": "2022-10-14T17:59:38.746611Z"
    },
    "code_folding": [],
    "hidden": true,
    "id": "sQCC0WIEtENj"
   },
   "outputs": [],
   "source": [
    "if indicator:\n",
    "    p = np.ones_like(X_train_orig.race).astype(float)\n",
    "    p[(y_train == 1) & (X_train_orig.LV == 1)] = 0.05\n",
    "    p[(y_train == 0) & (X_train_orig.LV == 1)] = 0.2\n",
    "    plt.hist(p, bins=10)\n",
    "    plt.show()"
   ]
  },
  {
   "cell_type": "code",
   "execution_count": null,
   "metadata": {
    "ExecuteTime": {
     "end_time": "2022-10-14T17:59:38.752284Z",
     "start_time": "2022-10-14T17:59:38.750163Z"
    },
    "hidden": true,
    "id": "HKD1QbO2tENj"
   },
   "outputs": [],
   "source": [
    "if indicator:\n",
    "    np.random.seed(0)\n",
    "    sample_bool = np.zeros(len(X_train))\n",
    "    for idx in range(len(X_train)):\n",
    "        sample_bool[idx] = np.random.binomial(n=1, p=p[idx])  # True or False"
   ]
  },
  {
   "cell_type": "code",
   "execution_count": null,
   "metadata": {
    "ExecuteTime": {
     "end_time": "2022-10-14T17:59:38.755693Z",
     "start_time": "2022-10-14T17:59:38.753457Z"
    },
    "code_folding": [],
    "hidden": true,
    "id": "-tWxo_RutENj"
   },
   "outputs": [],
   "source": [
    "if indicator:\n",
    "    X_train_orig_sampled = X_train_orig.loc[np.where(sample_bool)[0]]\n",
    "    X_train_orig_sampled = X_train_orig_sampled.reset_index(drop=True)\n",
    "    X_train_sampled = X_train[np.where(sample_bool)[0]]\n",
    "    y_train_sampled = y_train[np.where(sample_bool)[0]].reset_index(drop=True)"
   ]
  },
  {
   "cell_type": "code",
   "execution_count": null,
   "metadata": {
    "ExecuteTime": {
     "end_time": "2022-10-14T17:59:38.760281Z",
     "start_time": "2022-10-14T17:59:38.756892Z"
    },
    "code_folding": [],
    "hidden": true,
    "id": "DsLfNdmrtENj"
   },
   "outputs": [],
   "source": [
    "if indicator:\n",
    "    clf = LogisticRegression(input_size=X_train.shape[-1], epoch_num=3000, c=0.003)\n",
    "\n",
    "    clf.fit(X_train_sampled, y_train_sampled.to_numpy(), use_sklearn=False)\n",
    "\n",
    "    y_pred_test = clf.predict_proba(X_test)\n",
    "    y_pred_train = clf.predict_proba(X_train)\n",
    "\n",
    "    spd_0 = computeFairness(y_pred_test, X_test_orig, y_test, 0, dataset)\n",
    "    print(\"Initial statistical parity: \", spd_0)\n",
    "\n",
    "    tpr_parity_0 = computeFairness(y_pred_test, X_test_orig, y_test, 1, dataset)\n",
    "    print(\"Initial TPR parity: \", tpr_parity_0)\n",
    "\n",
    "    predictive_parity_0 = computeFairness(y_pred_test, X_test_orig, y_test, 2, dataset)\n",
    "    print(\"Initial predictive parity: \", predictive_parity_0)\n",
    "\n",
    "    loss_0 = logistic_loss(y_test, y_pred_test)\n",
    "    print(\"Initial loss: \", loss_0)\n",
    "\n",
    "    accuracy_0 = computeAccuracy(y_test, y_pred_test)\n",
    "    print(\"Initial accuracy: \", accuracy_0)"
   ]
  },
  {
   "cell_type": "code",
   "execution_count": null,
   "metadata": {
    "ExecuteTime": {
     "end_time": "2022-10-14T17:59:38.763621Z",
     "start_time": "2022-10-14T17:59:38.761390Z"
    },
    "code_folding": [],
    "hidden": true,
    "id": "67ryD8VHtENj"
   },
   "outputs": [],
   "source": [
    "if indicator:\n",
    "    y_pred_train = clf.predict_proba(X_train_sampled)\n",
    "\n",
    "    spd_0 = computeFairness(y_pred_train, X_train_orig_sampled, y_train_sampled, 0, dataset)\n",
    "    print(\"Initial statistical parity: \", spd_0)\n",
    "\n",
    "    accuracy_0 = computeAccuracy(y_train_sampled, y_pred_train)\n",
    "    print(\"Initial accuracy: \", accuracy_0)"
   ]
  },
  {
   "cell_type": "code",
   "execution_count": null,
   "metadata": {
    "ExecuteTime": {
     "end_time": "2022-10-14T17:59:38.766549Z",
     "start_time": "2022-10-14T17:59:38.764793Z"
    },
    "code_folding": [],
    "hidden": true,
    "id": "MUcJuWZmtENj"
   },
   "outputs": [],
   "source": [
    "if indicator:\n",
    "    sens_attr = 'race'\n",
    "    parent_1 = 'LV'\n",
    "    parent_2 = 'LV'\n",
    "    parent_3 = 'y'"
   ]
  },
  {
   "cell_type": "markdown",
   "metadata": {
    "hidden": true,
    "id": "CUvOBEyYtENk"
   },
   "source": [
    "**Bound**"
   ]
  },
  {
   "cell_type": "code",
   "execution_count": null,
   "metadata": {
    "ExecuteTime": {
     "end_time": "2022-10-14T17:59:38.772607Z",
     "start_time": "2022-10-14T17:59:38.767908Z"
    },
    "code_folding": [],
    "hidden": true,
    "id": "hSh4wb1AtENk",
    "scrolled": false
   },
   "outputs": [],
   "source": [
    "if indicator:\n",
    "    record_statistics(clf, record=False)"
   ]
  },
  {
   "cell_type": "markdown",
   "metadata": {
    "hidden": true,
    "id": "S0sDlLlBtENk"
   },
   "source": [
    "### HDMA scenario 4"
   ]
  },
  {
   "cell_type": "code",
   "execution_count": null,
   "metadata": {
    "ExecuteTime": {
     "end_time": "2022-10-14T17:59:38.777240Z",
     "start_time": "2022-10-14T17:59:38.774213Z"
    },
    "hidden": true,
    "id": "OgEXJxhWtENk"
   },
   "outputs": [],
   "source": [
    "indicator = ((dataset=='hmda') and (scenario==4))"
   ]
  },
  {
   "cell_type": "markdown",
   "metadata": {
    "hidden": true,
    "id": "_UZrDWektENk"
   },
   "source": [
    "**Sample based on the conditional probability**"
   ]
  },
  {
   "cell_type": "code",
   "execution_count": null,
   "metadata": {
    "ExecuteTime": {
     "end_time": "2022-10-14T17:59:38.781462Z",
     "start_time": "2022-10-14T17:59:38.778491Z"
    },
    "code_folding": [],
    "hidden": true,
    "id": "kcABdp3ctENk"
   },
   "outputs": [],
   "source": [
    "if indicator:\n",
    "    p = np.ones_like(X_train_orig.race).astype(float)\n",
    "    p[(X_train_orig.race==0)&(X_train_orig.DI==1)] = 0.2\n",
    "    p[(X_train_orig.race==0)&(X_train_orig.DI==2)] = 0.3\n",
    "    plt.hist(p, bins=10)\n",
    "    plt.show()"
   ]
  },
  {
   "cell_type": "code",
   "execution_count": null,
   "metadata": {
    "ExecuteTime": {
     "end_time": "2022-10-14T17:59:38.785112Z",
     "start_time": "2022-10-14T17:59:38.782715Z"
    },
    "hidden": true,
    "id": "Uq-IuVH_tENk"
   },
   "outputs": [],
   "source": [
    "if indicator:\n",
    "    np.random.seed(0)\n",
    "    sample_bool = np.zeros(len(X_train))\n",
    "    for idx in range(len(X_train)):\n",
    "        sample_bool[idx] = np.random.binomial(n=1, p=p[idx])  # True or False"
   ]
  },
  {
   "cell_type": "code",
   "execution_count": null,
   "metadata": {
    "ExecuteTime": {
     "end_time": "2022-10-14T17:59:38.788563Z",
     "start_time": "2022-10-14T17:59:38.786235Z"
    },
    "code_folding": [],
    "hidden": true,
    "id": "7Boay2jNtENk"
   },
   "outputs": [],
   "source": [
    "if indicator:\n",
    "    X_train_orig_sampled = X_train_orig.loc[np.where(sample_bool)[0]]\n",
    "    X_train_orig_sampled = X_train_orig_sampled.reset_index(drop=True)\n",
    "    X_train_sampled = X_train[np.where(sample_bool)[0]]\n",
    "    y_train_sampled = y_train[np.where(sample_bool)[0]].reset_index(drop=True)"
   ]
  },
  {
   "cell_type": "code",
   "execution_count": null,
   "metadata": {
    "ExecuteTime": {
     "end_time": "2022-10-14T17:59:38.793255Z",
     "start_time": "2022-10-14T17:59:38.789784Z"
    },
    "code_folding": [],
    "hidden": true,
    "id": "dBG8z2cptENl"
   },
   "outputs": [],
   "source": [
    "if indicator:\n",
    "    clf = LogisticRegression(input_size=X_train.shape[-1], epoch_num=3000, c=0.003)\n",
    "\n",
    "    clf.fit(X_train_sampled, y_train_sampled.to_numpy(), use_sklearn=False)\n",
    "\n",
    "    y_pred_test = clf.predict_proba(X_test)\n",
    "    y_pred_train = clf.predict_proba(X_train)\n",
    "\n",
    "    spd_0 = computeFairness(y_pred_test, X_test_orig, y_test, 0, dataset)\n",
    "    print(\"Initial statistical parity: \", spd_0)\n",
    "\n",
    "    tpr_parity_0 = computeFairness(y_pred_test, X_test_orig, y_test, 1, dataset)\n",
    "    print(\"Initial TPR parity: \", tpr_parity_0)\n",
    "\n",
    "    predictive_parity_0 = computeFairness(y_pred_test, X_test_orig, y_test, 2, dataset)\n",
    "    print(\"Initial predictive parity: \", predictive_parity_0)\n",
    "\n",
    "    loss_0 = logistic_loss(y_test, y_pred_test)\n",
    "    print(\"Initial loss: \", loss_0)\n",
    "\n",
    "    accuracy_0 = computeAccuracy(y_test, y_pred_test)\n",
    "    print(\"Initial accuracy: \", accuracy_0)"
   ]
  },
  {
   "cell_type": "code",
   "execution_count": null,
   "metadata": {
    "ExecuteTime": {
     "end_time": "2022-10-14T17:59:38.796679Z",
     "start_time": "2022-10-14T17:59:38.794451Z"
    },
    "code_folding": [],
    "hidden": true,
    "id": "J4KFgxtktENm"
   },
   "outputs": [],
   "source": [
    "if indicator:\n",
    "    y_pred_train = clf.predict_proba(X_train_sampled)\n",
    "\n",
    "    spd_0 = computeFairness(y_pred_train, X_train_orig_sampled, y_train_sampled, 0, dataset)\n",
    "    print(\"Initial statistical parity: \", spd_0)\n",
    "\n",
    "    accuracy_0 = computeAccuracy(y_train_sampled, y_pred_train)\n",
    "    print(\"Initial accuracy: \", accuracy_0)"
   ]
  },
  {
   "cell_type": "code",
   "execution_count": null,
   "metadata": {
    "ExecuteTime": {
     "end_time": "2022-10-14T17:59:38.799599Z",
     "start_time": "2022-10-14T17:59:38.797829Z"
    },
    "code_folding": [],
    "hidden": true,
    "id": "Nxas-75StENm"
   },
   "outputs": [],
   "source": [
    "if indicator:\n",
    "    sens_attr = 'race'\n",
    "    parent_1 = 'race'\n",
    "    parent_2 = 'race'\n",
    "    parent_3 = 'DI'"
   ]
  },
  {
   "cell_type": "markdown",
   "metadata": {
    "hidden": true,
    "id": "vdr8dYnctENn"
   },
   "source": [
    "**Bound**"
   ]
  },
  {
   "cell_type": "code",
   "execution_count": null,
   "metadata": {
    "ExecuteTime": {
     "end_time": "2022-10-14T17:59:38.802370Z",
     "start_time": "2022-10-14T17:59:38.800739Z"
    },
    "code_folding": [],
    "hidden": true,
    "id": "Fxv7hCk2tENn",
    "scrolled": true
   },
   "outputs": [],
   "source": [
    "if indicator:\n",
    "    record_statistics(clf, record=False)"
   ]
  },
  {
   "cell_type": "markdown",
   "metadata": {
    "hidden": true,
    "id": "xKr_4_BstENn"
   },
   "source": [
    "### HDMA scenario 5"
   ]
  },
  {
   "cell_type": "code",
   "execution_count": null,
   "metadata": {
    "ExecuteTime": {
     "end_time": "2022-10-14T17:59:38.805195Z",
     "start_time": "2022-10-14T17:59:38.803558Z"
    },
    "hidden": true,
    "id": "is-cDi4jtENn"
   },
   "outputs": [],
   "source": [
    "indicator = ((dataset=='hmda') and (scenario==5))"
   ]
  },
  {
   "cell_type": "markdown",
   "metadata": {
    "hidden": true,
    "id": "PI4Qs5_itENn"
   },
   "source": [
    "**Sample based on the conditional probability**"
   ]
  },
  {
   "cell_type": "code",
   "execution_count": null,
   "metadata": {
    "ExecuteTime": {
     "end_time": "2022-10-14T17:59:38.808818Z",
     "start_time": "2022-10-14T17:59:38.806300Z"
    },
    "code_folding": [],
    "hidden": true,
    "id": "ChdbZUa_tENn"
   },
   "outputs": [],
   "source": [
    "if indicator:\n",
    "    p = np.ones_like(X_train_orig.race).astype(float)\n",
    "    p[(X_train_orig.income_brackets == 1) & (X_train_orig.DI == 1)] = 0.1\n",
    "    p[(X_train_orig.income_brackets == 0) & (X_train_orig.DI == 2)] = 0.1\n",
    "    p[(X_train_orig.income_brackets == 1) & (X_train_orig.DI == 3)] = 0.2\n",
    "    plt.hist(p, bins=10)\n",
    "    plt.show()"
   ]
  },
  {
   "cell_type": "code",
   "execution_count": null,
   "metadata": {
    "ExecuteTime": {
     "end_time": "2022-10-14T17:59:38.812048Z",
     "start_time": "2022-10-14T17:59:38.809960Z"
    },
    "hidden": true,
    "id": "Jfcp-mnZtENn"
   },
   "outputs": [],
   "source": [
    "if indicator:\n",
    "    np.random.seed(0)\n",
    "    sample_bool = np.zeros(len(X_train))\n",
    "    for idx in range(len(X_train)):\n",
    "        sample_bool[idx] = np.random.binomial(n=1, p=p[idx])  # True or False"
   ]
  },
  {
   "cell_type": "code",
   "execution_count": null,
   "metadata": {
    "ExecuteTime": {
     "end_time": "2022-10-14T17:59:38.815492Z",
     "start_time": "2022-10-14T17:59:38.813231Z"
    },
    "code_folding": [],
    "hidden": true,
    "id": "FWTSlImvtENn"
   },
   "outputs": [],
   "source": [
    "if indicator:\n",
    "    X_train_orig_sampled = X_train_orig.loc[np.where(sample_bool)[0]]\n",
    "    X_train_orig_sampled = X_train_orig_sampled.reset_index(drop=True)\n",
    "    X_train_sampled = X_train[np.where(sample_bool)[0]]\n",
    "    y_train_sampled = y_train[np.where(sample_bool)[0]].reset_index(drop=True)"
   ]
  },
  {
   "cell_type": "code",
   "execution_count": null,
   "metadata": {
    "ExecuteTime": {
     "end_time": "2022-10-14T17:59:38.820174Z",
     "start_time": "2022-10-14T17:59:38.816703Z"
    },
    "code_folding": [],
    "hidden": true,
    "id": "fGAwN7FJtENo"
   },
   "outputs": [],
   "source": [
    "if indicator:\n",
    "    clf = LogisticRegression(input_size=X_train.shape[-1], epoch_num=3000, c=0.003)\n",
    "\n",
    "    clf.fit(X_train_sampled, y_train_sampled.to_numpy(), use_sklearn=False)\n",
    "\n",
    "    y_pred_test = clf.predict_proba(X_test)\n",
    "    y_pred_train = clf.predict_proba(X_train)\n",
    "\n",
    "    spd_0 = computeFairness(y_pred_test, X_test_orig, y_test, 0, dataset)\n",
    "    print(\"Initial statistical parity: \", spd_0)\n",
    "\n",
    "    tpr_parity_0 = computeFairness(y_pred_test, X_test_orig, y_test, 1, dataset)\n",
    "    print(\"Initial TPR parity: \", tpr_parity_0)\n",
    "\n",
    "    predictive_parity_0 = computeFairness(y_pred_test, X_test_orig, y_test, 2, dataset)\n",
    "    print(\"Initial predictive parity: \", predictive_parity_0)\n",
    "\n",
    "    loss_0 = logistic_loss(y_test, y_pred_test)\n",
    "    print(\"Initial loss: \", loss_0)\n",
    "\n",
    "    accuracy_0 = computeAccuracy(y_test, y_pred_test)\n",
    "    print(\"Initial accuracy: \", accuracy_0)"
   ]
  },
  {
   "cell_type": "code",
   "execution_count": null,
   "metadata": {
    "ExecuteTime": {
     "end_time": "2022-10-14T17:59:38.823202Z",
     "start_time": "2022-10-14T17:59:38.821258Z"
    },
    "code_folding": [],
    "hidden": true,
    "id": "OApiIV59tENo"
   },
   "outputs": [],
   "source": [
    "if indicator:\n",
    "    y_pred_train = clf.predict_proba(X_train_sampled)\n",
    "\n",
    "    spd_0 = computeFairness(y_pred_train, X_train_orig_sampled, y_train_sampled, 0, dataset)\n",
    "    print(\"Initial statistical parity: \", spd_0)\n",
    "\n",
    "    accuracy_0 = computeAccuracy(y_train_sampled, y_pred_train)\n",
    "    print(\"Initial accuracy: \", accuracy_0)"
   ]
  },
  {
   "cell_type": "code",
   "execution_count": null,
   "metadata": {
    "ExecuteTime": {
     "end_time": "2022-10-14T17:59:38.826282Z",
     "start_time": "2022-10-14T17:59:38.824424Z"
    },
    "code_folding": [],
    "hidden": true,
    "id": "60HW8P02tENo"
   },
   "outputs": [],
   "source": [
    "if indicator:\n",
    "    sens_attr = 'race'\n",
    "    parent_1 = 'income_brackets'\n",
    "    parent_2 = 'income_brackets'\n",
    "    parent_3 = 'DI'"
   ]
  },
  {
   "cell_type": "markdown",
   "metadata": {
    "hidden": true,
    "id": "Af_Llqh6tENo"
   },
   "source": [
    "**Bound**"
   ]
  },
  {
   "cell_type": "code",
   "execution_count": null,
   "metadata": {
    "ExecuteTime": {
     "end_time": "2022-10-14T17:59:38.840049Z",
     "start_time": "2022-10-14T17:59:38.838371Z"
    },
    "code_folding": [],
    "hidden": true,
    "id": "1jRz7XjVtENo",
    "scrolled": true
   },
   "outputs": [],
   "source": [
    "if indicator:\n",
    "    record_statistics(clf, record=False)"
   ]
  },
  {
   "cell_type": "code",
   "execution_count": null,
   "metadata": {
    "hidden": true,
    "id": "QqIU9an0tENo"
   },
   "outputs": [],
   "source": []
  },
  {
   "cell_type": "code",
   "execution_count": null,
   "metadata": {
    "hidden": true,
    "id": "sC52Twx2tENo"
   },
   "outputs": [],
   "source": []
  },
  {
   "cell_type": "markdown",
   "metadata": {
    "hidden": true,
    "id": "Ok5Aa1i_tENo"
   },
   "source": [
    "### HDMA scenario 6"
   ]
  },
  {
   "cell_type": "code",
   "execution_count": null,
   "metadata": {
    "ExecuteTime": {
     "end_time": "2022-10-14T17:59:38.848074Z",
     "start_time": "2022-10-14T17:59:38.846403Z"
    },
    "hidden": true,
    "id": "hsMiamQOtENp"
   },
   "outputs": [],
   "source": [
    "indicator = ((dataset=='hmda') and (scenario==6))"
   ]
  },
  {
   "cell_type": "markdown",
   "metadata": {
    "hidden": true,
    "id": "WxoQH4y1tENp"
   },
   "source": [
    "**Sample based on the conditional probability**"
   ]
  },
  {
   "cell_type": "code",
   "execution_count": null,
   "metadata": {
    "ExecuteTime": {
     "end_time": "2022-10-14T17:59:38.852475Z",
     "start_time": "2022-10-14T17:59:38.849283Z"
    },
    "code_folding": [],
    "hidden": true,
    "id": "1rQywr1LtENp"
   },
   "outputs": [],
   "source": [
    "if indicator:\n",
    "    p = np.ones_like(X_train_orig.race).astype(float)\n",
    "    p[(y_train == 1) & (X_train_orig.DI == 1)] = 0.5\n",
    "    p[(y_train == 1) & (X_train_orig.DI == 2)] = 0.5\n",
    "    p[(y_train == 0) & (X_train_orig.DI == 3)] = 0.2\n",
    "    plt.hist(p, bins=10)\n",
    "    plt.show()"
   ]
  },
  {
   "cell_type": "code",
   "execution_count": null,
   "metadata": {
    "ExecuteTime": {
     "end_time": "2022-10-14T17:59:38.856564Z",
     "start_time": "2022-10-14T17:59:38.853772Z"
    },
    "hidden": true,
    "id": "nf6aVBrFtENp"
   },
   "outputs": [],
   "source": [
    "if indicator:\n",
    "    np.random.seed(0)\n",
    "    sample_bool = np.zeros(len(X_train))\n",
    "    for idx in range(len(X_train)):\n",
    "        sample_bool[idx] = np.random.binomial(n=1, p=p[idx])  # True or False"
   ]
  },
  {
   "cell_type": "code",
   "execution_count": null,
   "metadata": {
    "ExecuteTime": {
     "end_time": "2022-10-14T17:59:38.860660Z",
     "start_time": "2022-10-14T17:59:38.857879Z"
    },
    "code_folding": [],
    "hidden": true,
    "id": "TBOM6ge9tENp"
   },
   "outputs": [],
   "source": [
    "if indicator:\n",
    "    X_train_orig_sampled = X_train_orig.loc[np.where(sample_bool)[0]]\n",
    "    X_train_orig_sampled = X_train_orig_sampled.reset_index(drop=True)\n",
    "    X_train_sampled = X_train[np.where(sample_bool)[0]]\n",
    "    y_train_sampled = y_train[np.where(sample_bool)[0]].reset_index(drop=True)"
   ]
  },
  {
   "cell_type": "code",
   "execution_count": null,
   "metadata": {
    "ExecuteTime": {
     "end_time": "2022-10-14T17:59:38.865391Z",
     "start_time": "2022-10-14T17:59:38.861871Z"
    },
    "code_folding": [],
    "hidden": true,
    "id": "iek4sM2YtENp"
   },
   "outputs": [],
   "source": [
    "if indicator:\n",
    "    clf = LogisticRegression(input_size=X_train.shape[-1], epoch_num=3000, c=0.003)\n",
    "\n",
    "    clf.fit(X_train_sampled, y_train_sampled.to_numpy(), use_sklearn=False)\n",
    "\n",
    "    y_pred_test = clf.predict_proba(X_test)\n",
    "    y_pred_train = clf.predict_proba(X_train)\n",
    "\n",
    "    spd_0 = computeFairness(y_pred_test, X_test_orig, y_test, 0, dataset)\n",
    "    print(\"Initial statistical parity: \", spd_0)\n",
    "\n",
    "    tpr_parity_0 = computeFairness(y_pred_test, X_test_orig, y_test, 1, dataset)\n",
    "    print(\"Initial TPR parity: \", tpr_parity_0)\n",
    "\n",
    "    predictive_parity_0 = computeFairness(y_pred_test, X_test_orig, y_test, 2, dataset)\n",
    "    print(\"Initial predictive parity: \", predictive_parity_0)\n",
    "\n",
    "    loss_0 = logistic_loss(y_test, y_pred_test)\n",
    "    print(\"Initial loss: \", loss_0)\n",
    "\n",
    "    accuracy_0 = computeAccuracy(y_test, y_pred_test)\n",
    "    print(\"Initial accuracy: \", accuracy_0)"
   ]
  },
  {
   "cell_type": "code",
   "execution_count": null,
   "metadata": {
    "ExecuteTime": {
     "end_time": "2022-10-14T17:59:38.868773Z",
     "start_time": "2022-10-14T17:59:38.866573Z"
    },
    "code_folding": [],
    "hidden": true,
    "id": "gWwejz4etENp"
   },
   "outputs": [],
   "source": [
    "if indicator:\n",
    "    y_pred_train = clf.predict_proba(X_train_sampled)\n",
    "\n",
    "    spd_0 = computeFairness(y_pred_train, X_train_orig_sampled, y_train_sampled, 0, dataset)\n",
    "    print(\"Initial statistical parity: \", spd_0)\n",
    "\n",
    "    accuracy_0 = computeAccuracy(y_train_sampled, y_pred_train)\n",
    "    print(\"Initial accuracy: \", accuracy_0)"
   ]
  },
  {
   "cell_type": "code",
   "execution_count": null,
   "metadata": {
    "ExecuteTime": {
     "end_time": "2022-10-14T17:59:38.871925Z",
     "start_time": "2022-10-14T17:59:38.869929Z"
    },
    "code_folding": [],
    "hidden": true,
    "id": "LLy598GhtENq"
   },
   "outputs": [],
   "source": [
    "if indicator:\n",
    "    sens_attr = 'race'\n",
    "    parent_1 = 'DI'\n",
    "    parent_2 = 'DI'\n",
    "    parent_3 = 'y'"
   ]
  },
  {
   "cell_type": "markdown",
   "metadata": {
    "hidden": true,
    "id": "3jDxyYhHtENr"
   },
   "source": [
    "**Bound**"
   ]
  },
  {
   "cell_type": "code",
   "execution_count": null,
   "metadata": {
    "ExecuteTime": {
     "end_time": "2022-10-14T17:59:38.874842Z",
     "start_time": "2022-10-14T17:59:38.873088Z"
    },
    "code_folding": [],
    "hidden": true,
    "id": "TTZQwdvDtENr",
    "scrolled": false
   },
   "outputs": [],
   "source": [
    "if indicator:\n",
    "    record_statistics(clf, record=False)"
   ]
  },
  {
   "cell_type": "markdown",
   "metadata": {
    "hidden": true,
    "id": "VPc_YqfftENx"
   },
   "source": [
    "### Adult scenario 1"
   ]
  },
  {
   "cell_type": "code",
   "execution_count": null,
   "metadata": {
    "ExecuteTime": {
     "end_time": "2022-10-14T17:59:38.986199Z",
     "start_time": "2022-10-14T17:59:38.984379Z"
    },
    "hidden": true,
    "id": "kgXXmlXbtENx"
   },
   "outputs": [],
   "source": [
    "indicator = ((dataset=='adult') and (scenario==1))"
   ]
  },
  {
   "cell_type": "markdown",
   "metadata": {
    "hidden": true,
    "id": "DyP239NztENx"
   },
   "source": [
    "**Pr(C=1|married,female)=1, Pr(C=1|not_married,high)=1, Pr(C=1|married,male)=0.11, Pr(C=1|not_married,low)=1**"
   ]
  },
  {
   "cell_type": "code",
   "execution_count": null,
   "metadata": {
    "ExecuteTime": {
     "end_time": "2022-10-14T17:59:38.989424Z",
     "start_time": "2022-10-14T17:59:38.987441Z"
    },
    "code_folding": [],
    "hidden": true,
    "id": "ZexvXDjStENx",
    "scrolled": false
   },
   "outputs": [],
   "source": [
    "# generate Pr(C=1|gender, income) for each training data point\n",
    "if indicator:\n",
    "    p = np.where(np.logical_and(X_train_orig.relationship, X_train_orig.gender), 0.11, 1.0)\n",
    "    plt.hist(p)\n",
    "    plt.show()"
   ]
  },
  {
   "cell_type": "markdown",
   "metadata": {
    "hidden": true,
    "id": "2Mwa-8RUtENx"
   },
   "source": [
    "**Sample based on the conditional probability**"
   ]
  },
  {
   "cell_type": "code",
   "execution_count": null,
   "metadata": {
    "ExecuteTime": {
     "end_time": "2022-10-14T17:59:38.992809Z",
     "start_time": "2022-10-14T17:59:38.990616Z"
    },
    "code_folding": [],
    "hidden": true,
    "id": "tMYfSPUztENx"
   },
   "outputs": [],
   "source": [
    "if indicator:\n",
    "    np.random.seed(0)\n",
    "    sample_bool = np.zeros(len(X_train))\n",
    "    for idx in range(len(X_train)):\n",
    "        sample_bool[idx] = np.random.binomial(n=1, p=p[idx])  # True or False"
   ]
  },
  {
   "cell_type": "code",
   "execution_count": null,
   "metadata": {
    "ExecuteTime": {
     "end_time": "2022-10-14T17:59:38.996318Z",
     "start_time": "2022-10-14T17:59:38.993964Z"
    },
    "code_folding": [],
    "hidden": true,
    "id": "bbZBv3jNtENx"
   },
   "outputs": [],
   "source": [
    "if indicator:\n",
    "    X_train_orig_sampled = X_train_orig.loc[np.where(sample_bool)[0]]\n",
    "    X_train_orig_sampled = X_train_orig_sampled.reset_index(drop=True)\n",
    "    X_train_sampled = X_train[np.where(sample_bool)[0]]\n",
    "    y_train_sampled = y_train[np.where(sample_bool)[0]].reset_index(drop=True)"
   ]
  },
  {
   "cell_type": "code",
   "execution_count": null,
   "metadata": {
    "ExecuteTime": {
     "end_time": "2022-10-14T17:59:39.001393Z",
     "start_time": "2022-10-14T17:59:38.997862Z"
    },
    "code_folding": [],
    "hidden": true,
    "id": "YTATJRmhtENy"
   },
   "outputs": [],
   "source": [
    "if indicator:\n",
    "    clf = LogisticRegression(input_size=X_train.shape[-1], epoch_num=3000, c=0.003)\n",
    "\n",
    "    clf.fit(X_train_sampled, y_train_sampled.to_numpy(), use_sklearn=False)\n",
    "\n",
    "    y_pred_test = clf.predict_proba(X_test)\n",
    "    y_pred_train = clf.predict_proba(X_train)\n",
    "\n",
    "    spd_0 = computeFairness(y_pred_test, X_test_orig, y_test, 0, dataset)\n",
    "    print(\"Initial statistical parity: \", spd_0)\n",
    "\n",
    "    tpr_parity_0 = computeFairness(y_pred_test, X_test_orig, y_test, 1, dataset)\n",
    "    print(\"Initial TPR parity: \", tpr_parity_0)\n",
    "\n",
    "    predictive_parity_0 = computeFairness(y_pred_test, X_test_orig, y_test, 2, dataset)\n",
    "    print(\"Initial predictive parity: \", predictive_parity_0)\n",
    "\n",
    "    loss_0 = logistic_loss(y_test, y_pred_test)\n",
    "    print(\"Initial loss: \", loss_0)\n",
    "\n",
    "    accuracy_0 = computeAccuracy(y_test, y_pred_test)\n",
    "    print(\"Initial accuracy: \", accuracy_0)"
   ]
  },
  {
   "cell_type": "code",
   "execution_count": null,
   "metadata": {
    "ExecuteTime": {
     "end_time": "2022-10-14T17:59:39.004773Z",
     "start_time": "2022-10-14T17:59:39.002538Z"
    },
    "code_folding": [
     0
    ],
    "hidden": true,
    "id": "LKMtRkjTtENy"
   },
   "outputs": [],
   "source": [
    "if indicator:\n",
    "    y_pred_train = clf.predict_proba(X_train_sampled)\n",
    "\n",
    "    spd_0 = computeFairness(y_pred_train, X_train_orig_sampled, y_train_sampled, 0, dataset)\n",
    "    print(\"Initial statistical parity: \", spd_0)\n",
    "\n",
    "    accuracy_0 = computeAccuracy(y_train_sampled, y_pred_train)\n",
    "    print(\"Initial accuracy: \", accuracy_0)"
   ]
  },
  {
   "cell_type": "code",
   "execution_count": null,
   "metadata": {
    "ExecuteTime": {
     "end_time": "2022-10-14T17:59:39.007794Z",
     "start_time": "2022-10-14T17:59:39.005988Z"
    },
    "code_folding": [],
    "hidden": true,
    "id": "WspqfSSetENy"
   },
   "outputs": [],
   "source": [
    "if indicator:\n",
    "    sens_attr = 'gender'\n",
    "    parent_1 = 'relationship'\n",
    "    parent_2 = 'gender'\n",
    "    parent_3 = 'gender'"
   ]
  },
  {
   "cell_type": "markdown",
   "metadata": {
    "hidden": true,
    "id": "6l9hasYJtENy"
   },
   "source": [
    "**Bound**"
   ]
  },
  {
   "cell_type": "code",
   "execution_count": null,
   "metadata": {
    "ExecuteTime": {
     "end_time": "2022-10-14T17:59:39.010608Z",
     "start_time": "2022-10-14T17:59:39.008937Z"
    },
    "code_folding": [],
    "hidden": true,
    "id": "F1rcDkH9tENy",
    "scrolled": false
   },
   "outputs": [],
   "source": [
    "if indicator:\n",
    "    record_statistics(clf, record=False)"
   ]
  },
  {
   "cell_type": "markdown",
   "metadata": {
    "hidden": true,
    "id": "0juG7GpCtENy"
   },
   "source": [
    "### Adult scenario 2\n"
   ]
  },
  {
   "cell_type": "code",
   "execution_count": null,
   "metadata": {
    "ExecuteTime": {
     "end_time": "2022-10-14T17:59:39.013569Z",
     "start_time": "2022-10-14T17:59:39.011711Z"
    },
    "hidden": true,
    "id": "7muXO_z5tENy"
   },
   "outputs": [],
   "source": [
    "indicator = ((dataset=='adult') and (scenario==2))"
   ]
  },
  {
   "cell_type": "code",
   "execution_count": null,
   "metadata": {
    "ExecuteTime": {
     "end_time": "2022-10-14T17:59:39.019065Z",
     "start_time": "2022-10-14T17:59:39.015683Z"
    },
    "code_folding": [],
    "hidden": true,
    "id": "ZOIzWcIHtENy",
    "scrolled": false
   },
   "outputs": [],
   "source": [
    "if indicator:\n",
    "    p = np.ones_like(X_train_orig.gender).astype(float)\n",
    "    p[(X_train_orig.relationship==1)&(X_train_orig.education==0)] = 0.2\n",
    "    p[(X_train_orig.relationship==1)&(X_train_orig.education==1)] = 0.4\n",
    "    p[(X_train_orig.relationship==1)&(X_train_orig.education==2)] = 0.6\n",
    "    p[(X_train_orig.relationship==0)&(X_train_orig.education==1)] = 0.6\n",
    "    p[(X_train_orig.relationship==0)&(X_train_orig.education==2)] = 0.4\n",
    "    p[(X_train_orig.relationship==0)&(X_train_orig.education==3)] = 0.2\n",
    "    plt.hist(p, bins=10)\n",
    "    plt.show()"
   ]
  },
  {
   "cell_type": "markdown",
   "metadata": {
    "hidden": true,
    "id": "6wtnEqbAtENy"
   },
   "source": [
    "**Sample based on the conditional probability**"
   ]
  },
  {
   "cell_type": "code",
   "execution_count": null,
   "metadata": {
    "ExecuteTime": {
     "end_time": "2022-10-14T17:59:39.022547Z",
     "start_time": "2022-10-14T17:59:39.020232Z"
    },
    "code_folding": [],
    "hidden": true,
    "id": "LfSLtSQ-tENy"
   },
   "outputs": [],
   "source": [
    "if indicator:\n",
    "    np.random.seed(0)\n",
    "    sample_bool = np.zeros(len(X_train))\n",
    "    for idx in range(len(X_train)):\n",
    "        sample_bool[idx] = np.random.binomial(n=1, p=p[idx])  # True or False"
   ]
  },
  {
   "cell_type": "code",
   "execution_count": null,
   "metadata": {
    "ExecuteTime": {
     "end_time": "2022-10-14T17:59:39.026256Z",
     "start_time": "2022-10-14T17:59:39.023703Z"
    },
    "code_folding": [],
    "hidden": true,
    "id": "5sA1uMjntENy"
   },
   "outputs": [],
   "source": [
    "if indicator:\n",
    "    X_train_orig_sampled = X_train_orig.loc[np.where(sample_bool)[0]]\n",
    "    X_train_orig_sampled = X_train_orig_sampled.reset_index(drop=True)\n",
    "    X_train_sampled = X_train[np.where(sample_bool)[0]]\n",
    "    y_train_sampled = y_train[np.where(sample_bool)[0]].reset_index(drop=True)"
   ]
  },
  {
   "cell_type": "code",
   "execution_count": null,
   "metadata": {
    "ExecuteTime": {
     "end_time": "2022-10-14T17:59:39.030756Z",
     "start_time": "2022-10-14T17:59:39.027456Z"
    },
    "code_folding": [],
    "hidden": true,
    "id": "3dka5zs2tENy"
   },
   "outputs": [],
   "source": [
    "if indicator:\n",
    "    clf = LogisticRegression(input_size=X_train.shape[-1], epoch_num=3000, c=0.003)\n",
    "\n",
    "    clf.fit(X_train_sampled, y_train_sampled.to_numpy(), use_sklearn=False)\n",
    "\n",
    "    y_pred_test = clf.predict_proba(X_test)\n",
    "    y_pred_train = clf.predict_proba(X_train)\n",
    "\n",
    "    spd_0 = computeFairness(y_pred_test, X_test_orig, y_test, 0, dataset)\n",
    "    print(\"Initial statistical parity: \", spd_0)\n",
    "\n",
    "    tpr_parity_0 = computeFairness(y_pred_test, X_test_orig, y_test, 1, dataset)\n",
    "    print(\"Initial TPR parity: \", tpr_parity_0)\n",
    "\n",
    "    predictive_parity_0 = computeFairness(y_pred_test, X_test_orig, y_test, 2, dataset)\n",
    "    print(\"Initial predictive parity: \", predictive_parity_0)\n",
    "\n",
    "    loss_0 = logistic_loss(y_test, y_pred_test)\n",
    "    print(\"Initial loss: \", loss_0)\n",
    "\n",
    "    accuracy_0 = computeAccuracy(y_test, y_pred_test)\n",
    "    print(\"Initial accuracy: \", accuracy_0)"
   ]
  },
  {
   "cell_type": "code",
   "execution_count": null,
   "metadata": {
    "ExecuteTime": {
     "end_time": "2022-10-14T17:59:39.034194Z",
     "start_time": "2022-10-14T17:59:39.031965Z"
    },
    "code_folding": [
     0
    ],
    "hidden": true,
    "id": "0vxn-LUatENy"
   },
   "outputs": [],
   "source": [
    "if indicator:\n",
    "    y_pred_train = clf.predict_proba(X_train_sampled)\n",
    "\n",
    "    spd_0 = computeFairness(y_pred_train, X_train_orig_sampled, y_train_sampled, 0, dataset)\n",
    "    print(\"Initial statistical parity: \", spd_0)\n",
    "\n",
    "    accuracy_0 = computeAccuracy(y_train_sampled, y_pred_train)\n",
    "    print(\"Initial accuracy: \", accuracy_0)"
   ]
  },
  {
   "cell_type": "code",
   "execution_count": null,
   "metadata": {
    "ExecuteTime": {
     "end_time": "2022-10-14T17:59:39.037469Z",
     "start_time": "2022-10-14T17:59:39.035297Z"
    },
    "code_folding": [],
    "hidden": true,
    "id": "Sclal3QBtENz"
   },
   "outputs": [],
   "source": [
    "if indicator:\n",
    "    sens_attr = 'gender'\n",
    "    parent_1 = 'relationship'\n",
    "    parent_2 = 'relationship'\n",
    "    parent_3 = 'education'"
   ]
  },
  {
   "cell_type": "markdown",
   "metadata": {
    "hidden": true,
    "id": "QIpqSgv1tENz"
   },
   "source": [
    "**Bound**"
   ]
  },
  {
   "cell_type": "code",
   "execution_count": null,
   "metadata": {
    "ExecuteTime": {
     "end_time": "2022-10-14T17:59:39.040243Z",
     "start_time": "2022-10-14T17:59:39.038540Z"
    },
    "code_folding": [],
    "hidden": true,
    "id": "s84IV6tJtENz",
    "scrolled": true
   },
   "outputs": [],
   "source": [
    "if indicator:\n",
    "    record_statistics(clf, record=False)"
   ]
  },
  {
   "cell_type": "markdown",
   "metadata": {
    "hidden": true,
    "id": "iyTHSGFFtENz"
   },
   "source": [
    "### Adult scenario 3"
   ]
  },
  {
   "cell_type": "code",
   "execution_count": null,
   "metadata": {
    "ExecuteTime": {
     "end_time": "2022-10-14T17:59:39.042960Z",
     "start_time": "2022-10-14T17:59:39.041291Z"
    },
    "hidden": true,
    "id": "D5YKTwl8tENz"
   },
   "outputs": [],
   "source": [
    "indicator = ((dataset=='adult') and (scenario==3))"
   ]
  },
  {
   "cell_type": "code",
   "execution_count": null,
   "metadata": {
    "ExecuteTime": {
     "end_time": "2022-10-14T17:59:39.046409Z",
     "start_time": "2022-10-14T17:59:39.044186Z"
    },
    "code_folding": [],
    "hidden": true,
    "id": "fm4xRIeCtENz",
    "scrolled": false
   },
   "outputs": [],
   "source": [
    "if indicator:\n",
    "    p = np.ones_like(X_train_orig.gender).astype(float)\n",
    "    p[(X_train_orig.relationship==1)&(y_train==0)] = 0.2\n",
    "    p[(X_train_orig.relationship==0)&(y_train==1)] = 0.2\n",
    "    plt.hist(p, bins=10)\n",
    "    plt.show()"
   ]
  },
  {
   "cell_type": "markdown",
   "metadata": {
    "hidden": true,
    "id": "SvCRXx45tENz"
   },
   "source": [
    "**Sample based on the conditional probability**"
   ]
  },
  {
   "cell_type": "code",
   "execution_count": null,
   "metadata": {
    "ExecuteTime": {
     "end_time": "2022-10-14T17:59:39.049899Z",
     "start_time": "2022-10-14T17:59:39.047547Z"
    },
    "code_folding": [],
    "hidden": true,
    "id": "5_gICwmItEN0"
   },
   "outputs": [],
   "source": [
    "if indicator:\n",
    "    np.random.seed(0)\n",
    "    sample_bool = np.zeros(len(X_train))\n",
    "    for idx in range(len(X_train)):\n",
    "        sample_bool[idx] = np.random.binomial(n=1, p=p[idx])  # True or False"
   ]
  },
  {
   "cell_type": "code",
   "execution_count": null,
   "metadata": {
    "ExecuteTime": {
     "end_time": "2022-10-14T17:59:39.053685Z",
     "start_time": "2022-10-14T17:59:39.051055Z"
    },
    "code_folding": [],
    "hidden": true,
    "id": "F_l4Ea6GtEN0"
   },
   "outputs": [],
   "source": [
    "if indicator:\n",
    "    X_train_orig_sampled = X_train_orig.loc[np.where(sample_bool)[0]]\n",
    "    X_train_orig_sampled = X_train_orig_sampled.reset_index(drop=True)\n",
    "    X_train_sampled = X_train[np.where(sample_bool)[0]]\n",
    "    y_train_sampled = y_train[np.where(sample_bool)[0]].reset_index(drop=True)"
   ]
  },
  {
   "cell_type": "code",
   "execution_count": null,
   "metadata": {
    "ExecuteTime": {
     "end_time": "2022-10-14T17:59:39.058322Z",
     "start_time": "2022-10-14T17:59:39.054861Z"
    },
    "code_folding": [],
    "hidden": true,
    "id": "upFdrAC0tEN0"
   },
   "outputs": [],
   "source": [
    "if indicator:\n",
    "    clf = LogisticRegression(input_size=X_train.shape[-1], epoch_num=3000, c=0.003)\n",
    "\n",
    "    clf.fit(X_train_sampled, y_train_sampled.to_numpy(), use_sklearn=False)\n",
    "\n",
    "    y_pred_test = clf.predict_proba(X_test)\n",
    "    y_pred_train = clf.predict_proba(X_train)\n",
    "\n",
    "    spd_0 = computeFairness(y_pred_test, X_test_orig, y_test, 0, dataset)\n",
    "    print(\"Initial statistical parity: \", spd_0)\n",
    "\n",
    "    tpr_parity_0 = computeFairness(y_pred_test, X_test_orig, y_test, 1, dataset)\n",
    "    print(\"Initial TPR parity: \", tpr_parity_0)\n",
    "\n",
    "    predictive_parity_0 = computeFairness(y_pred_test, X_test_orig, y_test, 2, dataset)\n",
    "    print(\"Initial predictive parity: \", predictive_parity_0)\n",
    "\n",
    "    loss_0 = logistic_loss(y_test, y_pred_test)\n",
    "    print(\"Initial loss: \", loss_0)\n",
    "\n",
    "    accuracy_0 = computeAccuracy(y_test, y_pred_test)\n",
    "    print(\"Initial accuracy: \", accuracy_0)"
   ]
  },
  {
   "cell_type": "code",
   "execution_count": null,
   "metadata": {
    "ExecuteTime": {
     "end_time": "2022-10-14T17:59:39.061691Z",
     "start_time": "2022-10-14T17:59:39.059439Z"
    },
    "code_folding": [
     0
    ],
    "hidden": true,
    "id": "7XWH4YqFtEN0"
   },
   "outputs": [],
   "source": [
    "if indicator:\n",
    "    y_pred_train = clf.predict_proba(X_train_sampled)\n",
    "\n",
    "    spd_0 = computeFairness(y_pred_train, X_train_orig_sampled, y_train_sampled, 0, dataset)\n",
    "    print(\"Initial statistical parity: \", spd_0)\n",
    "\n",
    "    accuracy_0 = computeAccuracy(y_train_sampled, y_pred_train)\n",
    "    print(\"Initial accuracy: \", accuracy_0)"
   ]
  },
  {
   "cell_type": "code",
   "execution_count": null,
   "metadata": {
    "ExecuteTime": {
     "end_time": "2022-10-14T17:59:39.065164Z",
     "start_time": "2022-10-14T17:59:39.062862Z"
    },
    "code_folding": [],
    "hidden": true,
    "id": "ZOKG50SEtEN0"
   },
   "outputs": [],
   "source": [
    "if indicator:\n",
    "    sens_attr = 'gender'\n",
    "    parent_1 = 'relationship'\n",
    "    parent_2 = 'relationship'\n",
    "    parent_3 = 'y'"
   ]
  },
  {
   "cell_type": "markdown",
   "metadata": {
    "hidden": true,
    "id": "iqlP6vXatEN1"
   },
   "source": [
    "**Bound**"
   ]
  },
  {
   "cell_type": "code",
   "execution_count": null,
   "metadata": {
    "ExecuteTime": {
     "end_time": "2022-10-14T17:59:39.068582Z",
     "start_time": "2022-10-14T17:59:39.066548Z"
    },
    "code_folding": [],
    "hidden": true,
    "id": "FQyN5PyEtEN1",
    "scrolled": true
   },
   "outputs": [],
   "source": [
    "if indicator:\n",
    "    record_statistics(clf, record=False)"
   ]
  },
  {
   "cell_type": "markdown",
   "metadata": {
    "hidden": true,
    "id": "68YjQlu8tEN1"
   },
   "source": [
    "### Adult scenario 4"
   ]
  },
  {
   "cell_type": "code",
   "execution_count": null,
   "metadata": {
    "ExecuteTime": {
     "end_time": "2022-10-14T17:59:39.071514Z",
     "start_time": "2022-10-14T17:59:39.069749Z"
    },
    "hidden": true,
    "id": "5OaKhkxDtEN1"
   },
   "outputs": [],
   "source": [
    "indicator = ((dataset=='adult') and (scenario==4))"
   ]
  },
  {
   "cell_type": "code",
   "execution_count": null,
   "metadata": {
    "ExecuteTime": {
     "end_time": "2022-10-14T17:59:39.074725Z",
     "start_time": "2022-10-14T17:59:39.072535Z"
    },
    "code_folding": [],
    "hidden": true,
    "id": "fJnfwLTZtEN1",
    "scrolled": false
   },
   "outputs": [],
   "source": [
    "if indicator:\n",
    "    p = np.ones_like(X_train_orig.gender).astype(float)\n",
    "    p[(X_train_orig.relationship==0)&(X_train_orig.gender==1)] = 0.5\n",
    "    plt.hist(p)\n",
    "    plt.show()"
   ]
  },
  {
   "cell_type": "markdown",
   "metadata": {
    "hidden": true,
    "id": "LzhCzF_rtEN1"
   },
   "source": [
    "**Sample based on the conditional probability**"
   ]
  },
  {
   "cell_type": "code",
   "execution_count": null,
   "metadata": {
    "ExecuteTime": {
     "end_time": "2022-10-14T17:59:39.078384Z",
     "start_time": "2022-10-14T17:59:39.075766Z"
    },
    "code_folding": [],
    "hidden": true,
    "id": "M4e9EZnctEN1"
   },
   "outputs": [],
   "source": [
    "if indicator:\n",
    "    np.random.seed(0)\n",
    "    sample_bool = np.zeros(len(X_train))\n",
    "    for idx in range(len(X_train)):\n",
    "        sample_bool[idx] = np.random.binomial(n=1, p=p[idx])  # True or False"
   ]
  },
  {
   "cell_type": "code",
   "execution_count": null,
   "metadata": {
    "ExecuteTime": {
     "end_time": "2022-10-14T17:59:39.082966Z",
     "start_time": "2022-10-14T17:59:39.079541Z"
    },
    "code_folding": [],
    "hidden": true,
    "id": "WjiX73lctEN1"
   },
   "outputs": [],
   "source": [
    "if indicator:\n",
    "    X_train_orig_sampled = X_train_orig.loc[np.where(sample_bool)[0]]\n",
    "    X_train_orig_sampled = X_train_orig_sampled.reset_index(drop=True)\n",
    "    X_train_sampled = X_train[np.where(sample_bool)[0]]\n",
    "    y_train_sampled = y_train[np.where(sample_bool)[0]].reset_index(drop=True)"
   ]
  },
  {
   "cell_type": "code",
   "execution_count": null,
   "metadata": {
    "ExecuteTime": {
     "end_time": "2022-10-14T17:59:39.088332Z",
     "start_time": "2022-10-14T17:59:39.084679Z"
    },
    "code_folding": [],
    "hidden": true,
    "id": "qsmu64ExtEN1"
   },
   "outputs": [],
   "source": [
    "if indicator:\n",
    "    clf = LogisticRegression(input_size=X_train.shape[-1], epoch_num=3000, c=0.003)\n",
    "\n",
    "    clf.fit(X_train_sampled, y_train_sampled.to_numpy(), use_sklearn=False)\n",
    "\n",
    "    y_pred_test = clf.predict_proba(X_test)\n",
    "    y_pred_train = clf.predict_proba(X_train)\n",
    "\n",
    "    spd_0 = computeFairness(y_pred_test, X_test_orig, y_test, 0, dataset)\n",
    "    print(\"Initial statistical parity: \", spd_0)\n",
    "\n",
    "    tpr_parity_0 = computeFairness(y_pred_test, X_test_orig, y_test, 1, dataset)\n",
    "    print(\"Initial TPR parity: \", tpr_parity_0)\n",
    "\n",
    "    predictive_parity_0 = computeFairness(y_pred_test, X_test_orig, y_test, 2, dataset)\n",
    "    print(\"Initial predictive parity: \", predictive_parity_0)\n",
    "\n",
    "    loss_0 = logistic_loss(y_test, y_pred_test)\n",
    "    print(\"Initial loss: \", loss_0)\n",
    "\n",
    "    accuracy_0 = computeAccuracy(y_test, y_pred_test)\n",
    "    print(\"Initial accuracy: \", accuracy_0)"
   ]
  },
  {
   "cell_type": "code",
   "execution_count": null,
   "metadata": {
    "ExecuteTime": {
     "end_time": "2022-10-14T17:59:39.091592Z",
     "start_time": "2022-10-14T17:59:39.089471Z"
    },
    "code_folding": [
     0
    ],
    "hidden": true,
    "id": "4gHlJopstEN1"
   },
   "outputs": [],
   "source": [
    "if indicator:\n",
    "    y_pred_train = clf.predict_proba(X_train_sampled)\n",
    "\n",
    "    spd_0 = computeFairness(y_pred_train, X_train_orig_sampled, y_train_sampled, 0, dataset)\n",
    "    print(\"Initial statistical parity: \", spd_0)\n",
    "\n",
    "    accuracy_0 = computeAccuracy(y_train_sampled, y_pred_train)\n",
    "    print(\"Initial accuracy: \", accuracy_0)"
   ]
  },
  {
   "cell_type": "code",
   "execution_count": null,
   "metadata": {
    "ExecuteTime": {
     "end_time": "2022-10-14T17:59:39.094796Z",
     "start_time": "2022-10-14T17:59:39.092936Z"
    },
    "code_folding": [],
    "hidden": true,
    "id": "rsHrbE9WtEN1"
   },
   "outputs": [],
   "source": [
    "if indicator:\n",
    "    sens_attr = 'gender'\n",
    "    parent_1 = 'gender'\n",
    "    parent_2 = 'gender'\n",
    "    parent_3 = 'relationship'"
   ]
  },
  {
   "cell_type": "markdown",
   "metadata": {
    "hidden": true,
    "id": "hIvKZ1qGtEN1"
   },
   "source": [
    "**Bound**"
   ]
  },
  {
   "cell_type": "code",
   "execution_count": null,
   "metadata": {
    "ExecuteTime": {
     "end_time": "2022-10-14T17:59:39.097910Z",
     "start_time": "2022-10-14T17:59:39.096028Z"
    },
    "code_folding": [],
    "hidden": true,
    "id": "THjOOQActEN1",
    "scrolled": false
   },
   "outputs": [],
   "source": [
    "if indicator:\n",
    "    record_statistics(clf, record=False)"
   ]
  },
  {
   "cell_type": "code",
   "execution_count": null,
   "metadata": {
    "hidden": true,
    "id": "eYrPxrWrtEN1"
   },
   "outputs": [],
   "source": []
  },
  {
   "cell_type": "markdown",
   "metadata": {
    "hidden": true,
    "id": "GTaz6NCmtEN2"
   },
   "source": [
    "### Adult scenario 5"
   ]
  },
  {
   "cell_type": "code",
   "execution_count": null,
   "metadata": {
    "ExecuteTime": {
     "end_time": "2022-10-14T17:59:39.102410Z",
     "start_time": "2022-10-14T17:59:39.099838Z"
    },
    "hidden": true,
    "id": "TnCMVG1RtEN2"
   },
   "outputs": [],
   "source": [
    "indicator = ((dataset=='adult') and (scenario==5))"
   ]
  },
  {
   "cell_type": "code",
   "execution_count": null,
   "metadata": {
    "ExecuteTime": {
     "end_time": "2022-10-14T17:59:39.106462Z",
     "start_time": "2022-10-14T17:59:39.103884Z"
    },
    "code_folding": [],
    "hidden": true,
    "id": "n2TwDC8AtEN2",
    "scrolled": false
   },
   "outputs": [],
   "source": [
    "if indicator:\n",
    "    p = np.ones_like(X_train_orig.gender).astype(float)\n",
    "    p[(X_train_orig.relationship==0)&(X_train_orig.hours==0)] = 0.154/0.658\n",
    "    p[(X_train_orig.relationship==1)&(X_train_orig.hours==1)] = 0.240/1.52\n",
    "    plt.hist(p, bins=10)\n",
    "    plt.show()"
   ]
  },
  {
   "cell_type": "markdown",
   "metadata": {
    "hidden": true,
    "id": "SUi65LeNtEN2"
   },
   "source": [
    "**Sample based on the conditional probability**"
   ]
  },
  {
   "cell_type": "code",
   "execution_count": null,
   "metadata": {
    "ExecuteTime": {
     "end_time": "2022-10-14T17:59:39.109875Z",
     "start_time": "2022-10-14T17:59:39.107684Z"
    },
    "code_folding": [],
    "hidden": true,
    "id": "QY9485nQtEN2"
   },
   "outputs": [],
   "source": [
    "if indicator:\n",
    "    np.random.seed(0)\n",
    "    sample_bool = np.zeros(len(X_train))\n",
    "    for idx in range(len(X_train)):\n",
    "        sample_bool[idx] = np.random.binomial(n=1, p=p[idx])  # True or False"
   ]
  },
  {
   "cell_type": "code",
   "execution_count": null,
   "metadata": {
    "ExecuteTime": {
     "end_time": "2022-10-14T17:59:39.113372Z",
     "start_time": "2022-10-14T17:59:39.111011Z"
    },
    "code_folding": [],
    "hidden": true,
    "id": "adLEa0ritEN2"
   },
   "outputs": [],
   "source": [
    "if indicator:\n",
    "    X_train_orig_sampled = X_train_orig.loc[np.where(sample_bool)[0]]\n",
    "    X_train_orig_sampled = X_train_orig_sampled.reset_index(drop=True)\n",
    "    X_train_sampled = X_train[np.where(sample_bool)[0]]\n",
    "    y_train_sampled = y_train[np.where(sample_bool)[0]].reset_index(drop=True)"
   ]
  },
  {
   "cell_type": "code",
   "execution_count": null,
   "metadata": {
    "ExecuteTime": {
     "end_time": "2022-10-14T17:59:39.118462Z",
     "start_time": "2022-10-14T17:59:39.114634Z"
    },
    "code_folding": [],
    "hidden": true,
    "id": "o2HkpTL4tEN2"
   },
   "outputs": [],
   "source": [
    "if indicator:\n",
    "    clf = LogisticRegression(input_size=X_train.shape[-1], epoch_num=3000, c=0.003)\n",
    "\n",
    "    clf.fit(X_train_sampled, y_train_sampled.to_numpy(), use_sklearn=False)\n",
    "\n",
    "    y_pred_test = clf.predict_proba(X_test)\n",
    "    y_pred_train = clf.predict_proba(X_train)\n",
    "\n",
    "    spd_0 = computeFairness(y_pred_test, X_test_orig, y_test, 0, dataset)\n",
    "    print(\"Initial statistical parity: \", spd_0)\n",
    "\n",
    "    tpr_parity_0 = computeFairness(y_pred_test, X_test_orig, y_test, 1, dataset)\n",
    "    print(\"Initial TPR parity: \", tpr_parity_0)\n",
    "\n",
    "    predictive_parity_0 = computeFairness(y_pred_test, X_test_orig, y_test, 2, dataset)\n",
    "    print(\"Initial predictive parity: \", predictive_parity_0)\n",
    "\n",
    "    loss_0 = logistic_loss(y_test, y_pred_test)\n",
    "    print(\"Initial loss: \", loss_0)\n",
    "\n",
    "    accuracy_0 = computeAccuracy(y_test, y_pred_test)\n",
    "    print(\"Initial accuracy: \", accuracy_0)"
   ]
  },
  {
   "cell_type": "code",
   "execution_count": null,
   "metadata": {
    "ExecuteTime": {
     "end_time": "2022-10-14T17:59:39.121854Z",
     "start_time": "2022-10-14T17:59:39.119594Z"
    },
    "code_folding": [
     0
    ],
    "hidden": true,
    "id": "eUVUeMIltEN2"
   },
   "outputs": [],
   "source": [
    "if indicator:\n",
    "    y_pred_train = clf.predict_proba(X_train_sampled)\n",
    "\n",
    "    spd_0 = computeFairness(y_pred_train, X_train_orig_sampled, y_train_sampled, 0, dataset)\n",
    "    print(\"Initial statistical parity: \", spd_0)\n",
    "\n",
    "    accuracy_0 = computeAccuracy(y_train_sampled, y_pred_train)\n",
    "    print(\"Initial accuracy: \", accuracy_0)"
   ]
  },
  {
   "cell_type": "code",
   "execution_count": null,
   "metadata": {
    "ExecuteTime": {
     "end_time": "2022-10-14T17:59:39.124721Z",
     "start_time": "2022-10-14T17:59:39.123021Z"
    },
    "code_folding": [],
    "hidden": true,
    "id": "cR_Y4DButEN2"
   },
   "outputs": [],
   "source": [
    "if indicator:\n",
    "    sens_attr = 'gender'\n",
    "    parent_1 = 'relationship'\n",
    "    parent_2 = 'relationship'\n",
    "    parent_3 = 'hours'"
   ]
  },
  {
   "cell_type": "markdown",
   "metadata": {
    "hidden": true,
    "id": "XmOLFD7ItEN2"
   },
   "source": [
    "**Bound**"
   ]
  },
  {
   "cell_type": "code",
   "execution_count": null,
   "metadata": {
    "ExecuteTime": {
     "end_time": "2022-10-14T17:59:39.127396Z",
     "start_time": "2022-10-14T17:59:39.125770Z"
    },
    "code_folding": [],
    "hidden": true,
    "id": "T-ehI7sYtEN2",
    "scrolled": true
   },
   "outputs": [],
   "source": [
    "if indicator:\n",
    "    record_statistics(clf, record=False)"
   ]
  },
  {
   "cell_type": "code",
   "execution_count": null,
   "metadata": {
    "hidden": true,
    "id": "s06_puNwtEN2"
   },
   "outputs": [],
   "source": []
  },
  {
   "cell_type": "markdown",
   "metadata": {
    "hidden": true,
    "id": "BInpPhkctEN2"
   },
   "source": [
    "### Adult scenario 6"
   ]
  },
  {
   "cell_type": "code",
   "execution_count": null,
   "metadata": {
    "ExecuteTime": {
     "end_time": "2022-10-14T17:59:39.130265Z",
     "start_time": "2022-10-14T17:59:39.128517Z"
    },
    "hidden": true,
    "id": "mWN4qa2LtEN2"
   },
   "outputs": [],
   "source": [
    "indicator = ((dataset=='adult') and (scenario==6))"
   ]
  },
  {
   "cell_type": "code",
   "execution_count": null,
   "metadata": {
    "ExecuteTime": {
     "end_time": "2022-10-14T17:59:39.134633Z",
     "start_time": "2022-10-14T17:59:39.131553Z"
    },
    "code_folding": [],
    "hidden": true,
    "id": "Cn2acidbtEN3",
    "scrolled": false
   },
   "outputs": [],
   "source": [
    "if indicator:\n",
    "    p = np.ones_like(X_train_orig.gender).astype(float)\n",
    "    p[(X_train_orig.relationship==1)&(y_train==1)] = 0.7\n",
    "    p[(X_train_orig.relationship==0)&(y_train==0)] = 0.6\n",
    "    plt.hist(p, bins=10)\n",
    "    plt.show()"
   ]
  },
  {
   "cell_type": "markdown",
   "metadata": {
    "hidden": true,
    "id": "nx5LSuoTtEN3"
   },
   "source": [
    "**Sample based on the conditional probability**"
   ]
  },
  {
   "cell_type": "code",
   "execution_count": null,
   "metadata": {
    "ExecuteTime": {
     "end_time": "2022-10-14T17:59:39.138246Z",
     "start_time": "2022-10-14T17:59:39.135942Z"
    },
    "code_folding": [],
    "hidden": true,
    "id": "kHfdKqKNtEN3"
   },
   "outputs": [],
   "source": [
    "if indicator:\n",
    "    np.random.seed(0)\n",
    "    sample_bool = np.zeros(len(X_train))\n",
    "    for idx in range(len(X_train)):\n",
    "        sample_bool[idx] = np.random.binomial(n=1, p=p[idx])  # True or False"
   ]
  },
  {
   "cell_type": "code",
   "execution_count": null,
   "metadata": {
    "ExecuteTime": {
     "end_time": "2022-10-14T17:59:39.141754Z",
     "start_time": "2022-10-14T17:59:39.139394Z"
    },
    "code_folding": [],
    "hidden": true,
    "id": "wusqJl7PtEN3"
   },
   "outputs": [],
   "source": [
    "if indicator:\n",
    "    X_train_orig_sampled = X_train_orig.loc[np.where(sample_bool)[0]]\n",
    "    X_train_orig_sampled = X_train_orig_sampled.reset_index(drop=True)\n",
    "    X_train_sampled = X_train[np.where(sample_bool)[0]]\n",
    "    y_train_sampled = y_train[np.where(sample_bool)[0]].reset_index(drop=True)"
   ]
  },
  {
   "cell_type": "code",
   "execution_count": null,
   "metadata": {
    "ExecuteTime": {
     "end_time": "2022-10-14T17:59:39.146365Z",
     "start_time": "2022-10-14T17:59:39.142913Z"
    },
    "code_folding": [],
    "hidden": true,
    "id": "pNGdtYZktEN3"
   },
   "outputs": [],
   "source": [
    "if indicator:\n",
    "    clf = LogisticRegression(input_size=X_train.shape[-1], epoch_num=3000, c=0.003)\n",
    "\n",
    "    clf.fit(X_train_sampled, y_train_sampled.to_numpy(), use_sklearn=False)\n",
    "\n",
    "    y_pred_test = clf.predict_proba(X_test)\n",
    "    y_pred_train = clf.predict_proba(X_train)\n",
    "\n",
    "    spd_0 = computeFairness(y_pred_test, X_test_orig, y_test, 0, dataset)\n",
    "    print(\"Initial statistical parity: \", spd_0)\n",
    "\n",
    "    tpr_parity_0 = computeFairness(y_pred_test, X_test_orig, y_test, 1, dataset)\n",
    "    print(\"Initial TPR parity: \", tpr_parity_0)\n",
    "\n",
    "    predictive_parity_0 = computeFairness(y_pred_test, X_test_orig, y_test, 2, dataset)\n",
    "    print(\"Initial predictive parity: \", predictive_parity_0)\n",
    "\n",
    "    loss_0 = logistic_loss(y_test, y_pred_test)\n",
    "    print(\"Initial loss: \", loss_0)\n",
    "\n",
    "    accuracy_0 = computeAccuracy(y_test, y_pred_test)\n",
    "    print(\"Initial accuracy: \", accuracy_0)"
   ]
  },
  {
   "cell_type": "code",
   "execution_count": null,
   "metadata": {
    "ExecuteTime": {
     "end_time": "2022-10-14T17:59:39.150290Z",
     "start_time": "2022-10-14T17:59:39.147547Z"
    },
    "code_folding": [
     0
    ],
    "hidden": true,
    "id": "KhQKATDxtEN3"
   },
   "outputs": [],
   "source": [
    "if indicator:\n",
    "    y_pred_train = clf.predict_proba(X_train_sampled)\n",
    "\n",
    "    spd_0 = computeFairness(y_pred_train, X_train_orig_sampled, y_train_sampled, 0, dataset)\n",
    "    print(\"Initial statistical parity: \", spd_0)\n",
    "\n",
    "    accuracy_0 = computeAccuracy(y_train_sampled, y_pred_train)\n",
    "    print(\"Initial accuracy: \", accuracy_0)"
   ]
  },
  {
   "cell_type": "code",
   "execution_count": null,
   "metadata": {
    "ExecuteTime": {
     "end_time": "2022-10-14T17:59:39.154076Z",
     "start_time": "2022-10-14T17:59:39.151661Z"
    },
    "code_folding": [],
    "hidden": true,
    "id": "GeAZSmwYtEN3"
   },
   "outputs": [],
   "source": [
    "if indicator:\n",
    "    sens_attr = 'gender'\n",
    "    parent_1 = 'relationship'\n",
    "    parent_2 = 'relationship'\n",
    "    parent_3 = 'y'"
   ]
  },
  {
   "cell_type": "markdown",
   "metadata": {
    "hidden": true,
    "id": "GR3nADaUtEN3"
   },
   "source": [
    "**Bound**"
   ]
  },
  {
   "cell_type": "code",
   "execution_count": null,
   "metadata": {
    "ExecuteTime": {
     "end_time": "2022-10-14T17:59:39.157393Z",
     "start_time": "2022-10-14T17:59:39.155256Z"
    },
    "code_folding": [],
    "hidden": true,
    "id": "tWhMRz-4tEN4",
    "scrolled": false
   },
   "outputs": [],
   "source": [
    "if indicator:\n",
    "    record_statistics(clf, record=False)"
   ]
  },
  {
   "cell_type": "markdown",
   "metadata": {
    "hidden": true,
    "id": "0Nr5euHBtEN4"
   },
   "source": [
    "### Law scenario 1"
   ]
  },
  {
   "cell_type": "code",
   "execution_count": null,
   "metadata": {
    "ExecuteTime": {
     "end_time": "2022-10-14T17:59:39.160463Z",
     "start_time": "2022-10-14T17:59:39.158641Z"
    },
    "hidden": true,
    "id": "0S6bdEUCtEN4"
   },
   "outputs": [],
   "source": [
    "indicator = ((dataset=='law') and (scenario==1))"
   ]
  },
  {
   "cell_type": "code",
   "execution_count": null,
   "metadata": {
    "ExecuteTime": {
     "end_time": "2022-10-14T17:59:39.165849Z",
     "start_time": "2022-10-14T17:59:39.161617Z"
    },
    "code_folding": [],
    "hidden": true,
    "id": "xi4Vv1UitEN4"
   },
   "outputs": [],
   "source": [
    "if indicator:\n",
    "    plt.figure(figsize=(4, 4))\n",
    "    plt.ylabel('Num. of points')\n",
    "    numerators = []\n",
    "    denominators = []\n",
    "    ratios = []\n",
    "    for u in range(2):\n",
    "        for v in range(2):\n",
    "            numerator = len(X_train_orig[(X_train_orig.racetxt==1)&(X_train_orig.decile3==u)&(X_train_orig.lsat==v)].index)\n",
    "            denominator = len(X_train_orig[(X_train_orig.racetxt==0)&(X_train_orig.decile3==u)&(X_train_orig.lsat==v)].index)\n",
    "            numerators.append(numerator)\n",
    "            denominators.append(denominator)\n",
    "            ratio = numerator/denominator\n",
    "            ratios.append(ratio)\n",
    "\n",
    "    plt.bar(range(4), numerators, alpha=0.5, label='white')\n",
    "    plt.bar(range(4), denominators, alpha=0.5, label='non-white')\n",
    "    plt.xticks(range(4), [round(r, 2) for r in ratios])\n",
    "    plt.legend()\n",
    "    plt.xlabel('decile3+lsat (divided by race)')"
   ]
  },
  {
   "cell_type": "code",
   "execution_count": null,
   "metadata": {
    "ExecuteTime": {
     "end_time": "2022-10-14T17:59:39.170043Z",
     "start_time": "2022-10-14T17:59:39.167253Z"
    },
    "code_folding": [],
    "hidden": true,
    "id": "sSrHniQFtEN4",
    "scrolled": false
   },
   "outputs": [],
   "source": [
    "# generate Pr(C=1|race, decile3, lsat) for each training data point\n",
    "if indicator:\n",
    "    p = np.ones_like(X_train_orig.racetxt).astype(float)\n",
    "    p[(X_train_orig.racetxt==0)&(X_train_orig.decile3==0)] = 0.2\n",
    "    p[(X_train_orig.racetxt==1)&(X_train_orig.decile3==1)] = 0.5\n",
    "    plt.hist(p, bins=10)\n",
    "    plt.show()"
   ]
  },
  {
   "cell_type": "markdown",
   "metadata": {
    "hidden": true,
    "id": "66lTdlbZtEN4"
   },
   "source": [
    "**Sample based on the conditional probability**"
   ]
  },
  {
   "cell_type": "code",
   "execution_count": null,
   "metadata": {
    "ExecuteTime": {
     "end_time": "2022-10-14T17:59:39.173797Z",
     "start_time": "2022-10-14T17:59:39.171263Z"
    },
    "code_folding": [
     0
    ],
    "hidden": true,
    "id": "QH476pvbtEN5"
   },
   "outputs": [],
   "source": [
    "if indicator:\n",
    "    np.random.seed(0)\n",
    "    sample_bool = np.zeros(len(X_train))\n",
    "    for idx in range(len(X_train)):\n",
    "        sample_bool[idx] = np.random.binomial(n=1, p=p[idx])  # True or False"
   ]
  },
  {
   "cell_type": "code",
   "execution_count": null,
   "metadata": {
    "ExecuteTime": {
     "end_time": "2022-10-14T17:59:39.177278Z",
     "start_time": "2022-10-14T17:59:39.174950Z"
    },
    "code_folding": [
     0
    ],
    "hidden": true,
    "id": "Zw3esnKytEN5"
   },
   "outputs": [],
   "source": [
    "if indicator:\n",
    "    X_train_orig_sampled = X_train_orig.loc[np.where(sample_bool)[0]]\n",
    "    X_train_orig_sampled = X_train_orig_sampled.reset_index(drop=True)\n",
    "    X_train_sampled = X_train[np.where(sample_bool)[0]]\n",
    "    y_train_sampled = y_train[np.where(sample_bool)[0]].reset_index(drop=True)"
   ]
  },
  {
   "cell_type": "code",
   "execution_count": null,
   "metadata": {
    "ExecuteTime": {
     "end_time": "2022-10-14T17:59:39.181807Z",
     "start_time": "2022-10-14T17:59:39.178414Z"
    },
    "code_folding": [
     0
    ],
    "hidden": true,
    "id": "R1GfpVuqtEN5"
   },
   "outputs": [],
   "source": [
    "if indicator:\n",
    "    clf = LogisticRegression(input_size=X_train.shape[-1], epoch_num=3000, c=0.003)\n",
    "\n",
    "    clf.fit(X_train_sampled, y_train_sampled)\n",
    "\n",
    "    y_pred_test = clf.predict_proba(X_test)\n",
    "    y_pred_train = clf.predict_proba(X_train)\n",
    "\n",
    "    spd_0 = computeFairness(y_pred_test, X_test_orig, y_test, 0, dataset)\n",
    "    print(\"Initial statistical parity: \", spd_0)\n",
    "\n",
    "    tpr_parity_0 = computeFairness(y_pred_test, X_test_orig, y_test, 1, dataset)\n",
    "    print(\"Initial TPR parity: \", tpr_parity_0)\n",
    "\n",
    "    predictive_parity_0 = computeFairness(y_pred_test, X_test_orig, y_test, 2, dataset)\n",
    "    print(\"Initial predictive parity: \", predictive_parity_0)\n",
    "\n",
    "    loss_0 = logistic_loss(y_test, y_pred_test)\n",
    "    print(\"Initial loss: \", loss_0)\n",
    "\n",
    "    accuracy_0 = computeAccuracy(y_test, y_pred_test)\n",
    "    print(\"Initial accuracy: \", accuracy_0)"
   ]
  },
  {
   "cell_type": "code",
   "execution_count": null,
   "metadata": {
    "ExecuteTime": {
     "end_time": "2022-10-14T17:59:39.185366Z",
     "start_time": "2022-10-14T17:59:39.183009Z"
    },
    "code_folding": [
     0
    ],
    "hidden": true,
    "id": "DZJzFj3ftEN5"
   },
   "outputs": [],
   "source": [
    "if indicator:\n",
    "    y_pred_train = clf.predict_proba(X_train_sampled)\n",
    "\n",
    "    spd_0 = computeFairness(y_pred_train, X_train_orig_sampled, y_train_sampled, 0, dataset)\n",
    "    print(\"Initial statistical parity: \", spd_0)\n",
    "\n",
    "    accuracy_0 = computeAccuracy(y_train_sampled, y_pred_train)\n",
    "    print(\"Initial accuracy: \", accuracy_0)"
   ]
  },
  {
   "cell_type": "code",
   "execution_count": null,
   "metadata": {
    "ExecuteTime": {
     "end_time": "2022-10-14T17:59:39.188549Z",
     "start_time": "2022-10-14T17:59:39.186633Z"
    },
    "code_folding": [],
    "hidden": true,
    "id": "2aAMLWoVtEN5"
   },
   "outputs": [],
   "source": [
    "if indicator:\n",
    "    sens_attr = 'racetxt'\n",
    "    parent_1 = 'decile3'\n",
    "    parent_2 = 'decile3'\n",
    "    parent_3 = 'racetxt'"
   ]
  },
  {
   "cell_type": "markdown",
   "metadata": {
    "hidden": true,
    "id": "pp9RtTabtEN5"
   },
   "source": [
    "**Bound**"
   ]
  },
  {
   "cell_type": "code",
   "execution_count": null,
   "metadata": {
    "ExecuteTime": {
     "end_time": "2022-10-14T17:59:39.191492Z",
     "start_time": "2022-10-14T17:59:39.189731Z"
    },
    "code_folding": [],
    "hidden": true,
    "id": "xCJKFwmOtEN5",
    "scrolled": true
   },
   "outputs": [],
   "source": [
    "if indicator:\n",
    "    record_statistics(clf, record=False)"
   ]
  },
  {
   "cell_type": "markdown",
   "metadata": {
    "hidden": true,
    "id": "G5OZSEvgtEN5"
   },
   "source": [
    "### Law scenario 2"
   ]
  },
  {
   "cell_type": "code",
   "execution_count": null,
   "metadata": {
    "ExecuteTime": {
     "end_time": "2022-10-14T17:59:39.194439Z",
     "start_time": "2022-10-14T17:59:39.192581Z"
    },
    "hidden": true,
    "id": "4XzCdaiStEN5"
   },
   "outputs": [],
   "source": [
    "indicator = ((dataset=='law') and (scenario==2))"
   ]
  },
  {
   "cell_type": "code",
   "execution_count": null,
   "metadata": {
    "ExecuteTime": {
     "end_time": "2022-10-14T17:59:39.198028Z",
     "start_time": "2022-10-14T17:59:39.195588Z"
    },
    "code_folding": [],
    "hidden": true,
    "id": "VgCjKPuAtEN5",
    "scrolled": false
   },
   "outputs": [],
   "source": [
    "if indicator:\n",
    "    p = np.ones_like(X_train_orig.racetxt).astype(float)\n",
    "    p[(X_train_orig.lsat==1)&(X_train_orig.decile3==0)] = 0.1\n",
    "    p[(X_train_orig.lsat==0)&(X_train_orig.decile3==1)] = 0.3\n",
    "    plt.hist(p, bins=10)\n",
    "    plt.show()"
   ]
  },
  {
   "cell_type": "markdown",
   "metadata": {
    "hidden": true,
    "id": "APchnx8wtEN5"
   },
   "source": [
    "**Sample based on the conditional probability**"
   ]
  },
  {
   "cell_type": "code",
   "execution_count": null,
   "metadata": {
    "ExecuteTime": {
     "end_time": "2022-10-14T17:59:39.202079Z",
     "start_time": "2022-10-14T17:59:39.199363Z"
    },
    "code_folding": [],
    "hidden": true,
    "id": "5lsC18IGtEN5"
   },
   "outputs": [],
   "source": [
    "if indicator:\n",
    "    np.random.seed(0)\n",
    "    sample_bool = np.zeros(len(X_train))\n",
    "    for idx in range(len(X_train)):\n",
    "        sample_bool[idx] = np.random.binomial(n=1, p=p[idx])  # True or False"
   ]
  },
  {
   "cell_type": "code",
   "execution_count": null,
   "metadata": {
    "ExecuteTime": {
     "end_time": "2022-10-14T17:59:39.206074Z",
     "start_time": "2022-10-14T17:59:39.203240Z"
    },
    "hidden": true,
    "id": "vUUcLjr9tEN5"
   },
   "outputs": [],
   "source": [
    "if indicator:\n",
    "    X_train_orig_sampled = X_train_orig.loc[np.where(sample_bool)[0]]\n",
    "    X_train_orig_sampled = X_train_orig_sampled.reset_index(drop=True)\n",
    "    X_train_sampled = X_train[np.where(sample_bool)[0]]\n",
    "    y_train_sampled = y_train[np.where(sample_bool)[0]].reset_index(drop=True)"
   ]
  },
  {
   "cell_type": "code",
   "execution_count": null,
   "metadata": {
    "ExecuteTime": {
     "end_time": "2022-10-14T17:59:39.210664Z",
     "start_time": "2022-10-14T17:59:39.207290Z"
    },
    "code_folding": [
     0
    ],
    "hidden": true,
    "id": "twAdVx_ytEN5"
   },
   "outputs": [],
   "source": [
    "if indicator:\n",
    "    clf = LogisticRegression(input_size=X_train.shape[-1], epoch_num=3000, c=0.003)\n",
    "\n",
    "    clf.fit(X_train_sampled, y_train_sampled)\n",
    "\n",
    "    y_pred_test = clf.predict_proba(X_test)\n",
    "    y_pred_train = clf.predict_proba(X_train)\n",
    "\n",
    "    spd_0 = computeFairness(y_pred_test, X_test_orig, y_test, 0, dataset)\n",
    "    print(\"Initial statistical parity: \", spd_0)\n",
    "\n",
    "    tpr_parity_0 = computeFairness(y_pred_test, X_test_orig, y_test, 1, dataset)\n",
    "    print(\"Initial TPR parity: \", tpr_parity_0)\n",
    "\n",
    "    predictive_parity_0 = computeFairness(y_pred_test, X_test_orig, y_test, 2, dataset)\n",
    "    print(\"Initial predictive parity: \", predictive_parity_0)\n",
    "\n",
    "    loss_0 = logistic_loss(y_test, y_pred_test)\n",
    "    print(\"Initial loss: \", loss_0)\n",
    "\n",
    "    accuracy_0 = computeAccuracy(y_test, y_pred_test)\n",
    "    print(\"Initial accuracy: \", accuracy_0)"
   ]
  },
  {
   "cell_type": "code",
   "execution_count": null,
   "metadata": {
    "ExecuteTime": {
     "end_time": "2022-10-14T17:59:39.214057Z",
     "start_time": "2022-10-14T17:59:39.211844Z"
    },
    "code_folding": [
     0
    ],
    "hidden": true,
    "id": "1yPnWf96tEN5"
   },
   "outputs": [],
   "source": [
    "if indicator:\n",
    "    y_pred_train = clf.predict_proba(X_train_sampled)\n",
    "\n",
    "    spd_0 = computeFairness(y_pred_train, X_train_orig_sampled, y_train_sampled, 0, dataset)\n",
    "    print(\"Initial statistical parity: \", spd_0)\n",
    "\n",
    "    accuracy_0 = computeAccuracy(y_train_sampled, y_pred_train)\n",
    "    print(\"Initial accuracy: \", accuracy_0)"
   ]
  },
  {
   "cell_type": "code",
   "execution_count": null,
   "metadata": {
    "ExecuteTime": {
     "end_time": "2022-10-14T17:59:39.217075Z",
     "start_time": "2022-10-14T17:59:39.215207Z"
    },
    "code_folding": [],
    "hidden": true,
    "id": "dHl44bcctEN6"
   },
   "outputs": [],
   "source": [
    "if indicator:\n",
    "    sens_attr = 'racetxt'\n",
    "    parent_1 = 'decile3'\n",
    "    parent_2 = 'decile3'\n",
    "    parent_3 = 'lsat'"
   ]
  },
  {
   "cell_type": "markdown",
   "metadata": {
    "hidden": true,
    "id": "ZudS-khjtEN6"
   },
   "source": [
    "**Bound**"
   ]
  },
  {
   "cell_type": "code",
   "execution_count": null,
   "metadata": {
    "ExecuteTime": {
     "end_time": "2022-10-14T17:59:39.220089Z",
     "start_time": "2022-10-14T17:59:39.218363Z"
    },
    "code_folding": [],
    "hidden": true,
    "id": "enW3ivcPtEN6",
    "scrolled": true
   },
   "outputs": [],
   "source": [
    "if indicator:\n",
    "    record_statistics(clf, record=False)"
   ]
  },
  {
   "cell_type": "code",
   "execution_count": null,
   "metadata": {
    "hidden": true,
    "id": "fQ_2k6VbtEN6"
   },
   "outputs": [],
   "source": []
  },
  {
   "cell_type": "markdown",
   "metadata": {
    "hidden": true,
    "id": "bPYbiWAutEN6"
   },
   "source": [
    "### Law scenario 3"
   ]
  },
  {
   "cell_type": "code",
   "execution_count": null,
   "metadata": {
    "ExecuteTime": {
     "end_time": "2022-10-14T17:59:39.222940Z",
     "start_time": "2022-10-14T17:59:39.221165Z"
    },
    "hidden": true,
    "id": "o7_UFtmstEN6"
   },
   "outputs": [],
   "source": [
    "indicator = ((dataset=='law') and (scenario==3))"
   ]
  },
  {
   "cell_type": "code",
   "execution_count": null,
   "metadata": {
    "ExecuteTime": {
     "end_time": "2022-10-14T17:59:39.226549Z",
     "start_time": "2022-10-14T17:59:39.224115Z"
    },
    "code_folding": [],
    "hidden": true,
    "id": "_dP9VS4EtEN6",
    "scrolled": false
   },
   "outputs": [],
   "source": [
    "if indicator:\n",
    "    p = np.ones_like(X_train_orig.racetxt).astype(float)\n",
    "    p[(X_train_orig.lsat==1)&(y_train==1)] = 0.1\n",
    "    p[(X_train_orig.lsat==0)&(y_train==0)] = 0.7\n",
    "    plt.hist(p, bins=10)\n",
    "    plt.show()"
   ]
  },
  {
   "cell_type": "markdown",
   "metadata": {
    "hidden": true,
    "id": "gXz4U3m2tEN6"
   },
   "source": [
    "**Sample based on the conditional probability**"
   ]
  },
  {
   "cell_type": "code",
   "execution_count": null,
   "metadata": {
    "ExecuteTime": {
     "end_time": "2022-10-14T17:59:39.229981Z",
     "start_time": "2022-10-14T17:59:39.227704Z"
    },
    "code_folding": [],
    "hidden": true,
    "id": "9JFI6W-QtEN6"
   },
   "outputs": [],
   "source": [
    "if indicator:\n",
    "    np.random.seed(0)\n",
    "    sample_bool = np.zeros(len(X_train))\n",
    "    for idx in range(len(X_train)):\n",
    "        sample_bool[idx] = np.random.binomial(n=1, p=p[idx])  # True or False"
   ]
  },
  {
   "cell_type": "code",
   "execution_count": null,
   "metadata": {
    "ExecuteTime": {
     "end_time": "2022-10-14T17:59:39.233385Z",
     "start_time": "2022-10-14T17:59:39.231162Z"
    },
    "hidden": true,
    "id": "NwP7SpUstEN6"
   },
   "outputs": [],
   "source": [
    "if indicator:\n",
    "    X_train_orig_sampled = X_train_orig.loc[np.where(sample_bool)[0]]\n",
    "    X_train_orig_sampled = X_train_orig_sampled.reset_index(drop=True)\n",
    "    X_train_sampled = X_train[np.where(sample_bool)[0]]\n",
    "    y_train_sampled = y_train[np.where(sample_bool)[0]].reset_index(drop=True)"
   ]
  },
  {
   "cell_type": "code",
   "execution_count": null,
   "metadata": {
    "ExecuteTime": {
     "end_time": "2022-10-14T17:59:39.237991Z",
     "start_time": "2022-10-14T17:59:39.234579Z"
    },
    "code_folding": [
     0
    ],
    "hidden": true,
    "id": "pYgt0sfytEN6"
   },
   "outputs": [],
   "source": [
    "if indicator:\n",
    "    clf = LogisticRegression(input_size=X_train.shape[-1], epoch_num=3000, c=0.003)\n",
    "\n",
    "    clf.fit(X_train_sampled, y_train_sampled)\n",
    "\n",
    "    y_pred_test = clf.predict_proba(X_test)\n",
    "    y_pred_train = clf.predict_proba(X_train)\n",
    "\n",
    "    spd_0 = computeFairness(y_pred_test, X_test_orig, y_test, 0, dataset)\n",
    "    print(\"Initial statistical parity: \", spd_0)\n",
    "\n",
    "    tpr_parity_0 = computeFairness(y_pred_test, X_test_orig, y_test, 1, dataset)\n",
    "    print(\"Initial TPR parity: \", tpr_parity_0)\n",
    "\n",
    "    predictive_parity_0 = computeFairness(y_pred_test, X_test_orig, y_test, 2, dataset)\n",
    "    print(\"Initial predictive parity: \", predictive_parity_0)\n",
    "\n",
    "    loss_0 = logistic_loss(y_test, y_pred_test)\n",
    "    print(\"Initial loss: \", loss_0)\n",
    "\n",
    "    accuracy_0 = computeAccuracy(y_test, y_pred_test)\n",
    "    print(\"Initial accuracy: \", accuracy_0)"
   ]
  },
  {
   "cell_type": "code",
   "execution_count": null,
   "metadata": {
    "ExecuteTime": {
     "end_time": "2022-10-14T17:59:39.241241Z",
     "start_time": "2022-10-14T17:59:39.239116Z"
    },
    "code_folding": [
     0
    ],
    "hidden": true,
    "id": "DuLE-RCptEN6"
   },
   "outputs": [],
   "source": [
    "if indicator:\n",
    "    y_pred_train = clf.predict_proba(X_train_sampled)\n",
    "\n",
    "    spd_0 = computeFairness(y_pred_train, X_train_orig_sampled, y_train_sampled, 0, dataset)\n",
    "    print(\"Initial statistical parity: \", spd_0)\n",
    "\n",
    "    accuracy_0 = computeAccuracy(y_train_sampled, y_pred_train)\n",
    "    print(\"Initial accuracy: \", accuracy_0)"
   ]
  },
  {
   "cell_type": "code",
   "execution_count": null,
   "metadata": {
    "ExecuteTime": {
     "end_time": "2022-10-14T17:59:39.244170Z",
     "start_time": "2022-10-14T17:59:39.242416Z"
    },
    "code_folding": [],
    "hidden": true,
    "id": "ViieSJOntEN6"
   },
   "outputs": [],
   "source": [
    "if indicator:\n",
    "    sens_attr = 'racetxt'\n",
    "    parent_1 = 'lsat'\n",
    "    parent_2 = 'lsat'\n",
    "    parent_3 = 'y'"
   ]
  },
  {
   "cell_type": "markdown",
   "metadata": {
    "hidden": true,
    "id": "8BHeuTW8tEN6"
   },
   "source": [
    "**Bound**"
   ]
  },
  {
   "cell_type": "code",
   "execution_count": null,
   "metadata": {
    "ExecuteTime": {
     "end_time": "2022-10-14T17:59:39.250488Z",
     "start_time": "2022-10-14T17:59:39.245292Z"
    },
    "code_folding": [
     0
    ],
    "hidden": true,
    "id": "6bncVhBztEN6",
    "scrolled": true
   },
   "outputs": [],
   "source": [
    "if indicator:\n",
    "    y_pred_train = clf.predict_proba(X_train_sampled)\n",
    "    spd_0 = computeFairness(clf.predict_proba(X_train_sampled), X_train_orig_sampled, y_train_sampled, 0, dataset)\n",
    "    print(\"BF: \", -spd_0)\n",
    "    y_pred_train = clf.predict_proba(X_train)\n",
    "    spd_0 = computeFairness(clf.predict_proba(X_train), X_train_orig, y_train, 0, dataset)\n",
    "    print(\"AF: \", -spd_0)\n",
    "\n",
    "    # Group the training data based on parent (sensitive attr=0)\n",
    "    protected_groups = []\n",
    "    for v in np.sort(X_train_orig_sampled[parent_1].unique()):\n",
    "        for u in np.sort(X_train_orig_sampled[parent_2].unique()):\n",
    "            idx = X_train_orig_sampled[(X_train_orig_sampled[parent_1]==v) &\\\n",
    "                                       (X_train_orig_sampled[parent_2]==u) &\\\n",
    "                                       (X_train_orig_sampled[sens_attr]==0)].index\n",
    "            if len(idx)>0:\n",
    "                protected_groups.append(idx)\n",
    "\n",
    "    score_protected_groups = []\n",
    "    for idx in protected_groups:\n",
    "        score_protected_groups.append(np.mean(clf.predict_proba(X_train_sampled)[idx]))\n",
    "\n",
    "    # Group the training data based on parent (sensitive attr=1)\n",
    "    privileged_groups = []\n",
    "    for v in np.sort(X_train_orig_sampled[parent_1].unique()):\n",
    "        for u in np.sort(X_train_orig_sampled[parent_2].unique()):\n",
    "            idx = X_train_orig_sampled[(X_train_orig_sampled[parent_1]==v) &\\\n",
    "                                       (X_train_orig_sampled[parent_2]==u) &\\\n",
    "                                       (X_train_orig_sampled[sens_attr]==1)].index\n",
    "            if len(idx)>0:\n",
    "                privileged_groups.append(idx)\n",
    "\n",
    "    score_privileged_groups = []\n",
    "    for idx in privileged_groups:\n",
    "        score_privileged_groups.append(np.mean(clf.predict_proba(X_train_sampled)[idx]))\n",
    "\n",
    "    print(f'Upper Bound: {np.max(score_privileged_groups)-np.min(score_protected_groups)}')\n",
    "    print(f'Lower Bound: {-np.max(score_protected_groups)+np.min(score_privileged_groups)}')"
   ]
  },
  {
   "cell_type": "markdown",
   "metadata": {
    "hidden": true,
    "id": "CQZXZVS9tEN7"
   },
   "source": [
    "### Law scenario 4"
   ]
  },
  {
   "cell_type": "code",
   "execution_count": null,
   "metadata": {
    "ExecuteTime": {
     "end_time": "2022-10-14T17:59:39.253320Z",
     "start_time": "2022-10-14T17:59:39.251649Z"
    },
    "hidden": true,
    "id": "LDIN-QP5tEN7"
   },
   "outputs": [],
   "source": [
    "indicator = ((dataset=='law') and (scenario==4))"
   ]
  },
  {
   "cell_type": "code",
   "execution_count": null,
   "metadata": {
    "ExecuteTime": {
     "end_time": "2022-10-14T17:59:39.256906Z",
     "start_time": "2022-10-14T17:59:39.254335Z"
    },
    "code_folding": [],
    "hidden": true,
    "id": "wb9A_A5utEN8",
    "scrolled": false
   },
   "outputs": [],
   "source": [
    "if indicator:\n",
    "    p = np.ones_like(X_train_orig.racetxt).astype(float)\n",
    "    p[(X_train_orig.racetxt == 1) & (X_train_orig.decile3 == 0) & (X_train_orig.lsat == 0)] = 0.5\n",
    "    p[(X_train_orig.racetxt == 0) & (X_train_orig.decile3 == 0) & (X_train_orig.lsat == 1)] = 0.3\n",
    "    plt.hist(p, bins=10)\n",
    "    plt.show()"
   ]
  },
  {
   "cell_type": "markdown",
   "metadata": {
    "hidden": true,
    "id": "DJlYqhPftEN8"
   },
   "source": [
    "**Sample based on the conditional probability**"
   ]
  },
  {
   "cell_type": "code",
   "execution_count": null,
   "metadata": {
    "ExecuteTime": {
     "end_time": "2022-10-14T17:59:39.260245Z",
     "start_time": "2022-10-14T17:59:39.258009Z"
    },
    "code_folding": [
     0
    ],
    "hidden": true,
    "id": "ih4se2A2tEN8"
   },
   "outputs": [],
   "source": [
    "if indicator:\n",
    "    np.random.seed(0)\n",
    "    sample_bool = np.zeros(len(X_train))\n",
    "    for idx in range(len(X_train)):\n",
    "        sample_bool[idx] = np.random.binomial(n=1, p=p[idx])  # True or False"
   ]
  },
  {
   "cell_type": "code",
   "execution_count": null,
   "metadata": {
    "ExecuteTime": {
     "end_time": "2022-10-14T17:59:39.263589Z",
     "start_time": "2022-10-14T17:59:39.261364Z"
    },
    "code_folding": [],
    "hidden": true,
    "id": "OnHVNeOxtEN8"
   },
   "outputs": [],
   "source": [
    "if indicator:\n",
    "    X_train_orig_sampled = X_train_orig.loc[np.where(sample_bool)[0]]\n",
    "    X_train_orig_sampled = X_train_orig_sampled.reset_index(drop=True)\n",
    "    X_train_sampled = X_train[np.where(sample_bool)[0]]\n",
    "    y_train_sampled = y_train[np.where(sample_bool)[0]].reset_index(drop=True)"
   ]
  },
  {
   "cell_type": "code",
   "execution_count": null,
   "metadata": {
    "ExecuteTime": {
     "end_time": "2022-10-14T17:59:39.267867Z",
     "start_time": "2022-10-14T17:59:39.264672Z"
    },
    "code_folding": [
     0
    ],
    "hidden": true,
    "id": "DBEoIFU1tEN8"
   },
   "outputs": [],
   "source": [
    "if indicator:\n",
    "    clf = LogisticRegression(input_size=X_train.shape[-1], epoch_num=3000, c=0.003)\n",
    "\n",
    "    clf.fit(X_train_sampled, y_train_sampled)\n",
    "\n",
    "    y_pred_test = clf.predict_proba(X_test)\n",
    "    y_pred_train = clf.predict_proba(X_train)\n",
    "\n",
    "    spd_0 = computeFairness(y_pred_test, X_test_orig, y_test, 0, dataset)\n",
    "    print(\"Initial statistical parity: \", spd_0)\n",
    "\n",
    "    tpr_parity_0 = computeFairness(y_pred_test, X_test_orig, y_test, 1, dataset)\n",
    "    print(\"Initial TPR parity: \", tpr_parity_0)\n",
    "\n",
    "    predictive_parity_0 = computeFairness(y_pred_test, X_test_orig, y_test, 2, dataset)\n",
    "    print(\"Initial predictive parity: \", predictive_parity_0)\n",
    "\n",
    "    loss_0 = logistic_loss(y_test, y_pred_test)\n",
    "    print(\"Initial loss: \", loss_0)\n",
    "\n",
    "    accuracy_0 = computeAccuracy(y_test, y_pred_test)\n",
    "    print(\"Initial accuracy: \", accuracy_0)"
   ]
  },
  {
   "cell_type": "code",
   "execution_count": null,
   "metadata": {
    "ExecuteTime": {
     "end_time": "2022-10-14T17:59:39.271142Z",
     "start_time": "2022-10-14T17:59:39.268994Z"
    },
    "code_folding": [
     0
    ],
    "hidden": true,
    "id": "zm6Lz5L_tEN8"
   },
   "outputs": [],
   "source": [
    "if indicator:\n",
    "    y_pred_train = clf.predict_proba(X_train_sampled)\n",
    "\n",
    "    spd_0 = computeFairness(y_pred_train, X_train_orig_sampled, y_train_sampled, 0, dataset)\n",
    "    print(\"Initial statistical parity: \", spd_0)\n",
    "\n",
    "    accuracy_0 = computeAccuracy(y_train_sampled, y_pred_train)\n",
    "    print(\"Initial accuracy: \", accuracy_0)"
   ]
  },
  {
   "cell_type": "code",
   "execution_count": null,
   "metadata": {
    "ExecuteTime": {
     "end_time": "2022-10-14T17:59:39.274557Z",
     "start_time": "2022-10-14T17:59:39.272175Z"
    },
    "code_folding": [],
    "hidden": true,
    "id": "yHfqyKuVtEN8"
   },
   "outputs": [],
   "source": [
    "if indicator:\n",
    "    sens_attr = 'racetxt'\n",
    "    parent_1 = 'decile3'\n",
    "    parent_2 = 'lsat'\n",
    "    parent_3 = 'racetxt'"
   ]
  },
  {
   "cell_type": "markdown",
   "metadata": {
    "hidden": true,
    "id": "ovbjy5IDtEN8"
   },
   "source": [
    "**Bound**"
   ]
  },
  {
   "cell_type": "code",
   "execution_count": null,
   "metadata": {
    "ExecuteTime": {
     "end_time": "2022-10-14T17:59:39.277477Z",
     "start_time": "2022-10-14T17:59:39.275741Z"
    },
    "code_folding": [],
    "hidden": true,
    "id": "RPBrCBuPtEN8",
    "scrolled": true
   },
   "outputs": [],
   "source": [
    "if indicator:\n",
    "    record_statistics(clf, record=False)"
   ]
  },
  {
   "cell_type": "code",
   "execution_count": null,
   "metadata": {
    "hidden": true,
    "id": "JxfPPS5ptEN8"
   },
   "outputs": [],
   "source": []
  },
  {
   "cell_type": "markdown",
   "metadata": {
    "hidden": true,
    "id": "ROAdJCS-tEN8"
   },
   "source": [
    "### Law scenario 5"
   ]
  },
  {
   "cell_type": "code",
   "execution_count": null,
   "metadata": {
    "ExecuteTime": {
     "end_time": "2022-10-14T17:59:39.280308Z",
     "start_time": "2022-10-14T17:59:39.278592Z"
    },
    "hidden": true,
    "id": "cdj_yAEgtEN8"
   },
   "outputs": [],
   "source": [
    "indicator = ((dataset=='law') and (scenario==5))"
   ]
  },
  {
   "cell_type": "code",
   "execution_count": null,
   "metadata": {
    "ExecuteTime": {
     "end_time": "2022-10-14T17:59:39.283937Z",
     "start_time": "2022-10-14T17:59:39.281462Z"
    },
    "code_folding": [],
    "hidden": true,
    "id": "MZV_kBB5tEN8",
    "scrolled": false
   },
   "outputs": [],
   "source": [
    "if indicator:\n",
    "    p = np.ones_like(X_train_orig.racetxt).astype(float)\n",
    "    p[(X_train_orig.lsat==0)&(X_train_orig.ugpa==0)] = 0.7/5.71\n",
    "    p[(X_train_orig.lsat==1)&(X_train_orig.ugpa==1)] = 5/11.48\n",
    "    plt.hist(p, bins=10)\n",
    "    plt.show()"
   ]
  },
  {
   "cell_type": "markdown",
   "metadata": {
    "hidden": true,
    "id": "OtwSG8NAtEN9"
   },
   "source": [
    "**Sample based on the conditional probability**"
   ]
  },
  {
   "cell_type": "code",
   "execution_count": null,
   "metadata": {
    "ExecuteTime": {
     "end_time": "2022-10-14T17:59:39.287208Z",
     "start_time": "2022-10-14T17:59:39.285012Z"
    },
    "code_folding": [],
    "hidden": true,
    "id": "qhWJl8T-tEN9"
   },
   "outputs": [],
   "source": [
    "if indicator:\n",
    "    np.random.seed(0)\n",
    "    sample_bool = np.zeros(len(X_train))\n",
    "    for idx in range(len(X_train)):\n",
    "        sample_bool[idx] = np.random.binomial(n=1, p=p[idx])  # True or False"
   ]
  },
  {
   "cell_type": "code",
   "execution_count": null,
   "metadata": {
    "ExecuteTime": {
     "end_time": "2022-10-14T17:59:39.290653Z",
     "start_time": "2022-10-14T17:59:39.288349Z"
    },
    "hidden": true,
    "id": "Z63L40NbtEN9"
   },
   "outputs": [],
   "source": [
    "if indicator:\n",
    "    X_train_orig_sampled = X_train_orig.loc[np.where(sample_bool)[0]]\n",
    "    X_train_orig_sampled = X_train_orig_sampled.reset_index(drop=True)\n",
    "    X_train_sampled = X_train[np.where(sample_bool)[0]]\n",
    "    y_train_sampled = y_train[np.where(sample_bool)[0]].reset_index(drop=True)"
   ]
  },
  {
   "cell_type": "code",
   "execution_count": null,
   "metadata": {
    "ExecuteTime": {
     "end_time": "2022-10-14T17:59:39.295170Z",
     "start_time": "2022-10-14T17:59:39.291813Z"
    },
    "code_folding": [
     0
    ],
    "hidden": true,
    "id": "4fH44ALrtEN9"
   },
   "outputs": [],
   "source": [
    "if indicator:\n",
    "    clf = LogisticRegression(input_size=X_train.shape[-1], epoch_num=3000, c=0.003)\n",
    "\n",
    "    clf.fit(X_train_sampled, y_train_sampled)\n",
    "\n",
    "    y_pred_test = clf.predict_proba(X_test)\n",
    "    y_pred_train = clf.predict_proba(X_train)\n",
    "\n",
    "    spd_0 = computeFairness(y_pred_test, X_test_orig, y_test, 0, dataset)\n",
    "    print(\"Initial statistical parity: \", spd_0)\n",
    "\n",
    "    tpr_parity_0 = computeFairness(y_pred_test, X_test_orig, y_test, 1, dataset)\n",
    "    print(\"Initial TPR parity: \", tpr_parity_0)\n",
    "\n",
    "    predictive_parity_0 = computeFairness(y_pred_test, X_test_orig, y_test, 2, dataset)\n",
    "    print(\"Initial predictive parity: \", predictive_parity_0)\n",
    "\n",
    "    loss_0 = logistic_loss(y_test, y_pred_test)\n",
    "    print(\"Initial loss: \", loss_0)\n",
    "\n",
    "    accuracy_0 = computeAccuracy(y_test, y_pred_test)\n",
    "    print(\"Initial accuracy: \", accuracy_0)"
   ]
  },
  {
   "cell_type": "code",
   "execution_count": null,
   "metadata": {
    "ExecuteTime": {
     "end_time": "2022-10-14T17:59:39.298388Z",
     "start_time": "2022-10-14T17:59:39.296258Z"
    },
    "code_folding": [
     0
    ],
    "hidden": true,
    "id": "Biv1W0nntEN9"
   },
   "outputs": [],
   "source": [
    "if indicator:\n",
    "    y_pred_train = clf.predict_proba(X_train_sampled)\n",
    "\n",
    "    spd_0 = computeFairness(y_pred_train, X_train_orig_sampled, y_train_sampled, 0, dataset)\n",
    "    print(\"Initial statistical parity: \", spd_0)\n",
    "\n",
    "    accuracy_0 = computeAccuracy(y_train_sampled, y_pred_train)\n",
    "    print(\"Initial accuracy: \", accuracy_0)"
   ]
  },
  {
   "cell_type": "code",
   "execution_count": null,
   "metadata": {
    "ExecuteTime": {
     "end_time": "2022-10-14T17:59:39.301333Z",
     "start_time": "2022-10-14T17:59:39.299554Z"
    },
    "code_folding": [],
    "hidden": true,
    "id": "rzs4Z858tEN9"
   },
   "outputs": [],
   "source": [
    "if indicator:\n",
    "    sens_attr = 'racetxt'\n",
    "    parent_1 = 'ugpa'\n",
    "    parent_2 = 'ugpa'\n",
    "    parent_3 = 'lsat'"
   ]
  },
  {
   "cell_type": "markdown",
   "metadata": {
    "hidden": true,
    "id": "XSb6mo98tEN9"
   },
   "source": [
    "**Bound**"
   ]
  },
  {
   "cell_type": "code",
   "execution_count": null,
   "metadata": {
    "ExecuteTime": {
     "end_time": "2022-10-14T17:59:39.304017Z",
     "start_time": "2022-10-14T17:59:39.302420Z"
    },
    "code_folding": [],
    "hidden": true,
    "id": "AvVzKHRmtEN9",
    "scrolled": true
   },
   "outputs": [],
   "source": [
    "if indicator:\n",
    "    record_statistics(clf, record=False)"
   ]
  },
  {
   "cell_type": "code",
   "execution_count": null,
   "metadata": {
    "hidden": true,
    "id": "uxSKjHX8tEN9"
   },
   "outputs": [],
   "source": []
  },
  {
   "cell_type": "markdown",
   "metadata": {
    "hidden": true,
    "id": "fDl7eSsotEN9"
   },
   "source": [
    "### Law scenario 6"
   ]
  },
  {
   "cell_type": "code",
   "execution_count": null,
   "metadata": {
    "ExecuteTime": {
     "end_time": "2022-10-14T17:59:39.306756Z",
     "start_time": "2022-10-14T17:59:39.305127Z"
    },
    "hidden": true,
    "id": "38o_A1UQtEN9"
   },
   "outputs": [],
   "source": [
    "indicator = ((dataset=='law') and (scenario==6))"
   ]
  },
  {
   "cell_type": "code",
   "execution_count": null,
   "metadata": {
    "ExecuteTime": {
     "end_time": "2022-10-14T17:59:39.310148Z",
     "start_time": "2022-10-14T17:59:39.307830Z"
    },
    "code_folding": [],
    "hidden": true,
    "id": "DAXVdQE5tEN9",
    "scrolled": false
   },
   "outputs": [],
   "source": [
    "if indicator:\n",
    "    p = np.ones_like(X_train_orig.racetxt).astype(float)\n",
    "    p[(X_train_orig.lsat==0)&(y_train==1)] = 0.5\n",
    "    p[(X_train_orig.lsat==1)&(y_train==0)] = 0.7\n",
    "    plt.hist(p, bins=10)\n",
    "    plt.show()"
   ]
  },
  {
   "cell_type": "markdown",
   "metadata": {
    "hidden": true,
    "id": "qXNSTvxutEN9"
   },
   "source": [
    "**Sample based on the conditional probability**"
   ]
  },
  {
   "cell_type": "code",
   "execution_count": null,
   "metadata": {
    "ExecuteTime": {
     "end_time": "2022-10-14T17:59:39.313239Z",
     "start_time": "2022-10-14T17:59:39.311242Z"
    },
    "code_folding": [],
    "hidden": true,
    "id": "1XZcSgxNtEN9"
   },
   "outputs": [],
   "source": [
    "if indicator:\n",
    "    np.random.seed(0)\n",
    "    sample_bool = np.zeros(len(X_train))\n",
    "    for idx in range(len(X_train)):\n",
    "        sample_bool[idx] = np.random.binomial(n=1, p=p[idx])  # True or False"
   ]
  },
  {
   "cell_type": "code",
   "execution_count": null,
   "metadata": {
    "ExecuteTime": {
     "end_time": "2022-10-14T17:59:39.316434Z",
     "start_time": "2022-10-14T17:59:39.314264Z"
    },
    "hidden": true,
    "id": "jBztR5jUtEN9"
   },
   "outputs": [],
   "source": [
    "if indicator:\n",
    "    X_train_orig_sampled = X_train_orig.loc[np.where(sample_bool)[0]]\n",
    "    X_train_orig_sampled = X_train_orig_sampled.reset_index(drop=True)\n",
    "    X_train_sampled = X_train[np.where(sample_bool)[0]]\n",
    "    y_train_sampled = y_train[np.where(sample_bool)[0]].reset_index(drop=True)"
   ]
  },
  {
   "cell_type": "code",
   "execution_count": null,
   "metadata": {
    "ExecuteTime": {
     "end_time": "2022-10-14T17:59:39.320775Z",
     "start_time": "2022-10-14T17:59:39.317557Z"
    },
    "code_folding": [
     0
    ],
    "hidden": true,
    "id": "BnlCOhUStEN9"
   },
   "outputs": [],
   "source": [
    "if indicator:\n",
    "    clf = LogisticRegression(input_size=X_train.shape[-1], epoch_num=3000, c=0.003)\n",
    "\n",
    "    clf.fit(X_train_sampled, y_train_sampled)\n",
    "\n",
    "    y_pred_test = clf.predict_proba(X_test)\n",
    "    y_pred_train = clf.predict_proba(X_train)\n",
    "\n",
    "    spd_0 = computeFairness(y_pred_test, X_test_orig, y_test, 0, dataset)\n",
    "    print(\"Initial statistical parity: \", spd_0)\n",
    "\n",
    "    tpr_parity_0 = computeFairness(y_pred_test, X_test_orig, y_test, 1, dataset)\n",
    "    print(\"Initial TPR parity: \", tpr_parity_0)\n",
    "\n",
    "    predictive_parity_0 = computeFairness(y_pred_test, X_test_orig, y_test, 2, dataset)\n",
    "    print(\"Initial predictive parity: \", predictive_parity_0)\n",
    "\n",
    "    loss_0 = logistic_loss(y_test, y_pred_test)\n",
    "    print(\"Initial loss: \", loss_0)\n",
    "\n",
    "    accuracy_0 = computeAccuracy(y_test, y_pred_test)\n",
    "    print(\"Initial accuracy: \", accuracy_0)"
   ]
  },
  {
   "cell_type": "code",
   "execution_count": null,
   "metadata": {
    "ExecuteTime": {
     "end_time": "2022-10-14T17:59:39.323927Z",
     "start_time": "2022-10-14T17:59:39.321861Z"
    },
    "code_folding": [
     0
    ],
    "hidden": true,
    "id": "NtJxl5hWtEN-"
   },
   "outputs": [],
   "source": [
    "if indicator:\n",
    "    y_pred_train = clf.predict_proba(X_train_sampled)\n",
    "\n",
    "    spd_0 = computeFairness(y_pred_train, X_train_orig_sampled, y_train_sampled, 0, dataset)\n",
    "    print(\"Initial statistical parity: \", spd_0)\n",
    "\n",
    "    accuracy_0 = computeAccuracy(y_train_sampled, y_pred_train)\n",
    "    print(\"Initial accuracy: \", accuracy_0)"
   ]
  },
  {
   "cell_type": "code",
   "execution_count": null,
   "metadata": {
    "ExecuteTime": {
     "end_time": "2022-10-14T17:59:39.326776Z",
     "start_time": "2022-10-14T17:59:39.325062Z"
    },
    "code_folding": [],
    "hidden": true,
    "id": "9VqWYQsFtEN-"
   },
   "outputs": [],
   "source": [
    "if indicator:\n",
    "    sens_attr = 'racetxt'\n",
    "    parent_1 = 'lsat'\n",
    "    parent_2 = 'lsat'\n",
    "    parent_3 = 'y'"
   ]
  },
  {
   "cell_type": "markdown",
   "metadata": {
    "hidden": true,
    "id": "UYJJQ9IStEN-"
   },
   "source": [
    "**Bound**"
   ]
  },
  {
   "cell_type": "code",
   "execution_count": null,
   "metadata": {
    "ExecuteTime": {
     "end_time": "2022-10-14T17:59:39.329427Z",
     "start_time": "2022-10-14T17:59:39.327858Z"
    },
    "code_folding": [],
    "hidden": true,
    "id": "_5trTX7rtEN-",
    "scrolled": true
   },
   "outputs": [],
   "source": [
    "if indicator:\n",
    "    record_statistics(clf, record=False)"
   ]
  },
  {
   "cell_type": "code",
   "execution_count": null,
   "metadata": {
    "hidden": true,
    "id": "zJJLGPF2tEN-"
   },
   "outputs": [],
   "source": []
  },
  {
   "cell_type": "code",
   "execution_count": null,
   "metadata": {
    "hidden": true,
    "id": "WtAhQmSJtEN-"
   },
   "outputs": [],
   "source": []
  },
  {
   "cell_type": "code",
   "execution_count": null,
   "metadata": {
    "hidden": true,
    "id": "Q7tjfOC5tEN-"
   },
   "outputs": [],
   "source": []
  },
  {
   "cell_type": "code",
   "execution_count": null,
   "metadata": {
    "hidden": true,
    "id": "znuY6ihHtEN-"
   },
   "outputs": [],
   "source": []
  },
  {
   "cell_type": "markdown",
   "metadata": {
    "heading_collapsed": true,
    "id": "ZCPURxrftEN-"
   },
   "source": [
    "## Regularizer"
   ]
  },
  {
   "cell_type": "code",
   "execution_count": null,
   "metadata": {
    "ExecuteTime": {
     "end_time": "2022-10-14T17:59:39.332471Z",
     "start_time": "2022-10-14T17:59:39.330533Z"
    },
    "hidden": true,
    "id": "t_W9keHFtEN-"
   },
   "outputs": [],
   "source": [
    "BFs = []\n",
    "AFs = []\n",
    "ubs = []\n",
    "lbs = []\n",
    "accs = []\n",
    "f1s = []"
   ]
  },
  {
   "cell_type": "markdown",
   "metadata": {
    "hidden": true,
    "id": "twH2Pox9tEN_"
   },
   "source": [
    "### Prepare Validation Set"
   ]
  },
  {
   "cell_type": "code",
   "execution_count": null,
   "metadata": {
    "ExecuteTime": {
     "end_time": "2022-10-14T17:59:39.511965Z",
     "start_time": "2022-10-14T17:59:39.333743Z"
    },
    "hidden": true,
    "id": "z3MumFI1tEN_"
   },
   "outputs": [],
   "source": [
    "X_train_orig_sampled, X_val_orig_sampled, y_train_sampled, y_val_sampled = \\\n",
    "    train_test_split(X_train_orig_sampled, y_train_sampled, test_size=0.25, random_state=val_seed)"
   ]
  },
  {
   "cell_type": "code",
   "execution_count": null,
   "metadata": {
    "ExecuteTime": {
     "end_time": "2022-10-14T17:59:40.057844Z",
     "start_time": "2022-10-14T17:59:39.513259Z"
    },
    "hidden": true,
    "id": "IjIwnLUetEN_"
   },
   "outputs": [],
   "source": [
    "from sklearn.preprocessing import StandardScaler\n",
    "sc = StandardScaler()\n",
    "X_train_sampled = sc.fit_transform(X_train_orig_sampled)\n",
    "X_val_sampled = sc.transform(X_val_orig_sampled)\n",
    "X_train_orig_sampled = X_train_orig_sampled.reset_index(drop=True)\n",
    "X_val_orig_sampled = X_val_orig_sampled.reset_index(drop=True)\n",
    "y_train_sampled = y_train_sampled.reset_index(drop=True)\n",
    "y_val_sampled = y_val_sampled.reset_index(drop=True)\n",
    "X_test = sc.transform(X_test_orig)\n",
    "X_train = sc.transform(X_train_orig)"
   ]
  },
  {
   "cell_type": "markdown",
   "metadata": {
    "heading_collapsed": true,
    "hidden": true,
    "id": "P3Wih1aXtEOA"
   },
   "source": [
    "### No Regularizer"
   ]
  },
  {
   "cell_type": "code",
   "execution_count": null,
   "metadata": {
    "ExecuteTime": {
     "end_time": "2022-10-14T18:24:23.580430Z",
     "start_time": "2022-10-14T18:24:23.575469Z"
    },
    "hidden": true,
    "id": "ioJfzI7ytEOA"
   },
   "outputs": [],
   "source": [
    "epoch_num=300"
   ]
  },
  {
   "cell_type": "code",
   "execution_count": null,
   "metadata": {
    "ExecuteTime": {
     "end_time": "2022-10-14T18:24:23.810053Z",
     "start_time": "2022-10-14T18:24:23.805311Z"
    },
    "hidden": true,
    "id": "kWC82IWHtEOA"
   },
   "outputs": [],
   "source": [
    "info_dict = dict()\n",
    "info_dict['x_train'] = X_train_sampled\n",
    "info_dict['y_train'] = y_train_sampled.to_numpy()\n",
    "info_dict['x_val'] = X_val_sampled\n",
    "info_dict['y_val'] = y_val_sampled.to_numpy()"
   ]
  },
  {
   "cell_type": "code",
   "execution_count": null,
   "metadata": {
    "ExecuteTime": {
     "end_time": "2022-10-14T18:24:30.619183Z",
     "start_time": "2022-10-14T18:24:24.033996Z"
    },
    "hidden": true,
    "id": "qTL1LkIKtEOA",
    "outputId": "31821dec-596c-443b-c3af-088e42c362f4"
   },
   "outputs": [],
   "source": [
    "clf = LogisticRegression(input_size=X_train.shape[-1], epoch_num=epoch_num, c=c)\n",
    "\n",
    "clf = train_clf(clf, info_dict=info_dict)\n",
    "\n",
    "y_pred_test = clf.predict_proba(X_test)\n",
    "y_pred_train = clf.predict_proba(X_train)\n",
    "\n",
    "spd_0 = computeFairness(y_pred_test, X_test_orig, y_test, 0, dataset)\n",
    "print(\"Initial statistical parity: \", spd_0)\n",
    "\n",
    "tpr_parity_0 = computeFairness(y_pred_test, X_test_orig, y_test, 1, dataset)\n",
    "print(\"Initial TPR parity: \", tpr_parity_0)\n",
    "\n",
    "predictive_parity_0 = computeFairness(y_pred_test, X_test_orig, y_test, 2, dataset)\n",
    "print(\"Initial predictive parity: \", predictive_parity_0)\n",
    "\n",
    "loss_0 = logistic_loss(y_test, y_pred_test)\n",
    "print(\"Initial loss: \", loss_0)\n",
    "\n",
    "accuracy_0 = computeAccuracy(y_test, y_pred_test)\n",
    "print(\"Initial accuracy: \", accuracy_0)\n",
    "# accs.append(accuracy_0)"
   ]
  },
  {
   "cell_type": "code",
   "execution_count": null,
   "metadata": {
    "ExecuteTime": {
     "end_time": "2022-10-14T18:24:46.616475Z",
     "start_time": "2022-10-14T18:24:30.620471Z"
    },
    "hidden": true,
    "id": "m3OOnVVytEOB",
    "outputId": "06fd5614-5763-4b12-9b62-77dad9876366",
    "scrolled": false
   },
   "outputs": [],
   "source": [
    "record_statistics(clf)"
   ]
  },
  {
   "cell_type": "code",
   "execution_count": null,
   "metadata": {
    "hidden": true,
    "id": "8EmeejCXtEOB"
   },
   "outputs": [],
   "source": []
  },
  {
   "cell_type": "code",
   "execution_count": null,
   "metadata": {
    "hidden": true,
    "id": "lwe7U0QPtEOB"
   },
   "outputs": [],
   "source": []
  },
  {
   "cell_type": "markdown",
   "metadata": {
    "heading_collapsed": true,
    "hidden": true,
    "id": "TuC_MuaMtEOB"
   },
   "source": [
    "### Bound Regularizer"
   ]
  },
  {
   "cell_type": "code",
   "execution_count": null,
   "metadata": {
    "ExecuteTime": {
     "end_time": "2022-10-14T18:24:47.354077Z",
     "start_time": "2022-10-14T18:24:46.618266Z"
    },
    "code_folding": [
     9,
     21,
     35,
     47
    ],
    "hidden": true,
    "id": "KNrm8qYHtEOB"
   },
   "outputs": [],
   "source": [
    "info_dict = dict()\n",
    "info_dict['th'] = th\n",
    "info_dict['balance'] = 1\n",
    "info_dict['x_train'] = X_train_sampled\n",
    "info_dict['y_train'] = y_train_sampled.to_numpy()\n",
    "info_dict['x_val'] = X_val_sampled\n",
    "info_dict['y_val'] = y_val_sampled.to_numpy()\n",
    "\n",
    "protected_groups = []\n",
    "for v in np.sort(get_attr(X_train_orig_sampled, y_train_sampled, parent_1).unique()):\n",
    "    for u in np.sort(get_attr(X_train_orig_sampled, y_train_sampled, parent_2).unique()):\n",
    "        for w in np.sort(get_attr(X_train_orig_sampled, y_train_sampled, parent_3).unique()):\n",
    "            idx = X_train_orig_sampled[(get_attr(X_train_orig_sampled, y_train_sampled, parent_1)==v) &\\\n",
    "                                       (get_attr(X_train_orig_sampled, y_train_sampled, parent_2)==u) &\\\n",
    "                                       (get_attr(X_train_orig_sampled, y_train_sampled, parent_3)==w) &\\\n",
    "                                       (get_attr(X_train_orig_sampled, y_train_sampled, sens_attr)==0)].index\n",
    "            idx = idx.intersection(get_A_idx(X_train_orig_sampled, y_train_sampled, A, A_val))\n",
    "            if len(idx)>0:\n",
    "                protected_groups.append(idx)\n",
    "\n",
    "privileged_groups = []\n",
    "for v in np.sort(get_attr(X_train_orig_sampled, y_train_sampled, parent_1).unique()):\n",
    "    for u in np.sort(get_attr(X_train_orig_sampled, y_train_sampled, parent_2).unique()):\n",
    "        for w in np.sort(get_attr(X_train_orig_sampled, y_train_sampled, parent_3).unique()):\n",
    "            idx = X_train_orig_sampled[(get_attr(X_train_orig_sampled, y_train_sampled, parent_1)==v) &\\\n",
    "                                       (get_attr(X_train_orig_sampled, y_train_sampled, parent_2)==u) &\\\n",
    "                                       (get_attr(X_train_orig_sampled, y_train_sampled, parent_3)==w) &\\\n",
    "                                       (get_attr(X_train_orig_sampled, y_train_sampled, sens_attr)==1)].index\n",
    "            idx = idx.intersection(get_A_idx(X_train_orig_sampled, y_train_sampled, A, A_val))\n",
    "            if len(idx)>0:\n",
    "                privileged_groups.append(idx)\n",
    "\n",
    "info_dict['train_regularizer'] = [protected_groups, privileged_groups]\n",
    "\n",
    "protected_groups = []\n",
    "for v in np.sort(get_attr(X_train_orig_sampled, y_train_sampled, parent_1).unique()):\n",
    "    for u in np.sort(get_attr(X_train_orig_sampled, y_train_sampled, parent_2).unique()):\n",
    "        for w in np.sort(get_attr(X_train_orig_sampled, y_train_sampled, parent_3).unique()):\n",
    "            idx = X_val_orig_sampled[(get_attr(X_val_orig_sampled, y_val_sampled, parent_1)==v) &\\\n",
    "                                       (get_attr(X_val_orig_sampled, y_val_sampled, parent_2)==u) &\\\n",
    "                                       (get_attr(X_val_orig_sampled, y_val_sampled, parent_3)==w) &\\\n",
    "                                       (get_attr(X_val_orig_sampled, y_val_sampled, sens_attr)==0)].index\n",
    "            idx = idx.intersection(get_A_idx(X_val_orig_sampled, y_val_sampled, A, A_val))\n",
    "            if len(idx)>0:\n",
    "                protected_groups.append(idx)\n",
    "\n",
    "privileged_groups = []\n",
    "for v in np.sort(get_attr(X_train_orig_sampled, y_train_sampled, parent_1).unique()):\n",
    "    for u in np.sort(get_attr(X_train_orig_sampled, y_train_sampled, parent_2).unique()):\n",
    "        for w in np.sort(get_attr(X_train_orig_sampled, y_train_sampled, parent_3).unique()):\n",
    "            idx = X_val_orig_sampled[(get_attr(X_val_orig_sampled, y_val_sampled, parent_1)==v) &\\\n",
    "                                       (get_attr(X_val_orig_sampled, y_val_sampled, parent_2)==u) &\\\n",
    "                                       (get_attr(X_val_orig_sampled, y_val_sampled, parent_3)==w) &\\\n",
    "                                       (get_attr(X_val_orig_sampled, y_val_sampled, sens_attr)==1)].index\n",
    "            idx = idx.intersection(get_A_idx(X_val_orig_sampled, y_val_sampled, A, A_val))\n",
    "            if len(idx)>0:\n",
    "                privileged_groups.append(idx)\n",
    "info_dict['val_regularizer'] = [protected_groups, privileged_groups]"
   ]
  },
  {
   "cell_type": "code",
   "execution_count": null,
   "metadata": {
    "ExecuteTime": {
     "end_time": "2022-10-14T18:25:22.315916Z",
     "start_time": "2022-10-14T18:24:47.355545Z"
    },
    "hidden": true,
    "id": "H4dcx1tltEOB",
    "outputId": "23a511f6-4a2f-4ba1-b42b-6d83f8c946f9"
   },
   "outputs": [],
   "source": [
    "clf = LogisticRegression_Reg_Bound(input_size=X_train.shape[-1], epoch_num=100, c=c)\n",
    "\n",
    "clf = train_clf(clf, info_dict)\n",
    "\n",
    "y_pred_test = clf.predict_proba(X_test)\n",
    "\n",
    "spd_0 = computeFairness(y_pred_test, X_test_orig, y_test, 0, dataset)\n",
    "print(\"Initial statistical parity: \", spd_0)\n",
    "\n",
    "tpr_parity_0 = computeFairness(y_pred_test, X_test_orig, y_test, 1, dataset)\n",
    "print(\"Initial TPR parity: \", tpr_parity_0)\n",
    "\n",
    "predictive_parity_0 = computeFairness(y_pred_test, X_test_orig, y_test, 2, dataset)\n",
    "print(\"Initial predictive parity: \", predictive_parity_0)\n",
    "\n",
    "loss_0 = logistic_loss(y_test, y_pred_test)\n",
    "print(\"Initial loss: \", loss_0)\n",
    "\n",
    "accuracy_0 = computeAccuracy(y_test, y_pred_test)\n",
    "print(\"Initial accuracy: \", accuracy_0)\n",
    "# accs.append(accuracy_0)"
   ]
  },
  {
   "cell_type": "code",
   "execution_count": null,
   "metadata": {
    "ExecuteTime": {
     "end_time": "2022-10-14T18:25:38.335085Z",
     "start_time": "2022-10-14T18:25:22.317891Z"
    },
    "hidden": true,
    "id": "HPnJA2bntEOB",
    "outputId": "4c46ccf8-c576-43bf-8d20-52ce4079a340",
    "scrolled": true
   },
   "outputs": [],
   "source": [
    "record_statistics(clf)"
   ]
  },
  {
   "cell_type": "code",
   "execution_count": null,
   "metadata": {
    "ExecuteTime": {
     "end_time": "2022-09-19T00:01:03.772408Z",
     "start_time": "2022-09-19T00:01:03.662056Z"
    },
    "hidden": true,
    "id": "aNf8P76ntEOB"
   },
   "outputs": [],
   "source": []
  },
  {
   "cell_type": "markdown",
   "metadata": {
    "heading_collapsed": true,
    "hidden": true,
    "id": "om84ejjetEOB"
   },
   "source": [
    "### Metric Regularizer"
   ]
  },
  {
   "cell_type": "code",
   "execution_count": null,
   "metadata": {
    "ExecuteTime": {
     "end_time": "2022-10-14T18:25:38.472855Z",
     "start_time": "2022-10-14T18:25:38.336323Z"
    },
    "hidden": true,
    "id": "xx-VU1bftEOB"
   },
   "outputs": [],
   "source": [
    "info_dict = dict()\n",
    "info_dict['th'] = 0\n",
    "info_dict['balance'] = 1\n",
    "info_dict['x_train'] = X_train_sampled\n",
    "info_dict['y_train'] = y_train_sampled.to_numpy()\n",
    "info_dict['x_val'] = X_val_sampled\n",
    "info_dict['y_val'] = y_val_sampled.to_numpy()\n",
    "\n",
    "protected_idx = X_train_orig_sampled[X_train_orig_sampled[sens_attr]==0].index.intersection(get_A_idx(X_train_orig_sampled, y_train_sampled, A, A_val))\n",
    "privileged_idx = X_train_orig_sampled[X_train_orig_sampled[sens_attr]==1].index.intersection(get_A_idx(X_train_orig_sampled, y_train_sampled, A, A_val))\n",
    "info_dict['train_regularizer'] = [protected_idx, privileged_idx]\n",
    "\n",
    "protected_idx = X_val_orig_sampled[X_val_orig_sampled[sens_attr]==0].index.intersection(get_A_idx(X_val_orig_sampled, y_val_sampled, A, A_val))\n",
    "privileged_idx = X_val_orig_sampled[X_val_orig_sampled[sens_attr]==1].index.intersection(get_A_idx(X_val_orig_sampled, y_val_sampled, A, A_val))\n",
    "info_dict['val_regularizer'] = [protected_idx, privileged_idx]"
   ]
  },
  {
   "cell_type": "code",
   "execution_count": null,
   "metadata": {
    "ExecuteTime": {
     "end_time": "2022-10-14T18:25:57.168839Z",
     "start_time": "2022-10-14T18:25:38.474227Z"
    },
    "hidden": true,
    "id": "zXYMUxketEOB",
    "outputId": "1cf1547e-3f3f-4961-8087-af3f116e7211"
   },
   "outputs": [],
   "source": [
    "clf = LogisticRegression_Reg_Metric(input_size=X_train.shape[-1], epoch_num=epoch_num, c=c)\n",
    "\n",
    "clf = train_clf(clf, info_dict)\n",
    "\n",
    "y_pred_test = clf.predict_proba(X_test)\n",
    "y_pred_train = clf.predict_proba(X_train)\n",
    "\n",
    "spd_0 = computeFairness(y_pred_test, X_test_orig, y_test, 0, dataset)\n",
    "print(\"Initial statistical parity: \", spd_0)\n",
    "\n",
    "tpr_parity_0 = computeFairness(y_pred_test, X_test_orig, y_test, 1, dataset)\n",
    "print(\"Initial TPR parity: \", tpr_parity_0)\n",
    "\n",
    "predictive_parity_0 = computeFairness(y_pred_test, X_test_orig, y_test, 2, dataset)\n",
    "print(\"Initial predictive parity: \", predictive_parity_0)\n",
    "\n",
    "loss_0 = logistic_loss(y_test, y_pred_test)\n",
    "print(\"Initial loss: \", loss_0)\n",
    "\n",
    "accuracy_0 = computeAccuracy(y_test, y_pred_test)\n",
    "print(\"Initial accuracy: \", accuracy_0)"
   ]
  },
  {
   "cell_type": "code",
   "execution_count": null,
   "metadata": {
    "ExecuteTime": {
     "end_time": "2022-10-14T18:25:57.170354Z",
     "start_time": "2022-10-14T18:24:28.979Z"
    },
    "hidden": true,
    "id": "3NHv71GBtEOB"
   },
   "outputs": [],
   "source": [
    "record_statistics(clf)"
   ]
  },
  {
   "cell_type": "markdown",
   "metadata": {
    "heading_collapsed": true,
    "hidden": true,
    "id": "ao3C1L07tEOB"
   },
   "source": [
    "### Weighted Metric Regularizer"
   ]
  },
  {
   "cell_type": "code",
   "execution_count": null,
   "metadata": {
    "ExecuteTime": {
     "end_time": "2022-10-14T18:26:15.413710Z",
     "start_time": "2022-10-14T18:26:13.481994Z"
    },
    "code_folding": [
     9,
     21,
     35,
     47,
     60
    ],
    "hidden": true,
    "id": "DAbkMFtPtEOC",
    "outputId": "893584bc-07ca-459e-9255-308f20e6e3fc"
   },
   "outputs": [],
   "source": [
    "info_dict = dict()\n",
    "info_dict['th'] = 0\n",
    "info_dict['balance'] = 6\n",
    "info_dict['x_train'] = X_train_sampled\n",
    "info_dict['y_train'] = y_train_sampled.to_numpy()\n",
    "info_dict['x_val'] = X_val_sampled\n",
    "info_dict['y_val'] = y_val_sampled.to_numpy()\n",
    "\n",
    "protected_groups = []\n",
    "for v in np.sort(get_attr(X_train_orig_sampled, y_train_sampled, parent_1).unique()):\n",
    "    for u in np.sort(get_attr(X_train_orig_sampled, y_train_sampled, parent_2).unique()):\n",
    "        for w in np.sort(get_attr(X_train_orig_sampled, y_train_sampled, parent_3).unique()):\n",
    "            idx = X_train_orig_sampled[(get_attr(X_train_orig_sampled, y_train_sampled, parent_1)==v) &\\\n",
    "                                       (get_attr(X_train_orig_sampled, y_train_sampled, parent_2)==u) &\\\n",
    "                                       (get_attr(X_train_orig_sampled, y_train_sampled, parent_3)==w) &\\\n",
    "                                       (get_attr(X_train_orig_sampled, y_train_sampled, sens_attr)==0)].index\n",
    "            idx = idx.intersection(get_A_idx(X_train_orig_sampled, y_train_sampled, A, A_val))\n",
    "            if len(idx)>0:\n",
    "                protected_groups.append(idx)\n",
    "\n",
    "privileged_groups = []\n",
    "for v in np.sort(get_attr(X_train_orig_sampled, y_train_sampled, parent_1).unique()):\n",
    "    for u in np.sort(get_attr(X_train_orig_sampled, y_train_sampled, parent_2).unique()):\n",
    "        for w in np.sort(get_attr(X_train_orig_sampled, y_train_sampled, parent_3).unique()):\n",
    "            idx = X_train_orig_sampled[(get_attr(X_train_orig_sampled, y_train_sampled, parent_1)==v) &\\\n",
    "                                       (get_attr(X_train_orig_sampled, y_train_sampled, parent_2)==u) &\\\n",
    "                                       (get_attr(X_train_orig_sampled, y_train_sampled, parent_3)==w) &\\\n",
    "                                       (get_attr(X_train_orig_sampled, y_train_sampled, sens_attr)==1)].index\n",
    "            idx = idx.intersection(get_A_idx(X_train_orig_sampled, y_train_sampled, A, A_val))\n",
    "            if len(idx)>0:\n",
    "                privileged_groups.append(idx)\n",
    "\n",
    "info_dict['train_regularizer'] = [protected_groups, privileged_groups]\n",
    "\n",
    "protected_groups = []\n",
    "for v in np.sort(get_attr(X_train_orig_sampled, y_train_sampled, parent_1).unique()):\n",
    "    for u in np.sort(get_attr(X_train_orig_sampled, y_train_sampled, parent_2).unique()):\n",
    "        for w in np.sort(get_attr(X_train_orig_sampled, y_train_sampled, parent_3).unique()):\n",
    "            idx = X_val_orig_sampled[(get_attr(X_val_orig_sampled, y_val_sampled, parent_1)==v) &\\\n",
    "                                       (get_attr(X_val_orig_sampled, y_val_sampled, parent_2)==u) &\\\n",
    "                                       (get_attr(X_val_orig_sampled, y_val_sampled, parent_3)==w) &\\\n",
    "                                       (get_attr(X_val_orig_sampled, y_val_sampled, sens_attr)==0)].index\n",
    "            idx = idx.intersection(get_A_idx(X_val_orig_sampled, y_val_sampled, A, A_val))\n",
    "            if len(idx)>0:\n",
    "                protected_groups.append(idx)\n",
    "\n",
    "privileged_groups = []\n",
    "for v in np.sort(get_attr(X_train_orig_sampled, y_train_sampled, parent_1).unique()):\n",
    "    for u in np.sort(get_attr(X_train_orig_sampled, y_train_sampled, parent_2).unique()):\n",
    "        for w in np.sort(get_attr(X_train_orig_sampled, y_train_sampled, parent_3).unique()):\n",
    "            idx = X_val_orig_sampled[(get_attr(X_val_orig_sampled, y_val_sampled, parent_1)==v) &\\\n",
    "                                       (get_attr(X_val_orig_sampled, y_val_sampled, parent_2)==u) &\\\n",
    "                                       (get_attr(X_val_orig_sampled, y_val_sampled, parent_3)==w) &\\\n",
    "                                       (get_attr(X_val_orig_sampled, y_val_sampled, sens_attr)==1)].index\n",
    "            idx = idx.intersection(get_A_idx(X_val_orig_sampled, y_val_sampled, A, A_val))\n",
    "            if len(idx)>0:\n",
    "                privileged_groups.append(idx)\n",
    "info_dict['val_regularizer'] = [protected_groups, privileged_groups]\n",
    "\n",
    "weights = [[], []]\n",
    "for s in range(2):\n",
    "    s_idx = X_train_orig[X_train_orig[sens_attr]==s].index.intersection(get_A_idx(X_train_orig, y_train, A, A_val))\n",
    "    for v in np.sort(get_attr(X_train_orig_sampled, y_train_sampled, parent_1).unique()):\n",
    "        for u in np.sort(get_attr(X_train_orig_sampled, y_train_sampled, parent_2).unique()):\n",
    "            for w in np.sort(get_attr(X_train_orig_sampled, y_train_sampled, parent_3).unique()):\n",
    "                idx = X_train_orig[(get_attr(X_train_orig, y_train, parent_1)==v) &\\\n",
    "                                   (get_attr(X_train_orig, y_train, parent_2)==u) &\\\n",
    "                                   (get_attr(X_train_orig, y_train, parent_3)==w) &\\\n",
    "                                   (get_attr(X_train_orig, y_train, sens_attr)==s)].index\n",
    "                idx = idx.intersection(get_A_idx(X_train_orig, y_train, A, A_val))\n",
    "                if len(idx)>0:\n",
    "                    weights[s].append(len(idx)/len(s_idx))\n",
    "\n",
    "# weights = [[0.636514, 0.363486], [0.589085, 0.410914]]\n",
    "# weights = [[0.589058, 0.410942], [0.634008, 0.3659912]]\n",
    "info_dict['weights'] = weights\n"
   ]
  },
  {
   "cell_type": "code",
   "execution_count": null,
   "metadata": {
    "ExecuteTime": {
     "end_time": "2022-10-14T18:28:01.919106Z",
     "start_time": "2022-10-14T18:26:15.415477Z"
    },
    "hidden": true,
    "id": "CxaNQGFqtEOC",
    "outputId": "211b022c-c855-4cbd-89cf-3b081d491cfa",
    "scrolled": true
   },
   "outputs": [],
   "source": [
    "clf = LogisticRegression_Reg_WeightedMetric(input_size=X_train.shape[-1], epoch_num=100, c=c)\n",
    "\n",
    "clf = train_clf(clf, info_dict)\n",
    "\n",
    "y_pred_test = clf.predict_proba(X_test)\n",
    "y_pred_train = clf.predict_proba(X_train)\n",
    "\n",
    "spd_0 = computeFairness(y_pred_test, X_test_orig, y_test, 0, dataset)\n",
    "print(\"Initial statistical parity: \", spd_0)\n",
    "\n",
    "tpr_parity_0 = computeFairness(y_pred_test, X_test_orig, y_test, 1, dataset)\n",
    "print(\"Initial TPR parity: \", tpr_parity_0)\n",
    "\n",
    "predictive_parity_0 = computeFairness(y_pred_test, X_test_orig, y_test, 2, dataset)\n",
    "print(\"Initial predictive parity: \", predictive_parity_0)\n",
    "\n",
    "loss_0 = logistic_loss(y_test, y_pred_test)\n",
    "print(\"Initial loss: \", loss_0)\n",
    "\n",
    "accuracy_0 = computeAccuracy(y_test, y_pred_test)\n",
    "print(\"Initial accuracy: \", accuracy_0)\n",
    "# accs.append(accuracy_0)"
   ]
  },
  {
   "cell_type": "code",
   "execution_count": null,
   "metadata": {
    "ExecuteTime": {
     "end_time": "2022-10-14T18:24:07.966287Z",
     "start_time": "2022-10-14T18:17:37.329Z"
    },
    "hidden": true,
    "id": "UJsOYAuStEOC",
    "scrolled": false
   },
   "outputs": [],
   "source": [
    "record_statistics(clf)"
   ]
  },
  {
   "cell_type": "markdown",
   "metadata": {
    "heading_collapsed": true,
    "hidden": true,
    "id": "dTOMLnA9tEOC"
   },
   "source": [
    "### Est. Weighted Metric Regularizer (limited info)"
   ]
  },
  {
   "cell_type": "code",
   "execution_count": null,
   "metadata": {
    "ExecuteTime": {
     "end_time": "2022-10-05T23:50:40.157428Z",
     "start_time": "2022-10-05T23:50:40.078702Z"
    },
    "code_folding": [
     10,
     22,
     36,
     48
    ],
    "hidden": true,
    "id": "RgYPowSNtEOC"
   },
   "outputs": [],
   "source": [
    "info_dict = dict()\n",
    "extl_info = dict()\n",
    "info_dict['th'] = 0.01\n",
    "info_dict['balance'] = 2\n",
    "info_dict['x_train'] = X_train_sampled\n",
    "info_dict['y_train'] = y_train_sampled.to_numpy()\n",
    "info_dict['x_val'] = X_val_sampled\n",
    "info_dict['y_val'] = y_val_sampled.to_numpy()\n",
    "\n",
    "protected_groups = []\n",
    "for v in np.sort(get_attr(X_train_orig_sampled, y_train_sampled, parent_1).unique()):\n",
    "    for u in np.sort(get_attr(X_train_orig_sampled, y_train_sampled, parent_2).unique()):\n",
    "        for w in np.sort(get_attr(X_train_orig_sampled, y_train_sampled, parent_3).unique()):\n",
    "            idx = X_train_orig_sampled[(get_attr(X_train_orig_sampled, y_train_sampled, parent_1)==v) &\\\n",
    "                                       (get_attr(X_train_orig_sampled, y_train_sampled, parent_2)==u) &\\\n",
    "                                       (get_attr(X_train_orig_sampled, y_train_sampled, parent_3)==w) &\\\n",
    "                                       (get_attr(X_train_orig_sampled, y_train_sampled, sens_attr)==0)].index\n",
    "            idx = idx.intersection(get_A_idx(X_train_orig_sampled, y_train_sampled, A, A_val))\n",
    "            if len(idx)>0:\n",
    "                protected_groups.append(idx)\n",
    "\n",
    "privileged_groups = []\n",
    "for v in np.sort(get_attr(X_train_orig_sampled, y_train_sampled, parent_1).unique()):\n",
    "    for u in np.sort(get_attr(X_train_orig_sampled, y_train_sampled, parent_2).unique()):\n",
    "        for w in np.sort(get_attr(X_train_orig_sampled, y_train_sampled, parent_3).unique()):\n",
    "            idx = X_train_orig_sampled[(get_attr(X_train_orig_sampled, y_train_sampled, parent_1)==v) &\\\n",
    "                                       (get_attr(X_train_orig_sampled, y_train_sampled, parent_2)==u) &\\\n",
    "                                       (get_attr(X_train_orig_sampled, y_train_sampled, parent_3)==w) &\\\n",
    "                                       (get_attr(X_train_orig_sampled, y_train_sampled, sens_attr)==1)].index\n",
    "            idx = idx.intersection(get_A_idx(X_train_orig_sampled, y_train_sampled, A, A_val))\n",
    "            if len(idx)>0:\n",
    "                privileged_groups.append(idx)\n",
    "\n",
    "info_dict['train_regularizer'] = [protected_groups, privileged_groups]\n",
    "\n",
    "protected_groups = []\n",
    "for v in np.sort(get_attr(X_train_orig_sampled, y_train_sampled, parent_1).unique()):\n",
    "    for u in np.sort(get_attr(X_train_orig_sampled, y_train_sampled, parent_2).unique()):\n",
    "        for w in np.sort(get_attr(X_train_orig_sampled, y_train_sampled, parent_3).unique()):\n",
    "            idx = X_val_orig_sampled[(get_attr(X_val_orig_sampled, y_val_sampled, parent_1)==v) &\\\n",
    "                                       (get_attr(X_val_orig_sampled, y_val_sampled, parent_2)==u) &\\\n",
    "                                       (get_attr(X_val_orig_sampled, y_val_sampled, parent_3)==w) &\\\n",
    "                                       (get_attr(X_val_orig_sampled, y_val_sampled, sens_attr)==0)].index\n",
    "            idx = idx.intersection(get_A_idx(X_val_orig_sampled, y_val_sampled, A, A_val))\n",
    "            if len(idx)>0:\n",
    "                protected_groups.append(idx)\n",
    "\n",
    "privileged_groups = []\n",
    "for v in np.sort(get_attr(X_train_orig_sampled, y_train_sampled, parent_1).unique()):\n",
    "    for u in np.sort(get_attr(X_train_orig_sampled, y_train_sampled, parent_2).unique()):\n",
    "        for w in np.sort(get_attr(X_train_orig_sampled, y_train_sampled, parent_3).unique()):\n",
    "            idx = X_val_orig_sampled[(get_attr(X_val_orig_sampled, y_val_sampled, parent_1)==v) &\\\n",
    "                                       (get_attr(X_val_orig_sampled, y_val_sampled, parent_2)==u) &\\\n",
    "                                       (get_attr(X_val_orig_sampled, y_val_sampled, parent_3)==w) &\\\n",
    "                                       (get_attr(X_val_orig_sampled, y_val_sampled, sens_attr)==1)].index\n",
    "            idx = idx.intersection(get_A_idx(X_val_orig_sampled, y_val_sampled, A, A_val))\n",
    "            if len(idx)>0:\n",
    "                privileged_groups.append(idx)\n",
    "info_dict['val_regularizer'] = [protected_groups, privileged_groups]\n",
    "\n",
    "extl_info['data'] = X_train\n",
    "idxs = [[], []]\n",
    "for s in range(2):\n",
    "    for v in np.sort(get_attr(X_train_orig_sampled, y_train_sampled, parent_1).unique()):\n",
    "        for u in np.sort(get_attr(X_train_orig_sampled, y_train_sampled, parent_2).unique()):\n",
    "            for w in np.sort(get_attr(X_train_orig_sampled, y_train_sampled, parent_3).unique()):\n",
    "                idx = X_train_orig_sampled[(get_attr(X_train_orig_sampled, y_train_sampled, parent_1)==v) &\\\n",
    "                                           (get_attr(X_train_orig_sampled, y_train_sampled, parent_2)==u) &\\\n",
    "                                           (get_attr(X_train_orig_sampled, y_train_sampled, parent_3)==w) &\\\n",
    "                                           (get_attr(X_train_orig_sampled, y_train_sampled, sens_attr)==s)].index\n",
    "                idx_unbiased = X_train_orig[(get_attr(X_train_orig, y_train, parent_1)==v) &\\\n",
    "                                            (get_attr(X_train_orig, y_train, parent_2)==u) &\\\n",
    "                                            (get_attr(X_train_orig, y_train, parent_3)==w) &\\\n",
    "                                            (get_attr(X_train_orig, y_train, sens_attr)==s)].index\n",
    "                idx_a = idx.intersection(get_A_idx(X_train_orig_sampled, y_train_sampled, A, A_val))\n",
    "                if len(idx_a)>0:\n",
    "                    idxs[s].append(len(idx_a)/len(idx)*len(idx_unbiased))\n",
    "\n",
    "weights = [[], []]\n",
    "for s in range(2):\n",
    "    weights[s] = [w/sum(idxs[s]) for w in idxs[s]]\n",
    "info_dict['weights'] = weights"
   ]
  },
  {
   "cell_type": "code",
   "execution_count": null,
   "metadata": {
    "ExecuteTime": {
     "end_time": "2022-10-05T23:50:41.739769Z",
     "start_time": "2022-10-05T23:50:40.341409Z"
    },
    "hidden": true,
    "id": "KS2NXh6ktEOC",
    "outputId": "62a9b684-fdad-402c-e9c3-144b26748a75"
   },
   "outputs": [],
   "source": [
    "clf = LogisticRegression_Reg_WeightedMetric(input_size=X_train.shape[-1], epoch_num=epoch_num, c=c)\n",
    "\n",
    "clf = train_clf(clf, info_dict)\n",
    "\n",
    "y_pred_test = clf.predict_proba(X_test)\n",
    "y_pred_train = clf.predict_proba(X_train)\n",
    "\n",
    "spd_0 = computeFairness(y_pred_test, X_test_orig, y_test, 0, dataset)\n",
    "print(\"Initial statistical parity: \", spd_0)\n",
    "\n",
    "tpr_parity_0 = computeFairness(y_pred_test, X_test_orig, y_test, 1, dataset)\n",
    "print(\"Initial TPR parity: \", tpr_parity_0)\n",
    "\n",
    "predictive_parity_0 = computeFairness(y_pred_test, X_test_orig, y_test, 2, dataset)\n",
    "print(\"Initial predictive parity: \", predictive_parity_0)\n",
    "\n",
    "loss_0 = logistic_loss(y_test, y_pred_test)\n",
    "print(\"Initial loss: \", loss_0)\n",
    "\n",
    "accuracy_0 = computeAccuracy(y_test, y_pred_test)\n",
    "print(\"Initial accuracy: \", accuracy_0)\n",
    "# accs.append(accuracy_0)"
   ]
  },
  {
   "cell_type": "code",
   "execution_count": null,
   "metadata": {
    "ExecuteTime": {
     "end_time": "2022-10-05T23:50:41.768905Z",
     "start_time": "2022-10-05T23:50:41.741080Z"
    },
    "hidden": true,
    "id": "Qu0wykO-tEOC",
    "outputId": "b5c4f5c4-14ca-42d1-9336-aac8dc427ba0"
   },
   "outputs": [],
   "source": [
    "record_statistics(clf)"
   ]
  },
  {
   "cell_type": "markdown",
   "metadata": {
    "heading_collapsed": true,
    "hidden": true,
    "id": "x7RqbUO0tEOC"
   },
   "source": [
    "### Cov Regularizer"
   ]
  },
  {
   "cell_type": "code",
   "execution_count": null,
   "metadata": {
    "ExecuteTime": {
     "end_time": "2022-10-05T23:44:48.119525Z",
     "start_time": "2022-10-05T23:44:48.099368Z"
    },
    "hidden": true,
    "id": "LgMOrDrptEOC"
   },
   "outputs": [],
   "source": [
    "info_dict = dict()\n",
    "info_dict['th'] = 0\n",
    "info_dict['fair_metric'] = fair_metric\n",
    "info_dict['balance'] = 8\n",
    "info_dict['sens'] = X_train_orig_sampled[sens_attr].to_numpy()\n",
    "info_dict['x_train'] = X_train_sampled\n",
    "info_dict['y_train'] = y_train_sampled.to_numpy()\n",
    "info_dict['x_val'] = X_val_sampled\n",
    "info_dict['y_val'] = y_val_sampled.to_numpy()\n",
    "\n",
    "protected_idx = X_train_orig_sampled[X_train_orig_sampled[sens_attr]==0].index.intersection(get_A_idx(X_train_orig_sampled, y_train_sampled, A, A_val))\n",
    "privileged_idx = X_train_orig_sampled[X_train_orig_sampled[sens_attr]==1].index.intersection(get_A_idx(X_train_orig_sampled, y_train_sampled, A, A_val))\n",
    "info_dict['train_regularizer'] = [protected_idx, privileged_idx]\n",
    "\n",
    "protected_idx = X_val_orig_sampled[X_val_orig_sampled[sens_attr]==0].index.intersection(get_A_idx(X_val_orig_sampled, y_val_sampled, A, A_val))\n",
    "privileged_idx = X_val_orig_sampled[X_val_orig_sampled[sens_attr]==1].index.intersection(get_A_idx(X_val_orig_sampled, y_val_sampled, A, A_val))\n",
    "info_dict['val_regularizer'] = [protected_idx, privileged_idx]"
   ]
  },
  {
   "cell_type": "code",
   "execution_count": null,
   "metadata": {
    "ExecuteTime": {
     "end_time": "2022-10-05T23:44:49.116845Z",
     "start_time": "2022-10-05T23:44:48.491524Z"
    },
    "hidden": true,
    "id": "JmmsyjektEOC",
    "outputId": "dba43b2b-3441-4656-f8c7-2f50653b7c7e"
   },
   "outputs": [],
   "source": [
    "clf = LogisticRegression_Reg_Cov(input_size=X_train.shape[-1], epoch_num=epoch_num, c=c)\n",
    "\n",
    "clf = train_clf(clf, info_dict)\n",
    "\n",
    "y_pred_test = clf.predict_proba(X_test)\n",
    "y_pred_train = clf.predict_proba(X_train)\n",
    "\n",
    "spd_0 = computeFairness(y_pred_test, X_test_orig, y_test, 0, dataset)\n",
    "print(\"Initial statistical parity: \", spd_0)\n",
    "\n",
    "tpr_parity_0 = computeFairness(y_pred_test, X_test_orig, y_test, 1, dataset)\n",
    "print(\"Initial TPR parity: \", tpr_parity_0)\n",
    "\n",
    "predictive_parity_0 = computeFairness(y_pred_test, X_test_orig, y_test, 2, dataset)\n",
    "print(\"Initial predictive parity: \", predictive_parity_0)\n",
    "\n",
    "loss_0 = logistic_loss(y_test, y_pred_test)\n",
    "print(\"Initial loss: \", loss_0)\n",
    "\n",
    "accuracy_0 = computeAccuracy(y_test, y_pred_test)\n",
    "print(\"Initial accuracy: \", accuracy_0)\n",
    "# accs.append(accuracy_0)"
   ]
  },
  {
   "cell_type": "code",
   "execution_count": null,
   "metadata": {
    "ExecuteTime": {
     "end_time": "2022-10-05T23:44:49.146808Z",
     "start_time": "2022-10-05T23:44:49.118251Z"
    },
    "hidden": true,
    "id": "NShHrmMitEOD",
    "outputId": "47acd2d9-9c39-4427-f821-bff6ebc85419"
   },
   "outputs": [],
   "source": [
    "record_statistics(clf)"
   ]
  },
  {
   "cell_type": "markdown",
   "metadata": {
    "heading_collapsed": true,
    "hidden": true,
    "id": "532z_wgVtEOD"
   },
   "source": [
    "### Adversarial Debiasing"
   ]
  },
  {
   "cell_type": "code",
   "execution_count": null,
   "metadata": {
    "ExecuteTime": {
     "end_time": "2022-10-05T23:44:54.601650Z",
     "start_time": "2022-10-05T23:44:54.571325Z"
    },
    "code_folding": [],
    "hidden": true,
    "id": "ncT1TSrptEOD",
    "outputId": "e05a93a9-7da9-4ac1-abc8-51f7d72d2a1b"
   },
   "outputs": [],
   "source": [
    "clf = LogisticRegression_AD(input_size=X_train.shape[-1], epoch_num=epoch_num, c=c,\n",
    "                            learning_rate=0.01, adv_learning_rate=0.2)\n",
    "spds, accs_clf, acc_advs = clf.fit(X_train_sampled, y_train_sampled, X_train_orig_sampled[sens_attr],\n",
    "                               th=0, balance=0.8, loss_balance=8, load=True)"
   ]
  },
  {
   "cell_type": "code",
   "execution_count": null,
   "metadata": {
    "ExecuteTime": {
     "end_time": "2022-10-02T00:35:31.764475Z",
     "start_time": "2022-10-01T23:55:55.940Z"
    },
    "code_folding": [],
    "hidden": true,
    "id": "pCKmYRBjtEOD"
   },
   "outputs": [],
   "source": [
    "y_pred_test = clf.predict_proba(X_test)\n",
    "y_pred_train = clf.predict_proba(X_train)\n",
    "\n",
    "spd_0 = computeFairness(y_pred_test, X_test_orig, y_test, 0, dataset)\n",
    "print(\"Initial statistical parity: \", spd_0)\n",
    "\n",
    "tpr_parity_0 = computeFairness(y_pred_test, X_test_orig, y_test, 1, dataset)\n",
    "print(\"Initial TPR parity: \", tpr_parity_0)\n",
    "\n",
    "predictive_parity_0 = computeFairness(y_pred_test, X_test_orig, y_test, 2, dataset)\n",
    "print(\"Initial predictive parity: \", predictive_parity_0)\n",
    "\n",
    "loss_0 = logistic_loss(y_test, y_pred_test)\n",
    "print(\"Initial loss: \", loss_0)\n",
    "\n",
    "accuracy_0 = computeAccuracy(y_test, y_pred_test)\n",
    "print(\"Initial accuracy: \", accuracy_0)"
   ]
  },
  {
   "cell_type": "code",
   "execution_count": null,
   "metadata": {
    "ExecuteTime": {
     "end_time": "2022-10-02T00:35:31.767607Z",
     "start_time": "2022-10-01T23:55:57.236Z"
    },
    "hidden": true,
    "id": "KJ2sIjhjtEOE"
   },
   "outputs": [],
   "source": [
    "record_statistics(clf)"
   ]
  },
  {
   "cell_type": "code",
   "execution_count": null,
   "metadata": {
    "hidden": true,
    "id": "fsTrOj0FtEOE"
   },
   "outputs": [],
   "source": []
  },
  {
   "cell_type": "markdown",
   "metadata": {
    "heading_collapsed": true,
    "hidden": true,
    "id": "MCcXcVnatEOE"
   },
   "source": [
    "### IPW"
   ]
  },
  {
   "cell_type": "code",
   "execution_count": null,
   "metadata": {
    "ExecuteTime": {
     "end_time": "2022-10-02T00:35:31.768832Z",
     "start_time": "2022-10-01T23:55:58.026Z"
    },
    "hidden": true,
    "id": "qDc9MFhJtEOE"
   },
   "outputs": [],
   "source": [
    "positive_data = X_train[y_train==1]\n",
    "positive_source = sample_bool[y_train==1]\n",
    "\n",
    "all_data = X_train\n",
    "all_source = sample_bool"
   ]
  },
  {
   "cell_type": "code",
   "execution_count": null,
   "metadata": {
    "ExecuteTime": {
     "end_time": "2022-10-02T00:35:31.769592Z",
     "start_time": "2022-10-01T23:55:58.262Z"
    },
    "hidden": true,
    "id": "7OQY4G5KtEOF"
   },
   "outputs": [],
   "source": [
    "Pr_C_given_X = LogisticRegression(input_size=X_train.shape[-1])\n",
    "Pr_C_given_X.fit(all_data, all_source.ravel())\n",
    "print(computeAccuracy(all_source.ravel(), Pr_C_given_X.predict_proba(all_data)))\n",
    "print(computeF1(all_source.ravel(), Pr_C_given_X.predict_proba(all_data)))\n",
    "\n",
    "Pr_C_given_YX = LogisticRegression(input_size=positive_data.shape[-1])\n",
    "Pr_C_given_YX.fit(positive_data, positive_source.ravel())\n",
    "print(computeAccuracy(positive_source.ravel(), Pr_C_given_YX.predict_proba(positive_data)))\n",
    "print(computeF1(positive_source.ravel(), Pr_C_given_YX.predict_proba(positive_data)))"
   ]
  },
  {
   "cell_type": "code",
   "execution_count": null,
   "metadata": {
    "ExecuteTime": {
     "end_time": "2022-10-02T00:35:31.770316Z",
     "start_time": "2022-10-01T23:55:58.524Z"
    },
    "hidden": true,
    "id": "QcAMLd2StEOF"
   },
   "outputs": [],
   "source": [
    "training_weights = Pr_C_given_X.predict_proba(X_train_sampled)/Pr_C_given_YX.predict_proba(X_train_sampled)\n",
    "val_weights = Pr_C_given_X.predict_proba(X_val_sampled)/Pr_C_given_YX.predict_proba(X_val_sampled)"
   ]
  },
  {
   "cell_type": "code",
   "execution_count": null,
   "metadata": {
    "ExecuteTime": {
     "end_time": "2022-10-02T00:35:31.771192Z",
     "start_time": "2022-10-01T23:55:58.754Z"
    },
    "code_folding": [],
    "hidden": true,
    "id": "dCuFPrVmtEOF"
   },
   "outputs": [],
   "source": [
    "info_dict = dict()\n",
    "info_dict['x_train'] = X_train_sampled\n",
    "info_dict['y_train'] = y_train_sampled.to_numpy()\n",
    "info_dict['x_val'] = X_val_sampled\n",
    "info_dict['y_val'] = y_val_sampled.to_numpy()\n",
    "info_dict['clf_numerator'] = Pr_C_given_X\n",
    "info_dict['clf_denominator'] = Pr_C_given_YX\n",
    "info_dict['th'] = th\n",
    "info_dict['balance'] = 8\n",
    "\n",
    "protected_idx = X_train_orig_sampled[X_train_orig_sampled[sens_attr]==0].index.intersection(get_A_idx(X_train_orig_sampled, y_train_sampled, A, A_val))\n",
    "privileged_idx = X_train_orig_sampled[X_train_orig_sampled[sens_attr]==1].index.intersection(get_A_idx(X_train_orig_sampled, y_train_sampled, A, A_val))\n",
    "info_dict['train_regularizer'] = [protected_idx, privileged_idx]\n",
    "\n",
    "protected_idx = X_val_orig_sampled[X_val_orig_sampled[sens_attr]==0].index.intersection(get_A_idx(X_val_orig_sampled, y_val_sampled, A, A_val))\n",
    "privileged_idx = X_val_orig_sampled[X_val_orig_sampled[sens_attr]==1].index.intersection(get_A_idx(X_val_orig_sampled, y_val_sampled, A, A_val))\n",
    "info_dict['val_regularizer'] = [protected_idx, privileged_idx]"
   ]
  },
  {
   "cell_type": "code",
   "execution_count": null,
   "metadata": {
    "ExecuteTime": {
     "end_time": "2022-10-02T00:35:31.772061Z",
     "start_time": "2022-10-01T23:55:58.985Z"
    },
    "hidden": true,
    "id": "kbzNYJ50tEOF"
   },
   "outputs": [],
   "source": [
    "clf = LogisticRegression_IPW(input_size=X_train.shape[-1], epoch_num=epoch_num, c=c)\n",
    "clf = train_clf(clf, info_dict=info_dict)"
   ]
  },
  {
   "cell_type": "code",
   "execution_count": null,
   "metadata": {
    "ExecuteTime": {
     "end_time": "2022-10-02T00:35:31.772859Z",
     "start_time": "2022-10-01T23:55:59.272Z"
    },
    "hidden": true,
    "id": "_GYYp_2FtEOF"
   },
   "outputs": [],
   "source": [
    "y_pred_test = clf.predict_proba(X_test)\n",
    "y_pred_train = clf.predict_proba(X_train)\n",
    "\n",
    "spd_0 = computeFairness(y_pred_test, X_test_orig, y_test, 0, dataset)\n",
    "print(\"Initial statistical parity: \", spd_0)\n",
    "\n",
    "tpr_parity_0 = computeFairness(y_pred_test, X_test_orig, y_test, 1, dataset)\n",
    "print(\"Initial TPR parity: \", tpr_parity_0)\n",
    "\n",
    "predictive_parity_0 = computeFairness(y_pred_test, X_test_orig, y_test, 2, dataset)\n",
    "print(\"Initial predictive parity: \", predictive_parity_0)\n",
    "\n",
    "loss_0 = logistic_loss(y_test, y_pred_test)\n",
    "print(\"Initial loss: \", loss_0)\n",
    "\n",
    "accuracy_0 = computeAccuracy(y_test, y_pred_test)\n",
    "print(\"Initial accuracy: \", accuracy_0)\n",
    "# accs.append(accuracy_0)"
   ]
  },
  {
   "cell_type": "code",
   "execution_count": null,
   "metadata": {
    "ExecuteTime": {
     "end_time": "2022-10-02T00:35:31.773839Z",
     "start_time": "2022-10-01T23:55:59.520Z"
    },
    "hidden": true,
    "id": "1fQ7evvmtEOF"
   },
   "outputs": [],
   "source": [
    "record_statistics(clf)"
   ]
  },
  {
   "cell_type": "code",
   "execution_count": null,
   "metadata": {
    "ExecuteTime": {
     "end_time": "2022-10-02T00:35:31.774820Z",
     "start_time": "2022-10-01T23:55:59.892Z"
    },
    "hidden": true,
    "id": "AY_g0JNwtEOF"
   },
   "outputs": [],
   "source": [
    "y_pred_test = clf.predict_proba(X_test)\n",
    "computeFairness(y_pred_test, X_test_orig, y_test, 0, dataset)"
   ]
  },
  {
   "cell_type": "code",
   "execution_count": null,
   "metadata": {
    "ExecuteTime": {
     "end_time": "2022-10-02T00:35:31.776376Z",
     "start_time": "2022-10-01T23:56:00.157Z"
    },
    "hidden": true,
    "id": "71_NKhhOtEOF"
   },
   "outputs": [],
   "source": [
    "plt.hist(training_weights)"
   ]
  },
  {
   "cell_type": "code",
   "execution_count": null,
   "metadata": {
    "ExecuteTime": {
     "end_time": "2022-10-02T00:35:31.777314Z",
     "start_time": "2022-10-01T23:56:00.405Z"
    },
    "hidden": true,
    "id": "raHRzA7-tEOF"
   },
   "outputs": [],
   "source": [
    "len(X_train_sampled)/len(X_train),\\\n",
    "len(training_weights[training_weights>=1])/len(training_weights[training_weights<1])"
   ]
  },
  {
   "cell_type": "markdown",
   "metadata": {
    "heading_collapsed": true,
    "hidden": true,
    "id": "t6WxXYrWtEOF"
   },
   "source": [
    "### Better Bound Regularizer"
   ]
  },
  {
   "cell_type": "code",
   "execution_count": null,
   "metadata": {
    "ExecuteTime": {
     "end_time": "2022-10-06T00:57:37.536940Z",
     "start_time": "2022-10-06T00:57:37.472988Z"
    },
    "code_folding": [
     48,
     61
    ],
    "hidden": true,
    "id": "wNiomUcetEOF"
   },
   "outputs": [],
   "source": [
    "info_dict = dict()\n",
    "info_dict['th'] = th\n",
    "info_dict['balance'] = 2\n",
    "info_dict['x_train'] = X_train_sampled\n",
    "info_dict['y_train'] = y_train_sampled.to_numpy()\n",
    "info_dict['x_val'] = X_val_sampled\n",
    "info_dict['y_val'] = y_val_sampled.to_numpy()\n",
    "\n",
    "protected_subgroup_idx = [[] for _ in range(len(get_attr(X_train_orig_sampled, y_train_sampled, parent_1).unique()))]\n",
    "privileged_subgroup_idx = [[] for _ in range(len(get_attr(X_train_orig_sampled, y_train_sampled, parent_1).unique()))]\n",
    "\n",
    "protected_groups = []\n",
    "for v in np.sort(get_attr(X_train_orig_sampled, y_train_sampled, parent_1).unique()):\n",
    "    for u in np.sort(get_attr(X_train_orig_sampled, y_train_sampled, parent_2).unique()):\n",
    "        for w in np.sort(get_attr(X_train_orig_sampled, y_train_sampled, parent_3).unique()):\n",
    "            idx = X_train_orig_sampled[(get_attr(X_train_orig_sampled, y_train_sampled, parent_1)==v) &\\\n",
    "                                       (get_attr(X_train_orig_sampled, y_train_sampled, parent_2)==u) &\\\n",
    "                                       (get_attr(X_train_orig_sampled, y_train_sampled, parent_3)==w) &\\\n",
    "                                       (get_attr(X_train_orig_sampled, y_train_sampled, sens_attr)==0)].index\n",
    "            idx = idx.intersection(get_A_idx(X_train_orig_sampled, y_train_sampled, A, A_val))\n",
    "            if len(idx)>0:\n",
    "                protected_subgroup_idx[v].append(len(protected_groups))\n",
    "                protected_groups.append(idx)\n",
    "\n",
    "privileged_groups = []\n",
    "for v in np.sort(get_attr(X_train_orig_sampled, y_train_sampled, parent_1).unique()):\n",
    "    for u in np.sort(get_attr(X_train_orig_sampled, y_train_sampled, parent_2).unique()):\n",
    "        for w in np.sort(get_attr(X_train_orig_sampled, y_train_sampled, parent_3).unique()):\n",
    "            idx = X_train_orig_sampled[(get_attr(X_train_orig_sampled, y_train_sampled, parent_1)==v) &\\\n",
    "                                       (get_attr(X_train_orig_sampled, y_train_sampled, parent_2)==u) &\\\n",
    "                                       (get_attr(X_train_orig_sampled, y_train_sampled, parent_3)==w) &\\\n",
    "                                       (get_attr(X_train_orig_sampled, y_train_sampled, sens_attr)==1)].index\n",
    "            idx = idx.intersection(get_A_idx(X_train_orig_sampled, y_train_sampled, A, A_val))\n",
    "            if len(idx)>0:\n",
    "                privileged_subgroup_idx[v].append(len(privileged_groups))\n",
    "                privileged_groups.append(idx)\n",
    "\n",
    "info_dict['train_subgroup_idx'] = [protected_subgroup_idx, protected_subgroup_idx]\n",
    "info_dict['train_regularizer'] = [protected_groups, privileged_groups]\n",
    "\n",
    "protected_subgroup_idx = [[] for _ in range(len(get_attr(X_train_orig_sampled, y_train_sampled, parent_1).unique()))]\n",
    "privileged_subgroup_idx = [[] for _ in range(len(get_attr(X_train_orig_sampled, y_train_sampled, parent_1).unique()))]\n",
    "\n",
    "protected_groups = []\n",
    "for v in np.sort(get_attr(X_train_orig_sampled, y_train_sampled, parent_1).unique()):\n",
    "    for u in np.sort(get_attr(X_train_orig_sampled, y_train_sampled, parent_2).unique()):\n",
    "        for w in np.sort(get_attr(X_train_orig_sampled, y_train_sampled, parent_3).unique()):\n",
    "            idx = X_val_orig_sampled[(get_attr(X_val_orig_sampled, y_val_sampled, parent_1)==v) &\\\n",
    "                                       (get_attr(X_val_orig_sampled, y_val_sampled, parent_2)==u) &\\\n",
    "                                       (get_attr(X_val_orig_sampled, y_val_sampled, parent_3)==w) &\\\n",
    "                                       (get_attr(X_val_orig_sampled, y_val_sampled, sens_attr)==0)].index\n",
    "            idx = idx.intersection(get_A_idx(X_val_orig_sampled, y_val_sampled, A, A_val))\n",
    "            if len(idx)>0:\n",
    "                protected_subgroup_idx[v].append(len(protected_groups))\n",
    "                protected_groups.append(idx)\n",
    "\n",
    "privileged_groups = []\n",
    "for v in np.sort(get_attr(X_train_orig_sampled, y_train_sampled, parent_1).unique()):\n",
    "    for u in np.sort(get_attr(X_train_orig_sampled, y_train_sampled, parent_2).unique()):\n",
    "        for w in np.sort(get_attr(X_train_orig_sampled, y_train_sampled, parent_3).unique()):\n",
    "            idx = X_val_orig_sampled[(get_attr(X_val_orig_sampled, y_val_sampled, parent_1)==v) &\\\n",
    "                                       (get_attr(X_val_orig_sampled, y_val_sampled, parent_2)==u) &\\\n",
    "                                       (get_attr(X_val_orig_sampled, y_val_sampled, parent_3)==w) &\\\n",
    "                                       (get_attr(X_val_orig_sampled, y_val_sampled, sens_attr)==1)].index\n",
    "            idx = idx.intersection(get_A_idx(X_val_orig_sampled, y_val_sampled, A, A_val))\n",
    "            if len(idx)>0:\n",
    "                privileged_subgroup_idx[v].append(len(privileged_groups))\n",
    "                privileged_groups.append(idx)\n",
    "\n",
    "info_dict['val_subgroup_idx'] = [protected_subgroup_idx, privileged_subgroup_idx]\n",
    "info_dict['val_regularizer'] = [protected_groups, privileged_groups]\n",
    "\n",
    "weights = [[], []]\n",
    "for s in range(2):\n",
    "    s_idx = X_train_orig[X_train_orig[sens_attr]==s].index.intersection(get_A_idx(X_train_orig, y_train, A, A_val))\n",
    "    for v in np.sort(get_attr(X_train_orig_sampled, y_train_sampled, parent_1).unique()):\n",
    "        idx = X_train_orig[(get_attr(X_train_orig, y_train, parent_1)==v) &\\\n",
    "                           (get_attr(X_train_orig, y_train, sens_attr)==s)].index\n",
    "        idx = idx.intersection(get_A_idx(X_train_orig, y_train, A, A_val))\n",
    "        if len(idx)>0:\n",
    "            weights[s].append(len(idx)/len(s_idx))\n",
    "info_dict['weights'] = weights\n"
   ]
  },
  {
   "cell_type": "code",
   "execution_count": null,
   "metadata": {
    "ExecuteTime": {
     "end_time": "2022-10-06T00:57:43.597653Z",
     "start_time": "2022-10-06T00:57:40.675048Z"
    },
    "hidden": true,
    "id": "zCHAPnMStEOG",
    "outputId": "4789f4e9-5685-4202-fdb5-ac0edda84294",
    "scrolled": true
   },
   "outputs": [],
   "source": [
    "clf = LogisticRegression_Reg_Tighter_Bound(input_size=X_train.shape[-1], epoch_num=epoch_num, c=c)\n",
    "\n",
    "clf = train_clf(clf, info_dict)\n",
    "\n",
    "y_pred_test = clf.predict_proba(X_test)\n",
    "\n",
    "spd_0 = computeFairness(y_pred_test, X_test_orig, y_test, 0, dataset)\n",
    "print(\"Initial statistical parity: \", spd_0)\n",
    "\n",
    "tpr_parity_0 = computeFairness(y_pred_test, X_test_orig, y_test, 1, dataset)\n",
    "print(\"Initial TPR parity: \", tpr_parity_0)\n",
    "\n",
    "predictive_parity_0 = computeFairness(y_pred_test, X_test_orig, y_test, 2, dataset)\n",
    "print(\"Initial predictive parity: \", predictive_parity_0)\n",
    "\n",
    "loss_0 = logistic_loss(y_test, y_pred_test)\n",
    "print(\"Initial loss: \", loss_0)\n",
    "\n",
    "accuracy_0 = computeAccuracy(y_test, y_pred_test)\n",
    "print(\"Initial accuracy: \", accuracy_0)\n",
    "# accs.append(accuracy_0)"
   ]
  },
  {
   "cell_type": "code",
   "execution_count": null,
   "metadata": {
    "ExecuteTime": {
     "end_time": "2022-10-06T00:57:43.628440Z",
     "start_time": "2022-10-06T00:57:43.599079Z"
    },
    "hidden": true,
    "id": "2z3h89QVtEOG",
    "outputId": "2d7b917e-aef2-4163-c26b-ae12c2a4fe2f",
    "scrolled": true
   },
   "outputs": [],
   "source": [
    "record_statistics(clf)"
   ]
  },
  {
   "cell_type": "markdown",
   "metadata": {
    "heading_collapsed": true,
    "id": "gSAWsesAtEOG"
   },
   "source": [
    "## Plot Results"
   ]
  },
  {
   "cell_type": "code",
   "execution_count": null,
   "metadata": {
    "ExecuteTime": {
     "end_time": "2022-09-25T01:53:40.708256Z",
     "start_time": "2022-09-25T01:53:33.919Z"
    },
    "hidden": true,
    "id": "aYIG0WwytEOG"
   },
   "outputs": [],
   "source": [
    "AFs, BFs, ubs, lbs, accs"
   ]
  },
  {
   "cell_type": "code",
   "execution_count": null,
   "metadata": {
    "ExecuteTime": {
     "end_time": "2022-10-15T17:40:40.479659Z",
     "start_time": "2022-10-15T17:40:40.471147Z"
    },
    "hidden": true,
    "id": "-QI87pGqtEOH"
   },
   "outputs": [],
   "source": [
    "name_mapping = {'Orig':'ORIG(SB)', 'Bound Reg.':'CRAB-MX', 'TightBound Reg.':'CRAB-MU',\n",
    "                'Adv. Debias':'ZHANG', 'LFR':'ZEMEL', 'Reweighing':'KAMIRAN',\n",
    "                'Cov. Reg.':'ZAFAR', 'IPW':'CORTES', 'AF Reg.':'CRAB-M$\\emptyset$',\n",
    "                'Est.AF Reg.':'CRAB-MA', 'BF Reg.':'BF', 'Test': 'ORIG(NOSB)'}\n",
    "plot_alphabet = 'abcdefghijkl'\n",
    "def get_name(x):\n",
    "    if x in name_mapping:\n",
    "        return name_mapping[x]\n",
    "    else:\n",
    "        base_name = x.split('-')[0]\n",
    "        return name_mapping[base_name]\n",
    "sc_mapping = {1:1, 4:2, 2:4, 5:3, 3:5, 6:6}"
   ]
  },
  {
   "cell_type": "code",
   "execution_count": null,
   "metadata": {
    "ExecuteTime": {
     "end_time": "2022-10-15T17:40:40.713761Z",
     "start_time": "2022-10-15T17:40:40.692412Z"
    },
    "code_folding": [
     0
    ],
    "hidden": true,
    "id": "xrmQSfDntEOH"
   },
   "outputs": [],
   "source": [
    "def single_scatter(ax, acc_mean, acc_std, spd_mean, spd_std, colors, methods, markers, title,\n",
    "                   xlabel='Accuracy', ylabel='Statistical Parity', label_size=18, title_offset=-0.28,\n",
    "                   title_size=16, legend_size=16, ticksize=12, markersize=75, eline_width=2):\n",
    "#     ax.set_facecolor('#E5E4E2')\n",
    "    for i in range(len(acc_mean)):\n",
    "        ax.scatter(acc_mean[i], spd_mean[i], color=colors[i], linewidth=0, zorder=3,\n",
    "                    edgecolor='black', label=get_name(methods[i]), s=markersize, marker=markers[i])\n",
    "        ax.errorbar(acc_mean[i], spd_mean[i], xerr=acc_std[i], yerr=spd_std[i], color=colors[i],\n",
    "                    ms=markersize, fmt='', elinewidth=eline_width, zorder=2)\n",
    "    ax.set_ylabel(ylabel, fontsize=label_size)\n",
    "    ax.set_xlabel(xlabel, fontsize=label_size)\n",
    "    for spine in ax.spines.values():\n",
    "        spine.set_linewidth(1)\n",
    "    ax.tick_params(top=False)\n",
    "    ax.tick_params(right=False)\n",
    "    ax.tick_params(labeltop=False)\n",
    "    ax.tick_params(labelright=False)\n",
    "#     ax.xaxis.set_major_formatter(FormatStrFormatter())\n",
    "\n",
    "    ax.xaxis.tick_bottom()\n",
    "    ax.yaxis.tick_left()\n",
    "    ax.set_axisbelow(True)\n",
    "\n",
    "    ax.tick_params(colors='white', direction='out')\n",
    "    for tick in ax.get_xticklabels():\n",
    "        tick.set_fontsize(ticksize)\n",
    "        tick.set_color('black')\n",
    "    for tick in ax.get_yticklabels():\n",
    "        tick.set_color('black')\n",
    "        tick.set_fontsize(ticksize)\n",
    "#     ax.legend(fontsize=legend_size, fancybox=False, framealpha=0.0)\n",
    "    title = title\n",
    "    ax.set_title(title, fontsize=title_size, y=title_offset)\n",
    "    ax.locator_params(axis='y', nbins=5)\n",
    "    ax.locator_params(axis='x', nbins=4)\n",
    "    ax.xaxis.set_major_locator(plt.MaxNLocator(3))\n",
    "#     ax.yaxis.set_major_locator(plt.MaxNLocator(4))\n",
    "    ax.yaxis.set_major_formatter(FormatStrFormatter('%0.2f'))\n",
    "    ax.xaxis.set_major_formatter(FormatStrFormatter('%0.3f'))\n",
    "#     ax.figure.autofmt_xdate()"
   ]
  },
  {
   "cell_type": "code",
   "execution_count": null,
   "metadata": {
    "ExecuteTime": {
     "end_time": "2022-10-15T17:40:40.889628Z",
     "start_time": "2022-10-15T17:40:40.886443Z"
    },
    "hidden": true,
    "id": "93mtgkVmtEOH"
   },
   "outputs": [],
   "source": [
    "EO_STR = '$\\digamma_{h, Y}(\\Omega)$'\n",
    "SPD_STR = '$\\digamma_{h, \\emptyset}(\\Omega)$'"
   ]
  },
  {
   "cell_type": "code",
   "execution_count": null,
   "metadata": {
    "ExecuteTime": {
     "end_time": "2022-10-15T17:40:41.108291Z",
     "start_time": "2022-10-15T17:40:41.087149Z"
    },
    "code_folding": [],
    "hidden": true,
    "id": "9nGrtXjKtEOH"
   },
   "outputs": [],
   "source": [
    "def plot_line(method, ds, sc, dict_name, ax, ths, label, color, marker, markersize=12, eline_width=2, err=False):\n",
    "    with open(dict_name, 'r') as f:\n",
    "        txt = f.read()\n",
    "        d = json.loads(txt)\n",
    "    test_afs = dict()\n",
    "    test_accs = dict()\n",
    "    methods = [f'{method}-{th}' for th in ths]\n",
    "    for mt in methods:\n",
    "        afs[mt] = [abs(d[ds][f'sc{sc}'][str(vs)][mt][0]) for vs in val_seeds if mt in d[ds][f'sc{sc}'][str(vs)]]\n",
    "        test_accs[mt] = [d[ds][f'sc{sc}'][str(vs)][mt][-2] for vs in val_seeds if mt in d[ds][f'sc{sc}'][str(vs)]]\n",
    "    af_mean = [np.mean(afs[mt]) for mt in methods]\n",
    "    acc_mean = [np.mean(test_accs[mt]) for mt in methods]\n",
    "    af_std = [np.std(afs[mt]) for mt in methods]\n",
    "    acc_std = [np.std(test_accs[mt]) for mt in methods]\n",
    "    ax.plot(acc_mean, af_mean, label=get_name(label), color=color, marker=marker, markersize=markersize)\n",
    "    if err:\n",
    "        for i in range(len(acc_mean)):\n",
    "            ax.errorbar(acc_mean[i], af_mean[i], xerr=acc_std[i], yerr=af_std[i], color=color,\n",
    "                        ms=markersize, fmt='', elinewidth=eline_width)\n"
   ]
  },
  {
   "cell_type": "code",
   "execution_count": null,
   "metadata": {
    "ExecuteTime": {
     "end_time": "2022-10-15T17:40:41.351252Z",
     "start_time": "2022-10-15T17:40:41.334104Z"
    },
    "hidden": true,
    "id": "MaReVUahtEOJ"
   },
   "outputs": [],
   "source": [
    "# Bound\n",
    "bound_th_dict = {'adult-1': [0.03, 0.15, 0.35, 0.43, 0.5], 'adult-4': [0.01, 0.06, 0.22, 0.3, 0.5],\n",
    "                 'hmda-1': [0.2, 0.565, 0.69, 0.8, 1.0], 'hmda-4': [0.15, 0.235, 0.3, 0.4, 1.0],\n",
    "                 'law-1': [0.05, 0.16, 0.24, 0.33, 0.5], 'law-4': [0.02, 0.12, 0.2, 0.35, 0.5]}\n",
    "\n",
    "# Tight Bound\n",
    "tightbound_th_dict = {'adult-2': [0.08, 0.13, 0.21, 0.28, 1.0], 'adult-5': [0.05, 0.12, 0.16, 0.23, 1.0],\n",
    "                      'law-2': [0.05, 0.215, 0.265, 0.33, 1.0], 'law-5': [0.05, 0.22, 0.31, 0.39, 1.0],\n",
    "                      'hmda-2': [0.01, 0.15, 0.28, 0.3, 1.0], 'hmda-5': [0.03, 0.455, 0.5, 0.52, 1.0]}\n",
    "\n",
    "# Est\n",
    "est_th_dict = {'adult-2': [0.01, 0.05, 0.10, 0.15, 0.25], 'adult-3': [0.02, 0.08, 0.16, 0.24, 0.4],\n",
    "               'adult-5': [0.01, 0.05, 0.09, 0.13, 0.25], 'adult-6': [0.02, 0.08, 0.16, 0.24, 0.4],\n",
    "               'law-2': [0.02, 0.08, 0.16, 0.24, 0.4], 'law-3': [0.05, 0.01, 0.09, 0.13, 0.25],\n",
    "               'law-5': [0.02, 0.08, 0.16, 0.24, 0.4], 'law-6': [0.02, 0.08, 0.16, 0.24, 0.4],\n",
    "               'hmda-2': [0.01, 0.04, 0.07, 0.1, 0.2], 'hmda-3': [0.02, 0.08, 0.16, 0.24, 0.4],\n",
    "               'hmda-5': [0.01, 0.06, 0.11, 0.16, 0.3], 'hmda-6': [0.01, 0.05, 0.09, 0.13, 0.25]}"
   ]
  },
  {
   "cell_type": "code",
   "execution_count": null,
   "metadata": {
    "ExecuteTime": {
     "end_time": "2022-10-15T17:40:44.364063Z",
     "start_time": "2022-10-15T17:40:41.522786Z"
    },
    "code_folding": [],
    "hidden": true,
    "id": "2gpL2ZWKtEOJ",
    "outputId": "0deb0a28-881a-4350-c3bb-3d47c2dd70bd",
    "scrolled": true
   },
   "outputs": [],
   "source": [
    "cnt = 0\n",
    "fig, axs = plt.subplots(1, 6, dpi=400, figsize=(21, 4))\n",
    "methods = ['Orig', 'Adv. Debias', 'LFR', 'Reweighing', 'Cov. Reg.', 'Test']\n",
    "colors = ['blue', 'orange', 'violet', 'slategrey', 'olive', 'red']\n",
    "markers = ['o', 'p', 'v', 's', '*', 'X']\n",
    "\n",
    "for m in ['EO']:\n",
    "    dict_name = m + '_LR.dict'\n",
    "    with open(dict_name, 'r') as f:\n",
    "        txt = f.read()\n",
    "        d = json.loads(txt)\n",
    "    for sc in [1, 4]:\n",
    "        for ds in ['adult', 'law', 'hmda']:\n",
    "            col_id = (cnt%6)\n",
    "            row_id = (cnt//6)\n",
    "            ax = axs[col_id]\n",
    "            afs = dict()\n",
    "            test_accs = dict()\n",
    "            mts = []\n",
    "            for method in methods:\n",
    "                mt = method\n",
    "                mts.append(mt)\n",
    "                afs[mt] = [abs(d[ds][f'sc{sc}'][str(vs)][mt][0]) for vs in val_seeds if mt in d[ds][f'sc{sc}'][str(vs)]]\n",
    "                test_accs[mt] = [d[ds][f'sc{sc}'][str(vs)][mt][-2] for vs in val_seeds if mt in d[ds][f'sc{sc}'][str(vs)]]\n",
    "            af_mean = [np.mean(afs[mt]) for mt in mts]\n",
    "            acc_mean = [np.mean(test_accs[mt]) for mt in mts]\n",
    "            af_std = [np.std(afs[mt]) for mt in mts]\n",
    "            acc_std = [np.std(test_accs[mt]) for mt in mts]\n",
    "            ylabel = None\n",
    "            xlabel = None\n",
    "            ths = bound_th_dict[f'{ds}-{sc}']\n",
    "            plot_line('Bound Reg.', ds, sc, dict_name, ax, ths, label='Bound Reg.',\n",
    "                      color='blueviolet', marker='d', markersize=10.95, err=True)\n",
    "            single_scatter(ax, acc_mean, acc_std, af_mean, af_std, colors, mts, markers,\n",
    "                           f'({plot_alphabet[cnt]}) {ds.upper()}-G1-S{sc_mapping[sc]}', xlabel, ylabel, label_size=10,\n",
    "                           title_size=20, legend_size=5, ticksize=16, markersize=120)\n",
    "            ax.set_ylim(0, 0.35)\n",
    "            xleft, xright = ax.get_xlim()\n",
    "            ax.fill_between((xleft, xright), 0.03, 1, color='red', alpha=0.1)\n",
    "            ax.fill_between((xleft, xright), 0, 0.02999, color='green', alpha=0.1)\n",
    "            ax.set_xlim(xleft, xright)\n",
    "            ax.grid(color='grey', linestyle='-', alpha=0.3)\n",
    "            ax.set_zorder(3)\n",
    "            cnt += 1\n",
    "\n",
    "lines, labels = axs[-1].get_legend_handles_labels()\n",
    "order = [1, 6, 0, 3, 4, 2, 5]\n",
    "lgd = fig.legend([lines[i] for i in order], [labels[i] for i in order], loc='upper center',\n",
    "                 fontsize=30, ncol=len(labels), bbox_to_anchor=(0.5, 1.1), fancybox=False, framealpha=0.0,\n",
    "                 prop={'size': 20})\n",
    "for i in range(len(lgd.legendHandles)):\n",
    "    lgd.legendHandles[i]._sizes = [120]\n",
    "fig.add_subplot(111, frameon=False)\n",
    "# hide tick and tick label of the big axes\n",
    "plt.tick_params(labelcolor='none', top=False, bottom=False, left=False, right=False)\n",
    "plt.grid(False)\n",
    "# plt.xlabel('\\n\\nF1-Score', fontsize=20)\n",
    "plt.ylabel(f'{EO_STR}\\n', fontsize=24)\n",
    "# ax.xaxis.set_label_coords(0.5, -1)\n",
    "\n",
    "plt.tight_layout()\n",
    "plt.savefig('bounds-comparison.pdf', bbox_inches='tight')"
   ]
  },
  {
   "cell_type": "code",
   "execution_count": null,
   "metadata": {
    "ExecuteTime": {
     "end_time": "2022-10-15T17:40:48.606515Z",
     "start_time": "2022-10-15T17:40:44.365581Z"
    },
    "code_folding": [],
    "hidden": true,
    "id": "WMo6BnjmtEOJ",
    "outputId": "9e31ce3b-f3a8-4e2c-8b1a-3cdf679ae1e7",
    "scrolled": false
   },
   "outputs": [],
   "source": [
    "# double row\n",
    "cnt = 0\n",
    "fig, axs = plt.subplots(2, 6, dpi=400, figsize=(21, 7))\n",
    "# methods = ['Orig', 'Bound Reg.', 'BF Reg.', 'Adv. Debias', 'LFR', 'Reweighing', 'Cov. Reg.']\n",
    "# colors = ['blue', 'red', 'orange', 'violet', 'green', 'olive', 'purple']\n",
    "methods = ['Orig', 'IPW', 'Test']\n",
    "colors = ['blue', 'darkgreen', 'red']\n",
    "markers = ['o', '^', 'X']\n",
    "\n",
    "for m in ['EO']:\n",
    "    dict_name = m + '_LR.dict'\n",
    "    with open(dict_name, 'r') as f:\n",
    "        txt = f.read()\n",
    "        d = json.loads(txt)\n",
    "    for sc in [5, 2, 3, 6]:\n",
    "        for ds in ['adult', 'law', 'hmda']:\n",
    "            col_id = (cnt%6)\n",
    "            row_id = (cnt//6)\n",
    "            ax = axs[row_id][col_id]\n",
    "            afs = dict()\n",
    "            test_accs = dict()\n",
    "            mts = []\n",
    "            for method in methods:\n",
    "                mt = method\n",
    "                mts.append(mt)\n",
    "                afs[mt] = [abs(d[ds][f'sc{sc}'][str(vs)][mt][0]) for vs in val_seeds if mt in d[ds][f'sc{sc}'][str(vs)]]\n",
    "                test_accs[mt] = [d[ds][f'sc{sc}'][str(vs)][mt][-2] for vs in val_seeds if mt in d[ds][f'sc{sc}'][str(vs)]]\n",
    "            af_mean = [np.mean(afs[mt]) for mt in mts]\n",
    "            acc_mean = [np.mean(test_accs[mt]) for mt in mts]\n",
    "            af_std = [np.std(afs[mt]) for mt in mts]\n",
    "            acc_std = [np.std(test_accs[mt]) for mt in mts]\n",
    "            ylabel = None\n",
    "            xlabel = None\n",
    "            if sc in [2, 5]:\n",
    "                ths = tightbound_th_dict[f'{ds}-{sc}']\n",
    "                plot_line('TightBound Reg.', ds, sc, dict_name, ax, ths,\n",
    "                          label='TightBound Reg.', color='darkred', marker='p', markersize=8)\n",
    "            ths = est_th_dict[f'{ds}-{sc}']\n",
    "            if sc in [2, 5]:\n",
    "                plot_line('Est.AF Reg.', ds, sc, dict_name, ax, ths, label='Est.AF Reg.',\n",
    "                          color='violet', marker='o', markersize=10.95)\n",
    "            plot_line('AF Reg.', ds, sc, dict_name, ax, ths, label='AF Reg.',\n",
    "                      color='orange', marker='v', markersize=10.95)\n",
    "            single_scatter(ax, acc_mean, acc_std, af_mean, af_std, colors, methods, markers,\n",
    "                           f'({plot_alphabet[cnt]}) {ds.upper()}-G{row_id+2}-S{(sc_mapping[sc]-1)%2+1}',\n",
    "                           xlabel, ylabel, label_size=10,\n",
    "                           title_size=20, legend_size=5, ticksize=16, markersize=120)\n",
    "            ax.xaxis.set_major_locator(plt.MaxNLocator(3))\n",
    "            ax.set_ylim(0, 0.35)\n",
    "            xleft, xright = ax.get_xlim()\n",
    "            ax.fill_between((xleft, xright), 0.03, 1, color='red', alpha=0.1)\n",
    "            ax.fill_between((xleft, xright), 0, 0.02999, color='green', alpha=0.1)\n",
    "            ax.set_xlim(xleft, xright)\n",
    "            ax.grid(color='grey', linestyle='-', alpha=0.3)\n",
    "            ax.set_zorder(3)\n",
    "            cnt += 1\n",
    "\n",
    "lines, labels = axs[0][0].get_legend_handles_labels()\n",
    "order = [3, 5, 2, 1, 0, 4]\n",
    "lgd = fig.legend([lines[i] for i in order], [labels[i] for i in order], loc='upper center',\n",
    "                 fontsize=30, ncol=len(labels), bbox_to_anchor=(0.5, 1.06), fancybox=False,\n",
    "                 framealpha=0.0, prop={'size': 20})\n",
    "for i in range(len(lgd.legendHandles)):\n",
    "    lgd.legendHandles[i]._sizes = [120]\n",
    "fig.add_subplot(111, frameon=False)\n",
    "# hide tick and tick label of the big axes\n",
    "plt.tick_params(labelcolor='none', top=False, bottom=False, left=False, right=False)\n",
    "plt.grid(False)\n",
    "# plt.xlabel('\\n\\nF1-Score', fontsize=20)\n",
    "plt.ylabel(f'{EO_STR}\\n', fontsize=24)\n",
    "\n",
    "plt.tight_layout()\n",
    "plt.savefig('est-comparison.pdf', bbox_inches='tight')"
   ]
  },
  {
   "cell_type": "markdown",
   "metadata": {
    "hidden": true,
    "id": "qErwxHtytEOJ"
   },
   "source": [
    "threshold for bounds\n",
    "\n",
    "\n",
    "unbiased model (trained on the test set)"
   ]
  },
  {
   "cell_type": "code",
   "execution_count": null,
   "metadata": {
    "ExecuteTime": {
     "end_time": "2022-10-15T17:41:51.291544Z",
     "start_time": "2022-10-15T17:41:50.044294Z"
    },
    "code_folding": [
     49
    ],
    "hidden": true,
    "id": "eM80ek5StEOJ",
    "outputId": "ca96f48c-5d8c-4d13-87ad-fd03913fe36b"
   },
   "outputs": [],
   "source": [
    "# 1*2 plots for SPD\n",
    "fig, axs = plt.subplots(1, 2, dpi=400, figsize=(8, 4.5))\n",
    "\n",
    "bound_th_dict = {'adult-1': [0.05, 0.14, 0.3, 0.35, 1.0]}\n",
    "tightbound_th_dict = {'adult-1': [0.02, 0.08, 0.12, 0.17, 1.0]}\n",
    "est_th_dict = {'adult-1': [0.01, 0.06, 0.11, 0.16, 1.0]}\n",
    "\n",
    "ax = axs[0]\n",
    "methods = ['Orig', 'Adv. Debias', 'LFR', 'Reweighing', 'Cov. Reg.', 'Test']\n",
    "colors = ['blue', 'orange', 'violet', 'slategrey', 'olive', 'red']\n",
    "markers = ['o', 'p', 'v', 's', '*', 'X', 'o']\n",
    "\n",
    "m = 'SPD'\n",
    "ds, sc = 'adult', 1\n",
    "cnt = 0\n",
    "dict_name = m + '_LR.dict'\n",
    "with open(dict_name, 'r') as f:\n",
    "    txt = f.read()\n",
    "    d = json.loads(txt)\n",
    "    afs = dict()\n",
    "    test_accs = dict()\n",
    "    for mt in methods:\n",
    "        afs[mt] = [abs(d[ds][f'sc{sc}'][str(vs)][mt][0]) for vs in val_seeds]\n",
    "        test_accs[mt] = [d[ds][f'sc{sc}'][str(vs)][mt][-2] for vs in val_seeds]\n",
    "    af_mean = [np.mean(afs[mt]) for mt in methods]\n",
    "    acc_mean = [np.mean(test_accs[mt]) for mt in methods]\n",
    "    af_std = [np.std(afs[mt]) for mt in methods]\n",
    "    acc_std = [np.std(test_accs[mt]) for mt in methods]\n",
    "    single_scatter(ax, acc_mean, acc_std, af_mean, af_std, colors, methods, markers,\n",
    "                   f'(a) W/O EI', xlabel, ylabel, label_size=10,\n",
    "                   title_size=20, legend_size=5, ticksize=16, markersize=80, title_offset=-0.25)\n",
    "    ths = bound_th_dict[f'{ds}-{sc}']\n",
    "    plot_line('Bound Reg.', ds, sc, dict_name, ax, ths, label='Bound Reg.',\n",
    "              color='blueviolet', marker='d', markersize=9)\n",
    "    ax.set_ylim(0, 0.25)\n",
    "    xleft, xright = ax.get_xlim()\n",
    "    ax.fill_between((xleft, xright), 0.03, 1, color='red', alpha=0.1)\n",
    "    ax.fill_between((xleft, xright), 0, 0.02999, color='green', alpha=0.1)\n",
    "    ax.set_xlim(xleft, xright)\n",
    "    ax.grid(color='grey', linestyle='-', alpha=0.3)\n",
    "    ax.set_zorder(3)\n",
    "    cnt += 1\n",
    "\n",
    "ax = axs[1]\n",
    "methods = ['Orig', 'IPW', 'Test']\n",
    "colors = ['blue', 'darkgreen', 'red']\n",
    "markers = ['o', '^', 'X']\n",
    "dict_name = m + '_LR.dict'\n",
    "cnt = 0\n",
    "with open(dict_name, 'r') as f:\n",
    "    txt = f.read()\n",
    "    d = json.loads(txt)\n",
    "    afs = dict()\n",
    "    test_accs = dict()\n",
    "    for mt in methods:\n",
    "        afs[mt] = [abs(d[ds][f'sc{sc}'][str(vs)][mt][0]) for vs in val_seeds]\n",
    "        test_accs[mt] = [d[ds][f'sc{sc}'][str(vs)][mt][-2] for vs in val_seeds]\n",
    "    af_mean = [np.mean(afs[mt]) for mt in methods]\n",
    "    acc_mean = [np.mean(test_accs[mt]) for mt in methods]\n",
    "    af_std = [np.std(afs[mt]) for mt in methods]\n",
    "    acc_std = [np.std(test_accs[mt]) for mt in methods]\n",
    "\n",
    "    ths = tightbound_th_dict[f'{ds}-{sc}']\n",
    "    plot_line('TightBound Reg.', ds, sc, dict_name, ax, ths,\n",
    "              label='TightBound Reg.', color='darkred', marker='p', markersize=9)\n",
    "\n",
    "    ths = est_th_dict[f'{ds}-{sc}']\n",
    "    plot_line('Est.AF Reg.', ds, sc, dict_name, ax, ths, label='Est.AF Reg.',\n",
    "              color='violet', marker='o', markersize=9)\n",
    "    plot_line('AF Reg.', ds, sc, dict_name, ax, ths, label='AF Reg.',\n",
    "              color='orange', marker='v', markersize=9)\n",
    "    single_scatter(ax, acc_mean, acc_std, af_mean, af_std, colors, methods, markers,\n",
    "                   f'(b) W/ EI', xlabel, ylabel, label_size=10,\n",
    "                   title_size=20, legend_size=5, ticksize=16, markersize=80, title_offset=-0.25)\n",
    "    ax.set_ylim(0, 0.25)\n",
    "    xleft, xright = ax.get_xlim()\n",
    "    ax.fill_between((xleft, xright), 0.03, 1, color='red', alpha=0.1)\n",
    "    ax.fill_between((xleft, xright), 0, 0.02999, color='green', alpha=0.1)\n",
    "    ax.set_xlim(xleft, xright)\n",
    "    ax.grid(color='grey', linestyle='-', alpha=0.3)\n",
    "    ax.set_zorder(3)\n",
    "    cnt += 1\n",
    "\n",
    "\n",
    "# lines, labels = axs[0].get_legend_handles_labels()\n",
    "# order = [0, 6, 4, 1, 2, 3, 5]\n",
    "# lgd = axs[0].legend([lines[i] for i in order], [labels[i] for i in order], loc='upper left',\n",
    "#                        fontsize=30, ncol=6, bbox_to_anchor=(0.5, 1.1), fancybox=False, framealpha=0.0,\n",
    "#                        prop={'size': 12})\n",
    "# for i in range(len(lgd.legendHandles)):\n",
    "#     lgd.legendHandles[i]._sizes = [80]\n",
    "\n",
    "lines0, labels0 = axs[0].get_legend_handles_labels()\n",
    "lines1, labels1 = axs[1].get_legend_handles_labels()\n",
    "lines, labels = lines0+lines1, labels0+labels1\n",
    "\n",
    "order = [0, 5, 6, 2, 3, 1, 4, 9, 8, 7, 11]\n",
    "\n",
    "# print([labels[i] for i in order])\n",
    "\n",
    "lgd = fig.legend([lines[i] for i in order], [labels[i] for i in order], loc='center',\n",
    "                       fontsize=30, ncol=1, bbox_to_anchor=(1.15, 0.55), fancybox=False, framealpha=0.0,\n",
    "                       prop={'size': 18})\n",
    "for i in range(len(lgd.legendHandles)):\n",
    "    lgd.legendHandles[i]._sizes = [80]\n",
    "\n",
    "ax = fig.add_subplot(111, frameon=False)\n",
    "# hide tick and tick label of the big axes\n",
    "plt.tick_params(labelcolor='none', top=False, bottom=False, left=False, right=False)\n",
    "plt.grid(False)\n",
    "# plt.xlabel('F1-Score', fontsize=20)\n",
    "plt.ylabel(SPD_STR, fontsize=24)\n",
    "ax.xaxis.set_label_coords(0.5, -0.28)\n",
    "ax.yaxis.set_label_coords(-0.12, 0.5)\n",
    "plt.tight_layout()\n",
    "plt.savefig('spd-comparison.pdf', bbox_inches='tight')"
   ]
  },
  {
   "cell_type": "code",
   "execution_count": null,
   "metadata": {
    "ExecuteTime": {
     "end_time": "2022-10-15T01:39:03.693345Z",
     "start_time": "2022-10-15T01:39:01.682497Z"
    },
    "code_folding": [],
    "hidden": true,
    "id": "jI1cX_XMtEOK",
    "outputId": "0a847473-9447-4389-e97a-544c6dddad25"
   },
   "outputs": [],
   "source": [
    "# 2*2 plots for SVM/NN\n",
    "fig, axs = plt.subplots(2, 2, dpi=400, figsize=(8, 8))\n",
    "\n",
    "bound_th_dict = {'adult-1': [0.05, 0.14, 0.3, 0.35, 1.0]}\n",
    "tightbound_th_dict = {'adult-1': [0.02, 0.09, 0.15, 0.22, 1.0]}\n",
    "est_th_dict = {'adult-1': [0.02, 0.08, 0.14, 0.2, 1.0]}\n",
    "\n",
    "ax = axs[0][0]\n",
    "methods = ['Orig', 'Adv. Debias', 'LFR', 'Reweighing', 'Cov. Reg.', 'Test']\n",
    "colors = ['blue', 'orange', 'violet', 'slategrey', 'olive', 'red']\n",
    "markers = ['o', 'p', 'v', 's', '*', 'X', 'o']\n",
    "\n",
    "m = 'EO'\n",
    "ds, sc = 'adult', 1\n",
    "\n",
    "dict_name = m + '_SVM.dict'\n",
    "with open(dict_name, 'r') as f:\n",
    "    txt = f.read()\n",
    "    d = json.loads(txt)\n",
    "    afs = dict()\n",
    "    test_accs = dict()\n",
    "    for mt in methods:\n",
    "        afs[mt] = [abs(d[ds][f'sc{sc}'][str(vs)][mt][0]) for vs in val_seeds]\n",
    "        test_accs[mt] = [d[ds][f'sc{sc}'][str(vs)][mt][-2] for vs in val_seeds]\n",
    "    af_mean = [np.mean(afs[mt]) for mt in methods]\n",
    "    acc_mean = [np.mean(test_accs[mt]) for mt in methods]\n",
    "    af_std = [np.std(afs[mt]) for mt in methods]\n",
    "    acc_std = [np.std(test_accs[mt]) for mt in methods]\n",
    "    single_scatter(ax, acc_mean, acc_std, af_mean, af_std, colors, methods, markers,\n",
    "                   '(a) SVM W/O EI', xlabel, ylabel, label_size=10,\n",
    "                   title_size=16, legend_size=5, ticksize=14, markersize=80, title_offset=-0.22)\n",
    "    ths = bound_th_dict[f'{ds}-{sc}']\n",
    "    plot_line('Bound Reg.', ds, sc, dict_name, ax, ths, label='Bound Reg.',\n",
    "              color='blueviolet', marker='d', markersize=9)\n",
    "    ax.set_ylim(0, 0.25)\n",
    "\n",
    "ax = axs[0][1]\n",
    "methods = ['Orig', 'IPW', 'Test']\n",
    "colors = ['blue', 'darkgreen', 'red']\n",
    "markers = ['o', '^', 'X']\n",
    "dict_name = m + '_SVM.dict'\n",
    "with open(dict_name, 'r') as f:\n",
    "    txt = f.read()\n",
    "    d = json.loads(txt)\n",
    "    afs = dict()\n",
    "    test_accs = dict()\n",
    "    for mt in methods:\n",
    "        afs[mt] = [abs(d[ds][f'sc{sc}'][str(vs)][mt][0]) for vs in val_seeds]\n",
    "        test_accs[mt] = [d[ds][f'sc{sc}'][str(vs)][mt][-2] for vs in val_seeds]\n",
    "    af_mean = [np.mean(afs[mt]) for mt in methods]\n",
    "    acc_mean = [np.mean(test_accs[mt]) for mt in methods]\n",
    "    af_std = [np.std(afs[mt]) for mt in methods]\n",
    "    acc_std = [np.std(test_accs[mt]) for mt in methods]\n",
    "\n",
    "    ths = tightbound_th_dict[f'{ds}-{sc}']\n",
    "    plot_line('TightBound Reg.', ds, sc, dict_name, ax, ths,\n",
    "              label='TightBound Reg.', color='darkred', marker='p', markersize=8)\n",
    "\n",
    "    ths = est_th_dict[f'{ds}-{sc}']\n",
    "    plot_line('Est.AF Reg.', ds, sc, dict_name, ax, ths, label='Est.AF Reg.',\n",
    "              color='violet', marker='o', markersize=9)\n",
    "    plot_line('AF Reg.', ds, sc, dict_name, ax, ths, label='AF Reg.',\n",
    "              color='orange', marker='v', markersize=9)\n",
    "    single_scatter(ax, acc_mean, acc_std, af_mean, af_std, colors, methods, markers,\n",
    "                   f'(b) SVM W/ EI', xlabel, ylabel, label_size=10,\n",
    "                   title_size=16, legend_size=5, ticksize=14, markersize=80, title_offset=-0.22)\n",
    "    ax.set_ylim(0, 0.25)\n",
    "\n",
    "bound_th_dict = {'adult-1': [0.07, 0.15, 0.3, 0.35, 1.0]}\n",
    "tightbound_th_dict = {'adult-1': [0.01, 0.03, 0.07, 0.09, 1.0]}\n",
    "est_th_dict = {'adult-1': [0.01, 0.04, 0.07, 0.1, 1.0]}\n",
    "\n",
    "ax = axs[1][0]\n",
    "methods = ['Orig', 'Adv. Debias', 'LFR', 'Reweighing', 'Test']\n",
    "colors = ['blue', 'orange', 'violet', 'slategrey', 'red']\n",
    "markers = ['o', 'p', 'v', 's', 'X']\n",
    "dict_name = m + '_NN.dict'\n",
    "with open(dict_name, 'r') as f:\n",
    "    txt = f.read()\n",
    "    d = json.loads(txt)\n",
    "    afs = dict()\n",
    "    test_accs = dict()\n",
    "    for mt in methods:\n",
    "        afs[mt] = [abs(d[ds][f'sc{sc}'][str(vs)][mt][0]) for vs in val_seeds]\n",
    "        test_accs[mt] = [d[ds][f'sc{sc}'][str(vs)][mt][-2] for vs in val_seeds]\n",
    "    af_mean = [np.mean(afs[mt]) for mt in methods]\n",
    "    acc_mean = [np.mean(test_accs[mt]) for mt in methods]\n",
    "    af_std = [np.std(afs[mt]) for mt in methods]\n",
    "    acc_std = [np.std(test_accs[mt]) for mt in methods]\n",
    "    ths = bound_th_dict[f'{ds}-{sc}']\n",
    "    plot_line('Bound Reg.', ds, sc, dict_name, ax, ths, label='Bound Reg.',\n",
    "              color='blueviolet', marker='d', markersize=9)\n",
    "    single_scatter(ax, acc_mean, acc_std, af_mean, af_std, colors, methods, markers,\n",
    "                   f'(c) NN W/O EI', xlabel, ylabel, label_size=10,\n",
    "                   title_size=16, legend_size=5, ticksize=14, markersize=80, title_offset=-0.22)\n",
    "    ax.set_ylim(0, 0.18)\n",
    "\n",
    "ax = axs[1][1]\n",
    "methods = ['Orig', 'IPW', 'Test']\n",
    "colors = ['blue', 'darkgreen', 'red']\n",
    "markers = ['o', '^', 'X']\n",
    "dict_name = m + '_NN.dict'\n",
    "with open(dict_name, 'r') as f:\n",
    "    txt = f.read()\n",
    "    d = json.loads(txt)\n",
    "    afs = dict()\n",
    "    test_accs = dict()\n",
    "    for mt in methods:\n",
    "        afs[mt] = [abs(d[ds][f'sc{sc}'][str(vs)][mt][0]) for vs in val_seeds]\n",
    "        test_accs[mt] = [d[ds][f'sc{sc}'][str(vs)][mt][-2] for vs in val_seeds]\n",
    "    af_mean = [np.mean(afs[mt]) for mt in methods]\n",
    "    acc_mean = [np.mean(test_accs[mt]) for mt in methods]\n",
    "    af_std = [np.std(afs[mt]) for mt in methods]\n",
    "    acc_std = [np.std(test_accs[mt]) for mt in methods]\n",
    "\n",
    "    ths = tightbound_th_dict[f'{ds}-{sc}']\n",
    "    plot_line('TightBound Reg.', ds, sc, dict_name, ax, ths,\n",
    "              label='TightBound Reg.', color='darkred', marker='p', markersize=9)\n",
    "\n",
    "    ths = est_th_dict[f'{ds}-{sc}']\n",
    "    plot_line('Est.AF Reg.', ds, sc, dict_name, ax, ths, label='Est.AF Reg.',\n",
    "              color='violet', marker='o', markersize=9)\n",
    "    plot_line('AF Reg.', ds, sc, dict_name, ax, ths, label='AF Reg.',\n",
    "              color='orange', marker='v', markersize=9)\n",
    "    single_scatter(ax, acc_mean, acc_std, af_mean, af_std, colors, methods, markers,\n",
    "                   f'(d) NN W/ EI', xlabel, ylabel, label_size=10,\n",
    "                   title_size=16, legend_size=5, ticksize=14, markersize=80, title_offset=-0.22)\n",
    "    ax.set_ylim(0, 0.18)\n",
    "\n",
    "for i in range(2):\n",
    "    for j in range(2):\n",
    "        ax = axs[i][j]\n",
    "        xleft, xright = ax.get_xlim()\n",
    "        ax.fill_between((xleft, xright), 0.03, 1, color='red', alpha=0.1)\n",
    "        ax.fill_between((xleft, xright), 0, 0.02999, color='green', alpha=0.1)\n",
    "        ax.set_xlim(xleft, xright)\n",
    "        ax.grid(color='grey', linestyle='-', alpha=0.3)\n",
    "        ax.set_zorder(3)\n",
    "\n",
    "ax = fig.add_subplot(111, frameon=False)\n",
    "# hide tick and tick label of the big axes\n",
    "\n",
    "lines0, labels0 = axs[0][0].get_legend_handles_labels()\n",
    "lines1, labels1 = axs[0][1].get_legend_handles_labels()\n",
    "lines, labels = lines0+lines1, labels0+labels1\n",
    "order = [0, 5, 6, 3, 4, 2, 1, 7, 8, 9, 11]\n",
    "# print([labels[i] for i in order])\n",
    "lgd = fig.legend([lines[i] for i in order], [labels[i] for i in order], loc='center',\n",
    "                       fontsize=30, ncol=1, bbox_to_anchor=(1.12, 0.6), fancybox=False, framealpha=0.0,\n",
    "                       prop={'size': 14}, labelspacing=1.5)\n",
    "for i in range(len(lgd.legendHandles)):\n",
    "    lgd.legendHandles[i]._sizes = [80]\n",
    "\n",
    "plt.tick_params(labelcolor='none', top=False, bottom=False, left=False, right=False)\n",
    "plt.grid(False)\n",
    "# plt.xlabel('F1-Score', fontsize=20)\n",
    "plt.ylabel(EO_STR, fontsize=20)\n",
    "# ax.xaxis.set_label_coords(0.5, -0.1)\n",
    "ax.yaxis.set_label_coords(-0.12, 0.5)\n",
    "plt.tight_layout()\n",
    "plt.savefig('svm-nn-comparison.pdf', bbox_inches='tight')"
   ]
  },
  {
   "cell_type": "code",
   "execution_count": null,
   "metadata": {
    "ExecuteTime": {
     "end_time": "2022-10-15T18:03:39.894538Z",
     "start_time": "2022-10-15T18:03:39.872032Z"
    },
    "code_folding": [],
    "hidden": true,
    "id": "kIJ3gdiItEOK"
   },
   "outputs": [],
   "source": [
    "def plot_line_double(method, ds, sc, dict_name, axs, ths, offset, label, color, marker, markersize=12):\n",
    "    with open(dict_name, 'r') as f:\n",
    "        txt = f.read()\n",
    "        d = json.loads(txt)\n",
    "    test_afs = dict()\n",
    "    test_accs = dict()\n",
    "    methods = [f'{method}-{th}' for th in ths]\n",
    "    afs = dict()\n",
    "    test_accs = dict()\n",
    "    for mt in methods:\n",
    "        afs[mt] = [abs(d[ds][f'sc{sc}'][str(vs)][mt][0]) for vs in val_seeds if mt in d[ds][f'sc{sc}'][str(vs)]]\n",
    "        test_accs[mt] = [d[ds][f'sc{sc}'][str(vs)][mt][-2] for vs in val_seeds if mt in d[ds][f'sc{sc}'][str(vs)]]\n",
    "    af_mean = np.array([np.mean(afs[mt]) for mt in methods])\n",
    "    acc_mean = np.array([np.mean(test_accs[mt]) for mt in methods])\n",
    "    af_std = np.array([np.std(afs[mt]) for mt in methods])\n",
    "    acc_std = np.array([np.std(test_accs[mt]) for mt in methods])\n",
    "    axs[0].bar(ths+offset, af_mean, 4, label=get_name(label), yerr=af_std, color=color)\n",
    "#     axs[0].fill_between(ths, (af_mean-af_std), (af_mean+af_std), color=color, alpha=.1)\n",
    "    axs[1].bar(ths+offset, acc_mean, 4, label=get_name(label), yerr=acc_std, color=color)\n",
    "#     axs[1].fill_between(ths, (acc_mean-acc_std), (acc_mean+acc_std), color=color, alpha=.1)\n",
    "    axs[0].set_xlim(min(ths)-10, max(ths)+10)\n",
    "    axs[1].set_xlim(min(ths)-10, max(ths)+10)\n",
    "    axs[0].set_xticks(ths)\n",
    "    axs[1].set_xticks(ths)\n",
    "    axs[0].set_ylabel('$\\digamma_{h, Y}(\\Omega)$', fontsize=32)\n",
    "    axs[1].set_ylabel('F1-Score', fontsize=32)\n",
    "    axs[1].set_ylim(0.55, 0.65)\n",
    "    axs[0].yaxis.set_major_locator(plt.MaxNLocator(6))\n",
    "    axs[1].yaxis.set_major_locator(plt.MaxNLocator(6))\n",
    "    for ax in axs:\n",
    "        ax.tick_params(colors='white', direction='out')\n",
    "        for tick in ax.get_xticklabels():\n",
    "            tick.set_fontsize(24)\n",
    "            tick.set_color('black')\n",
    "        for tick in ax.get_yticklabels():\n",
    "            tick.set_color('black')\n",
    "            tick.set_fontsize(24)\n",
    "    for j in range(2):\n",
    "        axs[j].yaxis.set_label_coords(-0.1, 0.5)\n",
    "#     axs[1].xaxis.set_label_coords(0.5, 0.5)\n",
    "    "
   ]
  },
  {
   "cell_type": "code",
   "execution_count": null,
   "metadata": {
    "ExecuteTime": {
     "end_time": "2022-10-15T18:12:13.266386Z",
     "start_time": "2022-10-15T18:12:10.950027Z"
    },
    "code_folding": [],
    "hidden": true,
    "id": "qN7rsmtXtEOL",
    "outputId": "75447a8f-105c-4a2e-8eda-3e6d628be41c"
   },
   "outputs": [],
   "source": [
    "# single\n",
    "fig, axs = plt.subplots(2, 1, dpi=400, figsize=(15, 8))\n",
    "# methods = ['Orig', 'IPW']\n",
    "# colors = ['blue', 'green']\n",
    "# markers = ['o', 'p']\n",
    "for m in ['EO']:\n",
    "    dict_name = m + '_LR.dict'\n",
    "    with open(dict_name, 'r') as f:\n",
    "        txt = f.read()\n",
    "        d = json.loads(txt)\n",
    "        for ds in ['adult']:\n",
    "            for sc in [1]:\n",
    "#                 ths = np.array([10, 20, 30, 40, 50])\n",
    "                ths =  np.array([20, 40, 60, 80, 100])\n",
    "                plot_line_double('AF Reg.-0.01', ds, sc, dict_name, axs, ths, -6, label='AF Reg.',\n",
    "                                 color='orange', marker='v', markersize=8)\n",
    "                plot_line_double('Est.AF Reg.-0.01', ds, sc, dict_name, axs, ths, -2, label='Est.AF Reg.',\n",
    "                                 color='violet', marker='o', markersize=8)\n",
    "                plot_line_double('TightBound Reg.-0.01', ds, sc, dict_name, axs, ths, 2,\n",
    "                                 label='TightBound Reg.', color='darkred', marker='p', markersize=8)\n",
    "                plot_line_double('IPW', ds, sc, dict_name, axs, ths, 6, label='IPW',\n",
    "                                 color='darkgreen', marker='s', markersize=8)\n",
    "\n",
    "lines, labels = axs[0].get_legend_handles_labels()\n",
    "order = [0, 1, 2, 3]\n",
    "lgd = fig.legend([lines[i] for i in order], [labels[i] for i in order], loc='upper center',\n",
    "                 fontsize=30, ncol=len(labels), bbox_to_anchor=(0.5, 1.1), fancybox=False,\n",
    "                 framealpha=0.0, prop={'size': 28})\n",
    "for i in range(len(lgd.legendHandles)):\n",
    "    lgd.legendHandles[i]._sizes = [120]\n",
    "\n",
    "ax = fig.add_subplot(111, frameon=False)\n",
    "# hide tick and tick label of the big axes\n",
    "plt.tick_params(labelcolor='none', top=False, bottom=False, left=False, right=False)\n",
    "plt.grid(False)\n",
    "plt.xlabel('Sample Rate (%)', fontsize=32)\n",
    "ax.xaxis.set_label_coords(0.5, -0.09)\n",
    "# plt.ylabel('Equalized Odds\\n', fontsize=20)\n",
    "\n",
    "plt.tight_layout()\n",
    "plt.savefig('subsample-comparison.pdf', bbox_inches='tight')"
   ]
  },
  {
   "cell_type": "code",
   "execution_count": null,
   "metadata": {
    "hidden": true,
    "id": "SHZO8GF_tEOL"
   },
   "outputs": [],
   "source": []
  },
  {
   "cell_type": "code",
   "execution_count": null,
   "metadata": {
    "ExecuteTime": {
     "end_time": "2022-10-15T01:39:54.538088Z",
     "start_time": "2022-10-15T01:39:53.493523Z"
    },
    "hidden": true,
    "id": "X_9l03vptEOV",
    "outputId": "5a4ef28c-c728-4a24-e7ff-c7f25ce164a7"
   },
   "outputs": [],
   "source": [
    "# 1*2 plots for SPD\n",
    "fig, axs = plt.subplots(1, 2, dpi=400, figsize=(8, 4.5))\n",
    "\n",
    "bound_th_dict = {'adult-1': [0.05, 0.14, 0.3, 0.35, 1.0]}\n",
    "tightbound_th_dict = {'adult-1': [0.02, 0.08, 0.12, 0.17, 1.0]}\n",
    "est_th_dict = {'adult-1': [0.01, 0.06, 0.11, 0.16, 1.0]}\n",
    "\n",
    "ax = axs[0]\n",
    "methods = ['Orig', 'Test', 'AF Reg.-0.0', 'TightBound Reg.-0.0']\n",
    "colors = ['blue', 'red', 'orange', 'darkred']\n",
    "markers = ['o', 'X', 'v', 'p']\n",
    "\n",
    "m = 'SPD'\n",
    "ds, sc = 'hmda', 7\n",
    "\n",
    "dict_name = m + '_LR.dict'\n",
    "with open(dict_name, 'r') as f:\n",
    "    txt = f.read()\n",
    "    d = json.loads(txt)\n",
    "    afs = dict()\n",
    "    test_accs = dict()\n",
    "    for mt in methods:\n",
    "        afs[mt] = [abs(d[ds][f'sc{sc}'][str(vs)][mt][0]) for vs in val_seeds]\n",
    "        test_accs[mt] = [d[ds][f'sc{sc}'][str(vs)][mt][-2] for vs in val_seeds]\n",
    "    af_mean = [np.mean(afs[mt]) for mt in methods]\n",
    "    acc_mean = [np.mean(test_accs[mt]) for mt in methods]\n",
    "    af_std = [np.std(afs[mt]) for mt in methods]\n",
    "    acc_std = [np.std(test_accs[mt]) for mt in methods]\n",
    "    single_scatter(ax, acc_mean, acc_std, af_mean, af_std, colors, methods, markers,\n",
    "                   f'({plot_alphabet[0]}) {ds.upper()}-G1-Calcasieu', xlabel, ylabel, label_size=10,\n",
    "                   title_size=16, legend_size=5, ticksize=14, markersize=80, title_offset=-0.25)\n",
    "    ax.set_ylim(0, 0.15)\n",
    "\n",
    "ax = axs[1]\n",
    "sc = 8\n",
    "methods = ['Orig', 'AF Reg.-0.0', 'TightBound Reg.-0.0', 'Test']\n",
    "colors = ['blue', 'orange', 'purple', 'red']\n",
    "markers = ['o', 'v', 'p', 'X']\n",
    "dict_name = m + '_LR.dict'\n",
    "with open(dict_name, 'r') as f:\n",
    "    txt = f.read()\n",
    "    d = json.loads(txt)\n",
    "    afs = dict()\n",
    "    test_accs = dict()\n",
    "    for mt in methods:\n",
    "        afs[mt] = [abs(d[ds][f'sc{sc}'][str(vs)][mt][0]) for vs in val_seeds]\n",
    "        test_accs[mt] = [d[ds][f'sc{sc}'][str(vs)][mt][-2] for vs in val_seeds]\n",
    "    af_mean = [np.mean(afs[mt]) for mt in methods]\n",
    "    acc_mean = [np.mean(test_accs[mt]) for mt in methods]\n",
    "    af_std = [np.std(afs[mt]) for mt in methods]\n",
    "    acc_std = [np.std(test_accs[mt]) for mt in methods]\n",
    "    single_scatter(ax, acc_mean, acc_std, af_mean, af_std, colors, methods, markers,\n",
    "                   f'({plot_alphabet[1]}) {ds.upper()}-G1-Orleans', xlabel, ylabel, label_size=10,\n",
    "                   title_size=16, legend_size=5, ticksize=14, markersize=80, title_offset=-0.25)\n",
    "    ax.set_ylim(0, 0.15)\n",
    "\n",
    "\n",
    "for i in range(2):\n",
    "    ax = axs[i]\n",
    "    xleft, xright = ax.get_xlim()\n",
    "    ax.fill_between((xleft, xright), 0.03, 1, color='red', alpha=0.1)\n",
    "    ax.fill_between((xleft, xright), 0, 0.02999, color='green', alpha=0.1)\n",
    "    ax.set_xlim(xleft, xright)\n",
    "    ax.grid(color='grey', linestyle='-', alpha=0.3)\n",
    "    ax.set_zorder(3)\n",
    "\n",
    "lines, labels = axs[0].get_legend_handles_labels()\n",
    "order = [0, 1, 2, 3]\n",
    "lgd = fig.legend([lines[i] for i in order], [labels[i] for i in order], loc='upper center',\n",
    "                 fontsize=30, ncol=len(lines), bbox_to_anchor=(0.5, 1.07), fancybox=False, framealpha=0.0,\n",
    "                 prop={'size': 16}, columnspacing=0.5)\n",
    "for i in range(len(lgd.legendHandles)):\n",
    "    lgd.legendHandles[i]._sizes = [80]\n",
    "\n",
    "ax = fig.add_subplot(111, frameon=False)\n",
    "# hide tick and tick label of the big axes\n",
    "plt.tick_params(labelcolor='none', top=False, bottom=False, left=False, right=False)\n",
    "plt.grid(False)\n",
    "# plt.xlabel('F1-Score', fontsize=20)\n",
    "plt.ylabel(SPD_STR, fontsize=20)\n",
    "# ax.xaxis.set_label_coords(0.5, -0.28)\n",
    "ax.yaxis.set_label_coords(-0.12, 0.5)\n",
    "\n",
    "plt.tight_layout()\n",
    "plt.savefig('real-ratio-comparison.pdf', bbox_inches='tight')"
   ]
  },
  {
   "cell_type": "code",
   "execution_count": null,
   "metadata": {
    "ExecuteTime": {
     "end_time": "2022-10-15T02:58:18.689021Z",
     "start_time": "2022-10-15T02:58:17.588894Z"
    },
    "hidden": true,
    "id": "LdLOaSNXtEOW",
    "outputId": "efa43ef5-1779-4186-c2d8-f1704e3ce598",
    "scrolled": false
   },
   "outputs": [],
   "source": [
    "# 1*2 plots for SPD\n",
    "fig, axs = plt.subplots(1, 2, dpi=400, figsize=(8, 4.1))\n",
    "\n",
    "bound_th_dict = {'syn-1': [0.0, 0.05, 0.15, 0.2, 1.0]}\n",
    "\n",
    "methods = ['Orig', 'Test', 'Adv. Debias', 'LFR', 'Reweighing']\n",
    "colors = ['blue', 'red', 'orange', 'violet', 'slategrey']\n",
    "markers = ['o', 'X', 'p', 'v', 's']\n",
    "\n",
    "ds, sc = 'syn', 1\n",
    "\n",
    "ax = axs[0]\n",
    "m = 'EO'\n",
    "dict_name = m + '_LR.dict'\n",
    "with open(dict_name, 'r') as f:\n",
    "    txt = f.read()\n",
    "    d = json.loads(txt)\n",
    "    afs = dict()\n",
    "    test_accs = dict()\n",
    "    for mt in methods:\n",
    "        afs[mt] = [abs(d[ds][f'sc{sc}'][str(vs)][mt][0]) for vs in val_seeds]\n",
    "        test_accs[mt] = [d[ds][f'sc{sc}'][str(vs)][mt][-2] for vs in val_seeds]\n",
    "    af_mean = [np.mean(afs[mt]) for mt in methods]\n",
    "    acc_mean = [np.mean(test_accs[mt]) for mt in methods]\n",
    "    af_std = [np.std(afs[mt]) for mt in methods]\n",
    "    acc_std = [np.std(test_accs[mt]) for mt in methods]\n",
    "    single_scatter(ax, acc_mean, acc_std, af_mean, af_std, colors, methods, markers,\n",
    "                   f'(a) Syn - {EO_STR}', xlabel, ylabel, label_size=10, title_offset=-0.20,\n",
    "                   title_size=16, legend_size=5, ticksize=14, markersize=80)\n",
    "    ths = bound_th_dict[f'{ds}-{sc}']\n",
    "    plot_line('Bound Reg.', ds, sc, dict_name, ax, ths, label='Bound Reg.',\n",
    "              color='blueviolet', marker='d', markersize=9, err=True)\n",
    "    ax.set_ylim(0, 0.3)\n",
    "    xleft, xright = ax.get_xlim()\n",
    "    ax.fill_between((xleft, xright), 0.03, 1, color='red', alpha=0.1)\n",
    "    ax.fill_between((xleft, xright), 0, 0.02999, color='green', alpha=0.1)\n",
    "    ax.set_xlim(xleft, xright)\n",
    "    ax.grid(color='grey', linestyle='-', alpha=0.3)\n",
    "    ax.set_zorder(3)\n",
    "\n",
    "bound_th_dict = {'syn-1': [0.05, 0.7, 0.8, 0.85, 1.0]}\n",
    "ax = axs[1]\n",
    "m = 'SPD'\n",
    "dict_name = m + '_LR.dict'\n",
    "with open(dict_name, 'r') as f:\n",
    "    txt = f.read()\n",
    "    d = json.loads(txt)\n",
    "    afs = dict()\n",
    "    test_accs = dict()\n",
    "    for mt in methods:\n",
    "        afs[mt] = [abs(d[ds][f'sc{sc}'][str(vs)][mt][0]) for vs in val_seeds]\n",
    "        test_accs[mt] = [d[ds][f'sc{sc}'][str(vs)][mt][-2] for vs in val_seeds]\n",
    "    af_mean = [np.mean(afs[mt]) for mt in methods]\n",
    "    acc_mean = [np.mean(test_accs[mt]) for mt in methods]\n",
    "    af_std = [np.std(afs[mt]) for mt in methods]\n",
    "    acc_std = [np.std(test_accs[mt]) for mt in methods]\n",
    "    single_scatter(ax, acc_mean, acc_std, af_mean, af_std, colors, methods, markers,\n",
    "                   f'(b) Syn - {SPD_STR}', xlabel, ylabel, label_size=10, title_offset=-0.20,\n",
    "                   title_size=16, legend_size=5, ticksize=14, markersize=80)\n",
    "    ths = bound_th_dict[f'{ds}-{sc}']\n",
    "    plot_line('Bound Reg.', ds, sc, dict_name, ax, ths, label='Bound Reg.',\n",
    "              color='blueviolet', marker='d', markersize=9, err=True)\n",
    "    ax.set_ylim(0, 0.3)\n",
    "    xleft, xright = ax.get_xlim()\n",
    "    ax.fill_between((xleft, xright), 0.03, 1, color='red', alpha=0.1)\n",
    "    ax.fill_between((xleft, xright), 0, 0.02999, color='green', alpha=0.1)\n",
    "    ax.set_xlim(xleft, xright)\n",
    "    ax.grid(color='grey', linestyle='-', alpha=0.3)\n",
    "    ax.set_zorder(3)\n",
    "\n",
    "ax = fig.add_subplot(111, frameon=False)\n",
    "# hide tick and tick label of the big axes\n",
    "lines, labels = axs[0].get_legend_handles_labels()\n",
    "order = [0, 3, 1, 4, 5, 2]\n",
    "lgd = fig.legend([lines[i] for i in order], [labels[i] for i in order], loc='upper center',\n",
    "                fontsize=30, ncol=3, bbox_to_anchor=(0.5, 1.12), fancybox=False, framealpha=0.0,\n",
    "                prop={'size': 14})\n",
    "for i in range(len(lgd.legendHandles)):\n",
    "    lgd.legendHandles[i]._sizes = [80]\n",
    "plt.tick_params(labelcolor='none', top=False, bottom=False, left=False, right=False)\n",
    "plt.grid(False)\n",
    "plt.ylabel('Discrimination', fontsize=20)\n",
    "# ax.xaxis.set_label_coords(0.5, -0.2)\n",
    "ax.yaxis.set_label_coords(-0.15, 0.5)\n",
    "plt.tight_layout()\n",
    "plt.savefig('syn-comparison.pdf', bbox_inches='tight')"
   ]
  },
  {
   "cell_type": "code",
   "execution_count": null,
   "metadata": {
    "hidden": true,
    "id": "gkTz-aLktEOW"
   },
   "outputs": [],
   "source": []
  },
  {
   "cell_type": "code",
   "execution_count": null,
   "metadata": {
    "hidden": true,
    "id": "XRtBgsZRtEOW"
   },
   "outputs": [],
   "source": []
  }
 ],
 "metadata": {
  "colab": {
   "provenance": []
  },
  "kernelspec": {
   "display_name": "Python 3",
   "language": "python",
   "name": "python3"
  },
  "language_info": {
   "codemirror_mode": {
    "name": "ipython",
    "version": 3
   },
   "file_extension": ".py",
   "mimetype": "text/x-python",
   "name": "python",
   "nbconvert_exporter": "python",
   "pygments_lexer": "ipython3",
   "version": "3.9.6"
  },
  "latex_envs": {
   "LaTeX_envs_menu_present": true,
   "autoclose": true,
   "autocomplete": true,
   "bibliofile": "biblio.bib",
   "cite_by": "apalike",
   "current_citInitial": 1,
   "eqLabelWithNumbers": true,
   "eqNumInitial": 1,
   "hotkeys": {
    "equation": "Ctrl-E",
    "itemize": "Ctrl-I"
   },
   "labels_anchors": false,
   "latex_user_defs": false,
   "report_style_numbering": false,
   "user_envs_cfg": false
  }
 },
 "nbformat": 4,
 "nbformat_minor": 1
}
