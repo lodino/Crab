{
 "cells": [
  {
   "cell_type": "code",
   "execution_count": 52,
   "id": "227a11f0",
   "metadata": {
    "ExecuteTime": {
     "end_time": "2022-10-14T17:49:37.484033Z",
     "start_time": "2022-10-14T17:49:37.441221Z"
    },
    "code_folding": [],
    "id": "227a11f0",
    "outputId": "d24f84cb-8309-40e4-ee0e-56a1080566ac"
   },
   "outputs": [
    {
     "data": {
      "text/plain": [
       "<torch._C.Generator at 0x16d4a4f10>"
      ]
     },
     "execution_count": 52,
     "metadata": {},
     "output_type": "execute_result"
    }
   ],
   "source": [
    "# Imports\n",
    "import sys\n",
    "import os\n",
    "import re\n",
    "import tqdm\n",
    "import time\n",
    "import sklearn\n",
    "import numpy as np\n",
    "import pandas as pd\n",
    "import scipy\n",
    "import copy\n",
    "import random\n",
    "import math\n",
    "import json\n",
    "import torch\n",
    "import torch.nn as nn\n",
    "from torch.autograd import grad\n",
    "import torch.nn.functional as F\n",
    "from load_dataset import load, generate_random_dataset\n",
    "from classifier import *\n",
    "from utils import *\n",
    "from metrics import *  # include fairness and corresponding derivatives\n",
    "from scipy import stats\n",
    "from scipy.stats import rankdata\n",
    "from sklearn import metrics, preprocessing\n",
    "from sklearn.model_selection import train_test_split\n",
    "from sklearn.preprocessing import StandardScaler\n",
    "from operator import itemgetter\n",
    "import matplotlib.pyplot as plt\n",
    "from matplotlib.ticker import FormatStrFormatter\n",
    "from IPython.display import Markdown, display\n",
    "random.seed(1)\n",
    "np.random.seed(1)\n",
    "torch.manual_seed(1)"
   ]
  },
  {
   "cell_type": "code",
   "execution_count": 3,
   "id": "4330cc3c",
   "metadata": {
    "ExecuteTime": {
     "end_time": "2022-10-13T06:40:05.788728Z",
     "start_time": "2022-10-13T06:40:05.786312Z"
    },
    "id": "4330cc3c"
   },
   "outputs": [],
   "source": [
    "c = 0.003\n",
    "epoch_num = 1000\n",
    "th = 0.0\n",
    "dataset = 'syn'\n",
    "val_seeds = [42, 99, 67, 2, 23]\n",
    "val_seed = val_seeds[0]\n",
    "classifier_name = 'SVM'"
   ]
  },
  {
   "cell_type": "code",
   "execution_count": 4,
   "id": "4c23f55f",
   "metadata": {
    "ExecuteTime": {
     "end_time": "2022-10-13T06:40:05.794265Z",
     "start_time": "2022-10-13T06:40:05.790140Z"
    },
    "code_folding": [],
    "id": "4c23f55f"
   },
   "outputs": [],
   "source": [
    "def generate_orig_data_point(N):\n",
    "    S = np.random.binomial(1, 0.5, N).reshape(-1, 1)\n",
    "    X1 = np.where((S + 0.6*np.random.uniform(0, 1, N).reshape(-1, 1))>0.5, 1, 0)\n",
    "    X3 = np.around(2*np.random.uniform(0, 1, N).reshape(-1, 1))\n",
    "\n",
    "    alpha = 1\n",
    "    beta = 0.2\n",
    "    X2 = np.where((alpha * X1 + beta * X3 + 0.1*np.random.uniform(0, 1, N).reshape(-1, 1))>0.5, 1, 0)\n",
    "#     print(np.corrcoef(X2.ravel(), S.ravel()))\n",
    "    \n",
    "    Y = np.where((0.3*X3 + 0.2*np.random.uniform(-1, 1, N).reshape(-1, 1))>0.3, 1, 0)\n",
    "\n",
    "    X4 = np.where((0.7*Y + 0.3*np.random.uniform(-1, 1, N).reshape(-1, 1))>0.5, 1, 0)\n",
    "\n",
    "    return np.concatenate([S, X1, X2, X3, X4, Y], axis=1)"
   ]
  },
  {
   "cell_type": "code",
   "execution_count": 5,
   "id": "1e927091",
   "metadata": {
    "ExecuteTime": {
     "end_time": "2022-10-13T06:40:05.822977Z",
     "start_time": "2022-10-13T06:40:05.795430Z"
    },
    "id": "1e927091"
   },
   "outputs": [],
   "source": [
    "np.random.seed(0)\n",
    "Number_of_training_samples = 10**5\n",
    "Number_of_test_samples = 2*10**4\n",
    "data = generate_orig_data_point(Number_of_training_samples+Number_of_test_samples)\n",
    "data_train = data[:Number_of_training_samples]\n",
    "data_test = data[Number_of_training_samples:]\n",
    "\n",
    "X_train = data_train[:, :5]\n",
    "y_train = data_train[:, 5]\n",
    "X_test = data_test[:, :5]\n",
    "y_test = data_test[:, 5]\n",
    "\n",
    "X_train_orig = pd.DataFrame({'S':X_train[:, 0], 'X1':X_train[:, 1], 'X2':X_train[:, 2],\n",
    "                             'X3':X_train[:, 3], 'X4':X_train[:, 4]})\n",
    "X_test_orig = pd.DataFrame({'S':X_test[:, 0], 'X1':X_test[:, 1], 'X2':X_test[:, 2],\n",
    "                            'X3':X_test[:, 3], 'X4':X_test[:, 4]})\n",
    "\n",
    "sc = StandardScaler()\n",
    "X_train = sc.fit_transform(X_train_orig)\n",
    "X_test = sc.transform(X_test_orig)"
   ]
  },
  {
   "cell_type": "code",
   "execution_count": 6,
   "id": "c5e5eb72",
   "metadata": {
    "ExecuteTime": {
     "end_time": "2022-10-13T06:40:05.826910Z",
     "start_time": "2022-10-13T06:40:05.824094Z"
    },
    "code_folding": [
     0
    ],
    "id": "c5e5eb72"
   },
   "outputs": [],
   "source": [
    "def train_clf(model, info_dict):\n",
    "    val_iter = 10\n",
    "    epoch = model.epoch_num\n",
    "    model.epoch_num = val_iter\n",
    "    val_num = epoch // val_iter\n",
    "    min_loss = 2048\n",
    "    best_model = None\n",
    "    for _ in range(val_num):\n",
    "        model.fit_info(info_dict)\n",
    "        loss = model.compute_loss(info_dict)\n",
    "        if loss < min_loss:\n",
    "            torch.save(model.state_dict(), 'best_params/best-test.pth')\n",
    "            min_loss = loss\n",
    "    model.load_state_dict(torch.load('best_params/best-test.pth'))\n",
    "    model.adjust_threshold(info_dict)\n",
    "    model.eval()\n",
    "    return model"
   ]
  },
  {
   "cell_type": "code",
   "execution_count": 7,
   "id": "06a1f71a",
   "metadata": {
    "ExecuteTime": {
     "end_time": "2022-10-13T06:40:05.830653Z",
     "start_time": "2022-10-13T06:40:05.828122Z"
    },
    "code_folding": []
   },
   "outputs": [],
   "source": [
    "def get_A_idx(x, y, A=None, A_val=None):\n",
    "    if A is None:\n",
    "        return x.index\n",
    "    elif A == 'y':\n",
    "        return np.arange(len(y))[y==A_val]\n",
    "    elif A in x.columns:\n",
    "        return x[x[A]==A_val].index\n",
    "    else:\n",
    "        raise NotImplementedError"
   ]
  },
  {
   "cell_type": "code",
   "execution_count": 8,
   "id": "0cdd09b2",
   "metadata": {
    "ExecuteTime": {
     "end_time": "2022-10-13T06:40:05.835539Z",
     "start_time": "2022-10-13T06:40:05.833512Z"
    },
    "id": "0cdd09b2"
   },
   "outputs": [],
   "source": [
    "info_dict = dict()\n",
    "info_dict['x_train'] = X_train\n",
    "info_dict['y_train'] = y_train\n",
    "info_dict['x_val'] = X_train\n",
    "info_dict['y_val'] = y_train"
   ]
  },
  {
   "cell_type": "code",
   "execution_count": 9,
   "id": "47857c24",
   "metadata": {
    "ExecuteTime": {
     "end_time": "2022-10-13T06:40:07.993933Z",
     "start_time": "2022-10-13T06:40:05.837605Z"
    },
    "id": "47857c24",
    "outputId": "beea8f40-3fc4-4624-da41-e50bb8b05327"
   },
   "outputs": [
    {
     "name": "stdout",
     "output_type": "stream",
     "text": [
      "Best Threshold=0.924106, G-mean=0.957\n",
      "Initial statistical parity:  -0.0016128242466197373\n",
      "Initial TPR parity:  0.0020104626123428337\n",
      "Initial predictive parity:  -0.00012119289579159975\n",
      "Initial loss:  0.12853822280314087\n",
      "Initial accuracy:  0.95895\n",
      "Initial F1:  0.957044943232355\n"
     ]
    }
   ],
   "source": [
    "clf = eval(classifier_name)(input_size=X_train.shape[-1], epoch_num=epoch_num, c=c)\n",
    "\n",
    "clf = train_clf(clf, info_dict=info_dict)\n",
    "\n",
    "y_pred_test = clf.predict_proba(X_test)\n",
    "y_pred_train = clf.predict_proba(X_train)\n",
    "\n",
    "spd_0 = computeFairness(y_pred_test, X_test_orig, y_test, 0, dataset)\n",
    "print(\"Initial statistical parity: \", spd_0)\n",
    "\n",
    "tpr_parity_0 = computeFairness(y_pred_test, X_test_orig, y_test, 1, dataset)\n",
    "print(\"Initial TPR parity: \", tpr_parity_0)\n",
    "\n",
    "predictive_parity_0 = computeFairness(y_pred_test, X_test_orig, y_test, 2, dataset)\n",
    "print(\"Initial predictive parity: \", predictive_parity_0)\n",
    "\n",
    "loss_0 = logistic_loss(y_test, y_pred_test)\n",
    "print(\"Initial loss: \", loss_0)\n",
    "\n",
    "accuracy_0 = computeAccuracy(y_test, y_pred_test)\n",
    "print(\"Initial accuracy: \", accuracy_0)\n",
    "\n",
    "f1_0 = computeF1(y_test, y_pred_test)\n",
    "print(\"Initial F1: \", f1_0)"
   ]
  },
  {
   "cell_type": "code",
   "execution_count": null,
   "id": "313297cf",
   "metadata": {
    "id": "313297cf"
   },
   "outputs": [],
   "source": []
  },
  {
   "cell_type": "markdown",
   "id": "b382bf09",
   "metadata": {
    "id": "b382bf09"
   },
   "source": [
    "## Random"
   ]
  },
  {
   "cell_type": "code",
   "execution_count": 49,
   "id": "0a8ed656",
   "metadata": {
    "ExecuteTime": {
     "end_time": "2022-10-13T22:40:47.178029Z",
     "start_time": "2022-10-13T22:40:47.149586Z"
    },
    "id": "0a8ed656"
   },
   "outputs": [],
   "source": [
    "# Sample Rate: 60%\n",
    "X_train_orig_sampled, _, y_train_sampled, _ = \\\n",
    "    train_test_split(X_train_orig, y_train, test_size=0.4, random_state=1)"
   ]
  },
  {
   "cell_type": "code",
   "execution_count": 50,
   "id": "ef97d42b",
   "metadata": {
    "ExecuteTime": {
     "end_time": "2022-10-13T22:40:47.554532Z",
     "start_time": "2022-10-13T22:40:47.530469Z"
    },
    "id": "ef97d42b"
   },
   "outputs": [],
   "source": [
    "sc = StandardScaler()\n",
    "X_train_sampled = sc.fit_transform(X_train_orig_sampled)\n",
    "X_test = sc.transform(X_test_orig)\n",
    "\n",
    "info_dict = dict()\n",
    "info_dict['x_train'] = X_train_sampled\n",
    "info_dict['y_train'] = y_train_sampled\n",
    "info_dict['x_val'] = X_train_sampled\n",
    "info_dict['y_val'] = y_train_sampled"
   ]
  },
  {
   "cell_type": "code",
   "execution_count": 51,
   "id": "vPZu57WF3J_C",
   "metadata": {
    "ExecuteTime": {
     "end_time": "2022-10-13T22:40:49.720090Z",
     "start_time": "2022-10-13T22:40:47.933311Z"
    },
    "id": "vPZu57WF3J_C",
    "outputId": "1c21a1f9-4ba7-490b-a0bf-944cf484397e",
    "scrolled": false
   },
   "outputs": [
    {
     "name": "stdout",
     "output_type": "stream",
     "text": [
      "Best Threshold=0.922252, G-mean=0.956\n",
      "Initial statistical parity:  -0.002037616094423489\n",
      "Initial TPR parity:  0.001752620426052398\n",
      "Initial predictive parity:  0.0004552745460614238\n",
      "Initial loss:  0.12828199884133115\n",
      "Initial accuracy:  0.95895\n",
      "Initial F1:  0.957044943232355\n"
     ]
    }
   ],
   "source": [
    "clf = eval(classifier_name)(input_size=X_train.shape[-1], epoch_num=epoch_num, c=c)\n",
    "\n",
    "clf = train_clf(clf, info_dict=info_dict)\n",
    "\n",
    "y_pred_test = clf.predict_proba(X_test)\n",
    "\n",
    "spd_0 = computeFairness(y_pred_test, X_test_orig, y_test, 0, dataset)\n",
    "print(\"Initial statistical parity: \", spd_0)\n",
    "\n",
    "tpr_parity_0 = computeFairness(y_pred_test, X_test_orig, y_test, 1, dataset)\n",
    "print(\"Initial TPR parity: \", tpr_parity_0)\n",
    "\n",
    "predictive_parity_0 = computeFairness(y_pred_test, X_test_orig, y_test, 2, dataset)\n",
    "print(\"Initial predictive parity: \", predictive_parity_0)\n",
    "\n",
    "loss_0 = logistic_loss(y_test, y_pred_test)\n",
    "print(\"Initial loss: \", loss_0)\n",
    "\n",
    "accuracy_0 = computeAccuracy(y_test, y_pred_test)\n",
    "print(\"Initial accuracy: \", accuracy_0)\n",
    "\n",
    "f1_0 = computeF1(y_test, y_pred_test)\n",
    "print(\"Initial F1: \", f1_0)"
   ]
  },
  {
   "cell_type": "code",
   "execution_count": null,
   "id": "61792f6e",
   "metadata": {},
   "outputs": [],
   "source": []
  },
  {
   "cell_type": "markdown",
   "id": "774eed72",
   "metadata": {
    "heading_collapsed": true,
    "id": "774eed72"
   },
   "source": [
    "## S & X4"
   ]
  },
  {
   "cell_type": "code",
   "execution_count": 14,
   "id": "d7cd046c",
   "metadata": {
    "ExecuteTime": {
     "end_time": "2022-10-13T06:40:09.916531Z",
     "start_time": "2022-10-13T06:40:09.785320Z"
    },
    "hidden": true,
    "id": "d7cd046c",
    "outputId": "bdf3f51c-2b6a-4745-c06d-bfda857ac524"
   },
   "outputs": [
    {
     "data": {
      "image/png": "[encoded data removed]",
      "text/plain": [
       "<Figure size 432x288 with 1 Axes>"
      ]
     },
     "metadata": {
      "needs_background": "light"
     },
     "output_type": "display_data"
    }
   ],
   "source": [
    "p = np.ones_like(X_train_orig.S).astype(float)\n",
    "p[(X_train_orig.S==0)&(X_train_orig.X4==0)] = 0.2\n",
    "p[(X_train_orig.S==1)&(X_train_orig.X4==1)] = 0.4\n",
    "plt.hist(p)\n",
    "plt.show()"
   ]
  },
  {
   "cell_type": "code",
   "execution_count": 15,
   "id": "e9960b68",
   "metadata": {
    "ExecuteTime": {
     "end_time": "2022-10-13T06:40:10.036792Z",
     "start_time": "2022-10-13T06:40:09.917999Z"
    },
    "hidden": true,
    "id": "e9960b68"
   },
   "outputs": [],
   "source": [
    "np.random.seed(1)\n",
    "sample_bool = np.zeros(len(X_train))\n",
    "for idx in range(len(X_train)):\n",
    "    sample_bool[idx] = np.random.binomial(n=1, p=p[idx])  # True or False"
   ]
  },
  {
   "cell_type": "code",
   "execution_count": 16,
   "id": "62cb65d0",
   "metadata": {
    "ExecuteTime": {
     "end_time": "2022-10-13T06:40:10.046264Z",
     "start_time": "2022-10-13T06:40:10.038003Z"
    },
    "hidden": true,
    "id": "62cb65d0"
   },
   "outputs": [],
   "source": [
    "X_train_orig_sampled = X_train_orig.loc[np.where(sample_bool)[0]]\n",
    "X_train_orig_sampled = X_train_orig_sampled.reset_index(drop=True)\n",
    "X_train_sampled = X_train[np.where(sample_bool)[0]]\n",
    "y_train_sampled = y_train[np.where(sample_bool)[0]]"
   ]
  },
  {
   "cell_type": "code",
   "execution_count": 18,
   "id": "c5a678f8",
   "metadata": {
    "ExecuteTime": {
     "end_time": "2022-10-13T06:40:10.063290Z",
     "start_time": "2022-10-13T06:40:10.056800Z"
    },
    "hidden": true,
    "id": "c5a678f8"
   },
   "outputs": [],
   "source": [
    "sc = StandardScaler()\n",
    "X_train_sampled = sc.fit_transform(X_train_orig_sampled)\n",
    "X_test = sc.transform(X_test_orig)\n",
    "\n",
    "info_dict = dict()\n",
    "info_dict['x_train'] = X_train_sampled\n",
    "info_dict['y_train'] = y_train_sampled\n",
    "info_dict['x_val'] = X_train_sampled\n",
    "info_dict['y_val'] = y_train_sampled"
   ]
  },
  {
   "cell_type": "code",
   "execution_count": 19,
   "id": "5119815b",
   "metadata": {
    "ExecuteTime": {
     "end_time": "2022-10-13T06:40:11.880346Z",
     "start_time": "2022-10-13T06:40:10.064495Z"
    },
    "hidden": true,
    "id": "5119815b",
    "outputId": "6fced816-1ac9-40f6-c73e-9bfc47e9fe05",
    "scrolled": false
   },
   "outputs": [
    {
     "name": "stdout",
     "output_type": "stream",
     "text": [
      "Best Threshold=0.917979, G-mean=0.962\n",
      "Initial statistical parity:  0.008063014103741495\n",
      "Initial TPR parity:  0.007505934744423182\n",
      "Initial predictive parity:  -0.013591943797080397\n",
      "Initial loss:  0.12773166066875494\n",
      "Initial accuracy:  0.95895\n",
      "Initial F1:  0.957044943232355\n"
     ]
    }
   ],
   "source": [
    "clf = eval(classifier_name)(input_size=X_train.shape[-1], epoch_num=epoch_num, c=c)\n",
    "\n",
    "clf = train_clf(clf, info_dict=info_dict)\n",
    "\n",
    "y_pred_test = clf.predict_proba(X_test)\n",
    "\n",
    "spd_0 = computeFairness(y_pred_test, X_test_orig, y_test, 0, dataset)\n",
    "print(\"Initial statistical parity: \", spd_0)\n",
    "\n",
    "tpr_parity_0 = computeFairness(y_pred_test, X_test_orig, y_test, 1, dataset)\n",
    "print(\"Initial TPR parity: \", tpr_parity_0)\n",
    "\n",
    "predictive_parity_0 = computeFairness(y_pred_test, X_test_orig, y_test, 2, dataset)\n",
    "print(\"Initial predictive parity: \", predictive_parity_0)\n",
    "\n",
    "loss_0 = logistic_loss(y_test, y_pred_test)\n",
    "print(\"Initial loss: \", loss_0)\n",
    "\n",
    "accuracy_0 = computeAccuracy(y_test, y_pred_test)\n",
    "print(\"Initial accuracy: \", accuracy_0)\n",
    "\n",
    "f1_0 = computeF1(y_test, y_pred_test)\n",
    "print(\"Initial F1: \", f1_0)"
   ]
  },
  {
   "cell_type": "code",
   "execution_count": null,
   "id": "e678b6b2",
   "metadata": {
    "hidden": true,
    "id": "e678b6b2"
   },
   "outputs": [],
   "source": []
  },
  {
   "cell_type": "markdown",
   "id": "ecbe8e49",
   "metadata": {
    "id": "ecbe8e49"
   },
   "source": [
    "## X2 & X4"
   ]
  },
  {
   "cell_type": "code",
   "execution_count": 22,
   "id": "649pF5Te3J_D",
   "metadata": {
    "ExecuteTime": {
     "end_time": "2022-10-13T06:40:13.807810Z",
     "start_time": "2022-10-13T06:40:13.730580Z"
    },
    "id": "649pF5Te3J_D",
    "outputId": "7cddc358-0370-4ccb-cc68-02f2e3729920"
   },
   "outputs": [
    {
     "data": {
      "image/png": "[encoded data removed]",
      "text/plain": [
       "<Figure size 432x288 with 1 Axes>"
      ]
     },
     "metadata": {
      "needs_background": "light"
     },
     "output_type": "display_data"
    }
   ],
   "source": [
    "p = np.ones_like(X_train_orig.S).astype(float)\n",
    "p[(X_train_orig.X2==1)&(X_train_orig.X4==0)] = 0.2\n",
    "p[(X_train_orig.X2==0)&(X_train_orig.X4==1)] = 0.2\n",
    "plt.hist(p)\n",
    "plt.show()"
   ]
  },
  {
   "cell_type": "code",
   "execution_count": 23,
   "id": "YDiYDxOa3J_D",
   "metadata": {
    "ExecuteTime": {
     "end_time": "2022-10-13T06:40:13.922204Z",
     "start_time": "2022-10-13T06:40:13.812158Z"
    },
    "id": "YDiYDxOa3J_D"
   },
   "outputs": [],
   "source": [
    "np.random.seed(1)\n",
    "sample_bool = np.zeros(len(X_train))\n",
    "for idx in range(len(X_train)):\n",
    "    sample_bool[idx] = np.random.binomial(n=1, p=p[idx])  # True or False"
   ]
  },
  {
   "cell_type": "code",
   "execution_count": 24,
   "id": "OqOOiao33J_D",
   "metadata": {
    "ExecuteTime": {
     "end_time": "2022-10-13T06:40:13.932045Z",
     "start_time": "2022-10-13T06:40:13.924020Z"
    },
    "id": "OqOOiao33J_D"
   },
   "outputs": [],
   "source": [
    "X_train_orig_sampled = X_train_orig.loc[np.where(sample_bool)[0]]\n",
    "X_train_orig_sampled = X_train_orig_sampled.reset_index(drop=True)\n",
    "X_train_sampled = X_train[np.where(sample_bool)[0]]\n",
    "y_train_sampled = y_train[np.where(sample_bool)[0]]"
   ]
  },
  {
   "cell_type": "code",
   "execution_count": 25,
   "id": "d51fe9f8",
   "metadata": {
    "ExecuteTime": {
     "end_time": "2022-10-13T06:40:13.940459Z",
     "start_time": "2022-10-13T06:40:13.933196Z"
    },
    "id": "d51fe9f8",
    "outputId": "6561ed33-e405-4ff7-f3f3-2b02199bf2dc"
   },
   "outputs": [
    {
     "data": {
      "text/plain": [
       "0.5450440472336292"
      ]
     },
     "execution_count": 25,
     "metadata": {},
     "output_type": "execute_result"
    }
   ],
   "source": [
    "sum(y_train_sampled)/len(y_train_sampled)"
   ]
  },
  {
   "cell_type": "code",
   "execution_count": 26,
   "id": "Xtrb1hfs3J_E",
   "metadata": {
    "ExecuteTime": {
     "end_time": "2022-10-13T06:40:13.947813Z",
     "start_time": "2022-10-13T06:40:13.941554Z"
    },
    "id": "Xtrb1hfs3J_E"
   },
   "outputs": [],
   "source": [
    "sc = StandardScaler()\n",
    "X_train_sampled = sc.fit_transform(X_train_orig_sampled)\n",
    "X_test = sc.transform(X_test_orig)\n",
    "\n",
    "info_dict = dict()\n",
    "info_dict['x_train'] = X_train_sampled\n",
    "info_dict['y_train'] = y_train_sampled\n",
    "info_dict['x_val'] = X_train_sampled\n",
    "info_dict['y_val'] = y_train_sampled"
   ]
  },
  {
   "cell_type": "code",
   "execution_count": 27,
   "id": "P9vnPk1x3J_E",
   "metadata": {
    "ExecuteTime": {
     "end_time": "2022-10-13T06:40:15.804494Z",
     "start_time": "2022-10-13T06:40:13.949242Z"
    },
    "id": "P9vnPk1x3J_E",
    "outputId": "a99f8d06-0314-41a1-e3e0-de9dd7e51be5",
    "scrolled": false
   },
   "outputs": [
    {
     "name": "stdout",
     "output_type": "stream",
     "text": [
      "Best Threshold=0.912145, G-mean=0.963\n",
      "Initial statistical parity:  -0.011854606246039956\n",
      "Initial TPR parity:  -0.0038461630324343465\n",
      "Initial predictive parity:  0.013980392009995679\n",
      "Initial loss:  0.12688622879516342\n",
      "Initial accuracy:  0.95895\n",
      "Initial F1:  0.957044943232355\n"
     ]
    }
   ],
   "source": [
    "clf = eval(classifier_name)(input_size=X_train.shape[-1], epoch_num=epoch_num, c=c)\n",
    "\n",
    "clf = train_clf(clf, info_dict=info_dict)\n",
    "\n",
    "y_pred_test = clf.predict_proba(X_test)\n",
    "\n",
    "spd_0 = computeFairness(y_pred_test, X_test_orig, y_test, 0, dataset)\n",
    "print(\"Initial statistical parity: \", spd_0)\n",
    "\n",
    "tpr_parity_0 = computeFairness(y_pred_test, X_test_orig, y_test, 1, dataset)\n",
    "print(\"Initial TPR parity: \", tpr_parity_0)\n",
    "\n",
    "predictive_parity_0 = computeFairness(y_pred_test, X_test_orig, y_test, 2, dataset)\n",
    "print(\"Initial predictive parity: \", predictive_parity_0)\n",
    "\n",
    "loss_0 = logistic_loss(y_test, y_pred_test)\n",
    "print(\"Initial loss: \", loss_0)\n",
    "\n",
    "accuracy_0 = computeAccuracy(y_test, y_pred_test)\n",
    "print(\"Initial accuracy: \", accuracy_0)\n",
    "\n",
    "f1_0 = computeF1(y_test, y_pred_test)\n",
    "print(\"Initial F1: \", f1_0)"
   ]
  },
  {
   "cell_type": "code",
   "execution_count": null,
   "id": "b15a5662",
   "metadata": {
    "id": "b15a5662"
   },
   "outputs": [],
   "source": []
  },
  {
   "cell_type": "markdown",
   "id": "93e3b2c1",
   "metadata": {
    "id": "93e3b2c1"
   },
   "source": [
    "## X2 & Y"
   ]
  },
  {
   "cell_type": "code",
   "execution_count": 28,
   "id": "MEM2EqXz3J_E",
   "metadata": {
    "ExecuteTime": {
     "end_time": "2022-10-13T06:40:15.881052Z",
     "start_time": "2022-10-13T06:40:15.805743Z"
    },
    "id": "MEM2EqXz3J_E",
    "outputId": "b40c9b98-b36b-424f-adc2-6bbb653ec92f"
   },
   "outputs": [
    {
     "data": {
      "image/png": "[encoded data removed]",
      "text/plain": [
       "<Figure size 432x288 with 1 Axes>"
      ]
     },
     "metadata": {
      "needs_background": "light"
     },
     "output_type": "display_data"
    }
   ],
   "source": [
    "p = np.ones_like(X_train_orig.S).astype(float)\n",
    "p[(X_train_orig.X2==1)&(y_train==0)] = 0.1\n",
    "p[(X_train_orig.X2==0)&(y_train==1)] = 0.05\n",
    "plt.hist(p)\n",
    "plt.show()"
   ]
  },
  {
   "cell_type": "code",
   "execution_count": 29,
   "id": "aRERUWVU3J_E",
   "metadata": {
    "ExecuteTime": {
     "end_time": "2022-10-13T06:40:16.002321Z",
     "start_time": "2022-10-13T06:40:15.883090Z"
    },
    "id": "aRERUWVU3J_E"
   },
   "outputs": [],
   "source": [
    "np.random.seed(1)\n",
    "sample_bool = np.zeros(len(X_train))\n",
    "for idx in range(len(X_train)):\n",
    "    sample_bool[idx] = np.random.binomial(n=1, p=p[idx])  # True or False"
   ]
  },
  {
   "cell_type": "code",
   "execution_count": 30,
   "id": "mDrjA1bM3J_E",
   "metadata": {
    "ExecuteTime": {
     "end_time": "2022-10-13T06:40:16.011693Z",
     "start_time": "2022-10-13T06:40:16.003408Z"
    },
    "id": "mDrjA1bM3J_E"
   },
   "outputs": [],
   "source": [
    "X_train_orig_sampled = X_train_orig.loc[np.where(sample_bool)[0]]\n",
    "X_train_orig_sampled = X_train_orig_sampled.reset_index(drop=True)\n",
    "X_train_sampled = X_train[np.where(sample_bool)[0]]\n",
    "y_train_sampled = y_train[np.where(sample_bool)[0]]"
   ]
  },
  {
   "cell_type": "code",
   "execution_count": 31,
   "id": "4ca404e8",
   "metadata": {
    "ExecuteTime": {
     "end_time": "2022-10-13T06:40:16.020705Z",
     "start_time": "2022-10-13T06:40:16.013361Z"
    },
    "id": "4ca404e8",
    "outputId": "3f1f99df-feff-477a-ceb4-5d7dc1dd953a"
   },
   "outputs": [
    {
     "data": {
      "text/plain": [
       "0.5577609277430865"
      ]
     },
     "execution_count": 31,
     "metadata": {},
     "output_type": "execute_result"
    }
   ],
   "source": [
    "sum(y_train_sampled)/len(y_train_sampled)"
   ]
  },
  {
   "cell_type": "code",
   "execution_count": 32,
   "id": "jdvKVMfU3J_F",
   "metadata": {
    "ExecuteTime": {
     "end_time": "2022-10-13T06:40:16.027932Z",
     "start_time": "2022-10-13T06:40:16.022183Z"
    },
    "id": "jdvKVMfU3J_F"
   },
   "outputs": [],
   "source": [
    "sc = StandardScaler()\n",
    "X_train_sampled = sc.fit_transform(X_train_orig_sampled)\n",
    "X_test = sc.transform(X_test_orig)\n",
    "\n",
    "info_dict = dict()\n",
    "info_dict['x_train'] = X_train_sampled\n",
    "info_dict['y_train'] = y_train_sampled\n",
    "info_dict['x_val'] = X_train_sampled\n",
    "info_dict['y_val'] = y_train_sampled"
   ]
  },
  {
   "cell_type": "code",
   "execution_count": 33,
   "id": "TLASo8Tn3J_F",
   "metadata": {
    "ExecuteTime": {
     "end_time": "2022-10-13T06:40:17.872091Z",
     "start_time": "2022-10-13T06:40:16.029253Z"
    },
    "id": "TLASo8Tn3J_F",
    "outputId": "c8771666-4dae-4085-a8a4-caa1f9497564",
    "scrolled": false
   },
   "outputs": [
    {
     "name": "stdout",
     "output_type": "stream",
     "text": [
      "Best Threshold=0.370362, G-mean=0.973\n",
      "Initial statistical parity:  -0.2393811200548253\n",
      "Initial TPR parity:  -0.18039672951707286\n",
      "Initial predictive parity:  0.2006994958007311\n",
      "Initial loss:  0.28007637152914583\n",
      "Initial accuracy:  0.82025\n",
      "Initial F1:  0.8382888758940219\n"
     ]
    }
   ],
   "source": [
    "clf = eval(classifier_name)(input_size=X_train.shape[-1], epoch_num=epoch_num, c=c)\n",
    "\n",
    "clf = train_clf(clf, info_dict=info_dict)\n",
    "\n",
    "y_pred_test = clf.predict_proba(X_test)\n",
    "\n",
    "spd_0 = computeFairness(y_pred_test, X_test_orig, y_test, 0, dataset)\n",
    "print(\"Initial statistical parity: \", spd_0)\n",
    "\n",
    "tpr_parity_0 = computeFairness(y_pred_test, X_test_orig, y_test, 1, dataset)\n",
    "print(\"Initial TPR parity: \", tpr_parity_0)\n",
    "\n",
    "predictive_parity_0 = computeFairness(y_pred_test, X_test_orig, y_test, 2, dataset)\n",
    "print(\"Initial predictive parity: \", predictive_parity_0)\n",
    "\n",
    "loss_0 = logistic_loss(y_test, y_pred_test)\n",
    "print(\"Initial loss: \", loss_0)\n",
    "\n",
    "accuracy_0 = computeAccuracy(y_test, y_pred_test)\n",
    "print(\"Initial accuracy: \", accuracy_0)\n",
    "\n",
    "f1_0 = computeF1(y_test, y_pred_test)\n",
    "print(\"Initial F1: \", f1_0)"
   ]
  },
  {
   "cell_type": "code",
   "execution_count": 34,
   "id": "5e3845f7",
   "metadata": {
    "ExecuteTime": {
     "end_time": "2022-10-13T06:40:17.875649Z",
     "start_time": "2022-10-13T06:40:17.873256Z"
    },
    "id": "5e3845f7"
   },
   "outputs": [],
   "source": [
    "parent_1 = 'X2'\n",
    "parent_2 = 'y'\n",
    "parent_3 = 'y'\n",
    "sens_attr = 'S'\n",
    "A = 'y'\n",
    "A_val = 1"
   ]
  },
  {
   "cell_type": "code",
   "execution_count": 35,
   "id": "20f42234",
   "metadata": {
    "ExecuteTime": {
     "end_time": "2022-10-13T06:40:17.948768Z",
     "start_time": "2022-10-13T06:40:17.877060Z"
    },
    "code_folding": [
     9,
     21,
     35,
     47
    ]
   },
   "outputs": [],
   "source": [
    "info_dict = dict()\n",
    "info_dict['th'] = 0.0\n",
    "info_dict['balance'] = 3\n",
    "info_dict['x_train'] = X_train_sampled\n",
    "info_dict['y_train'] = y_train_sampled\n",
    "info_dict['x_val'] = X_train_sampled\n",
    "info_dict['y_val'] = y_train_sampled\n",
    "\n",
    "protected_groups = []\n",
    "for v in np.sort(get_attr(X_train_orig_sampled, pd.Series(y_train_sampled), parent_1).unique()):\n",
    "    for u in np.sort(get_attr(X_train_orig_sampled, pd.Series(y_train_sampled), parent_2).unique()):\n",
    "        for w in np.sort(get_attr(X_train_orig_sampled, pd.Series(y_train_sampled), parent_3).unique()):\n",
    "            idx = X_train_orig_sampled[(get_attr(X_train_orig_sampled, pd.Series(y_train_sampled), parent_1)==v) &\\\n",
    "                                       (get_attr(X_train_orig_sampled, pd.Series(y_train_sampled), parent_2)==u) &\\\n",
    "                                       (get_attr(X_train_orig_sampled, pd.Series(y_train_sampled), parent_3)==w) &\\\n",
    "                                       (get_attr(X_train_orig_sampled, pd.Series(y_train_sampled), sens_attr)==0)].index\n",
    "            idx = idx.intersection(get_A_idx(X_train_orig_sampled, pd.Series(y_train_sampled), A, A_val))\n",
    "            if len(idx)>0:\n",
    "                protected_groups.append(idx)\n",
    "\n",
    "privileged_groups = []\n",
    "for v in np.sort(get_attr(X_train_orig_sampled, pd.Series(y_train_sampled), parent_1).unique()):\n",
    "    for u in np.sort(get_attr(X_train_orig_sampled, pd.Series(y_train_sampled), parent_2).unique()):\n",
    "        for w in np.sort(get_attr(X_train_orig_sampled, pd.Series(y_train_sampled), parent_3).unique()):\n",
    "            idx = X_train_orig_sampled[(get_attr(X_train_orig_sampled, pd.Series(y_train_sampled), parent_1)==v) &\\\n",
    "                                       (get_attr(X_train_orig_sampled, pd.Series(y_train_sampled), parent_2)==u) &\\\n",
    "                                       (get_attr(X_train_orig_sampled, pd.Series(y_train_sampled), parent_3)==w) &\\\n",
    "                                       (get_attr(X_train_orig_sampled, pd.Series(y_train_sampled), sens_attr)==1)].index\n",
    "            idx = idx.intersection(get_A_idx(X_train_orig_sampled, pd.Series(y_train_sampled), A, A_val))\n",
    "            if len(idx)>0:\n",
    "                privileged_groups.append(idx)\n",
    "\n",
    "info_dict['train_regularizer'] = [protected_groups, privileged_groups]\n",
    "\n",
    "protected_groups = []\n",
    "for v in np.sort(get_attr(X_train_orig_sampled, pd.Series(y_train_sampled), parent_1).unique()):\n",
    "    for u in np.sort(get_attr(X_train_orig_sampled, pd.Series(y_train_sampled), parent_2).unique()):\n",
    "        for w in np.sort(get_attr(X_train_orig_sampled, pd.Series(y_train_sampled), parent_3).unique()):\n",
    "            idx = X_train_orig_sampled[(get_attr(X_train_orig_sampled, pd.Series(y_train_sampled), parent_1)==v) &\\\n",
    "                                       (get_attr(X_train_orig_sampled, pd.Series(y_train_sampled), parent_2)==u) &\\\n",
    "                                       (get_attr(X_train_orig_sampled, pd.Series(y_train_sampled), parent_3)==w) &\\\n",
    "                                       (get_attr(X_train_orig_sampled, pd.Series(y_train_sampled), sens_attr)==0)].index\n",
    "            idx = idx.intersection(get_A_idx(X_train_orig_sampled, pd.Series(y_train_sampled), A, A_val))\n",
    "            if len(idx)>0:\n",
    "                protected_groups.append(idx)\n",
    "\n",
    "privileged_groups = []\n",
    "for v in np.sort(get_attr(X_train_orig_sampled, pd.Series(y_train_sampled), parent_1).unique()):\n",
    "    for u in np.sort(get_attr(X_train_orig_sampled, pd.Series(y_train_sampled), parent_2).unique()):\n",
    "        for w in np.sort(get_attr(X_train_orig_sampled, pd.Series(y_train_sampled), parent_3).unique()):\n",
    "            idx = X_train_orig_sampled[(get_attr(X_train_orig_sampled, pd.Series(y_train_sampled), parent_1)==v) &\\\n",
    "                                       (get_attr(X_train_orig_sampled, pd.Series(y_train_sampled), parent_2)==u) &\\\n",
    "                                       (get_attr(X_train_orig_sampled, pd.Series(y_train_sampled), parent_3)==w) &\\\n",
    "                                       (get_attr(X_train_orig_sampled, pd.Series(y_train_sampled), sens_attr)==1)].index\n",
    "            idx = idx.intersection(get_A_idx(X_train_orig_sampled, pd.Series(y_train_sampled), A, A_val))\n",
    "            if len(idx)>0:\n",
    "                privileged_groups.append(idx)\n",
    "\n",
    "info_dict['val_regularizer'] = [protected_groups, privileged_groups]"
   ]
  },
  {
   "cell_type": "code",
   "execution_count": 36,
   "id": "0404b6ff",
   "metadata": {
    "ExecuteTime": {
     "end_time": "2022-10-13T06:40:39.343822Z",
     "start_time": "2022-10-13T06:40:17.949830Z"
    },
    "scrolled": true
   },
   "outputs": [
    {
     "name": "stdout",
     "output_type": "stream",
     "text": [
      "Best Threshold=0.915941, G-mean=0.957\n",
      "Initial statistical parity:  0.003195144344904477\n",
      "Initial TPR parity:  0.004656816307746392\n",
      "Initial predictive parity:  -0.0068471390423753276\n",
      "Initial loss:  0.12691709942046636\n",
      "Initial accuracy:  0.95895\n",
      "Initial F1:  0.957044943232355\n"
     ]
    }
   ],
   "source": [
    "clf = eval(classifier_name+'_Reg_Bound')(input_size=X_train.shape[-1], epoch_num=epoch_num, c=c)\n",
    "\n",
    "clf = train_clf(clf, info_dict)\n",
    "\n",
    "y_pred_test = clf.predict_proba(X_test)\n",
    "\n",
    "spd_0 = computeFairness(y_pred_test, X_test_orig, y_test, 0, dataset)\n",
    "print(\"Initial statistical parity: \", spd_0)\n",
    "\n",
    "tpr_parity_0 = computeFairness(y_pred_test, X_test_orig, y_test, 1, dataset)\n",
    "print(\"Initial TPR parity: \", tpr_parity_0)\n",
    "\n",
    "predictive_parity_0 = computeFairness(y_pred_test, X_test_orig, y_test, 2, dataset)\n",
    "print(\"Initial predictive parity: \", predictive_parity_0)\n",
    "\n",
    "loss_0 = logistic_loss(y_test, y_pred_test)\n",
    "print(\"Initial loss: \", loss_0)\n",
    "\n",
    "accuracy_0 = computeAccuracy(y_test, y_pred_test)\n",
    "print(\"Initial accuracy: \", accuracy_0)\n",
    "\n",
    "f1_0 = computeF1(y_test, y_pred_test)\n",
    "print(\"Initial F1: \", f1_0)"
   ]
  },
  {
   "cell_type": "code",
   "execution_count": null,
   "id": "b2147ed7",
   "metadata": {},
   "outputs": [],
   "source": []
  },
  {
   "cell_type": "code",
   "execution_count": 98,
   "id": "a6e5f7a2",
   "metadata": {
    "ExecuteTime": {
     "end_time": "2022-10-13T06:27:41.155832Z",
     "start_time": "2022-10-13T06:27:41.049667Z"
    }
   },
   "outputs": [],
   "source": []
  },
  {
   "cell_type": "markdown",
   "id": "e0da7096",
   "metadata": {
    "heading_collapsed": true,
    "id": "e0da7096"
   },
   "source": [
    "## Y"
   ]
  },
  {
   "cell_type": "code",
   "execution_count": 134,
   "id": "ee8b4b0a",
   "metadata": {
    "ExecuteTime": {
     "end_time": "2022-10-13T06:34:48.357891Z",
     "start_time": "2022-10-13T06:34:48.354859Z"
    },
    "hidden": true
   },
   "outputs": [],
   "source": [
    "classifier_name = 'SVM'"
   ]
  },
  {
   "cell_type": "code",
   "execution_count": 42,
   "id": "-pghTF8v3J_F",
   "metadata": {
    "ExecuteTime": {
     "end_time": "2022-10-13T06:43:44.542055Z",
     "start_time": "2022-10-13T06:43:44.414884Z"
    },
    "hidden": true,
    "id": "-pghTF8v3J_F",
    "outputId": "429d57af-6dc9-4dde-8a00-9a82761a2cc2"
   },
   "outputs": [
    {
     "data": {
      "image/png": "[encoded data removed]",
      "text/plain": [
       "<Figure size 432x288 with 1 Axes>"
      ]
     },
     "metadata": {
      "needs_background": "light"
     },
     "output_type": "display_data"
    }
   ],
   "source": [
    "p = np.ones_like(X_train_orig.S).astype(float)\n",
    "p[y_train==0] = 0.6\n",
    "p[y_train==1] = 0.8\n",
    "plt.hist(p)\n",
    "plt.show()"
   ]
  },
  {
   "cell_type": "code",
   "execution_count": 43,
   "id": "moJHaGSx3J_F",
   "metadata": {
    "ExecuteTime": {
     "end_time": "2022-10-13T06:43:45.172857Z",
     "start_time": "2022-10-13T06:43:45.030021Z"
    },
    "hidden": true,
    "id": "moJHaGSx3J_F"
   },
   "outputs": [],
   "source": [
    "np.random.seed(1)\n",
    "sample_bool = np.zeros(len(X_train))\n",
    "for idx in range(len(X_train)):\n",
    "    sample_bool[idx] = np.random.binomial(n=1, p=p[idx])  # True or False"
   ]
  },
  {
   "cell_type": "code",
   "execution_count": 44,
   "id": "icIqFJFo3J_G",
   "metadata": {
    "ExecuteTime": {
     "end_time": "2022-10-13T06:43:45.477912Z",
     "start_time": "2022-10-13T06:43:45.445371Z"
    },
    "hidden": true,
    "id": "icIqFJFo3J_G"
   },
   "outputs": [],
   "source": [
    "X_train_orig_sampled = X_train_orig.loc[np.where(sample_bool)[0]]\n",
    "X_train_orig_sampled = X_train_orig_sampled.reset_index(drop=True)\n",
    "X_train_sampled = X_train[np.where(sample_bool)[0]]\n",
    "y_train_sampled = y_train[np.where(sample_bool)[0]]"
   ]
  },
  {
   "cell_type": "code",
   "execution_count": 45,
   "id": "ac29aeca",
   "metadata": {
    "ExecuteTime": {
     "end_time": "2022-10-13T06:43:45.819285Z",
     "start_time": "2022-10-13T06:43:45.795360Z"
    },
    "hidden": true,
    "id": "ac29aeca",
    "outputId": "334f4d3a-c807-4220-e6e7-9fbf7736bd6c"
   },
   "outputs": [
    {
     "data": {
      "text/plain": [
       "0.5688723738745176"
      ]
     },
     "execution_count": 45,
     "metadata": {},
     "output_type": "execute_result"
    }
   ],
   "source": [
    "sum(y_train_sampled)/len(y_train_sampled)"
   ]
  },
  {
   "cell_type": "code",
   "execution_count": 47,
   "id": "d70a410f",
   "metadata": {
    "ExecuteTime": {
     "end_time": "2022-10-13T06:44:09.503548Z",
     "start_time": "2022-10-13T06:44:09.480399Z"
    },
    "hidden": true
   },
   "outputs": [],
   "source": [
    "sc = StandardScaler()\n",
    "X_train_sampled = sc.fit_transform(X_train_orig_sampled)\n",
    "X_test = sc.transform(X_test_orig)\n",
    "\n",
    "info_dict = dict()\n",
    "info_dict['x_train'] = X_train_sampled\n",
    "info_dict['y_train'] = y_train_sampled\n",
    "info_dict['x_val'] = X_train_sampled\n",
    "info_dict['y_val'] = y_train_sampled"
   ]
  },
  {
   "cell_type": "code",
   "execution_count": 48,
   "id": "494a6b00",
   "metadata": {
    "ExecuteTime": {
     "end_time": "2022-10-13T06:44:11.748720Z",
     "start_time": "2022-10-13T06:44:09.744669Z"
    },
    "hidden": true,
    "id": "494a6b00"
   },
   "outputs": [
    {
     "name": "stdout",
     "output_type": "stream",
     "text": [
      "Best Threshold=0.935776, G-mean=0.957\n",
      "Initial statistical parity:  -0.0011546064740363682\n",
      "Initial TPR parity:  0.002221612320333799\n",
      "Initial predictive parity:  -0.0008499329853262072\n",
      "Initial loss:  0.12469993133393052\n",
      "Initial accuracy:  0.95895\n",
      "Initial F1:  0.957044943232355\n"
     ]
    }
   ],
   "source": [
    "clf = eval(classifier_name)(input_size=X_train.shape[-1], epoch_num=epoch_num, c=c)\n",
    "\n",
    "clf = train_clf(clf, info_dict=info_dict)\n",
    "\n",
    "y_pred_test = clf.predict_proba(X_test)\n",
    "\n",
    "spd_0 = computeFairness(y_pred_test, X_test_orig, y_test, 0, dataset)\n",
    "print(\"Initial statistical parity: \", spd_0)\n",
    "\n",
    "tpr_parity_0 = computeFairness(y_pred_test, X_test_orig, y_test, 1, dataset)\n",
    "print(\"Initial TPR parity: \", tpr_parity_0)\n",
    "\n",
    "predictive_parity_0 = computeFairness(y_pred_test, X_test_orig, y_test, 2, dataset)\n",
    "print(\"Initial predictive parity: \", predictive_parity_0)\n",
    "\n",
    "loss_0 = logistic_loss(y_test, y_pred_test)\n",
    "print(\"Initial loss: \", loss_0)\n",
    "\n",
    "accuracy_0 = computeAccuracy(y_test, y_pred_test)\n",
    "print(\"Initial accuracy: \", accuracy_0)\n",
    "\n",
    "f1_0 = computeF1(y_test, y_pred_test)\n",
    "print(\"Initial F1: \", f1_0)"
   ]
  },
  {
   "cell_type": "code",
   "execution_count": null,
   "id": "26654b8e",
   "metadata": {
    "hidden": true,
    "id": "26654b8e"
   },
   "outputs": [],
   "source": []
  }
 ],
 "metadata": {
  "colab": {
   "provenance": []
  },
  "kernelspec": {
   "display_name": "Python 3",
   "language": "python",
   "name": "python3"
  },
  "language_info": {
   "codemirror_mode": {
    "name": "ipython",
    "version": 3
   },
   "file_extension": ".py",
   "mimetype": "text/x-python",
   "name": "python",
   "nbconvert_exporter": "python",
   "pygments_lexer": "ipython3",
   "version": "3.9.6"
  },
  "latex_envs": {
   "LaTeX_envs_menu_present": true,
   "autoclose": true,
   "autocomplete": true,
   "bibliofile": "biblio.bib",
   "cite_by": "apalike",
   "current_citInitial": 1,
   "eqLabelWithNumbers": true,
   "eqNumInitial": 1,
   "hotkeys": {
    "equation": "Ctrl-E",
    "itemize": "Ctrl-I"
   },
   "labels_anchors": false,
   "latex_user_defs": false,
   "report_style_numbering": false,
   "user_envs_cfg": false
  }
 },
 "nbformat": 4,
 "nbformat_minor": 5
}
